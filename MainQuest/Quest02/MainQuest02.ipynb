{
  "nbformat": 4,
  "nbformat_minor": 0,
  "metadata": {
    "colab": {
      "provenance": [],
      "authorship_tag": "ABX9TyNTD419ep7lJ1cBaj7Dbqqi",
      "include_colab_link": true
    },
    "kernelspec": {
      "name": "python3",
      "display_name": "Python 3"
    },
    "language_info": {
      "name": "python"
    }
  },
  "cells": [
    {
      "cell_type": "markdown",
      "metadata": {
        "id": "view-in-github",
        "colab_type": "text"
      },
      "source": [
        "<a href=\"https://colab.research.google.com/github/String-ru/AIFFEL_quest_cr/blob/main/MainQuest/Quest02/MainQuest02.ipynb\" target=\"_parent\"><img src=\"https://colab.research.google.com/assets/colab-badge.svg\" alt=\"Open In Colab\"/></a>"
      ]
    },
    {
      "cell_type": "code",
      "execution_count": 2,
      "metadata": {
        "colab": {
          "base_uri": "https://localhost:8080/",
          "height": 106
        },
        "id": "hF3MX5hsWPfO",
        "outputId": "c5eb45fa-e5b4-4538-e939-b92ceffedabd"
      },
      "outputs": [
        {
          "output_type": "error",
          "ename": "IndentationError",
          "evalue": "expected an indented block after class definition on line 14 (<ipython-input-2-8643dff79acc>, line 22)",
          "traceback": [
            "\u001b[0;36m  File \u001b[0;32m\"<ipython-input-2-8643dff79acc>\"\u001b[0;36m, line \u001b[0;32m22\u001b[0m\n\u001b[0;31m    class Monster(Character):\u001b[0m\n\u001b[0m    ^\u001b[0m\n\u001b[0;31mIndentationError\u001b[0m\u001b[0;31m:\u001b[0m expected an indented block after class definition on line 14\n"
          ]
        }
      ],
      "source": [
        "import random\n",
        "\n",
        "class Character:\n",
        "    def __init__(self, name, level, hp, attack, defense):\n",
        "        self.name = name\n",
        "        self.level = level\n",
        "        self.hp = hp\n",
        "        self.attack = attack\n",
        "        self.defense = defense\n",
        "\n",
        "    # 시간 부족\n",
        "    # def attack(self, ):\n",
        "\n",
        "class Player(Character):\n",
        "    # 시간 부족\n",
        "    # def __init__(self, ):\n",
        "    # 시간 부족\n",
        "    # def gain_experience(self, ):\n",
        "    # 시간 부족\n",
        "    # def level_up(self, ):\n",
        "\n",
        "class Monster(Character):\n",
        "    # 시간 부족\n",
        "    # def __init__(self, ):\n",
        "# 시간 부족\n",
        "# def battle(?):\n",
        "# 시간 부족\n",
        "# def main(?)"
      ]
    }
  ]
}