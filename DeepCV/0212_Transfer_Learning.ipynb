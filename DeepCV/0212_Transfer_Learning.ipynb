{
  "nbformat": 4,
  "nbformat_minor": 0,
  "metadata": {
    "colab": {
      "provenance": [],
      "authorship_tag": "ABX9TyMRL4Wf3n8cPkOTxo23esDF",
      "include_colab_link": true
    },
    "kernelspec": {
      "name": "python3",
      "display_name": "Python 3"
    },
    "language_info": {
      "name": "python"
    }
  },
  "cells": [
    {
      "cell_type": "markdown",
      "metadata": {
        "id": "view-in-github",
        "colab_type": "text"
      },
      "source": [
        "<a href=\"https://colab.research.google.com/github/String-ru/AIFFEL_quest_cr/blob/main/DeepCV/0212_Transfer_Learning.ipynb\" target=\"_parent\"><img src=\"https://colab.research.google.com/assets/colab-badge.svg\" alt=\"Open In Colab\"/></a>"
      ]
    },
    {
      "cell_type": "code",
      "execution_count": null,
      "metadata": {
        "id": "rak1GIIoUzva"
      },
      "outputs": [],
      "source": [
        "mkdir -p aiffel/cifar_10_small\n",
        "\n",
        "ln -s ~/data/cifar_10_small/train/ aiffel/cifar_10_small/train\n",
        "ln -s ~/data/cifar_10_small/test/ aiffel/cifar_10_small/test"
      ]
    },
    {
      "cell_type": "code",
      "source": [
        "import os\n",
        "import tensorflow as tf\n",
        "import matplotlib.pyplot as plt"
      ],
      "metadata": {
        "id": "dwck2itjU1LJ"
      },
      "execution_count": null,
      "outputs": []
    },
    {
      "cell_type": "code",
      "source": [
        "train_dir='aiffel/cifar_10_small/train'\n",
        "test_dir='aiffel/cifar_10_small/test'\n",
        "\n",
        "train_aeroplane_dir= os.path.join(train_dir,'aeroplane')\n",
        "train_bird_dir=os.path.join(train_dir,'bird')\n",
        "train_car_dir= os.path.join(train_dir,'car')\n",
        "train_cat_dir=os.path.join(train_dir,'cat')\n",
        "\n",
        "test_aeroplane_dir= os.path.join(test_dir,'aeroplane')\n",
        "test_bird_dir=os.path.join(test_dir,'bird')\n",
        "test_car_dir= os.path.join(test_dir,'car')\n",
        "test_cat_dir=os.path.join(test_dir,'cat')"
      ],
      "metadata": {
        "id": "QEqfM5U8U2zw"
      },
      "execution_count": null,
      "outputs": []
    },
    {
      "cell_type": "code",
      "source": [
        "# 훈련용 데이터셋의 이미지 개수 출력\n",
        "print('훈련용 aeroplane 이미지 전체 개수:', len(os.listdir(train_aeroplane_dir)))\n",
        "print('훈련용 bird 이미지 전체 개수:', len(os.listdir(train_bird_dir)))\n",
        "print('훈련용 car 이미지 전체 개수:', len(os.listdir(train_car_dir)))\n",
        "print('훈련용 cat 이미지 전체 개수:', len(os.listdir(train_cat_dir)))"
      ],
      "metadata": {
        "id": "cgo7lVoBU4F-"
      },
      "execution_count": null,
      "outputs": []
    },
    {
      "cell_type": "markdown",
      "source": [
        "훈련용 aeroplane 이미지 전체 개수: 5000\n",
        "\n",
        "훈련용 bird 이미지 전체 개수: 5000\n",
        "\n",
        "훈련용 car 이미지 전체 개수: 5000\n",
        "\n",
        "훈련용 cat 이미지 전체 개수: 5000"
      ],
      "metadata": {
        "id": "odkMHs-bU6GJ"
      }
    },
    {
      "cell_type": "code",
      "source": [
        "# Q. 테스트용 데이터셋의 이미지 개수를 각 디렉토리별로 출력해 보세요.\n",
        "# [[YOUR CODE]]\n",
        "print('테스트용 aeroplane 이미지 전체 개수:', len(os.listdir(test_aeroplane_dir)))\n",
        "print('테스트용 bird 이미지 전체 개수:', len(os.listdir(test_bird_dir)))\n",
        "print('테스트용 car 이미지 전체 개수:', len(os.listdir(test_car_dir)))\n",
        "print('테스트용 cat 이미지 전체 개수:', len(os.listdir(test_cat_dir)))"
      ],
      "metadata": {
        "id": "3iZ6crPIU5W9"
      },
      "execution_count": null,
      "outputs": []
    },
    {
      "cell_type": "markdown",
      "source": [
        "테스트용 aeroplane 이미지 전체 개수: 1000\n",
        "\n",
        "테스트용 bird 이미지 전체 개수: 1000\n",
        "\n",
        "테스트용 car 이미지 전체 개수: 1000\n",
        "\n",
        "테스트용 cat 이미지 전체 개수: 1000"
      ],
      "metadata": {
        "id": "QWhgnYZUU91T"
      }
    },
    {
      "cell_type": "code",
      "source": [
        "### data 파이프 라인 생성\n",
        "\n",
        "# 데이터를 디렉토리로부터 불러올 때, 한번에 가져올 데이터의 수\n",
        "batch_size=20\n",
        "\n",
        "# Training 데이터의 augmentation 파이프 라인 만들기\n",
        "augmentation_train_datagen = tf.keras.preprocessing.image.ImageDataGenerator( rescale=1./255,  # 모든 데이터의 값을 1/255로 스케일 조정\n",
        "                                    rotation_range=40,  # 0~40도 사이로 이미지 회전\n",
        "                                    width_shift_range=0.2,  # 전체 가로 길이를 기준으로 0.2 비율까지 가로로 이동\n",
        "                                    height_shift_range=0.2,   # 전체 세로 길이를 기준으로 0.2 비율까지 가로로 이동\n",
        "                                    shear_range=0.2,  # 0.2 라디안 정도까지 이미지를 기울이기\n",
        "                                    zoom_range=0.2, # 확대와 축소의 범위 [1-0.2 ~ 1+0.2 ]\n",
        "                                    horizontal_flip=True,)  # 수평 기준 플립을 할 지, 하지 않을 지를 결정\n",
        "\n",
        "# Test 데이터의 augmentation 파이프 라인 만들기\n",
        "test_datagen = tf.keras.preprocessing.image.ImageDataGenerator(rescale=1./255)"
      ],
      "metadata": {
        "id": "6r2vXk2bVAZ8"
      },
      "execution_count": null,
      "outputs": []
    },
    {
      "cell_type": "code",
      "source": [
        "# Augmentation 파이프라인을 기준으로 디렉토리로부터 데이터를 불러 오는 모듈 만들기\n",
        "train_generator = augmentation_train_datagen.flow_from_directory(\n",
        "        directory=train_dir, #  어느 디렉터리에서 이미지 데이터를 가져올 것인가?\n",
        "        target_size=(150, 150), # 모든 이미지를 150 × 150 크기로 바꿉니다\n",
        "        batch_size=batch_size, # 디렉토리에서 batch size만큼의 이미지를 가져옵니다.\n",
        "        interpolation='bilinear',  # resize를 할 때, interpolatrion 기법을 결정합니다.\n",
        "        color_mode ='rgb',\n",
        "        shuffle='True', # 이미지를 셔플링할 지 하지 않을 지를 결정.\n",
        "        class_mode='categorical') # multiclass의 경우이므로 class mode는 categorical\n",
        "\n",
        "print(train_generator.class_indices)"
      ],
      "metadata": {
        "id": "KBN1QtecVBsr"
      },
      "execution_count": null,
      "outputs": []
    },
    {
      "cell_type": "markdown",
      "source": [
        "Found 20000 images belonging to 4 classes.\n",
        "\n",
        "{'aeroplane': 0, 'bird': 1, 'car': 2, 'cat': 3}"
      ],
      "metadata": {
        "id": "qMdfW7TpVDaz"
      }
    },
    {
      "cell_type": "code",
      "source": [
        "# Q. Test 데이터 디렉토리로부터 이미지를 불러오는 파이프라인을 완성해 보세요.\n",
        "# (위의 train_generator와 조건은 동일)\n",
        "test_generator = test_datagen.flow_from_directory(\n",
        "\n",
        "    # [[YOUR CODE]]\n",
        "    directory=test_dir, # 테스트 데이터가 있는 디렉토리 경로\n",
        "    target_size=(150, 150), # 이미지 크기 150x150으로 설정\n",
        "    batch_size=batch_size, # 배치 크기 설정\n",
        "    interpolation='bilinear', # 이미지 크기 조정 방법 설정\n",
        "    color_mode='rgb', # 컬러 모드 설정\n",
        "    shuffle=False, # 테스트 데이터는 셔플링하지 않음\n",
        "    class_mode='categorical' # 클래스 모드 설정\n",
        "\n",
        "    )"
      ],
      "metadata": {
        "id": "g37kh3o7VFQN"
      },
      "execution_count": null,
      "outputs": []
    },
    {
      "cell_type": "markdown",
      "source": [
        "Found 4000 images belonging to 4 classes."
      ],
      "metadata": {
        "id": "8fXmfOkAVHS_"
      }
    },
    {
      "cell_type": "code",
      "source": [
        "for data_batch, labels_batch in train_generator:\n",
        "    print('배치 데이터 크기:', data_batch.shape)\n",
        "    print('배치 레이블 크기:', labels_batch.shape)\n",
        "    break"
      ],
      "metadata": {
        "id": "YhJuzdbuVI4H"
      },
      "execution_count": null,
      "outputs": []
    },
    {
      "cell_type": "markdown",
      "source": [
        "배치 데이터 크기: (20, 150, 150, 3)\n",
        "\n",
        "배치 레이블 크기: (20, 4)"
      ],
      "metadata": {
        "id": "Gf4fcUuCVKDT"
      }
    },
    {
      "cell_type": "code",
      "source": [
        "## back bone\n",
        "conv_base=tf.keras.applications.ResNet50(weights='imagenet',include_top=False)\n",
        "conv_base.summary()"
      ],
      "metadata": {
        "id": "65OXZ_wzVMEB"
      },
      "execution_count": null,
      "outputs": []
    },
    {
      "cell_type": "markdown",
      "source": [
        "Downloading data from https://storage.googleapis.com/tensorflow/keras-applications/resnet/resnet50_weights_tf_dim_ordering_tf_kernels_notop.h5\n",
        "94773248/94765736 [==============================] - 0s 0us/step\n",
        "94781440/94765736 [==============================] - 0s 0us/step\n",
        "Model: \"resnet50\"\n",
        "__________________________________________________________________________________________________\n",
        "Layer (type)                    Output Shape         Param #     Connected to                     \n",
        "==================================================================================================\n",
        "input_1 (InputLayer)            [(None, None, None,  0                                            \n",
        "__________________________________________________________________________________________________\n",
        "conv1_pad (ZeroPadding2D)       (None, None, None, 3 0           input_1[0][0]                    \n",
        "__________________________________________________________________________________________________\n",
        "conv1_conv (Conv2D)             (None, None, None, 6 9472        conv1_pad[0][0]                  \n",
        "__________________________________________________________________________________________________\n",
        "conv1_bn (BatchNormalization)   (None, None, None, 6 256         conv1_conv[0][0]                 \n",
        "__________________________________________________________________________________________________\n",
        "conv1_relu (Activation)         (None, None, None, 6 0           conv1_bn[0][0]                   \n",
        "__________________________________________________________________________________________________\n",
        "pool1_pad (ZeroPadding2D)       (None, None, None, 6 0           conv1_relu[0][0]                 \n",
        "__________________________________________________________________________________________________\n",
        "pool1_pool (MaxPooling2D)       (None, None, None, 6 0           pool1_pad[0][0]                  \n",
        "__________________________________________________________________________________________________\n",
        "conv2_block1_1_conv (Conv2D)    (None, None, None, 6 4160        pool1_pool[0][0]                 \n",
        "__________________________________________________________________________________________________\n",
        "conv2_block1_1_bn (BatchNormali (None, None, None, 6 256         conv2_block1_1_conv[0][0]        \n",
        "__________________________________________________________________________________________________\n",
        "conv2_block1_1_relu (Activation (None, None, None, 6 0           conv2_block1_1_bn[0][0]          \n",
        "__________________________________________________________________________________________________\n",
        "conv2_block1_2_conv (Conv2D)    (None, None, None, 6 36928       conv2_block1_1_relu[0][0]        \n",
        "__________________________________________________________________________________________________\n",
        "conv2_block1_2_bn (BatchNormali (None, None, None, 6 256         conv2_block1_2_conv[0][0]        \n",
        "__________________________________________________________________________________________________\n",
        "conv2_block1_2_relu (Activation (None, None, None, 6 0           conv2_block1_2_bn[0][0]          \n",
        "__________________________________________________________________________________________________\n",
        "conv2_block1_0_conv (Conv2D)    (None, None, None, 2 16640       pool1_pool[0][0]                 \n",
        "__________________________________________________________________________________________________\n",
        "conv2_block1_3_conv (Conv2D)    (None, None, None, 2 16640       conv2_block1_2_relu[0][0]        \n",
        "__________________________________________________________________________________________________\n",
        "conv2_block1_0_bn (BatchNormali (None, None, None, 2 1024        conv2_block1_0_conv[0][0]        \n",
        "__________________________________________________________________________________________________\n",
        "conv2_block1_3_bn (BatchNormali (None, None, None, 2 1024        conv2_block1_3_conv[0][0]        \n",
        "__________________________________________________________________________________________________\n",
        "conv2_block1_add (Add)          (None, None, None, 2 0           conv2_block1_0_bn[0][0]          \n",
        "                                                                 conv2_block1_3_bn[0][0]          \n",
        "__________________________________________________________________________________________________\n",
        "conv2_block1_out (Activation)   (None, None, None, 2 0           conv2_block1_add[0][0]           \n",
        "__________________________________________________________________________________________________\n",
        "conv2_block2_1_conv (Conv2D)    (None, None, None, 6 16448       conv2_block1_out[0][0]           \n",
        "__________________________________________________________________________________________________\n",
        "conv2_block2_1_bn (BatchNormali (None, None, None, 6 256         conv2_block2_1_conv[0][0]        \n",
        "__________________________________________________________________________________________________\n",
        "conv2_block2_1_relu (Activation (None, None, None, 6 0           conv2_block2_1_bn[0][0]          \n",
        "__________________________________________________________________________________________________\n",
        "conv2_block2_2_conv (Conv2D)    (None, None, None, 6 36928       conv2_block2_1_relu[0][0]        \n",
        "__________________________________________________________________________________________________\n",
        "conv2_block2_2_bn (BatchNormali (None, None, None, 6 256         conv2_block2_2_conv[0][0]        \n",
        "__________________________________________________________________________________________________\n",
        "conv2_block2_2_relu (Activation (None, None, None, 6 0           conv2_block2_2_bn[0][0]          \n",
        "__________________________________________________________________________________________________\n",
        "conv2_block2_3_conv (Conv2D)    (None, None, None, 2 16640       conv2_block2_2_relu[0][0]        \n",
        "__________________________________________________________________________________________________\n",
        "conv2_block2_3_bn (BatchNormali (None, None, None, 2 1024        conv2_block2_3_conv[0][0]        \n",
        "__________________________________________________________________________________________________\n",
        "conv2_block2_add (Add)          (None, None, None, 2 0           conv2_block1_out[0][0]           \n",
        "                                                                 conv2_block2_3_bn[0][0]          \n",
        "__________________________________________________________________________________________________\n",
        "conv2_block2_out (Activation)   (None, None, None, 2 0           conv2_block2_add[0][0]           \n",
        "__________________________________________________________________________________________________\n",
        "conv2_block3_1_conv (Conv2D)    (None, None, None, 6 16448       conv2_block2_out[0][0]           \n",
        "__________________________________________________________________________________________________\n",
        "conv2_block3_1_bn (BatchNormali (None, None, None, 6 256         conv2_block3_1_conv[0][0]        \n",
        "__________________________________________________________________________________________________\n",
        "conv2_block3_1_relu (Activation (None, None, None, 6 0           conv2_block3_1_bn[0][0]          \n",
        "__________________________________________________________________________________________________\n",
        "conv2_block3_2_conv (Conv2D)    (None, None, None, 6 36928       conv2_block3_1_relu[0][0]        \n",
        "__________________________________________________________________________________________________\n",
        "conv2_block3_2_bn (BatchNormali (None, None, None, 6 256         conv2_block3_2_conv[0][0]        \n",
        "__________________________________________________________________________________________________\n",
        "conv2_block3_2_relu (Activation (None, None, None, 6 0           conv2_block3_2_bn[0][0]          \n",
        "__________________________________________________________________________________________________\n",
        "conv2_block3_3_conv (Conv2D)    (None, None, None, 2 16640       conv2_block3_2_relu[0][0]        \n",
        "__________________________________________________________________________________________________\n",
        "conv2_block3_3_bn (BatchNormali (None, None, None, 2 1024        conv2_block3_3_conv[0][0]        \n",
        "__________________________________________________________________________________________________\n",
        "conv2_block3_add (Add)          (None, None, None, 2 0           conv2_block2_out[0][0]           \n",
        "                                                                 conv2_block3_3_bn[0][0]          \n",
        "__________________________________________________________________________________________________\n",
        "conv2_block3_out (Activation)   (None, None, None, 2 0           conv2_block3_add[0][0]           \n",
        "__________________________________________________________________________________________________\n",
        "conv3_block1_1_conv (Conv2D)    (None, None, None, 1 32896       conv2_block3_out[0][0]           \n",
        "__________________________________________________________________________________________________\n",
        "conv3_block1_1_bn (BatchNormali (None, None, None, 1 512         conv3_block1_1_conv[0][0]        \n",
        "__________________________________________________________________________________________________\n",
        "conv3_block1_1_relu (Activation (None, None, None, 1 0           conv3_block1_1_bn[0][0]          \n",
        "__________________________________________________________________________________________________\n",
        "conv3_block1_2_conv (Conv2D)    (None, None, None, 1 147584      conv3_block1_1_relu[0][0]        \n",
        "__________________________________________________________________________________________________\n",
        "conv3_block1_2_bn (BatchNormali (None, None, None, 1 512         conv3_block1_2_conv[0][0]        \n",
        "__________________________________________________________________________________________________\n",
        "conv3_block1_2_relu (Activation (None, None, None, 1 0           conv3_block1_2_bn[0][0]          \n",
        "__________________________________________________________________________________________________\n",
        "conv3_block1_0_conv (Conv2D)    (None, None, None, 5 131584      conv2_block3_out[0][0]           \n",
        "__________________________________________________________________________________________________\n",
        "conv3_block1_3_conv (Conv2D)    (None, None, None, 5 66048       conv3_block1_2_relu[0][0]        \n",
        "__________________________________________________________________________________________________\n",
        "conv3_block1_0_bn (BatchNormali (None, None, None, 5 2048        conv3_block1_0_conv[0][0]        \n",
        "__________________________________________________________________________________________________\n",
        "conv3_block1_3_bn (BatchNormali (None, None, None, 5 2048        conv3_block1_3_conv[0][0]        \n",
        "__________________________________________________________________________________________________\n",
        "conv3_block1_add (Add)          (None, None, None, 5 0           conv3_block1_0_bn[0][0]          \n",
        "                                                                 conv3_block1_3_bn[0][0]          \n",
        "__________________________________________________________________________________________________\n",
        "conv3_block1_out (Activation)   (None, None, None, 5 0           conv3_block1_add[0][0]           \n",
        "__________________________________________________________________________________________________\n",
        "conv3_block2_1_conv (Conv2D)    (None, None, None, 1 65664       conv3_block1_out[0][0]           \n",
        "__________________________________________________________________________________________________\n",
        "conv3_block2_1_bn (BatchNormali (None, None, None, 1 512         conv3_block2_1_conv[0][0]        \n",
        "__________________________________________________________________________________________________\n",
        "conv3_block2_1_relu (Activation (None, None, None, 1 0           conv3_block2_1_bn[0][0]          \n",
        "__________________________________________________________________________________________________\n",
        "conv3_block2_2_conv (Conv2D)    (None, None, None, 1 147584      conv3_block2_1_relu[0][0]        \n",
        "__________________________________________________________________________________________________\n",
        "conv3_block2_2_bn (BatchNormali (None, None, None, 1 512         conv3_block2_2_conv[0][0]        \n",
        "__________________________________________________________________________________________________\n",
        "conv3_block2_2_relu (Activation (None, None, None, 1 0           conv3_block2_2_bn[0][0]          \n",
        "__________________________________________________________________________________________________\n",
        "conv3_block2_3_conv (Conv2D)    (None, None, None, 5 66048       conv3_block2_2_relu[0][0]        \n",
        "__________________________________________________________________________________________________\n",
        "conv3_block2_3_bn (BatchNormali (None, None, None, 5 2048        conv3_block2_3_conv[0][0]        \n",
        "__________________________________________________________________________________________________\n",
        "conv3_block2_add (Add)          (None, None, None, 5 0           conv3_block1_out[0][0]           \n",
        "                                                                 conv3_block2_3_bn[0][0]          \n",
        "__________________________________________________________________________________________________\n",
        "conv3_block2_out (Activation)   (None, None, None, 5 0           conv3_block2_add[0][0]           \n",
        "__________________________________________________________________________________________________\n",
        "conv3_block3_1_conv (Conv2D)    (None, None, None, 1 65664       conv3_block2_out[0][0]           \n",
        "__________________________________________________________________________________________________\n",
        "conv3_block3_1_bn (BatchNormali (None, None, None, 1 512         conv3_block3_1_conv[0][0]        \n",
        "__________________________________________________________________________________________________\n",
        "conv3_block3_1_relu (Activation (None, None, None, 1 0           conv3_block3_1_bn[0][0]          \n",
        "__________________________________________________________________________________________________\n",
        "conv3_block3_2_conv (Conv2D)    (None, None, None, 1 147584      conv3_block3_1_relu[0][0]        \n",
        "__________________________________________________________________________________________________\n",
        "conv3_block3_2_bn (BatchNormali (None, None, None, 1 512         conv3_block3_2_conv[0][0]        \n",
        "__________________________________________________________________________________________________\n",
        "conv3_block3_2_relu (Activation (None, None, None, 1 0           conv3_block3_2_bn[0][0]          \n",
        "__________________________________________________________________________________________________\n",
        "conv3_block3_3_conv (Conv2D)    (None, None, None, 5 66048       conv3_block3_2_relu[0][0]        \n",
        "__________________________________________________________________________________________________\n",
        "conv3_block3_3_bn (BatchNormali (None, None, None, 5 2048        conv3_block3_3_conv[0][0]        \n",
        "__________________________________________________________________________________________________\n",
        "conv3_block3_add (Add)          (None, None, None, 5 0           conv3_block2_out[0][0]           \n",
        "                                                                 conv3_block3_3_bn[0][0]          \n",
        "__________________________________________________________________________________________________\n",
        "conv3_block3_out (Activation)   (None, None, None, 5 0           conv3_block3_add[0][0]           \n",
        "__________________________________________________________________________________________________\n",
        "conv3_block4_1_conv (Conv2D)    (None, None, None, 1 65664       conv3_block3_out[0][0]           \n",
        "__________________________________________________________________________________________________\n",
        "conv3_block4_1_bn (BatchNormali (None, None, None, 1 512         conv3_block4_1_conv[0][0]        \n",
        "__________________________________________________________________________________________________\n",
        "conv3_block4_1_relu (Activation (None, None, None, 1 0           conv3_block4_1_bn[0][0]          \n",
        "__________________________________________________________________________________________________\n",
        "conv3_block4_2_conv (Conv2D)    (None, None, None, 1 147584      conv3_block4_1_relu[0][0]        \n",
        "__________________________________________________________________________________________________\n",
        "conv3_block4_2_bn (BatchNormali (None, None, None, 1 512         conv3_block4_2_conv[0][0]        \n",
        "__________________________________________________________________________________________________\n",
        "conv3_block4_2_relu (Activation (None, None, None, 1 0           conv3_block4_2_bn[0][0]          \n",
        "__________________________________________________________________________________________________\n",
        "conv3_block4_3_conv (Conv2D)    (None, None, None, 5 66048       conv3_block4_2_relu[0][0]        \n",
        "__________________________________________________________________________________________________\n",
        "conv3_block4_3_bn (BatchNormali (None, None, None, 5 2048        conv3_block4_3_conv[0][0]        \n",
        "__________________________________________________________________________________________________\n",
        "conv3_block4_add (Add)          (None, None, None, 5 0           conv3_block3_out[0][0]           \n",
        "                                                                 conv3_block4_3_bn[0][0]          \n",
        "__________________________________________________________________________________________________\n",
        "conv3_block4_out (Activation)   (None, None, None, 5 0           conv3_block4_add[0][0]           \n",
        "__________________________________________________________________________________________________\n",
        "conv4_block1_1_conv (Conv2D)    (None, None, None, 2 131328      conv3_block4_out[0][0]           \n",
        "__________________________________________________________________________________________________\n",
        "conv4_block1_1_bn (BatchNormali (None, None, None, 2 1024        conv4_block1_1_conv[0][0]        \n",
        "__________________________________________________________________________________________________\n",
        "conv4_block1_1_relu (Activation (None, None, None, 2 0           conv4_block1_1_bn[0][0]          \n",
        "__________________________________________________________________________________________________\n",
        "conv4_block1_2_conv (Conv2D)    (None, None, None, 2 590080      conv4_block1_1_relu[0][0]        \n",
        "__________________________________________________________________________________________________\n",
        "conv4_block1_2_bn (BatchNormali (None, None, None, 2 1024        conv4_block1_2_conv[0][0]        \n",
        "__________________________________________________________________________________________________\n",
        "conv4_block1_2_relu (Activation (None, None, None, 2 0           conv4_block1_2_bn[0][0]          \n",
        "__________________________________________________________________________________________________\n",
        "conv4_block1_0_conv (Conv2D)    (None, None, None, 1 525312      conv3_block4_out[0][0]           \n",
        "__________________________________________________________________________________________________\n",
        "conv4_block1_3_conv (Conv2D)    (None, None, None, 1 263168      conv4_block1_2_relu[0][0]        \n",
        "__________________________________________________________________________________________________\n",
        "conv4_block1_0_bn (BatchNormali (None, None, None, 1 4096        conv4_block1_0_conv[0][0]        \n",
        "__________________________________________________________________________________________________\n",
        "conv4_block1_3_bn (BatchNormali (None, None, None, 1 4096        conv4_block1_3_conv[0][0]        \n",
        "__________________________________________________________________________________________________\n",
        "conv4_block1_add (Add)          (None, None, None, 1 0           conv4_block1_0_bn[0][0]          \n",
        "                                                                 conv4_block1_3_bn[0][0]          \n",
        "__________________________________________________________________________________________________\n",
        "conv4_block1_out (Activation)   (None, None, None, 1 0           conv4_block1_add[0][0]           \n",
        "__________________________________________________________________________________________________\n",
        "conv4_block2_1_conv (Conv2D)    (None, None, None, 2 262400      conv4_block1_out[0][0]           \n",
        "__________________________________________________________________________________________________\n",
        "conv4_block2_1_bn (BatchNormali (None, None, None, 2 1024        conv4_block2_1_conv[0][0]        \n",
        "__________________________________________________________________________________________________\n",
        "conv4_block2_1_relu (Activation (None, None, None, 2 0           conv4_block2_1_bn[0][0]          \n",
        "__________________________________________________________________________________________________\n",
        "conv4_block2_2_conv (Conv2D)    (None, None, None, 2 590080      conv4_block2_1_relu[0][0]        \n",
        "__________________________________________________________________________________________________\n",
        "conv4_block2_2_bn (BatchNormali (None, None, None, 2 1024        conv4_block2_2_conv[0][0]        \n",
        "__________________________________________________________________________________________________\n",
        "conv4_block2_2_relu (Activation (None, None, None, 2 0           conv4_block2_2_bn[0][0]          \n",
        "__________________________________________________________________________________________________\n",
        "conv4_block2_3_conv (Conv2D)    (None, None, None, 1 263168      conv4_block2_2_relu[0][0]        \n",
        "__________________________________________________________________________________________________\n",
        "conv4_block2_3_bn (BatchNormali (None, None, None, 1 4096        conv4_block2_3_conv[0][0]        \n",
        "__________________________________________________________________________________________________\n",
        "conv4_block2_add (Add)          (None, None, None, 1 0           conv4_block1_out[0][0]           \n",
        "                                                                 conv4_block2_3_bn[0][0]          \n",
        "__________________________________________________________________________________________________\n",
        "conv4_block2_out (Activation)   (None, None, None, 1 0           conv4_block2_add[0][0]           \n",
        "__________________________________________________________________________________________________\n",
        "conv4_block3_1_conv (Conv2D)    (None, None, None, 2 262400      conv4_block2_out[0][0]           \n",
        "__________________________________________________________________________________________________\n",
        "conv4_block3_1_bn (BatchNormali (None, None, None, 2 1024        conv4_block3_1_conv[0][0]        \n",
        "__________________________________________________________________________________________________\n",
        "conv4_block3_1_relu (Activation (None, None, None, 2 0           conv4_block3_1_bn[0][0]          \n",
        "__________________________________________________________________________________________________\n",
        "conv4_block3_2_conv (Conv2D)    (None, None, None, 2 590080      conv4_block3_1_relu[0][0]        \n",
        "__________________________________________________________________________________________________\n",
        "conv4_block3_2_bn (BatchNormali (None, None, None, 2 1024        conv4_block3_2_conv[0][0]        \n",
        "__________________________________________________________________________________________________\n",
        "conv4_block3_2_relu (Activation (None, None, None, 2 0           conv4_block3_2_bn[0][0]          \n",
        "__________________________________________________________________________________________________\n",
        "conv4_block3_3_conv (Conv2D)    (None, None, None, 1 263168      conv4_block3_2_relu[0][0]        \n",
        "__________________________________________________________________________________________________\n",
        "conv4_block3_3_bn (BatchNormali (None, None, None, 1 4096        conv4_block3_3_conv[0][0]        \n",
        "__________________________________________________________________________________________________\n",
        "conv4_block3_add (Add)          (None, None, None, 1 0           conv4_block2_out[0][0]           \n",
        "                                                                 conv4_block3_3_bn[0][0]          \n",
        "__________________________________________________________________________________________________\n",
        "conv4_block3_out (Activation)   (None, None, None, 1 0           conv4_block3_add[0][0]           \n",
        "__________________________________________________________________________________________________\n",
        "conv4_block4_1_conv (Conv2D)    (None, None, None, 2 262400      conv4_block3_out[0][0]           \n",
        "__________________________________________________________________________________________________\n",
        "conv4_block4_1_bn (BatchNormali (None, None, None, 2 1024        conv4_block4_1_conv[0][0]        \n",
        "__________________________________________________________________________________________________\n",
        "conv4_block4_1_relu (Activation (None, None, None, 2 0           conv4_block4_1_bn[0][0]          \n",
        "__________________________________________________________________________________________________\n",
        "conv4_block4_2_conv (Conv2D)    (None, None, None, 2 590080      conv4_block4_1_relu[0][0]        \n",
        "__________________________________________________________________________________________________\n",
        "conv4_block4_2_bn (BatchNormali (None, None, None, 2 1024        conv4_block4_2_conv[0][0]        \n",
        "__________________________________________________________________________________________________\n",
        "conv4_block4_2_relu (Activation (None, None, None, 2 0           conv4_block4_2_bn[0][0]          \n",
        "__________________________________________________________________________________________________\n",
        "conv4_block4_3_conv (Conv2D)    (None, None, None, 1 263168      conv4_block4_2_relu[0][0]        \n",
        "__________________________________________________________________________________________________\n",
        "conv4_block4_3_bn (BatchNormali (None, None, None, 1 4096        conv4_block4_3_conv[0][0]        \n",
        "__________________________________________________________________________________________________\n",
        "conv4_block4_add (Add)          (None, None, None, 1 0           conv4_block3_out[0][0]           \n",
        "                                                                 conv4_block4_3_bn[0][0]          \n",
        "__________________________________________________________________________________________________\n",
        "conv4_block4_out (Activation)   (None, None, None, 1 0           conv4_block4_add[0][0]           \n",
        "__________________________________________________________________________________________________\n",
        "conv4_block5_1_conv (Conv2D)    (None, None, None, 2 262400      conv4_block4_out[0][0]           \n",
        "__________________________________________________________________________________________________\n",
        "conv4_block5_1_bn (BatchNormali (None, None, None, 2 1024        conv4_block5_1_conv[0][0]        \n",
        "__________________________________________________________________________________________________\n",
        "conv4_block5_1_relu (Activation (None, None, None, 2 0           conv4_block5_1_bn[0][0]          \n",
        "__________________________________________________________________________________________________\n",
        "conv4_block5_2_conv (Conv2D)    (None, None, None, 2 590080      conv4_block5_1_relu[0][0]        \n",
        "__________________________________________________________________________________________________\n",
        "conv4_block5_2_bn (BatchNormali (None, None, None, 2 1024        conv4_block5_2_conv[0][0]        \n",
        "__________________________________________________________________________________________________\n",
        "conv4_block5_2_relu (Activation (None, None, None, 2 0           conv4_block5_2_bn[0][0]          \n",
        "__________________________________________________________________________________________________\n",
        "conv4_block5_3_conv (Conv2D)    (None, None, None, 1 263168      conv4_block5_2_relu[0][0]        \n",
        "__________________________________________________________________________________________________\n",
        "conv4_block5_3_bn (BatchNormali (None, None, None, 1 4096        conv4_block5_3_conv[0][0]        \n",
        "__________________________________________________________________________________________________\n",
        "conv4_block5_add (Add)          (None, None, None, 1 0           conv4_block4_out[0][0]           \n",
        "                                                                 conv4_block5_3_bn[0][0]          \n",
        "__________________________________________________________________________________________________\n",
        "conv4_block5_out (Activation)   (None, None, None, 1 0           conv4_block5_add[0][0]           \n",
        "__________________________________________________________________________________________________\n",
        "conv4_block6_1_conv (Conv2D)    (None, None, None, 2 262400      conv4_block5_out[0][0]           \n",
        "__________________________________________________________________________________________________\n",
        "conv4_block6_1_bn (BatchNormali (None, None, None, 2 1024        conv4_block6_1_conv[0][0]        \n",
        "__________________________________________________________________________________________________\n",
        "conv4_block6_1_relu (Activation (None, None, None, 2 0           conv4_block6_1_bn[0][0]          \n",
        "__________________________________________________________________________________________________\n",
        "conv4_block6_2_conv (Conv2D)    (None, None, None, 2 590080      conv4_block6_1_relu[0][0]        \n",
        "__________________________________________________________________________________________________\n",
        "conv4_block6_2_bn (BatchNormali (None, None, None, 2 1024        conv4_block6_2_conv[0][0]        \n",
        "__________________________________________________________________________________________________\n",
        "conv4_block6_2_relu (Activation (None, None, None, 2 0           conv4_block6_2_bn[0][0]          \n",
        "__________________________________________________________________________________________________\n",
        "conv4_block6_3_conv (Conv2D)    (None, None, None, 1 263168      conv4_block6_2_relu[0][0]        \n",
        "__________________________________________________________________________________________________\n",
        "conv4_block6_3_bn (BatchNormali (None, None, None, 1 4096        conv4_block6_3_conv[0][0]        \n",
        "__________________________________________________________________________________________________\n",
        "conv4_block6_add (Add)          (None, None, None, 1 0           conv4_block5_out[0][0]           \n",
        "                                                                 conv4_block6_3_bn[0][0]          \n",
        "__________________________________________________________________________________________________\n",
        "conv4_block6_out (Activation)   (None, None, None, 1 0           conv4_block6_add[0][0]           \n",
        "__________________________________________________________________________________________________\n",
        "conv5_block1_1_conv (Conv2D)    (None, None, None, 5 524800      conv4_block6_out[0][0]           \n",
        "__________________________________________________________________________________________________\n",
        "conv5_block1_1_bn (BatchNormali (None, None, None, 5 2048        conv5_block1_1_conv[0][0]        \n",
        "__________________________________________________________________________________________________\n",
        "conv5_block1_1_relu (Activation (None, None, None, 5 0           conv5_block1_1_bn[0][0]          \n",
        "__________________________________________________________________________________________________\n",
        "conv5_block1_2_conv (Conv2D)    (None, None, None, 5 2359808     conv5_block1_1_relu[0][0]        \n",
        "__________________________________________________________________________________________________\n",
        "conv5_block1_2_bn (BatchNormali (None, None, None, 5 2048        conv5_block1_2_conv[0][0]        \n",
        "__________________________________________________________________________________________________\n",
        "conv5_block1_2_relu (Activation (None, None, None, 5 0           conv5_block1_2_bn[0][0]          \n",
        "__________________________________________________________________________________________________\n",
        "conv5_block1_0_conv (Conv2D)    (None, None, None, 2 2099200     conv4_block6_out[0][0]           \n",
        "__________________________________________________________________________________________________\n",
        "conv5_block1_3_conv (Conv2D)    (None, None, None, 2 1050624     conv5_block1_2_relu[0][0]        \n",
        "__________________________________________________________________________________________________\n",
        "conv5_block1_0_bn (BatchNormali (None, None, None, 2 8192        conv5_block1_0_conv[0][0]        \n",
        "__________________________________________________________________________________________________\n",
        "conv5_block1_3_bn (BatchNormali (None, None, None, 2 8192        conv5_block1_3_conv[0][0]        \n",
        "__________________________________________________________________________________________________\n",
        "conv5_block1_add (Add)          (None, None, None, 2 0           conv5_block1_0_bn[0][0]          \n",
        "                                                                 conv5_block1_3_bn[0][0]          \n",
        "__________________________________________________________________________________________________\n",
        "conv5_block1_out (Activation)   (None, None, None, 2 0           conv5_block1_add[0][0]           \n",
        "__________________________________________________________________________________________________\n",
        "conv5_block2_1_conv (Conv2D)    (None, None, None, 5 1049088     conv5_block1_out[0][0]           \n",
        "__________________________________________________________________________________________________\n",
        "conv5_block2_1_bn (BatchNormali (None, None, None, 5 2048        conv5_block2_1_conv[0][0]        \n",
        "__________________________________________________________________________________________________\n",
        "conv5_block2_1_relu (Activation (None, None, None, 5 0           conv5_block2_1_bn[0][0]          \n",
        "__________________________________________________________________________________________________\n",
        "conv5_block2_2_conv (Conv2D)    (None, None, None, 5 2359808     conv5_block2_1_relu[0][0]        \n",
        "__________________________________________________________________________________________________\n",
        "conv5_block2_2_bn (BatchNormali (None, None, None, 5 2048        conv5_block2_2_conv[0][0]        \n",
        "__________________________________________________________________________________________________\n",
        "conv5_block2_2_relu (Activation (None, None, None, 5 0           conv5_block2_2_bn[0][0]          \n",
        "__________________________________________________________________________________________________\n",
        "conv5_block2_3_conv (Conv2D)    (None, None, None, 2 1050624     conv5_block2_2_relu[0][0]        \n",
        "__________________________________________________________________________________________________\n",
        "conv5_block2_3_bn (BatchNormali (None, None, None, 2 8192        conv5_block2_3_conv[0][0]        \n",
        "__________________________________________________________________________________________________\n",
        "conv5_block2_add (Add)          (None, None, None, 2 0           conv5_block1_out[0][0]           \n",
        "                                                                 conv5_block2_3_bn[0][0]          \n",
        "__________________________________________________________________________________________________\n",
        "conv5_block2_out (Activation)   (None, None, None, 2 0           conv5_block2_add[0][0]           \n",
        "__________________________________________________________________________________________________\n",
        "conv5_block3_1_conv (Conv2D)    (None, None, None, 5 1049088     conv5_block2_out[0][0]           \n",
        "__________________________________________________________________________________________________\n",
        "conv5_block3_1_bn (BatchNormali (None, None, None, 5 2048        conv5_block3_1_conv[0][0]        \n",
        "__________________________________________________________________________________________________\n",
        "conv5_block3_1_relu (Activation (None, None, None, 5 0           conv5_block3_1_bn[0][0]          \n",
        "__________________________________________________________________________________________________\n",
        "conv5_block3_2_conv (Conv2D)    (None, None, None, 5 2359808     conv5_block3_1_relu[0][0]        \n",
        "__________________________________________________________________________________________________\n",
        "conv5_block3_2_bn (BatchNormali (None, None, None, 5 2048        conv5_block3_2_conv[0][0]        \n",
        "__________________________________________________________________________________________________\n",
        "conv5_block3_2_relu (Activation (None, None, None, 5 0           conv5_block3_2_bn[0][0]          \n",
        "__________________________________________________________________________________________________\n",
        "conv5_block3_3_conv (Conv2D)    (None, None, None, 2 1050624     conv5_block3_2_relu[0][0]        \n",
        "__________________________________________________________________________________________________\n",
        "conv5_block3_3_bn (BatchNormali (None, None, None, 2 8192        conv5_block3_3_conv[0][0]        \n",
        "__________________________________________________________________________________________________\n",
        "conv5_block3_add (Add)          (None, None, None, 2 0           conv5_block2_out[0][0]           \n",
        "                                                                 conv5_block3_3_bn[0][0]          \n",
        "__________________________________________________________________________________________________\n",
        "conv5_block3_out (Activation)   (None, None, None, 2 0           conv5_block3_add[0][0]           \n",
        "==================================================================================================\n",
        "Total params: 23,587,712\n",
        "Trainable params: 23,534,592\n",
        "Non-trainable params: 53,120\n",
        "__________________________________________________________________________________________________"
      ],
      "metadata": {
        "id": "Z5e5P9pVVNzY"
      }
    },
    {
      "cell_type": "code",
      "source": [
        "# 최종 모델 구성하기\n",
        "input_layer = tf.keras.layers.Input(shape=(150,150,3))\n",
        "x = conv_base(input_layer) # 위에서 불러온 pretrained model을 활용하기\n",
        "# 불러온 conv_base 모델의 최종 결과물은 Conv2D 연산의 feature map과 동일\n",
        "# 따라서 최종적인 Multiclass classfication을 하기 위해서는 Flatten을 해야 한다.\n",
        "x = tf.keras.layers.Flatten()(x)\n",
        "x = tf.keras.layers.Dense(512, activation='relu')(x)\n",
        "out_layer = tf.keras.layers.Dense(4, activation='softmax')(x)"
      ],
      "metadata": {
        "id": "RHuYebn1VYcp"
      },
      "execution_count": null,
      "outputs": []
    },
    {
      "cell_type": "code",
      "source": [
        "conv_base.trainable = False"
      ],
      "metadata": {
        "id": "pBCz3OAzVbdl"
      },
      "execution_count": null,
      "outputs": []
    },
    {
      "cell_type": "code",
      "source": [
        "model = tf.keras.Model(inputs=[input_layer], outputs=[out_layer])\n",
        "model.summary()"
      ],
      "metadata": {
        "id": "b20xs-cHVcEA"
      },
      "execution_count": null,
      "outputs": []
    },
    {
      "cell_type": "markdown",
      "source": [
        "Model: \"model\"\n",
        "_________________________________________________________________\n",
        "Layer (type)                 Output Shape              Param #   \n",
        "=================================================================\n",
        "input_2 (InputLayer)         [(None, 150, 150, 3)]     0         \n",
        "_________________________________________________________________\n",
        "resnet50 (Functional)        (None, None, None, 2048)  23587712  \n",
        "_________________________________________________________________\n",
        "flatten (Flatten)            (None, 51200)             0         \n",
        "_________________________________________________________________\n",
        "dense (Dense)                (None, 512)               26214912  \n",
        "_________________________________________________________________\n",
        "dense_1 (Dense)              (None, 4)                 2052      \n",
        "=================================================================\n",
        "Total params: 49,804,676\n",
        "Trainable params: 26,216,964\n",
        "Non-trainable params: 23,587,712\n",
        "_________________________________________________________________"
      ],
      "metadata": {
        "id": "aOAAOQatVdgq"
      }
    },
    {
      "cell_type": "code",
      "source": [
        "# [Playground] conv_base.trainable의 값을 True와 False로 바꿔가면서\n",
        "# Trainable params의 값이 어떻게 바뀌나 확인하고 분석해 보세요.\n",
        "\n",
        "# [[YOUR CODE]]\n",
        "conv_base.trainable = True\n",
        "model = tf.keras.Model(inputs=[input_layer], outputs=[out_layer])\n",
        "model.summary()"
      ],
      "metadata": {
        "id": "bypzpyTxVg9p"
      },
      "execution_count": null,
      "outputs": []
    },
    {
      "cell_type": "markdown",
      "source": [
        "Model: \"model_1\"\n",
        "_________________________________________________________________\n",
        "Layer (type)                 Output Shape              Param #   \n",
        "=================================================================\n",
        "input_2 (InputLayer)         [(None, 150, 150, 3)]     0         \n",
        "_________________________________________________________________\n",
        "resnet50 (Functional)        (None, None, None, 2048)  23587712  \n",
        "_________________________________________________________________\n",
        "flatten (Flatten)            (None, 51200)             0         \n",
        "_________________________________________________________________\n",
        "dense (Dense)                (None, 512)               26214912  \n",
        "_________________________________________________________________\n",
        "dense_1 (Dense)              (None, 4)                 2052      \n",
        "=================================================================\n",
        "Total params: 49,804,676\n",
        "Trainable params: 49,751,556\n",
        "Non-trainable params: 53,120\n",
        "_________________________________________________________________"
      ],
      "metadata": {
        "id": "Q6PEtPBhVjk9"
      }
    },
    {
      "cell_type": "markdown",
      "source": [
        "#**conv_base.trainable = False일 때는**\n",
        "conv_base의 파라미터가 학습되지 않으므로,\n",
        "\n",
        "그 값은 Non-trainable params에 포함됩니다.\n",
        "\n",
        "#**conv_base.trainable = True로 설정하면**\n",
        "conv_base의 파라미터들이 학습 가능해지기 때문에 Non-trainable params는 줄어듭니다.\n",
        "\n",
        "**여전히 남아있는 Non-trainable params:**\n",
        "\n",
        "이는 conv_base 외의 다른 층들(예: Dense, BatchNormalization에서의 고정된 값들)에서 여전히 학습되지 않는 파라미터들이 존재하기 때문"
      ],
      "metadata": {
        "id": "a8SOiFW1VmaN"
      }
    },
    {
      "cell_type": "code",
      "source": [
        "loss_function=tf.keras.losses.categorical_crossentropy\n",
        "optimize=tf.keras.optimizers.Adam(learning_rate=0.0001)\n",
        "metric=tf.keras.metrics.categorical_accuracy\n",
        "model.compile(loss=loss_function,\n",
        "              optimizer=optimize,\n",
        "              metrics=[metric])"
      ],
      "metadata": {
        "id": "NINJIh41WA91"
      },
      "execution_count": null,
      "outputs": []
    },
    {
      "cell_type": "code",
      "source": [
        "history = model.fit(\n",
        "      train_generator,\n",
        "     steps_per_epoch=(len(os.listdir(train_aeroplane_dir)) + len(os.listdir(train_bird_dir)) + len(\n",
        "       os.listdir(train_car_dir)) + len(os.listdir(train_cat_dir))) // batch_size,\n",
        "      epochs=20,\n",
        "      validation_data=test_generator,\n",
        "      validation_freq=1)"
      ],
      "metadata": {
        "id": "ICKAEaWBWDoq"
      },
      "execution_count": null,
      "outputs": []
    },
    {
      "cell_type": "markdown",
      "source": [
        "Epoch 1/20\n",
        "1000/1000 [==============================] - 208s 150ms/step - loss: 0.4093 - categorical_accuracy: 0.8636 - val_loss: 0.2098 - val_categorical_accuracy: 0.9277\n",
        "Epoch 2/20\n",
        "1000/1000 [==============================] - 145s 145ms/step - loss: 0.2321 - categorical_accuracy: 0.9182 - val_loss: 0.1620 - val_categorical_accuracy: 0.9498\n",
        "Epoch 3/20\n",
        "1000/1000 [==============================] - 145s 145ms/step - loss: 0.2107 - categorical_accuracy: 0.9276 - val_loss: 0.1365 - val_categorical_accuracy: 0.9505\n",
        "Epoch 4/20\n",
        "1000/1000 [==============================] - 144s 144ms/step - loss: 0.1726 - categorical_accuracy: 0.9384 - val_loss: 0.2083 - val_categorical_accuracy: 0.9312\n",
        "Epoch 5/20\n",
        "1000/1000 [==============================] - 144s 144ms/step - loss: 0.1789 - categorical_accuracy: 0.9390 - val_loss: 0.1392 - val_categorical_accuracy: 0.9525\n",
        "Epoch 6/20\n",
        "1000/1000 [==============================] - 145s 145ms/step - loss: 0.1569 - categorical_accuracy: 0.9451 - val_loss: 0.1476 - val_categorical_accuracy: 0.9510\n",
        "Epoch 7/20\n",
        "1000/1000 [==============================] - 145s 144ms/step - loss: 0.1860 - categorical_accuracy: 0.9412 - val_loss: 0.1393 - val_categorical_accuracy: 0.9515\n",
        "Epoch 8/20\n",
        "1000/1000 [==============================] - 144s 144ms/step - loss: 0.1555 - categorical_accuracy: 0.9441 - val_loss: 0.1204 - val_categorical_accuracy: 0.9597\n",
        "Epoch 9/20\n",
        "1000/1000 [==============================] - 144s 144ms/step - loss: 0.1349 - categorical_accuracy: 0.9520 - val_loss: 0.1262 - val_categorical_accuracy: 0.9592\n",
        "Epoch 10/20\n",
        "1000/1000 [==============================] - 144s 144ms/step - loss: 0.1376 - categorical_accuracy: 0.9521 - val_loss: 0.1454 - val_categorical_accuracy: 0.9510\n",
        "Epoch 11/20\n",
        "1000/1000 [==============================] - 144s 144ms/step - loss: 0.1471 - categorical_accuracy: 0.9510 - val_loss: 0.1176 - val_categorical_accuracy: 0.9603\n",
        "Epoch 12/20\n",
        "1000/1000 [==============================] - 144s 144ms/step - loss: 0.1379 - categorical_accuracy: 0.9535 - val_loss: 0.1647 - val_categorical_accuracy: 0.9500\n",
        "Epoch 13/20\n",
        "1000/1000 [==============================] - 144s 144ms/step - loss: 0.1435 - categorical_accuracy: 0.9513 - val_loss: 0.1223 - val_categorical_accuracy: 0.9550\n",
        "Epoch 14/20\n",
        "1000/1000 [==============================] - 144s 144ms/step - loss: 0.1599 - categorical_accuracy: 0.9482 - val_loss: 0.1430 - val_categorical_accuracy: 0.9582\n",
        "Epoch 15/20\n",
        "1000/1000 [==============================] - 144s 144ms/step - loss: 0.1385 - categorical_accuracy: 0.9548 - val_loss: 0.3970 - val_categorical_accuracy: 0.9457\n",
        "Epoch 16/20\n",
        "1000/1000 [==============================] - 144s 144ms/step - loss: 0.1254 - categorical_accuracy: 0.9577 - val_loss: 0.1287 - val_categorical_accuracy: 0.9615\n",
        "Epoch 17/20\n",
        "1000/1000 [==============================] - 144s 144ms/step - loss: 0.1349 - categorical_accuracy: 0.9556 - val_loss: 0.1656 - val_categorical_accuracy: 0.9485\n",
        "Epoch 18/20\n",
        "1000/1000 [==============================] - 144s 144ms/step - loss: 0.1146 - categorical_accuracy: 0.9615 - val_loss: 0.3153 - val_categorical_accuracy: 0.8988\n",
        "Epoch 19/20\n",
        "1000/1000 [==============================] - 144s 144ms/step - loss: 0.1506 - categorical_accuracy: 0.9546 - val_loss: 0.1031 - val_categorical_accuracy: 0.9700\n",
        "Epoch 20/20\n",
        "1000/1000 [==============================] - 144s 144ms/step - loss: 0.1435 - categorical_accuracy: 0.9545 - val_loss: 0.1275 - val_categorical_accuracy: 0.9572"
      ],
      "metadata": {
        "id": "Xdhj74MOb0_M"
      }
    },
    {
      "cell_type": "code",
      "source": [
        "model.save('/aiffel/aiffel/cifar_10_small/multi_classification_augumentation_model.hdf5')\n",
        "\n",
        "acc = history.history['categorical_accuracy']\n",
        "val_acc = history.history['val_categorical_accuracy']\n",
        "loss = history.history['loss']\n",
        "val_loss = history.history['val_loss']"
      ],
      "metadata": {
        "id": "J_74dd9vWERf"
      },
      "execution_count": null,
      "outputs": []
    },
    {
      "cell_type": "markdown",
      "source": [
        "/opt/conda/lib/python3.9/site-packages/keras/utils/generic_utils.py:494: CustomMaskWarning: Custom mask layers require a config and must override get_config. When loading, the custom mask layer must be passed to the custom_objects argument.\n",
        "  warnings.warn('Custom mask layers require a config and must override '"
      ],
      "metadata": {
        "id": "qYjOr8f7b41K"
      }
    },
    {
      "cell_type": "code",
      "source": [
        "# # 학습한 결과 시각화\n",
        "epochs = range(len(acc))\n",
        "\n",
        "plt.plot(epochs, acc, 'bo', label='Training acc')\n",
        "plt.plot(epochs, val_acc, 'b', label='Validation acc')\n",
        "plt.title('Training and validation accuracy')\n",
        "plt.legend()\n",
        "\n",
        "plt.figure()\n",
        "\n",
        "plt.plot(epochs, loss, 'bo', label='Training loss')\n",
        "plt.plot(epochs, val_loss, 'b', label='Validation loss')\n",
        "plt.title('Training and validation loss')\n",
        "plt.legend()\n",
        "\n",
        "plt.show()"
      ],
      "metadata": {
        "id": "k7wRmPaoWFqv"
      },
      "execution_count": null,
      "outputs": []
    },
    {
      "cell_type": "markdown",
      "source": [
        "![image.png](data:image/png;base64,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)"
      ],
      "metadata": {
        "id": "exw4dplbb_Sh"
      }
    }
  ]
}