{
  "nbformat": 4,
  "nbformat_minor": 0,
  "metadata": {
    "colab": {
      "provenance": [],
      "authorship_tag": "ABX9TyMkys83goEYWv/nlYi5NrTO",
      "include_colab_link": true
    },
    "kernelspec": {
      "name": "python3",
      "display_name": "Python 3"
    },
    "language_info": {
      "name": "python"
    }
  },
  "cells": [
    {
      "cell_type": "markdown",
      "metadata": {
        "id": "view-in-github",
        "colab_type": "text"
      },
      "source": [
        "<a href=\"https://colab.research.google.com/github/String-ru/AIFFEL_quest_cr/blob/main/DeepCV/0210_new_model_parameter.ipynb\" target=\"_parent\"><img src=\"https://colab.research.google.com/assets/colab-badge.svg\" alt=\"Open In Colab\"/></a>"
      ]
    },
    {
      "cell_type": "code",
      "execution_count": 1,
      "metadata": {
        "id": "cd7kobIs2QGL"
      },
      "outputs": [],
      "source": [
        "import sys\n",
        "import tensorflow as tf\n",
        "import numpy as np"
      ]
    },
    {
      "cell_type": "code",
      "source": [
        "# MNIST 데이터셋 불러오기\n",
        "(X_train, Y_train), (X_test, Y_test) = tf.keras.datasets.mnist.load_data()\n",
        "\n",
        "# shape 확인하기\n",
        "print(X_train.shape) # 28 x 28의 이미지가 60,000장\n",
        "print(Y_train.shape) ## [ 5, 1, 2, 3, 4, 4,   .... ]\n",
        "print(\"학습셋 이미지 수 : %d 개\" % (X_train.shape[0]))\n",
        "print(\"테스트셋 이미지 수 : %d 개\" % (X_test.shape[0]))"
      ],
      "metadata": {
        "colab": {
          "base_uri": "https://localhost:8080/"
        },
        "id": "uF8_qQJu2Y2T",
        "outputId": "4fa660c6-cdbb-4784-c97a-445588e2f796"
      },
      "execution_count": 2,
      "outputs": [
        {
          "output_type": "stream",
          "name": "stdout",
          "text": [
            "Downloading data from https://storage.googleapis.com/tensorflow/tf-keras-datasets/mnist.npz\n",
            "\u001b[1m11490434/11490434\u001b[0m \u001b[32m━━━━━━━━━━━━━━━━━━━━\u001b[0m\u001b[37m\u001b[0m \u001b[1m0s\u001b[0m 0us/step\n",
            "(60000, 28, 28)\n",
            "(60000,)\n",
            "학습셋 이미지 수 : 60000 개\n",
            "테스트셋 이미지 수 : 10000 개\n"
          ]
        }
      ]
    },
    {
      "cell_type": "code",
      "source": [
        "# MNIST 데이터를 시각화하기\n",
        "import matplotlib.pyplot as plt\n",
        "print(Y_train[0])\n",
        "plt.imshow(X_train[0], cmap='Greys') # 흑백 이미지로 확인\n",
        "plt.show()"
      ],
      "metadata": {
        "colab": {
          "base_uri": "https://localhost:8080/",
          "height": 447
        },
        "id": "DRlZ4eoz2bV-",
        "outputId": "04afbd55-7fad-46b0-baaf-90ce24b8cb45"
      },
      "execution_count": 3,
      "outputs": [
        {
          "output_type": "stream",
          "name": "stdout",
          "text": [
            "5\n"
          ]
        },
        {
          "output_type": "display_data",
          "data": {
            "text/plain": [
              "<Figure size 640x480 with 1 Axes>"
            ],
            "image/png": "[encoded data removed]"
          },
          "metadata": {}
        }
      ]
    },
    {
      "cell_type": "code",
      "source": [
        "# 데이터를 직접 들여다보기\n",
        "for x in X_train[0]:\n",
        "    for i in x:\n",
        "        sys.stdout.write('%d\\t' % i)\n",
        "    sys.stdout.write('\\n')"
      ],
      "metadata": {
        "colab": {
          "base_uri": "https://localhost:8080/"
        },
        "id": "epGBSPU_2bvZ",
        "outputId": "44de43d9-541a-4b12-da75-e1c8d0af842c"
      },
      "execution_count": 4,
      "outputs": [
        {
          "output_type": "stream",
          "name": "stdout",
          "text": [
            "0\t0\t0\t0\t0\t0\t0\t0\t0\t0\t0\t0\t0\t0\t0\t0\t0\t0\t0\t0\t0\t0\t0\t0\t0\t0\t0\t0\t\n",
            "0\t0\t0\t0\t0\t0\t0\t0\t0\t0\t0\t0\t0\t0\t0\t0\t0\t0\t0\t0\t0\t0\t0\t0\t0\t0\t0\t0\t\n",
            "0\t0\t0\t0\t0\t0\t0\t0\t0\t0\t0\t0\t0\t0\t0\t0\t0\t0\t0\t0\t0\t0\t0\t0\t0\t0\t0\t0\t\n",
            "0\t0\t0\t0\t0\t0\t0\t0\t0\t0\t0\t0\t0\t0\t0\t0\t0\t0\t0\t0\t0\t0\t0\t0\t0\t0\t0\t0\t\n",
            "0\t0\t0\t0\t0\t0\t0\t0\t0\t0\t0\t0\t0\t0\t0\t0\t0\t0\t0\t0\t0\t0\t0\t0\t0\t0\t0\t0\t\n",
            "0\t0\t0\t0\t0\t0\t0\t0\t0\t0\t0\t0\t3\t18\t18\t18\t126\t136\t175\t26\t166\t255\t247\t127\t0\t0\t0\t0\t\n",
            "0\t0\t0\t0\t0\t0\t0\t0\t30\t36\t94\t154\t170\t253\t253\t253\t253\t253\t225\t172\t253\t242\t195\t64\t0\t0\t0\t0\t\n",
            "0\t0\t0\t0\t0\t0\t0\t49\t238\t253\t253\t253\t253\t253\t253\t253\t253\t251\t93\t82\t82\t56\t39\t0\t0\t0\t0\t0\t\n",
            "0\t0\t0\t0\t0\t0\t0\t18\t219\t253\t253\t253\t253\t253\t198\t182\t247\t241\t0\t0\t0\t0\t0\t0\t0\t0\t0\t0\t\n",
            "0\t0\t0\t0\t0\t0\t0\t0\t80\t156\t107\t253\t253\t205\t11\t0\t43\t154\t0\t0\t0\t0\t0\t0\t0\t0\t0\t0\t\n",
            "0\t0\t0\t0\t0\t0\t0\t0\t0\t14\t1\t154\t253\t90\t0\t0\t0\t0\t0\t0\t0\t0\t0\t0\t0\t0\t0\t0\t\n",
            "0\t0\t0\t0\t0\t0\t0\t0\t0\t0\t0\t139\t253\t190\t2\t0\t0\t0\t0\t0\t0\t0\t0\t0\t0\t0\t0\t0\t\n",
            "0\t0\t0\t0\t0\t0\t0\t0\t0\t0\t0\t11\t190\t253\t70\t0\t0\t0\t0\t0\t0\t0\t0\t0\t0\t0\t0\t0\t\n",
            "0\t0\t0\t0\t0\t0\t0\t0\t0\t0\t0\t0\t35\t241\t225\t160\t108\t1\t0\t0\t0\t0\t0\t0\t0\t0\t0\t0\t\n",
            "0\t0\t0\t0\t0\t0\t0\t0\t0\t0\t0\t0\t0\t81\t240\t253\t253\t119\t25\t0\t0\t0\t0\t0\t0\t0\t0\t0\t\n",
            "0\t0\t0\t0\t0\t0\t0\t0\t0\t0\t0\t0\t0\t0\t45\t186\t253\t253\t150\t27\t0\t0\t0\t0\t0\t0\t0\t0\t\n",
            "0\t0\t0\t0\t0\t0\t0\t0\t0\t0\t0\t0\t0\t0\t0\t16\t93\t252\t253\t187\t0\t0\t0\t0\t0\t0\t0\t0\t\n",
            "0\t0\t0\t0\t0\t0\t0\t0\t0\t0\t0\t0\t0\t0\t0\t0\t0\t249\t253\t249\t64\t0\t0\t0\t0\t0\t0\t0\t\n",
            "0\t0\t0\t0\t0\t0\t0\t0\t0\t0\t0\t0\t0\t0\t46\t130\t183\t253\t253\t207\t2\t0\t0\t0\t0\t0\t0\t0\t\n",
            "0\t0\t0\t0\t0\t0\t0\t0\t0\t0\t0\t0\t39\t148\t229\t253\t253\t253\t250\t182\t0\t0\t0\t0\t0\t0\t0\t0\t\n",
            "0\t0\t0\t0\t0\t0\t0\t0\t0\t0\t24\t114\t221\t253\t253\t253\t253\t201\t78\t0\t0\t0\t0\t0\t0\t0\t0\t0\t\n",
            "0\t0\t0\t0\t0\t0\t0\t0\t23\t66\t213\t253\t253\t253\t253\t198\t81\t2\t0\t0\t0\t0\t0\t0\t0\t0\t0\t0\t\n",
            "0\t0\t0\t0\t0\t0\t18\t171\t219\t253\t253\t253\t253\t195\t80\t9\t0\t0\t0\t0\t0\t0\t0\t0\t0\t0\t0\t0\t\n",
            "0\t0\t0\t0\t55\t172\t226\t253\t253\t253\t253\t244\t133\t11\t0\t0\t0\t0\t0\t0\t0\t0\t0\t0\t0\t0\t0\t0\t\n",
            "0\t0\t0\t0\t136\t253\t253\t253\t212\t135\t132\t16\t0\t0\t0\t0\t0\t0\t0\t0\t0\t0\t0\t0\t0\t0\t0\t0\t\n",
            "0\t0\t0\t0\t0\t0\t0\t0\t0\t0\t0\t0\t0\t0\t0\t0\t0\t0\t0\t0\t0\t0\t0\t0\t0\t0\t0\t0\t\n",
            "0\t0\t0\t0\t0\t0\t0\t0\t0\t0\t0\t0\t0\t0\t0\t0\t0\t0\t0\t0\t0\t0\t0\t0\t0\t0\t0\t0\t\n",
            "0\t0\t0\t0\t0\t0\t0\t0\t0\t0\t0\t0\t0\t0\t0\t0\t0\t0\t0\t0\t0\t0\t0\t0\t0\t0\t0\t0\t\n"
          ]
        }
      ]
    },
    {
      "cell_type": "code",
      "source": [
        "# MLP 구조에 적절한 input의 형태로 변형하기\n",
        "## reshape()을 사용하여 2차원의 데이터를 1차원으로 변형\n",
        "## 1차원으로 변형함과 동시에 Normalization\n",
        "X_train = X_train.reshape(X_train.shape[0], 784).astype('float32') # 28 x 28= 784\n",
        "X_test = X_test.reshape(X_test.shape[0], 784).astype('float32')"
      ],
      "metadata": {
        "id": "gvasafm12eRt"
      },
      "execution_count": 6,
      "outputs": []
    },
    {
      "cell_type": "code",
      "source": [
        "# Q. reshape한 X_train과 X_test의 shape을 다시 확인해 보세요.\n",
        "print(X_train.shape)\n",
        "print(X_test.shape)"
      ],
      "metadata": {
        "colab": {
          "base_uri": "https://localhost:8080/"
        },
        "id": "u3FQbdvS2xLO",
        "outputId": "4d93237b-c0b5-47a4-c969-a20372d64792"
      },
      "execution_count": 8,
      "outputs": [
        {
          "output_type": "stream",
          "name": "stdout",
          "text": [
            "(60000, 784)\n",
            "(10000, 784)\n"
          ]
        }
      ]
    },
    {
      "cell_type": "code",
      "source": [
        "# Label 값을 One-hot encoding 하기\n",
        "# Multi-Class Classfication이므로 keras.utils.to_categorical을 사용\n",
        "Y_train = tf.keras.utils.to_categorical(Y_train)\n",
        "Y_test = tf.keras.utils.to_categorical(Y_test)"
      ],
      "metadata": {
        "id": "cwVlh9US7j5J"
      },
      "execution_count": 10,
      "outputs": []
    },
    {
      "cell_type": "code",
      "source": [
        "print(Y_train.shape)\n",
        "print(Y_test.shape)\n",
        "print(Y_train[0])"
      ],
      "metadata": {
        "colab": {
          "base_uri": "https://localhost:8080/"
        },
        "id": "c6vDDrZr7kO7",
        "outputId": "028fb0ab-2035-4836-b1c5-79d0eff22d4c"
      },
      "execution_count": 11,
      "outputs": [
        {
          "output_type": "stream",
          "name": "stdout",
          "text": [
            "(60000, 10)\n",
            "(10000, 10)\n",
            "[0. 0. 0. 0. 0. 1. 0. 0. 0. 0.]\n"
          ]
        }
      ]
    },
    {
      "cell_type": "code",
      "source": [
        "# 모델 설계하기\n",
        "input_layer = tf.keras.layers.Input(shape=(784,)) # input layer, input의 사이즈에 맞게 shape을 지정하는 것이 중요\n",
        "x = tf.keras.layers.Dense(512, activation='relu')(input_layer) # hidden layer 1, 512개의 perceptron으로 구성된 fully connted layer, activation 함수는 relu\n",
        "x = tf.keras.layers.Dense(512, activation='relu')(x) # hidden layer 2\n",
        "\n",
        "# 분류해야 하는 class 0~9 (10개) -> 따라서 최종 layer의 perceptron은 10개\n",
        "out_layer= tf.keras.layers.Dense(10, activation='softmax')(x)\n",
        "\n",
        "model = tf.keras.Model(inputs=[input_layer], outputs=[out_layer])\n",
        "model.summary()"
      ],
      "metadata": {
        "colab": {
          "base_uri": "https://localhost:8080/",
          "height": 257
        },
        "id": "3qFTFSVF7m2I",
        "outputId": "c0f01da0-4520-48e8-ca68-57fbdef96d98"
      },
      "execution_count": 12,
      "outputs": [
        {
          "output_type": "display_data",
          "data": {
            "text/plain": [
              "\u001b[1mModel: \"functional\"\u001b[0m\n"
            ],
            "text/html": [
              "<pre style=\"white-space:pre;overflow-x:auto;line-height:normal;font-family:Menlo,'DejaVu Sans Mono',consolas,'Courier New',monospace\"><span style=\"font-weight: bold\">Model: \"functional\"</span>\n",
              "</pre>\n"
            ]
          },
          "metadata": {}
        },
        {
          "output_type": "display_data",
          "data": {
            "text/plain": [
              "┏━━━━━━━━━━━━━━━━━━━━━━━━━━━━━━━━━━━━━━┳━━━━━━━━━━━━━━━━━━━━━━━━━━━━━┳━━━━━━━━━━━━━━━━━┓\n",
              "┃\u001b[1m \u001b[0m\u001b[1mLayer (type)                        \u001b[0m\u001b[1m \u001b[0m┃\u001b[1m \u001b[0m\u001b[1mOutput Shape               \u001b[0m\u001b[1m \u001b[0m┃\u001b[1m \u001b[0m\u001b[1m        Param #\u001b[0m\u001b[1m \u001b[0m┃\n",
              "┡━━━━━━━━━━━━━━━━━━━━━━━━━━━━━━━━━━━━━━╇━━━━━━━━━━━━━━━━━━━━━━━━━━━━━╇━━━━━━━━━━━━━━━━━┩\n",
              "│ input_layer (\u001b[38;5;33mInputLayer\u001b[0m)             │ (\u001b[38;5;45mNone\u001b[0m, \u001b[38;5;34m784\u001b[0m)                 │               \u001b[38;5;34m0\u001b[0m │\n",
              "├──────────────────────────────────────┼─────────────────────────────┼─────────────────┤\n",
              "│ dense (\u001b[38;5;33mDense\u001b[0m)                        │ (\u001b[38;5;45mNone\u001b[0m, \u001b[38;5;34m512\u001b[0m)                 │         \u001b[38;5;34m401,920\u001b[0m │\n",
              "├──────────────────────────────────────┼─────────────────────────────┼─────────────────┤\n",
              "│ dense_1 (\u001b[38;5;33mDense\u001b[0m)                      │ (\u001b[38;5;45mNone\u001b[0m, \u001b[38;5;34m512\u001b[0m)                 │         \u001b[38;5;34m262,656\u001b[0m │\n",
              "├──────────────────────────────────────┼─────────────────────────────┼─────────────────┤\n",
              "│ dense_2 (\u001b[38;5;33mDense\u001b[0m)                      │ (\u001b[38;5;45mNone\u001b[0m, \u001b[38;5;34m10\u001b[0m)                  │           \u001b[38;5;34m5,130\u001b[0m │\n",
              "└──────────────────────────────────────┴─────────────────────────────┴─────────────────┘\n"
            ],
            "text/html": [
              "<pre style=\"white-space:pre;overflow-x:auto;line-height:normal;font-family:Menlo,'DejaVu Sans Mono',consolas,'Courier New',monospace\">┏━━━━━━━━━━━━━━━━━━━━━━━━━━━━━━━━━━━━━━┳━━━━━━━━━━━━━━━━━━━━━━━━━━━━━┳━━━━━━━━━━━━━━━━━┓\n",
              "┃<span style=\"font-weight: bold\"> Layer (type)                         </span>┃<span style=\"font-weight: bold\"> Output Shape                </span>┃<span style=\"font-weight: bold\">         Param # </span>┃\n",
              "┡━━━━━━━━━━━━━━━━━━━━━━━━━━━━━━━━━━━━━━╇━━━━━━━━━━━━━━━━━━━━━━━━━━━━━╇━━━━━━━━━━━━━━━━━┩\n",
              "│ input_layer (<span style=\"color: #0087ff; text-decoration-color: #0087ff\">InputLayer</span>)             │ (<span style=\"color: #00d7ff; text-decoration-color: #00d7ff\">None</span>, <span style=\"color: #00af00; text-decoration-color: #00af00\">784</span>)                 │               <span style=\"color: #00af00; text-decoration-color: #00af00\">0</span> │\n",
              "├──────────────────────────────────────┼─────────────────────────────┼─────────────────┤\n",
              "│ dense (<span style=\"color: #0087ff; text-decoration-color: #0087ff\">Dense</span>)                        │ (<span style=\"color: #00d7ff; text-decoration-color: #00d7ff\">None</span>, <span style=\"color: #00af00; text-decoration-color: #00af00\">512</span>)                 │         <span style=\"color: #00af00; text-decoration-color: #00af00\">401,920</span> │\n",
              "├──────────────────────────────────────┼─────────────────────────────┼─────────────────┤\n",
              "│ dense_1 (<span style=\"color: #0087ff; text-decoration-color: #0087ff\">Dense</span>)                      │ (<span style=\"color: #00d7ff; text-decoration-color: #00d7ff\">None</span>, <span style=\"color: #00af00; text-decoration-color: #00af00\">512</span>)                 │         <span style=\"color: #00af00; text-decoration-color: #00af00\">262,656</span> │\n",
              "├──────────────────────────────────────┼─────────────────────────────┼─────────────────┤\n",
              "│ dense_2 (<span style=\"color: #0087ff; text-decoration-color: #0087ff\">Dense</span>)                      │ (<span style=\"color: #00d7ff; text-decoration-color: #00d7ff\">None</span>, <span style=\"color: #00af00; text-decoration-color: #00af00\">10</span>)                  │           <span style=\"color: #00af00; text-decoration-color: #00af00\">5,130</span> │\n",
              "└──────────────────────────────────────┴─────────────────────────────┴─────────────────┘\n",
              "</pre>\n"
            ]
          },
          "metadata": {}
        },
        {
          "output_type": "display_data",
          "data": {
            "text/plain": [
              "\u001b[1m Total params: \u001b[0m\u001b[38;5;34m669,706\u001b[0m (2.55 MB)\n"
            ],
            "text/html": [
              "<pre style=\"white-space:pre;overflow-x:auto;line-height:normal;font-family:Menlo,'DejaVu Sans Mono',consolas,'Courier New',monospace\"><span style=\"font-weight: bold\"> Total params: </span><span style=\"color: #00af00; text-decoration-color: #00af00\">669,706</span> (2.55 MB)\n",
              "</pre>\n"
            ]
          },
          "metadata": {}
        },
        {
          "output_type": "display_data",
          "data": {
            "text/plain": [
              "\u001b[1m Trainable params: \u001b[0m\u001b[38;5;34m669,706\u001b[0m (2.55 MB)\n"
            ],
            "text/html": [
              "<pre style=\"white-space:pre;overflow-x:auto;line-height:normal;font-family:Menlo,'DejaVu Sans Mono',consolas,'Courier New',monospace\"><span style=\"font-weight: bold\"> Trainable params: </span><span style=\"color: #00af00; text-decoration-color: #00af00\">669,706</span> (2.55 MB)\n",
              "</pre>\n"
            ]
          },
          "metadata": {}
        },
        {
          "output_type": "display_data",
          "data": {
            "text/plain": [
              "\u001b[1m Non-trainable params: \u001b[0m\u001b[38;5;34m0\u001b[0m (0.00 B)\n"
            ],
            "text/html": [
              "<pre style=\"white-space:pre;overflow-x:auto;line-height:normal;font-family:Menlo,'DejaVu Sans Mono',consolas,'Courier New',monospace\"><span style=\"font-weight: bold\"> Non-trainable params: </span><span style=\"color: #00af00; text-decoration-color: #00af00\">0</span> (0.00 B)\n",
              "</pre>\n"
            ]
          },
          "metadata": {}
        }
      ]
    },
    {
      "cell_type": "code",
      "source": [
        "loss=tf.keras.losses.categorical_crossentropy\n",
        "optimizer = tf.keras.optimizers.Adam(learning_rate = 0.001)\n",
        "metric=tf.keras.metrics.categorical_accuracy\n",
        "model.compile(loss = loss,\n",
        "              optimizer = optimizer,\n",
        "              metrics = [metric])"
      ],
      "metadata": {
        "id": "TSCMJ92x8WFb"
      },
      "execution_count": 13,
      "outputs": []
    },
    {
      "cell_type": "code",
      "source": [
        "# validation_data 옵션으로 테스트 데이터만 넣어주어서 검증 데이터 분류가 가능\n",
        "history = model.fit(X_train, Y_train, validation_split=0.2, epochs=30, batch_size=1000, verbose=1)\n",
        "print(history.history.keys())"
      ],
      "metadata": {
        "colab": {
          "base_uri": "https://localhost:8080/"
        },
        "id": "V4pPRpfM8YGh",
        "outputId": "f3e1ce50-648b-4dab-f035-a47a2cff64fb"
      },
      "execution_count": 14,
      "outputs": [
        {
          "output_type": "stream",
          "name": "stdout",
          "text": [
            "Epoch 1/30\n"
          ]
        },
        {
          "output_type": "stream",
          "name": "stderr",
          "text": [
            "/usr/local/lib/python3.11/dist-packages/keras/src/models/functional.py:237: UserWarning: The structure of `inputs` doesn't match the expected structure.\n",
            "Expected: ['keras_tensor']\n",
            "Received: inputs=Tensor(shape=(1000, 784))\n",
            "  warnings.warn(msg)\n"
          ]
        },
        {
          "output_type": "stream",
          "name": "stdout",
          "text": [
            "\u001b[1m48/48\u001b[0m \u001b[32m━━━━━━━━━━━━━━━━━━━━\u001b[0m\u001b[37m\u001b[0m \u001b[1m6s\u001b[0m 91ms/step - categorical_accuracy: 0.6593 - loss: 24.5642 - val_categorical_accuracy: 0.9318 - val_loss: 1.2562\n",
            "Epoch 2/30\n",
            "\u001b[1m48/48\u001b[0m \u001b[32m━━━━━━━━━━━━━━━━━━━━\u001b[0m\u001b[37m\u001b[0m \u001b[1m6s\u001b[0m 112ms/step - categorical_accuracy: 0.9374 - loss: 0.9619 - val_categorical_accuracy: 0.9417 - val_loss: 0.7813\n",
            "Epoch 3/30\n",
            "\u001b[1m48/48\u001b[0m \u001b[32m━━━━━━━━━━━━━━━━━━━━\u001b[0m\u001b[37m\u001b[0m \u001b[1m4s\u001b[0m 78ms/step - categorical_accuracy: 0.9603 - loss: 0.4051 - val_categorical_accuracy: 0.9461 - val_loss: 0.6374\n",
            "Epoch 4/30\n",
            "\u001b[1m48/48\u001b[0m \u001b[32m━━━━━━━━━━━━━━━━━━━━\u001b[0m\u001b[37m\u001b[0m \u001b[1m6s\u001b[0m 96ms/step - categorical_accuracy: 0.9768 - loss: 0.1765 - val_categorical_accuracy: 0.9488 - val_loss: 0.5788\n",
            "Epoch 5/30\n",
            "\u001b[1m48/48\u001b[0m \u001b[32m━━━━━━━━━━━━━━━━━━━━\u001b[0m\u001b[37m\u001b[0m \u001b[1m5s\u001b[0m 89ms/step - categorical_accuracy: 0.9847 - loss: 0.0927 - val_categorical_accuracy: 0.9510 - val_loss: 0.5461\n",
            "Epoch 6/30\n",
            "\u001b[1m48/48\u001b[0m \u001b[32m━━━━━━━━━━━━━━━━━━━━\u001b[0m\u001b[37m\u001b[0m \u001b[1m4s\u001b[0m 82ms/step - categorical_accuracy: 0.9901 - loss: 0.0413 - val_categorical_accuracy: 0.9528 - val_loss: 0.5152\n",
            "Epoch 7/30\n",
            "\u001b[1m48/48\u001b[0m \u001b[32m━━━━━━━━━━━━━━━━━━━━\u001b[0m\u001b[37m\u001b[0m \u001b[1m6s\u001b[0m 104ms/step - categorical_accuracy: 0.9945 - loss: 0.0204 - val_categorical_accuracy: 0.9560 - val_loss: 0.5058\n",
            "Epoch 8/30\n",
            "\u001b[1m48/48\u001b[0m \u001b[32m━━━━━━━━━━━━━━━━━━━━\u001b[0m\u001b[37m\u001b[0m \u001b[1m5s\u001b[0m 92ms/step - categorical_accuracy: 0.9959 - loss: 0.0127 - val_categorical_accuracy: 0.9548 - val_loss: 0.5003\n",
            "Epoch 9/30\n",
            "\u001b[1m48/48\u001b[0m \u001b[32m━━━━━━━━━━━━━━━━━━━━\u001b[0m\u001b[37m\u001b[0m \u001b[1m4s\u001b[0m 88ms/step - categorical_accuracy: 0.9986 - loss: 0.0044 - val_categorical_accuracy: 0.9559 - val_loss: 0.5013\n",
            "Epoch 10/30\n",
            "\u001b[1m48/48\u001b[0m \u001b[32m━━━━━━━━━━━━━━━━━━━━\u001b[0m\u001b[37m\u001b[0m \u001b[1m6s\u001b[0m 108ms/step - categorical_accuracy: 0.9995 - loss: 0.0018 - val_categorical_accuracy: 0.9557 - val_loss: 0.4970\n",
            "Epoch 11/30\n",
            "\u001b[1m48/48\u001b[0m \u001b[32m━━━━━━━━━━━━━━━━━━━━\u001b[0m\u001b[37m\u001b[0m \u001b[1m9s\u001b[0m 77ms/step - categorical_accuracy: 1.0000 - loss: 3.8208e-04 - val_categorical_accuracy: 0.9557 - val_loss: 0.4920\n",
            "Epoch 12/30\n",
            "\u001b[1m48/48\u001b[0m \u001b[32m━━━━━━━━━━━━━━━━━━━━\u001b[0m\u001b[37m\u001b[0m \u001b[1m5s\u001b[0m 110ms/step - categorical_accuracy: 1.0000 - loss: 1.5456e-04 - val_categorical_accuracy: 0.9554 - val_loss: 0.4900\n",
            "Epoch 13/30\n",
            "\u001b[1m48/48\u001b[0m \u001b[32m━━━━━━━━━━━━━━━━━━━━\u001b[0m\u001b[37m\u001b[0m \u001b[1m9s\u001b[0m 77ms/step - categorical_accuracy: 1.0000 - loss: 1.0194e-04 - val_categorical_accuracy: 0.9557 - val_loss: 0.4900\n",
            "Epoch 14/30\n",
            "\u001b[1m48/48\u001b[0m \u001b[32m━━━━━━━━━━━━━━━━━━━━\u001b[0m\u001b[37m\u001b[0m \u001b[1m5s\u001b[0m 115ms/step - categorical_accuracy: 1.0000 - loss: 8.5707e-05 - val_categorical_accuracy: 0.9560 - val_loss: 0.4898\n",
            "Epoch 15/30\n",
            "\u001b[1m48/48\u001b[0m \u001b[32m━━━━━━━━━━━━━━━━━━━━\u001b[0m\u001b[37m\u001b[0m \u001b[1m4s\u001b[0m 78ms/step - categorical_accuracy: 1.0000 - loss: 8.6686e-05 - val_categorical_accuracy: 0.9561 - val_loss: 0.4897\n",
            "Epoch 16/30\n",
            "\u001b[1m48/48\u001b[0m \u001b[32m━━━━━━━━━━━━━━━━━━━━\u001b[0m\u001b[37m\u001b[0m \u001b[1m4s\u001b[0m 86ms/step - categorical_accuracy: 1.0000 - loss: 7.5535e-05 - val_categorical_accuracy: 0.9560 - val_loss: 0.4895\n",
            "Epoch 17/30\n",
            "\u001b[1m48/48\u001b[0m \u001b[32m━━━━━━━━━━━━━━━━━━━━\u001b[0m\u001b[37m\u001b[0m \u001b[1m7s\u001b[0m 117ms/step - categorical_accuracy: 1.0000 - loss: 6.7405e-05 - val_categorical_accuracy: 0.9562 - val_loss: 0.4892\n",
            "Epoch 18/30\n",
            "\u001b[1m48/48\u001b[0m \u001b[32m━━━━━━━━━━━━━━━━━━━━\u001b[0m\u001b[37m\u001b[0m \u001b[1m8s\u001b[0m 80ms/step - categorical_accuracy: 1.0000 - loss: 6.7378e-05 - val_categorical_accuracy: 0.9564 - val_loss: 0.4893\n",
            "Epoch 19/30\n",
            "\u001b[1m48/48\u001b[0m \u001b[32m━━━━━━━━━━━━━━━━━━━━\u001b[0m\u001b[37m\u001b[0m \u001b[1m7s\u001b[0m 118ms/step - categorical_accuracy: 1.0000 - loss: 6.0759e-05 - val_categorical_accuracy: 0.9564 - val_loss: 0.4891\n",
            "Epoch 20/30\n",
            "\u001b[1m48/48\u001b[0m \u001b[32m━━━━━━━━━━━━━━━━━━━━\u001b[0m\u001b[37m\u001b[0m \u001b[1m9s\u001b[0m 86ms/step - categorical_accuracy: 1.0000 - loss: 5.6282e-05 - val_categorical_accuracy: 0.9566 - val_loss: 0.4890\n",
            "Epoch 21/30\n",
            "\u001b[1m48/48\u001b[0m \u001b[32m━━━━━━━━━━━━━━━━━━━━\u001b[0m\u001b[37m\u001b[0m \u001b[1m6s\u001b[0m 126ms/step - categorical_accuracy: 1.0000 - loss: 5.4639e-05 - val_categorical_accuracy: 0.9567 - val_loss: 0.4888\n",
            "Epoch 22/30\n",
            "\u001b[1m48/48\u001b[0m \u001b[32m━━━━━━━━━━━━━━━━━━━━\u001b[0m\u001b[37m\u001b[0m \u001b[1m4s\u001b[0m 80ms/step - categorical_accuracy: 1.0000 - loss: 5.1740e-05 - val_categorical_accuracy: 0.9567 - val_loss: 0.4889\n",
            "Epoch 23/30\n",
            "\u001b[1m48/48\u001b[0m \u001b[32m━━━━━━━━━━━━━━━━━━━━\u001b[0m\u001b[37m\u001b[0m \u001b[1m4s\u001b[0m 85ms/step - categorical_accuracy: 1.0000 - loss: 4.8247e-05 - val_categorical_accuracy: 0.9567 - val_loss: 0.4887\n",
            "Epoch 24/30\n",
            "\u001b[1m48/48\u001b[0m \u001b[32m━━━━━━━━━━━━━━━━━━━━\u001b[0m\u001b[37m\u001b[0m \u001b[1m7s\u001b[0m 119ms/step - categorical_accuracy: 1.0000 - loss: 4.4127e-05 - val_categorical_accuracy: 0.9567 - val_loss: 0.4886\n",
            "Epoch 25/30\n",
            "\u001b[1m48/48\u001b[0m \u001b[32m━━━━━━━━━━━━━━━━━━━━\u001b[0m\u001b[37m\u001b[0m \u001b[1m4s\u001b[0m 85ms/step - categorical_accuracy: 1.0000 - loss: 4.4390e-05 - val_categorical_accuracy: 0.9568 - val_loss: 0.4885\n",
            "Epoch 26/30\n",
            "\u001b[1m48/48\u001b[0m \u001b[32m━━━━━━━━━━━━━━━━━━━━\u001b[0m\u001b[37m\u001b[0m \u001b[1m4s\u001b[0m 87ms/step - categorical_accuracy: 1.0000 - loss: 3.9580e-05 - val_categorical_accuracy: 0.9568 - val_loss: 0.4884\n",
            "Epoch 27/30\n",
            "\u001b[1m48/48\u001b[0m \u001b[32m━━━━━━━━━━━━━━━━━━━━\u001b[0m\u001b[37m\u001b[0m \u001b[1m6s\u001b[0m 107ms/step - categorical_accuracy: 1.0000 - loss: 3.9496e-05 - val_categorical_accuracy: 0.9568 - val_loss: 0.4884\n",
            "Epoch 28/30\n",
            "\u001b[1m48/48\u001b[0m \u001b[32m━━━━━━━━━━━━━━━━━━━━\u001b[0m\u001b[37m\u001b[0m \u001b[1m9s\u001b[0m 92ms/step - categorical_accuracy: 1.0000 - loss: 3.8885e-05 - val_categorical_accuracy: 0.9568 - val_loss: 0.4883\n",
            "Epoch 29/30\n",
            "\u001b[1m48/48\u001b[0m \u001b[32m━━━━━━━━━━━━━━━━━━━━\u001b[0m\u001b[37m\u001b[0m \u001b[1m6s\u001b[0m 114ms/step - categorical_accuracy: 1.0000 - loss: 3.6240e-05 - val_categorical_accuracy: 0.9570 - val_loss: 0.4881\n",
            "Epoch 30/30\n",
            "\u001b[1m48/48\u001b[0m \u001b[32m━━━━━━━━━━━━━━━━━━━━\u001b[0m\u001b[37m\u001b[0m \u001b[1m4s\u001b[0m 80ms/step - categorical_accuracy: 1.0000 - loss: 3.4900e-05 - val_categorical_accuracy: 0.9570 - val_loss: 0.4882\n",
            "dict_keys(['categorical_accuracy', 'loss', 'val_categorical_accuracy', 'val_loss'])\n"
          ]
        }
      ]
    },
    {
      "cell_type": "code",
      "source": [
        "# Training loss 확인하기\n",
        "loss = history.history['loss']\n",
        "print(loss)"
      ],
      "metadata": {
        "colab": {
          "base_uri": "https://localhost:8080/"
        },
        "id": "0qIT3VY_8Z21",
        "outputId": "f7762feb-a13a-47f0-88a7-1ae9ca60374f"
      },
      "execution_count": 15,
      "outputs": [
        {
          "output_type": "stream",
          "name": "stdout",
          "text": [
            "[10.30197811126709, 0.8534935116767883, 0.3732985854148865, 0.17702500522136688, 0.08897829055786133, 0.04601757973432541, 0.022601386532187462, 0.011079621501266956, 0.004122121725231409, 0.0012740518432110548, 0.00036562600871548057, 0.0001481159561080858, 0.00010556245979387313, 9.168498945655301e-05, 8.256625733338296e-05, 7.515077595598996e-05, 6.945210043340921e-05, 6.459071300923824e-05, 6.038367428118363e-05, 5.6703116570133716e-05, 5.358665293897502e-05, 5.078721369500272e-05, 4.809437086805701e-05, 4.579658343573101e-05, 4.362814797786996e-05, 4.166695362073369e-05, 3.989176912000403e-05, 3.820188794634305e-05, 3.6672128771897405e-05, 3.52010247297585e-05]\n"
          ]
        }
      ]
    },
    {
      "cell_type": "code",
      "source": [
        "# Q. Validation loss를 확인해 보세요.\n",
        "val_loss = history.history['val_loss']\n",
        "print(val_loss)"
      ],
      "metadata": {
        "colab": {
          "base_uri": "https://localhost:8080/"
        },
        "id": "OU6uY0n89LKA",
        "outputId": "ef1c7c9c-9e25-459b-9fed-0864d6a55c73"
      },
      "execution_count": 16,
      "outputs": [
        {
          "output_type": "stream",
          "name": "stdout",
          "text": [
            "[1.2561886310577393, 0.7813234329223633, 0.637372612953186, 0.578824520111084, 0.5461465716362, 0.5152245163917542, 0.5057609677314758, 0.5003085732460022, 0.5013092160224915, 0.49695584177970886, 0.4919728636741638, 0.4900244474411011, 0.49002841114997864, 0.4897654354572296, 0.48965299129486084, 0.48945561051368713, 0.48919400572776794, 0.48928308486938477, 0.48906993865966797, 0.48899781703948975, 0.48879480361938477, 0.488901823759079, 0.48869580030441284, 0.48862165212631226, 0.488505482673645, 0.48842334747314453, 0.4883788228034973, 0.4882946312427521, 0.4881429374217987, 0.4881773293018341]\n"
          ]
        }
      ]
    },
    {
      "cell_type": "code",
      "source": [
        "# Test 데이터를 통해서 정확도 확인하기\n",
        "print(\"\\n Test Accuracy: %.4f\" % (model.evaluate(X_test, Y_test)[1]))"
      ],
      "metadata": {
        "colab": {
          "base_uri": "https://localhost:8080/"
        },
        "id": "WgHUucw09Mwe",
        "outputId": "e29dd3f7-6a5d-4fae-8e9d-a661d445983b"
      },
      "execution_count": 17,
      "outputs": [
        {
          "output_type": "stream",
          "name": "stderr",
          "text": [
            "/usr/local/lib/python3.11/dist-packages/keras/src/models/functional.py:237: UserWarning: The structure of `inputs` doesn't match the expected structure.\n",
            "Expected: ['keras_tensor']\n",
            "Received: inputs=Tensor(shape=(None, 784))\n",
            "  warnings.warn(msg)\n"
          ]
        },
        {
          "output_type": "stream",
          "name": "stdout",
          "text": [
            "\u001b[1m313/313\u001b[0m \u001b[32m━━━━━━━━━━━━━━━━━━━━\u001b[0m\u001b[37m\u001b[0m \u001b[1m2s\u001b[0m 4ms/step - categorical_accuracy: 0.9511 - loss: 0.5402\n",
            "\n",
            " Test Accuracy: 0.9572\n"
          ]
        }
      ]
    },
    {
      "cell_type": "code",
      "source": [
        "# 그래프로 표현\n",
        "x_len = np.arange(len(val_loss))\n",
        "plt.plot(x_len, val_loss, marker='.', c=\"red\", label='validation loss')\n",
        "plt.plot(x_len, loss, marker='.', c=\"blue\", label='training loss')\n",
        "\n",
        "# 그래프에 그리드를 주고 레이블을 표시\n",
        "plt.legend(loc='upper right')\n",
        "# plt.axis([0, 20, 0, 0.35])\n",
        "plt.grid()\n",
        "plt.xlabel('epoch')\n",
        "plt.ylabel('loss')\n",
        "plt.show()"
      ],
      "metadata": {
        "colab": {
          "base_uri": "https://localhost:8080/",
          "height": 449
        },
        "id": "E3e5FkOw9gz9",
        "outputId": "ecbe6aa1-85f6-49a5-dd38-cc2552088e09"
      },
      "execution_count": 18,
      "outputs": [
        {
          "output_type": "display_data",
          "data": {
            "text/plain": [
              "<Figure size 640x480 with 1 Axes>"
            ],
            "image/png": "[encoded data removed]"
          },
          "metadata": {}
        }
      ]
    },
    {
      "cell_type": "markdown",
      "source": [
        "# Playground (모델 다르게 만들기)\n",
        "\n",
        "- Hidden Layer 1줄 늘림 (hidden layer 2 -> 3)\n",
        "\n",
        "- 학습률 2배 낮춤 (0.001 -> 0.0005)\n",
        "\n",
        "- epoch 2배 늘림 (30 -> 60)\n",
        "\n",
        "- batch size 늘림 (1000 -> 2000)\n",
        "\n",
        "종합적으로 과도하게 학습 속도가 느려지거나, 과적합이 오지 않도록\n",
        "2배씩만 조정\n",
        "\n",
        "- Training loss와 test loss가 더 낮아질 것으로 예상\n",
        "\n",
        "- **모델의 예측 성능이 더 좋아질 것으로 예상**\n",
        "\n",
        "- **정확도가 0.9572보다 높아질 것으로 예상**"
      ],
      "metadata": {
        "id": "G4ihslZ8NnD0"
      }
    },
    {
      "cell_type": "code",
      "source": [
        "# 모델 다르게 만들기\n",
        "# Playground\n",
        "# Dense Layer 1줄 늘림 (hidden layer 2 -> 3)\n",
        "# 학습률 2배 낮춤 (0.001 -> 0.0005)\n",
        "# epoch 2배 늘림 (30 -> 60)\n",
        "# batch size 늘림 (1000 -> 2000)\n",
        "# 종합적으로 과도하게 학습 속도가 느려지거나, 과적합이 오지 않도록\n",
        "# 2배씩만 조정\n",
        "# Training loss와 test loss가 더 낮아질 것으로 예상\n",
        "# 모델의 예측 성능이 더 좋아질 것으로 예상\n",
        "\n",
        "# 모델 설계하기\n",
        "input_layer = tf.keras.layers.Input(shape=(784,)) # input layer, input의 사이즈에 맞게 shape을 지정하는 것이 중요\n",
        "x = tf.keras.layers.Dense(512, activation='relu')(input_layer) # hidden layer 1, 512개의 perceptron으로 구성된 fully connted layer, activation 함수는 relu\n",
        "x = tf.keras.layers.Dense(512, activation='relu')(x) # hidden layer 2\n",
        "x = tf.keras.layers.Dense(512, activation='relu')(x) # hidden layer 3\n",
        "\n",
        "# 분류해야 하는 class 0~9 (10개) -> 따라서 최종 layer의 perceptron은 10개\n",
        "out_layer= tf.keras.layers.Dense(10, activation='softmax')(x)\n",
        "\n",
        "model = tf.keras.Model(inputs=[input_layer], outputs=[out_layer])\n",
        "model.summary()\n",
        "\n",
        "loss=tf.keras.losses.categorical_crossentropy\n",
        "optimizer = tf.keras.optimizers.Adam(learning_rate = 0.0005)\n",
        "metric=tf.keras.metrics.categorical_accuracy\n",
        "model.compile(loss = loss,\n",
        "              optimizer = optimizer,\n",
        "              metrics = [metric])\n",
        "\n",
        "# validation_data 옵션으로 테스트 데이터만 넣어주어서 검증 데이터 분류가 가능\n",
        "history = model.fit(X_train, Y_train, validation_split=0.2, epochs=60, batch_size=2000, verbose=1)\n",
        "print(history.history.keys())"
      ],
      "metadata": {
        "colab": {
          "base_uri": "https://localhost:8080/",
          "height": 1000
        },
        "id": "aLk2M-2c9joJ",
        "outputId": "cb0da1be-bf50-42e1-a5ad-11b43f3399b3"
      },
      "execution_count": 22,
      "outputs": [
        {
          "output_type": "display_data",
          "data": {
            "text/plain": [
              "\u001b[1mModel: \"functional_2\"\u001b[0m\n"
            ],
            "text/html": [
              "<pre style=\"white-space:pre;overflow-x:auto;line-height:normal;font-family:Menlo,'DejaVu Sans Mono',consolas,'Courier New',monospace\"><span style=\"font-weight: bold\">Model: \"functional_2\"</span>\n",
              "</pre>\n"
            ]
          },
          "metadata": {}
        },
        {
          "output_type": "display_data",
          "data": {
            "text/plain": [
              "┏━━━━━━━━━━━━━━━━━━━━━━━━━━━━━━━━━━━━━━┳━━━━━━━━━━━━━━━━━━━━━━━━━━━━━┳━━━━━━━━━━━━━━━━━┓\n",
              "┃\u001b[1m \u001b[0m\u001b[1mLayer (type)                        \u001b[0m\u001b[1m \u001b[0m┃\u001b[1m \u001b[0m\u001b[1mOutput Shape               \u001b[0m\u001b[1m \u001b[0m┃\u001b[1m \u001b[0m\u001b[1m        Param #\u001b[0m\u001b[1m \u001b[0m┃\n",
              "┡━━━━━━━━━━━━━━━━━━━━━━━━━━━━━━━━━━━━━━╇━━━━━━━━━━━━━━━━━━━━━━━━━━━━━╇━━━━━━━━━━━━━━━━━┩\n",
              "│ input_layer_2 (\u001b[38;5;33mInputLayer\u001b[0m)           │ (\u001b[38;5;45mNone\u001b[0m, \u001b[38;5;34m784\u001b[0m)                 │               \u001b[38;5;34m0\u001b[0m │\n",
              "├──────────────────────────────────────┼─────────────────────────────┼─────────────────┤\n",
              "│ dense_7 (\u001b[38;5;33mDense\u001b[0m)                      │ (\u001b[38;5;45mNone\u001b[0m, \u001b[38;5;34m512\u001b[0m)                 │         \u001b[38;5;34m401,920\u001b[0m │\n",
              "├──────────────────────────────────────┼─────────────────────────────┼─────────────────┤\n",
              "│ dense_8 (\u001b[38;5;33mDense\u001b[0m)                      │ (\u001b[38;5;45mNone\u001b[0m, \u001b[38;5;34m512\u001b[0m)                 │         \u001b[38;5;34m262,656\u001b[0m │\n",
              "├──────────────────────────────────────┼─────────────────────────────┼─────────────────┤\n",
              "│ dense_9 (\u001b[38;5;33mDense\u001b[0m)                      │ (\u001b[38;5;45mNone\u001b[0m, \u001b[38;5;34m512\u001b[0m)                 │         \u001b[38;5;34m262,656\u001b[0m │\n",
              "├──────────────────────────────────────┼─────────────────────────────┼─────────────────┤\n",
              "│ dense_10 (\u001b[38;5;33mDense\u001b[0m)                     │ (\u001b[38;5;45mNone\u001b[0m, \u001b[38;5;34m10\u001b[0m)                  │           \u001b[38;5;34m5,130\u001b[0m │\n",
              "└──────────────────────────────────────┴─────────────────────────────┴─────────────────┘\n"
            ],
            "text/html": [
              "<pre style=\"white-space:pre;overflow-x:auto;line-height:normal;font-family:Menlo,'DejaVu Sans Mono',consolas,'Courier New',monospace\">┏━━━━━━━━━━━━━━━━━━━━━━━━━━━━━━━━━━━━━━┳━━━━━━━━━━━━━━━━━━━━━━━━━━━━━┳━━━━━━━━━━━━━━━━━┓\n",
              "┃<span style=\"font-weight: bold\"> Layer (type)                         </span>┃<span style=\"font-weight: bold\"> Output Shape                </span>┃<span style=\"font-weight: bold\">         Param # </span>┃\n",
              "┡━━━━━━━━━━━━━━━━━━━━━━━━━━━━━━━━━━━━━━╇━━━━━━━━━━━━━━━━━━━━━━━━━━━━━╇━━━━━━━━━━━━━━━━━┩\n",
              "│ input_layer_2 (<span style=\"color: #0087ff; text-decoration-color: #0087ff\">InputLayer</span>)           │ (<span style=\"color: #00d7ff; text-decoration-color: #00d7ff\">None</span>, <span style=\"color: #00af00; text-decoration-color: #00af00\">784</span>)                 │               <span style=\"color: #00af00; text-decoration-color: #00af00\">0</span> │\n",
              "├──────────────────────────────────────┼─────────────────────────────┼─────────────────┤\n",
              "│ dense_7 (<span style=\"color: #0087ff; text-decoration-color: #0087ff\">Dense</span>)                      │ (<span style=\"color: #00d7ff; text-decoration-color: #00d7ff\">None</span>, <span style=\"color: #00af00; text-decoration-color: #00af00\">512</span>)                 │         <span style=\"color: #00af00; text-decoration-color: #00af00\">401,920</span> │\n",
              "├──────────────────────────────────────┼─────────────────────────────┼─────────────────┤\n",
              "│ dense_8 (<span style=\"color: #0087ff; text-decoration-color: #0087ff\">Dense</span>)                      │ (<span style=\"color: #00d7ff; text-decoration-color: #00d7ff\">None</span>, <span style=\"color: #00af00; text-decoration-color: #00af00\">512</span>)                 │         <span style=\"color: #00af00; text-decoration-color: #00af00\">262,656</span> │\n",
              "├──────────────────────────────────────┼─────────────────────────────┼─────────────────┤\n",
              "│ dense_9 (<span style=\"color: #0087ff; text-decoration-color: #0087ff\">Dense</span>)                      │ (<span style=\"color: #00d7ff; text-decoration-color: #00d7ff\">None</span>, <span style=\"color: #00af00; text-decoration-color: #00af00\">512</span>)                 │         <span style=\"color: #00af00; text-decoration-color: #00af00\">262,656</span> │\n",
              "├──────────────────────────────────────┼─────────────────────────────┼─────────────────┤\n",
              "│ dense_10 (<span style=\"color: #0087ff; text-decoration-color: #0087ff\">Dense</span>)                     │ (<span style=\"color: #00d7ff; text-decoration-color: #00d7ff\">None</span>, <span style=\"color: #00af00; text-decoration-color: #00af00\">10</span>)                  │           <span style=\"color: #00af00; text-decoration-color: #00af00\">5,130</span> │\n",
              "└──────────────────────────────────────┴─────────────────────────────┴─────────────────┘\n",
              "</pre>\n"
            ]
          },
          "metadata": {}
        },
        {
          "output_type": "display_data",
          "data": {
            "text/plain": [
              "\u001b[1m Total params: \u001b[0m\u001b[38;5;34m932,362\u001b[0m (3.56 MB)\n"
            ],
            "text/html": [
              "<pre style=\"white-space:pre;overflow-x:auto;line-height:normal;font-family:Menlo,'DejaVu Sans Mono',consolas,'Courier New',monospace\"><span style=\"font-weight: bold\"> Total params: </span><span style=\"color: #00af00; text-decoration-color: #00af00\">932,362</span> (3.56 MB)\n",
              "</pre>\n"
            ]
          },
          "metadata": {}
        },
        {
          "output_type": "display_data",
          "data": {
            "text/plain": [
              "\u001b[1m Trainable params: \u001b[0m\u001b[38;5;34m932,362\u001b[0m (3.56 MB)\n"
            ],
            "text/html": [
              "<pre style=\"white-space:pre;overflow-x:auto;line-height:normal;font-family:Menlo,'DejaVu Sans Mono',consolas,'Courier New',monospace\"><span style=\"font-weight: bold\"> Trainable params: </span><span style=\"color: #00af00; text-decoration-color: #00af00\">932,362</span> (3.56 MB)\n",
              "</pre>\n"
            ]
          },
          "metadata": {}
        },
        {
          "output_type": "display_data",
          "data": {
            "text/plain": [
              "\u001b[1m Non-trainable params: \u001b[0m\u001b[38;5;34m0\u001b[0m (0.00 B)\n"
            ],
            "text/html": [
              "<pre style=\"white-space:pre;overflow-x:auto;line-height:normal;font-family:Menlo,'DejaVu Sans Mono',consolas,'Courier New',monospace\"><span style=\"font-weight: bold\"> Non-trainable params: </span><span style=\"color: #00af00; text-decoration-color: #00af00\">0</span> (0.00 B)\n",
              "</pre>\n"
            ]
          },
          "metadata": {}
        },
        {
          "output_type": "stream",
          "name": "stdout",
          "text": [
            "Epoch 1/60\n"
          ]
        },
        {
          "output_type": "stream",
          "name": "stderr",
          "text": [
            "/usr/local/lib/python3.11/dist-packages/keras/src/models/functional.py:237: UserWarning: The structure of `inputs` doesn't match the expected structure.\n",
            "Expected: ['keras_tensor_9']\n",
            "Received: inputs=Tensor(shape=(2000, 784))\n",
            "  warnings.warn(msg)\n"
          ]
        },
        {
          "output_type": "stream",
          "name": "stdout",
          "text": [
            "\u001b[1m24/24\u001b[0m \u001b[32m━━━━━━━━━━━━━━━━━━━━\u001b[0m\u001b[37m\u001b[0m \u001b[1m8s\u001b[0m 225ms/step - categorical_accuracy: 0.4724 - loss: 27.7103 - val_categorical_accuracy: 0.8645 - val_loss: 2.5413\n",
            "Epoch 2/60\n",
            "\u001b[1m24/24\u001b[0m \u001b[32m━━━━━━━━━━━━━━━━━━━━\u001b[0m\u001b[37m\u001b[0m \u001b[1m6s\u001b[0m 243ms/step - categorical_accuracy: 0.8853 - loss: 1.8355 - val_categorical_accuracy: 0.9162 - val_loss: 0.9897\n",
            "Epoch 3/60\n",
            "\u001b[1m24/24\u001b[0m \u001b[32m━━━━━━━━━━━━━━━━━━━━\u001b[0m\u001b[37m\u001b[0m \u001b[1m6s\u001b[0m 254ms/step - categorical_accuracy: 0.9239 - loss: 0.7845 - val_categorical_accuracy: 0.9250 - val_loss: 0.7171\n",
            "Epoch 4/60\n",
            "\u001b[1m24/24\u001b[0m \u001b[32m━━━━━━━━━━━━━━━━━━━━\u001b[0m\u001b[37m\u001b[0m \u001b[1m5s\u001b[0m 210ms/step - categorical_accuracy: 0.9431 - loss: 0.4537 - val_categorical_accuracy: 0.9311 - val_loss: 0.5897\n",
            "Epoch 5/60\n",
            "\u001b[1m24/24\u001b[0m \u001b[32m━━━━━━━━━━━━━━━━━━━━\u001b[0m\u001b[37m\u001b[0m \u001b[1m7s\u001b[0m 303ms/step - categorical_accuracy: 0.9603 - loss: 0.2631 - val_categorical_accuracy: 0.9336 - val_loss: 0.5310\n",
            "Epoch 6/60\n",
            "\u001b[1m24/24\u001b[0m \u001b[32m━━━━━━━━━━━━━━━━━━━━\u001b[0m\u001b[37m\u001b[0m \u001b[1m8s\u001b[0m 199ms/step - categorical_accuracy: 0.9691 - loss: 0.1901 - val_categorical_accuracy: 0.9362 - val_loss: 0.5006\n",
            "Epoch 7/60\n",
            "\u001b[1m24/24\u001b[0m \u001b[32m━━━━━━━━━━━━━━━━━━━━\u001b[0m\u001b[37m\u001b[0m \u001b[1m7s\u001b[0m 298ms/step - categorical_accuracy: 0.9795 - loss: 0.1179 - val_categorical_accuracy: 0.9385 - val_loss: 0.4755\n",
            "Epoch 8/60\n",
            "\u001b[1m24/24\u001b[0m \u001b[32m━━━━━━━━━━━━━━━━━━━━\u001b[0m\u001b[37m\u001b[0m \u001b[1m8s\u001b[0m 203ms/step - categorical_accuracy: 0.9855 - loss: 0.0815 - val_categorical_accuracy: 0.9393 - val_loss: 0.4600\n",
            "Epoch 9/60\n",
            "\u001b[1m24/24\u001b[0m \u001b[32m━━━━━━━━━━━━━━━━━━━━\u001b[0m\u001b[37m\u001b[0m \u001b[1m7s\u001b[0m 302ms/step - categorical_accuracy: 0.9914 - loss: 0.0501 - val_categorical_accuracy: 0.9416 - val_loss: 0.4519\n",
            "Epoch 10/60\n",
            "\u001b[1m24/24\u001b[0m \u001b[32m━━━━━━━━━━━━━━━━━━━━\u001b[0m\u001b[37m\u001b[0m \u001b[1m5s\u001b[0m 201ms/step - categorical_accuracy: 0.9945 - loss: 0.0338 - val_categorical_accuracy: 0.9428 - val_loss: 0.4430\n",
            "Epoch 11/60\n",
            "\u001b[1m24/24\u001b[0m \u001b[32m━━━━━━━━━━━━━━━━━━━━\u001b[0m\u001b[37m\u001b[0m \u001b[1m7s\u001b[0m 264ms/step - categorical_accuracy: 0.9974 - loss: 0.0203 - val_categorical_accuracy: 0.9434 - val_loss: 0.4403\n",
            "Epoch 12/60\n",
            "\u001b[1m24/24\u001b[0m \u001b[32m━━━━━━━━━━━━━━━━━━━━\u001b[0m\u001b[37m\u001b[0m \u001b[1m6s\u001b[0m 242ms/step - categorical_accuracy: 0.9989 - loss: 0.0111 - val_categorical_accuracy: 0.9439 - val_loss: 0.4326\n",
            "Epoch 13/60\n",
            "\u001b[1m24/24\u001b[0m \u001b[32m━━━━━━━━━━━━━━━━━━━━\u001b[0m\u001b[37m\u001b[0m \u001b[1m5s\u001b[0m 216ms/step - categorical_accuracy: 0.9991 - loss: 0.0086 - val_categorical_accuracy: 0.9438 - val_loss: 0.4354\n",
            "Epoch 14/60\n",
            "\u001b[1m24/24\u001b[0m \u001b[32m━━━━━━━━━━━━━━━━━━━━\u001b[0m\u001b[37m\u001b[0m \u001b[1m10s\u001b[0m 209ms/step - categorical_accuracy: 0.9995 - loss: 0.0056 - val_categorical_accuracy: 0.9440 - val_loss: 0.4308\n",
            "Epoch 15/60\n",
            "\u001b[1m24/24\u001b[0m \u001b[32m━━━━━━━━━━━━━━━━━━━━\u001b[0m\u001b[37m\u001b[0m \u001b[1m7s\u001b[0m 296ms/step - categorical_accuracy: 0.9996 - loss: 0.0041 - val_categorical_accuracy: 0.9447 - val_loss: 0.4304\n",
            "Epoch 16/60\n",
            "\u001b[1m24/24\u001b[0m \u001b[32m━━━━━━━━━━━━━━━━━━━━\u001b[0m\u001b[37m\u001b[0m \u001b[1m5s\u001b[0m 205ms/step - categorical_accuracy: 0.9999 - loss: 0.0027 - val_categorical_accuracy: 0.9447 - val_loss: 0.4293\n",
            "Epoch 17/60\n",
            "\u001b[1m24/24\u001b[0m \u001b[32m━━━━━━━━━━━━━━━━━━━━\u001b[0m\u001b[37m\u001b[0m \u001b[1m5s\u001b[0m 220ms/step - categorical_accuracy: 0.9999 - loss: 0.0022 - val_categorical_accuracy: 0.9455 - val_loss: 0.4287\n",
            "Epoch 18/60\n",
            "\u001b[1m24/24\u001b[0m \u001b[32m━━━━━━━━━━━━━━━━━━━━\u001b[0m\u001b[37m\u001b[0m \u001b[1m10s\u001b[0m 205ms/step - categorical_accuracy: 1.0000 - loss: 0.0017 - val_categorical_accuracy: 0.9451 - val_loss: 0.4279\n",
            "Epoch 19/60\n",
            "\u001b[1m24/24\u001b[0m \u001b[32m━━━━━━━━━━━━━━━━━━━━\u001b[0m\u001b[37m\u001b[0m \u001b[1m7s\u001b[0m 294ms/step - categorical_accuracy: 1.0000 - loss: 0.0014 - val_categorical_accuracy: 0.9454 - val_loss: 0.4270\n",
            "Epoch 20/60\n",
            "\u001b[1m24/24\u001b[0m \u001b[32m━━━━━━━━━━━━━━━━━━━━\u001b[0m\u001b[37m\u001b[0m \u001b[1m8s\u001b[0m 197ms/step - categorical_accuracy: 1.0000 - loss: 0.0013 - val_categorical_accuracy: 0.9463 - val_loss: 0.4267\n",
            "Epoch 21/60\n",
            "\u001b[1m24/24\u001b[0m \u001b[32m━━━━━━━━━━━━━━━━━━━━\u001b[0m\u001b[37m\u001b[0m \u001b[1m8s\u001b[0m 302ms/step - categorical_accuracy: 1.0000 - loss: 0.0011 - val_categorical_accuracy: 0.9472 - val_loss: 0.4256\n",
            "Epoch 22/60\n",
            "\u001b[1m24/24\u001b[0m \u001b[32m━━━━━━━━━━━━━━━━━━━━\u001b[0m\u001b[37m\u001b[0m \u001b[1m8s\u001b[0m 217ms/step - categorical_accuracy: 1.0000 - loss: 0.0010 - val_categorical_accuracy: 0.9467 - val_loss: 0.4253\n",
            "Epoch 23/60\n",
            "\u001b[1m24/24\u001b[0m \u001b[32m━━━━━━━━━━━━━━━━━━━━\u001b[0m\u001b[37m\u001b[0m \u001b[1m10s\u001b[0m 217ms/step - categorical_accuracy: 1.0000 - loss: 9.6317e-04 - val_categorical_accuracy: 0.9470 - val_loss: 0.4243\n",
            "Epoch 24/60\n",
            "\u001b[1m24/24\u001b[0m \u001b[32m━━━━━━━━━━━━━━━━━━━━\u001b[0m\u001b[37m\u001b[0m \u001b[1m10s\u001b[0m 205ms/step - categorical_accuracy: 1.0000 - loss: 8.7484e-04 - val_categorical_accuracy: 0.9475 - val_loss: 0.4242\n",
            "Epoch 25/60\n",
            "\u001b[1m24/24\u001b[0m \u001b[32m━━━━━━━━━━━━━━━━━━━━\u001b[0m\u001b[37m\u001b[0m \u001b[1m6s\u001b[0m 232ms/step - categorical_accuracy: 1.0000 - loss: 8.3131e-04 - val_categorical_accuracy: 0.9476 - val_loss: 0.4239\n",
            "Epoch 26/60\n",
            "\u001b[1m24/24\u001b[0m \u001b[32m━━━━━━━━━━━━━━━━━━━━\u001b[0m\u001b[37m\u001b[0m \u001b[1m10s\u001b[0m 207ms/step - categorical_accuracy: 1.0000 - loss: 7.6108e-04 - val_categorical_accuracy: 0.9482 - val_loss: 0.4239\n",
            "Epoch 27/60\n",
            "\u001b[1m24/24\u001b[0m \u001b[32m━━━━━━━━━━━━━━━━━━━━\u001b[0m\u001b[37m\u001b[0m \u001b[1m7s\u001b[0m 286ms/step - categorical_accuracy: 1.0000 - loss: 7.0871e-04 - val_categorical_accuracy: 0.9482 - val_loss: 0.4234\n",
            "Epoch 28/60\n",
            "\u001b[1m24/24\u001b[0m \u001b[32m━━━━━━━━━━━━━━━━━━━━\u001b[0m\u001b[37m\u001b[0m \u001b[1m8s\u001b[0m 204ms/step - categorical_accuracy: 1.0000 - loss: 6.6334e-04 - val_categorical_accuracy: 0.9477 - val_loss: 0.4225\n",
            "Epoch 29/60\n",
            "\u001b[1m24/24\u001b[0m \u001b[32m━━━━━━━━━━━━━━━━━━━━\u001b[0m\u001b[37m\u001b[0m \u001b[1m7s\u001b[0m 291ms/step - categorical_accuracy: 1.0000 - loss: 6.3328e-04 - val_categorical_accuracy: 0.9484 - val_loss: 0.4223\n",
            "Epoch 30/60\n",
            "\u001b[1m24/24\u001b[0m \u001b[32m━━━━━━━━━━━━━━━━━━━━\u001b[0m\u001b[37m\u001b[0m \u001b[1m8s\u001b[0m 216ms/step - categorical_accuracy: 1.0000 - loss: 6.0181e-04 - val_categorical_accuracy: 0.9485 - val_loss: 0.4222\n",
            "Epoch 31/60\n",
            "\u001b[1m24/24\u001b[0m \u001b[32m━━━━━━━━━━━━━━━━━━━━\u001b[0m\u001b[37m\u001b[0m \u001b[1m10s\u001b[0m 217ms/step - categorical_accuracy: 1.0000 - loss: 5.6371e-04 - val_categorical_accuracy: 0.9489 - val_loss: 0.4219\n",
            "Epoch 32/60\n",
            "\u001b[1m24/24\u001b[0m \u001b[32m━━━━━━━━━━━━━━━━━━━━\u001b[0m\u001b[37m\u001b[0m \u001b[1m7s\u001b[0m 305ms/step - categorical_accuracy: 1.0000 - loss: 5.2126e-04 - val_categorical_accuracy: 0.9488 - val_loss: 0.4218\n",
            "Epoch 33/60\n",
            "\u001b[1m24/24\u001b[0m \u001b[32m━━━━━━━━━━━━━━━━━━━━\u001b[0m\u001b[37m\u001b[0m \u001b[1m8s\u001b[0m 210ms/step - categorical_accuracy: 1.0000 - loss: 5.1207e-04 - val_categorical_accuracy: 0.9490 - val_loss: 0.4213\n",
            "Epoch 34/60\n",
            "\u001b[1m24/24\u001b[0m \u001b[32m━━━━━━━━━━━━━━━━━━━━\u001b[0m\u001b[37m\u001b[0m \u001b[1m7s\u001b[0m 277ms/step - categorical_accuracy: 1.0000 - loss: 4.8809e-04 - val_categorical_accuracy: 0.9491 - val_loss: 0.4210\n",
            "Epoch 35/60\n",
            "\u001b[1m24/24\u001b[0m \u001b[32m━━━━━━━━━━━━━━━━━━━━\u001b[0m\u001b[37m\u001b[0m \u001b[1m9s\u001b[0m 209ms/step - categorical_accuracy: 1.0000 - loss: 4.6948e-04 - val_categorical_accuracy: 0.9493 - val_loss: 0.4207\n",
            "Epoch 36/60\n",
            "\u001b[1m24/24\u001b[0m \u001b[32m━━━━━━━━━━━━━━━━━━━━\u001b[0m\u001b[37m\u001b[0m \u001b[1m7s\u001b[0m 296ms/step - categorical_accuracy: 1.0000 - loss: 4.3657e-04 - val_categorical_accuracy: 0.9492 - val_loss: 0.4205\n",
            "Epoch 37/60\n",
            "\u001b[1m24/24\u001b[0m \u001b[32m━━━━━━━━━━━━━━━━━━━━\u001b[0m\u001b[37m\u001b[0m \u001b[1m5s\u001b[0m 214ms/step - categorical_accuracy: 1.0000 - loss: 4.2148e-04 - val_categorical_accuracy: 0.9494 - val_loss: 0.4206\n",
            "Epoch 38/60\n",
            "\u001b[1m24/24\u001b[0m \u001b[32m━━━━━━━━━━━━━━━━━━━━\u001b[0m\u001b[37m\u001b[0m \u001b[1m10s\u001b[0m 200ms/step - categorical_accuracy: 1.0000 - loss: 4.0674e-04 - val_categorical_accuracy: 0.9492 - val_loss: 0.4203\n",
            "Epoch 39/60\n",
            "\u001b[1m24/24\u001b[0m \u001b[32m━━━━━━━━━━━━━━━━━━━━\u001b[0m\u001b[37m\u001b[0m \u001b[1m5s\u001b[0m 213ms/step - categorical_accuracy: 1.0000 - loss: 3.8303e-04 - val_categorical_accuracy: 0.9493 - val_loss: 0.4198\n",
            "Epoch 40/60\n",
            "\u001b[1m24/24\u001b[0m \u001b[32m━━━━━━━━━━━━━━━━━━━━\u001b[0m\u001b[37m\u001b[0m \u001b[1m7s\u001b[0m 282ms/step - categorical_accuracy: 1.0000 - loss: 3.6645e-04 - val_categorical_accuracy: 0.9494 - val_loss: 0.4199\n",
            "Epoch 41/60\n",
            "\u001b[1m24/24\u001b[0m \u001b[32m━━━━━━━━━━━━━━━━━━━━\u001b[0m\u001b[37m\u001b[0m \u001b[1m10s\u001b[0m 257ms/step - categorical_accuracy: 1.0000 - loss: 3.4774e-04 - val_categorical_accuracy: 0.9496 - val_loss: 0.4197\n",
            "Epoch 42/60\n",
            "\u001b[1m24/24\u001b[0m \u001b[32m━━━━━━━━━━━━━━━━━━━━\u001b[0m\u001b[37m\u001b[0m \u001b[1m9s\u001b[0m 209ms/step - categorical_accuracy: 1.0000 - loss: 3.4124e-04 - val_categorical_accuracy: 0.9496 - val_loss: 0.4194\n",
            "Epoch 43/60\n",
            "\u001b[1m24/24\u001b[0m \u001b[32m━━━━━━━━━━━━━━━━━━━━\u001b[0m\u001b[37m\u001b[0m \u001b[1m7s\u001b[0m 282ms/step - categorical_accuracy: 1.0000 - loss: 3.1509e-04 - val_categorical_accuracy: 0.9498 - val_loss: 0.4191\n",
            "Epoch 44/60\n",
            "\u001b[1m24/24\u001b[0m \u001b[32m━━━━━━━━━━━━━━━━━━━━\u001b[0m\u001b[37m\u001b[0m \u001b[1m8s\u001b[0m 201ms/step - categorical_accuracy: 1.0000 - loss: 3.1252e-04 - val_categorical_accuracy: 0.9498 - val_loss: 0.4189\n",
            "Epoch 45/60\n",
            "\u001b[1m24/24\u001b[0m \u001b[32m━━━━━━━━━━━━━━━━━━━━\u001b[0m\u001b[37m\u001b[0m \u001b[1m7s\u001b[0m 293ms/step - categorical_accuracy: 1.0000 - loss: 3.0159e-04 - val_categorical_accuracy: 0.9498 - val_loss: 0.4189\n",
            "Epoch 46/60\n",
            "\u001b[1m24/24\u001b[0m \u001b[32m━━━━━━━━━━━━━━━━━━━━\u001b[0m\u001b[37m\u001b[0m \u001b[1m9s\u001b[0m 223ms/step - categorical_accuracy: 1.0000 - loss: 2.7947e-04 - val_categorical_accuracy: 0.9502 - val_loss: 0.4185\n",
            "Epoch 47/60\n",
            "\u001b[1m24/24\u001b[0m \u001b[32m━━━━━━━━━━━━━━━━━━━━\u001b[0m\u001b[37m\u001b[0m \u001b[1m10s\u001b[0m 214ms/step - categorical_accuracy: 1.0000 - loss: 2.7437e-04 - val_categorical_accuracy: 0.9501 - val_loss: 0.4182\n",
            "Epoch 48/60\n",
            "\u001b[1m24/24\u001b[0m \u001b[32m━━━━━━━━━━━━━━━━━━━━\u001b[0m\u001b[37m\u001b[0m \u001b[1m10s\u001b[0m 212ms/step - categorical_accuracy: 1.0000 - loss: 2.7040e-04 - val_categorical_accuracy: 0.9501 - val_loss: 0.4184\n",
            "Epoch 49/60\n",
            "\u001b[1m24/24\u001b[0m \u001b[32m━━━━━━━━━━━━━━━━━━━━\u001b[0m\u001b[37m\u001b[0m \u001b[1m6s\u001b[0m 262ms/step - categorical_accuracy: 1.0000 - loss: 2.6151e-04 - val_categorical_accuracy: 0.9501 - val_loss: 0.4181\n",
            "Epoch 50/60\n",
            "\u001b[1m24/24\u001b[0m \u001b[32m━━━━━━━━━━━━━━━━━━━━\u001b[0m\u001b[37m\u001b[0m \u001b[1m9s\u001b[0m 213ms/step - categorical_accuracy: 1.0000 - loss: 2.5470e-04 - val_categorical_accuracy: 0.9502 - val_loss: 0.4179\n",
            "Epoch 51/60\n",
            "\u001b[1m24/24\u001b[0m \u001b[32m━━━━━━━━━━━━━━━━━━━━\u001b[0m\u001b[37m\u001b[0m \u001b[1m10s\u001b[0m 199ms/step - categorical_accuracy: 1.0000 - loss: 2.3451e-04 - val_categorical_accuracy: 0.9503 - val_loss: 0.4177\n",
            "Epoch 52/60\n",
            "\u001b[1m24/24\u001b[0m \u001b[32m━━━━━━━━━━━━━━━━━━━━\u001b[0m\u001b[37m\u001b[0m \u001b[1m6s\u001b[0m 272ms/step - categorical_accuracy: 1.0000 - loss: 2.3934e-04 - val_categorical_accuracy: 0.9503 - val_loss: 0.4177\n",
            "Epoch 53/60\n",
            "\u001b[1m24/24\u001b[0m \u001b[32m━━━━━━━━━━━━━━━━━━━━\u001b[0m\u001b[37m\u001b[0m \u001b[1m9s\u001b[0m 207ms/step - categorical_accuracy: 1.0000 - loss: 2.2277e-04 - val_categorical_accuracy: 0.9506 - val_loss: 0.4175\n",
            "Epoch 54/60\n",
            "\u001b[1m24/24\u001b[0m \u001b[32m━━━━━━━━━━━━━━━━━━━━\u001b[0m\u001b[37m\u001b[0m \u001b[1m8s\u001b[0m 322ms/step - categorical_accuracy: 1.0000 - loss: 2.2003e-04 - val_categorical_accuracy: 0.9505 - val_loss: 0.4173\n",
            "Epoch 55/60\n",
            "\u001b[1m24/24\u001b[0m \u001b[32m━━━━━━━━━━━━━━━━━━━━\u001b[0m\u001b[37m\u001b[0m \u001b[1m8s\u001b[0m 214ms/step - categorical_accuracy: 1.0000 - loss: 2.1250e-04 - val_categorical_accuracy: 0.9507 - val_loss: 0.4173\n",
            "Epoch 56/60\n",
            "\u001b[1m24/24\u001b[0m \u001b[32m━━━━━━━━━━━━━━━━━━━━\u001b[0m\u001b[37m\u001b[0m \u001b[1m10s\u001b[0m 208ms/step - categorical_accuracy: 1.0000 - loss: 2.0057e-04 - val_categorical_accuracy: 0.9506 - val_loss: 0.4170\n",
            "Epoch 57/60\n",
            "\u001b[1m24/24\u001b[0m \u001b[32m━━━━━━━━━━━━━━━━━━━━\u001b[0m\u001b[37m\u001b[0m \u001b[1m7s\u001b[0m 302ms/step - categorical_accuracy: 1.0000 - loss: 2.0169e-04 - val_categorical_accuracy: 0.9507 - val_loss: 0.4173\n",
            "Epoch 58/60\n",
            "\u001b[1m24/24\u001b[0m \u001b[32m━━━━━━━━━━━━━━━━━━━━\u001b[0m\u001b[37m\u001b[0m \u001b[1m8s\u001b[0m 218ms/step - categorical_accuracy: 1.0000 - loss: 1.9302e-04 - val_categorical_accuracy: 0.9507 - val_loss: 0.4168\n",
            "Epoch 59/60\n",
            "\u001b[1m24/24\u001b[0m \u001b[32m━━━━━━━━━━━━━━━━━━━━\u001b[0m\u001b[37m\u001b[0m \u001b[1m10s\u001b[0m 217ms/step - categorical_accuracy: 1.0000 - loss: 1.8920e-04 - val_categorical_accuracy: 0.9507 - val_loss: 0.4167\n",
            "Epoch 60/60\n",
            "\u001b[1m24/24\u001b[0m \u001b[32m━━━━━━━━━━━━━━━━━━━━\u001b[0m\u001b[37m\u001b[0m \u001b[1m7s\u001b[0m 286ms/step - categorical_accuracy: 1.0000 - loss: 1.7955e-04 - val_categorical_accuracy: 0.9507 - val_loss: 0.4165\n",
            "dict_keys(['categorical_accuracy', 'loss', 'val_categorical_accuracy', 'val_loss'])\n"
          ]
        }
      ]
    },
    {
      "cell_type": "code",
      "source": [
        "# Training loss 확인하기\n",
        "loss = history.history['loss']\n",
        "print(loss)"
      ],
      "metadata": {
        "colab": {
          "base_uri": "https://localhost:8080/"
        },
        "id": "cLuuAoxq_DMH",
        "outputId": "0553daed-92e4-4bde-adfb-3fc16feac57d"
      },
      "execution_count": 23,
      "outputs": [
        {
          "output_type": "stream",
          "name": "stdout",
          "text": [
            "[13.838193893432617, 1.4522082805633545, 0.7005012035369873, 0.4266080856323242, 0.2770034670829773, 0.1808849275112152, 0.1172531247138977, 0.0783449187874794, 0.048779796808958054, 0.03147333115339279, 0.01952769048511982, 0.012606481090188026, 0.008654989302158356, 0.005666628945618868, 0.003942611627280712, 0.0027985956985503435, 0.0021084300242364407, 0.0016890077386051416, 0.0014590206556022167, 0.001292408094741404, 0.0011586594628170133, 0.0010491817956790328, 0.0009634098969399929, 0.0008922768174670637, 0.0008224074845202267, 0.0007679716218262911, 0.0007178533123806119, 0.000673579634167254, 0.0006339504616335034, 0.0005957380635663867, 0.0005652786348946393, 0.0005350595456548035, 0.0005073794745840132, 0.00048262346535921097, 0.00045932058128528297, 0.00043901140452362597, 0.00041842376231215894, 0.00040070145041681826, 0.0003821186546701938, 0.00036657610326074064, 0.0003520225000102073, 0.0003387554024811834, 0.00032481522066518664, 0.0003121982445009053, 0.0003009782813023776, 0.0002893515338655561, 0.0002792638842947781, 0.00026965001598000526, 0.0002604726469144225, 0.0002515253145247698, 0.00024285606923513114, 0.00023519422393292189, 0.00022735417587682605, 0.0002203823532909155, 0.00021329025912564248, 0.0002069063193630427, 0.0002010274474741891, 0.0001949616416823119, 0.00018899262067861855, 0.0001831950357882306]\n"
          ]
        }
      ]
    },
    {
      "cell_type": "code",
      "source": [
        "# Q. Validation loss를 확인해 보세요.\n",
        "val_loss = history.history['val_loss']\n",
        "print(val_loss)"
      ],
      "metadata": {
        "colab": {
          "base_uri": "https://localhost:8080/"
        },
        "id": "NXcoTEZu_HyV",
        "outputId": "abfe6eb0-22a1-4d70-99d1-e00853ac4e20"
      },
      "execution_count": 24,
      "outputs": [
        {
          "output_type": "stream",
          "name": "stdout",
          "text": [
            "[2.5413241386413574, 0.9896740913391113, 0.7170897722244263, 0.5897465348243713, 0.5310152173042297, 0.5005919337272644, 0.4755445420742035, 0.45998212695121765, 0.4519304633140564, 0.4430055618286133, 0.4402525722980499, 0.43257975578308105, 0.4354493319988251, 0.43077802658081055, 0.4304143786430359, 0.4292730391025543, 0.4286928176879883, 0.42790064215660095, 0.42704927921295166, 0.42669743299484253, 0.4256294071674347, 0.42528286576271057, 0.42430993914604187, 0.42420583963394165, 0.42385008931159973, 0.4238539934158325, 0.42337730526924133, 0.42253682017326355, 0.4223015606403351, 0.42219752073287964, 0.42192503809928894, 0.4217618405818939, 0.42127281427383423, 0.42096129059791565, 0.420697957277298, 0.42047420144081116, 0.42059561610221863, 0.4203004539012909, 0.4197674095630646, 0.4198700487613678, 0.4196605086326599, 0.41944432258605957, 0.4191494882106781, 0.4188774824142456, 0.418913334608078, 0.4185176491737366, 0.4182264804840088, 0.41844165325164795, 0.4181203246116638, 0.4179019033908844, 0.41771191358566284, 0.4176839292049408, 0.4174695611000061, 0.4172963798046112, 0.41731637716293335, 0.4169853627681732, 0.4173106551170349, 0.4167793393135071, 0.4167340099811554, 0.4165225923061371]\n"
          ]
        }
      ]
    },
    {
      "cell_type": "code",
      "source": [
        "# Test 데이터를 통해서 정확도 확인하기\n",
        "print(\"\\n Test Accuracy: %.4f\" % (model.evaluate(X_test, Y_test)[1]))"
      ],
      "metadata": {
        "colab": {
          "base_uri": "https://localhost:8080/"
        },
        "id": "F4ywqOIc_KlG",
        "outputId": "25bf8879-3ef6-474b-bd4a-795e42b79f8c"
      },
      "execution_count": 25,
      "outputs": [
        {
          "output_type": "stream",
          "name": "stderr",
          "text": [
            "/usr/local/lib/python3.11/dist-packages/keras/src/models/functional.py:237: UserWarning: The structure of `inputs` doesn't match the expected structure.\n",
            "Expected: ['keras_tensor_9']\n",
            "Received: inputs=Tensor(shape=(None, 784))\n",
            "  warnings.warn(msg)\n"
          ]
        },
        {
          "output_type": "stream",
          "name": "stdout",
          "text": [
            "\u001b[1m313/313\u001b[0m \u001b[32m━━━━━━━━━━━━━━━━━━━━\u001b[0m\u001b[37m\u001b[0m \u001b[1m2s\u001b[0m 5ms/step - categorical_accuracy: 0.9383 - loss: 0.5239\n",
            "\n",
            " Test Accuracy: 0.9494\n"
          ]
        }
      ]
    },
    {
      "cell_type": "code",
      "source": [
        "# 그래프로 표현\n",
        "x_len = np.arange(len(val_loss))\n",
        "plt.plot(x_len, val_loss, marker='.', c=\"red\", label='validation loss')\n",
        "plt.plot(x_len, loss, marker='.', c=\"blue\", label='training loss')\n",
        "\n",
        "# 그래프에 그리드를 주고 레이블을 표시\n",
        "plt.legend(loc='upper right')\n",
        "plt.grid()\n",
        "plt.xlabel('epoch')\n",
        "plt.ylabel('loss')\n",
        "plt.show()"
      ],
      "metadata": {
        "colab": {
          "base_uri": "https://localhost:8080/",
          "height": 449
        },
        "id": "627YhS78_N8E",
        "outputId": "b2584d9d-b2a9-4d57-f2e7-77f8a851f1d8"
      },
      "execution_count": 26,
      "outputs": [
        {
          "output_type": "display_data",
          "data": {
            "text/plain": [
              "<Figure size 640x480 with 1 Axes>"
            ],
            "image/png": "[encoded data removed]"
          },
          "metadata": {}
        }
      ]
    },
    {
      "cell_type": "markdown",
      "source": [
        "# 원인 찾기\n",
        "\n",
        "1. Hidden Layer Layer 증가\n",
        "2. 학습률 증가\n",
        "3. epoch 증가\n",
        "4. batch size 증가\n",
        "\n",
        "앞서 4가지 요인을 동시에 적용시켰더니\n",
        "\n",
        " Test Accuracy가 0.9572에 0.9494로 예상과 다르게 감소했다.\n",
        "\n",
        " 4가지 요인 중 어느 요인들이 정확도 감소의 원인이었을지,\n",
        "\n",
        " 혹 각각의 요인들 간에 영향을 끼쳤을지 살펴보기 위해\n",
        "\n",
        " 각 4가지 요인을 하나씩만 적용한 후, 정확도의 증감여부를 확인하려고 한다.\n"
      ],
      "metadata": {
        "id": "zNJyKoqmQ6lh"
      }
    },
    {
      "cell_type": "markdown",
      "source": [
        "---\n",
        "1. Hidden Layer Layer만 1줄 늘렸을 때\n",
        "=> 정확도는 0.9602로 증가했다.\n",
        "\n",
        "(아래 결과)"
      ],
      "metadata": {
        "id": "EZTxm59CTA54"
      }
    },
    {
      "cell_type": "code",
      "source": [
        "# 모델 다르게 만들기\n",
        "# Playground\n",
        "# Dense Layer 1줄 늘림 (hidden layer 2 -> 3)\n",
        "# 학습률 원상복귀 (0.001)\n",
        "# epoch 원상복귀 (30)\n",
        "# batch size 원상복귀 (1000)\n",
        "\n",
        "# 모델 설계하기\n",
        "input_layer = tf.keras.layers.Input(shape=(784,)) # input layer, input의 사이즈에 맞게 shape을 지정하는 것이 중요\n",
        "x = tf.keras.layers.Dense(512, activation='relu')(input_layer) # hidden layer 1, 512개의 perceptron으로 구성된 fully connted layer, activation 함수는 relu\n",
        "x = tf.keras.layers.Dense(512, activation='relu')(x) # hidden layer 2\n",
        "x = tf.keras.layers.Dense(512, activation='relu')(x) # hidden layer 3\n",
        "\n",
        "# 분류해야 하는 class 0~9 (10개) -> 따라서 최종 layer의 perceptron은 10개\n",
        "out_layer= tf.keras.layers.Dense(10, activation='softmax')(x)\n",
        "\n",
        "model = tf.keras.Model(inputs=[input_layer], outputs=[out_layer])\n",
        "model.summary()\n",
        "\n",
        "loss=tf.keras.losses.categorical_crossentropy\n",
        "optimizer = tf.keras.optimizers.Adam(learning_rate = 0.001)\n",
        "metric=tf.keras.metrics.categorical_accuracy\n",
        "model.compile(loss = loss,\n",
        "              optimizer = optimizer,\n",
        "              metrics = [metric])\n",
        "\n",
        "# validation_data 옵션으로 테스트 데이터만 넣어주어서 검증 데이터 분류가 가능\n",
        "history = model.fit(X_train, Y_train, validation_split=0.2, epochs=30, batch_size=1000, verbose=1)\n",
        "print(history.history.keys())"
      ],
      "metadata": {
        "colab": {
          "base_uri": "https://localhost:8080/",
          "height": 1000
        },
        "id": "h0_gJ4_lQUxw",
        "outputId": "cae940a0-02d7-4a94-bbc2-53cf59c152e5"
      },
      "execution_count": 28,
      "outputs": [
        {
          "output_type": "display_data",
          "data": {
            "text/plain": [
              "\u001b[1mModel: \"functional_4\"\u001b[0m\n"
            ],
            "text/html": [
              "<pre style=\"white-space:pre;overflow-x:auto;line-height:normal;font-family:Menlo,'DejaVu Sans Mono',consolas,'Courier New',monospace\"><span style=\"font-weight: bold\">Model: \"functional_4\"</span>\n",
              "</pre>\n"
            ]
          },
          "metadata": {}
        },
        {
          "output_type": "display_data",
          "data": {
            "text/plain": [
              "┏━━━━━━━━━━━━━━━━━━━━━━━━━━━━━━━━━━━━━━┳━━━━━━━━━━━━━━━━━━━━━━━━━━━━━┳━━━━━━━━━━━━━━━━━┓\n",
              "┃\u001b[1m \u001b[0m\u001b[1mLayer (type)                        \u001b[0m\u001b[1m \u001b[0m┃\u001b[1m \u001b[0m\u001b[1mOutput Shape               \u001b[0m\u001b[1m \u001b[0m┃\u001b[1m \u001b[0m\u001b[1m        Param #\u001b[0m\u001b[1m \u001b[0m┃\n",
              "┡━━━━━━━━━━━━━━━━━━━━━━━━━━━━━━━━━━━━━━╇━━━━━━━━━━━━━━━━━━━━━━━━━━━━━╇━━━━━━━━━━━━━━━━━┩\n",
              "│ input_layer_4 (\u001b[38;5;33mInputLayer\u001b[0m)           │ (\u001b[38;5;45mNone\u001b[0m, \u001b[38;5;34m784\u001b[0m)                 │               \u001b[38;5;34m0\u001b[0m │\n",
              "├──────────────────────────────────────┼─────────────────────────────┼─────────────────┤\n",
              "│ dense_15 (\u001b[38;5;33mDense\u001b[0m)                     │ (\u001b[38;5;45mNone\u001b[0m, \u001b[38;5;34m512\u001b[0m)                 │         \u001b[38;5;34m401,920\u001b[0m │\n",
              "├──────────────────────────────────────┼─────────────────────────────┼─────────────────┤\n",
              "│ dense_16 (\u001b[38;5;33mDense\u001b[0m)                     │ (\u001b[38;5;45mNone\u001b[0m, \u001b[38;5;34m512\u001b[0m)                 │         \u001b[38;5;34m262,656\u001b[0m │\n",
              "├──────────────────────────────────────┼─────────────────────────────┼─────────────────┤\n",
              "│ dense_17 (\u001b[38;5;33mDense\u001b[0m)                     │ (\u001b[38;5;45mNone\u001b[0m, \u001b[38;5;34m512\u001b[0m)                 │         \u001b[38;5;34m262,656\u001b[0m │\n",
              "├──────────────────────────────────────┼─────────────────────────────┼─────────────────┤\n",
              "│ dense_18 (\u001b[38;5;33mDense\u001b[0m)                     │ (\u001b[38;5;45mNone\u001b[0m, \u001b[38;5;34m10\u001b[0m)                  │           \u001b[38;5;34m5,130\u001b[0m │\n",
              "└──────────────────────────────────────┴─────────────────────────────┴─────────────────┘\n"
            ],
            "text/html": [
              "<pre style=\"white-space:pre;overflow-x:auto;line-height:normal;font-family:Menlo,'DejaVu Sans Mono',consolas,'Courier New',monospace\">┏━━━━━━━━━━━━━━━━━━━━━━━━━━━━━━━━━━━━━━┳━━━━━━━━━━━━━━━━━━━━━━━━━━━━━┳━━━━━━━━━━━━━━━━━┓\n",
              "┃<span style=\"font-weight: bold\"> Layer (type)                         </span>┃<span style=\"font-weight: bold\"> Output Shape                </span>┃<span style=\"font-weight: bold\">         Param # </span>┃\n",
              "┡━━━━━━━━━━━━━━━━━━━━━━━━━━━━━━━━━━━━━━╇━━━━━━━━━━━━━━━━━━━━━━━━━━━━━╇━━━━━━━━━━━━━━━━━┩\n",
              "│ input_layer_4 (<span style=\"color: #0087ff; text-decoration-color: #0087ff\">InputLayer</span>)           │ (<span style=\"color: #00d7ff; text-decoration-color: #00d7ff\">None</span>, <span style=\"color: #00af00; text-decoration-color: #00af00\">784</span>)                 │               <span style=\"color: #00af00; text-decoration-color: #00af00\">0</span> │\n",
              "├──────────────────────────────────────┼─────────────────────────────┼─────────────────┤\n",
              "│ dense_15 (<span style=\"color: #0087ff; text-decoration-color: #0087ff\">Dense</span>)                     │ (<span style=\"color: #00d7ff; text-decoration-color: #00d7ff\">None</span>, <span style=\"color: #00af00; text-decoration-color: #00af00\">512</span>)                 │         <span style=\"color: #00af00; text-decoration-color: #00af00\">401,920</span> │\n",
              "├──────────────────────────────────────┼─────────────────────────────┼─────────────────┤\n",
              "│ dense_16 (<span style=\"color: #0087ff; text-decoration-color: #0087ff\">Dense</span>)                     │ (<span style=\"color: #00d7ff; text-decoration-color: #00d7ff\">None</span>, <span style=\"color: #00af00; text-decoration-color: #00af00\">512</span>)                 │         <span style=\"color: #00af00; text-decoration-color: #00af00\">262,656</span> │\n",
              "├──────────────────────────────────────┼─────────────────────────────┼─────────────────┤\n",
              "│ dense_17 (<span style=\"color: #0087ff; text-decoration-color: #0087ff\">Dense</span>)                     │ (<span style=\"color: #00d7ff; text-decoration-color: #00d7ff\">None</span>, <span style=\"color: #00af00; text-decoration-color: #00af00\">512</span>)                 │         <span style=\"color: #00af00; text-decoration-color: #00af00\">262,656</span> │\n",
              "├──────────────────────────────────────┼─────────────────────────────┼─────────────────┤\n",
              "│ dense_18 (<span style=\"color: #0087ff; text-decoration-color: #0087ff\">Dense</span>)                     │ (<span style=\"color: #00d7ff; text-decoration-color: #00d7ff\">None</span>, <span style=\"color: #00af00; text-decoration-color: #00af00\">10</span>)                  │           <span style=\"color: #00af00; text-decoration-color: #00af00\">5,130</span> │\n",
              "└──────────────────────────────────────┴─────────────────────────────┴─────────────────┘\n",
              "</pre>\n"
            ]
          },
          "metadata": {}
        },
        {
          "output_type": "display_data",
          "data": {
            "text/plain": [
              "\u001b[1m Total params: \u001b[0m\u001b[38;5;34m932,362\u001b[0m (3.56 MB)\n"
            ],
            "text/html": [
              "<pre style=\"white-space:pre;overflow-x:auto;line-height:normal;font-family:Menlo,'DejaVu Sans Mono',consolas,'Courier New',monospace\"><span style=\"font-weight: bold\"> Total params: </span><span style=\"color: #00af00; text-decoration-color: #00af00\">932,362</span> (3.56 MB)\n",
              "</pre>\n"
            ]
          },
          "metadata": {}
        },
        {
          "output_type": "display_data",
          "data": {
            "text/plain": [
              "\u001b[1m Trainable params: \u001b[0m\u001b[38;5;34m932,362\u001b[0m (3.56 MB)\n"
            ],
            "text/html": [
              "<pre style=\"white-space:pre;overflow-x:auto;line-height:normal;font-family:Menlo,'DejaVu Sans Mono',consolas,'Courier New',monospace\"><span style=\"font-weight: bold\"> Trainable params: </span><span style=\"color: #00af00; text-decoration-color: #00af00\">932,362</span> (3.56 MB)\n",
              "</pre>\n"
            ]
          },
          "metadata": {}
        },
        {
          "output_type": "display_data",
          "data": {
            "text/plain": [
              "\u001b[1m Non-trainable params: \u001b[0m\u001b[38;5;34m0\u001b[0m (0.00 B)\n"
            ],
            "text/html": [
              "<pre style=\"white-space:pre;overflow-x:auto;line-height:normal;font-family:Menlo,'DejaVu Sans Mono',consolas,'Courier New',monospace\"><span style=\"font-weight: bold\"> Non-trainable params: </span><span style=\"color: #00af00; text-decoration-color: #00af00\">0</span> (0.00 B)\n",
              "</pre>\n"
            ]
          },
          "metadata": {}
        },
        {
          "output_type": "stream",
          "name": "stdout",
          "text": [
            "Epoch 1/30\n"
          ]
        },
        {
          "output_type": "stream",
          "name": "stderr",
          "text": [
            "/usr/local/lib/python3.11/dist-packages/keras/src/models/functional.py:237: UserWarning: The structure of `inputs` doesn't match the expected structure.\n",
            "Expected: ['keras_tensor_19']\n",
            "Received: inputs=Tensor(shape=(1000, 784))\n",
            "  warnings.warn(msg)\n"
          ]
        },
        {
          "output_type": "stream",
          "name": "stdout",
          "text": [
            "\u001b[1m48/48\u001b[0m \u001b[32m━━━━━━━━━━━━━━━━━━━━\u001b[0m\u001b[37m\u001b[0m \u001b[1m8s\u001b[0m 117ms/step - categorical_accuracy: 0.5905 - loss: 24.3800 - val_categorical_accuracy: 0.9134 - val_loss: 0.6148\n",
            "Epoch 2/30\n",
            "\u001b[1m48/48\u001b[0m \u001b[32m━━━━━━━━━━━━━━━━━━━━\u001b[0m\u001b[37m\u001b[0m \u001b[1m7s\u001b[0m 146ms/step - categorical_accuracy: 0.9246 - loss: 0.4399 - val_categorical_accuracy: 0.9295 - val_loss: 0.3832\n",
            "Epoch 3/30\n",
            "\u001b[1m48/48\u001b[0m \u001b[32m━━━━━━━━━━━━━━━━━━━━\u001b[0m\u001b[37m\u001b[0m \u001b[1m9s\u001b[0m 117ms/step - categorical_accuracy: 0.9545 - loss: 0.2038 - val_categorical_accuracy: 0.9383 - val_loss: 0.3116\n",
            "Epoch 4/30\n",
            "\u001b[1m48/48\u001b[0m \u001b[32m━━━━━━━━━━━━━━━━━━━━\u001b[0m\u001b[37m\u001b[0m \u001b[1m10s\u001b[0m 117ms/step - categorical_accuracy: 0.9740 - loss: 0.1004 - val_categorical_accuracy: 0.9421 - val_loss: 0.2842\n",
            "Epoch 5/30\n",
            "\u001b[1m48/48\u001b[0m \u001b[32m━━━━━━━━━━━━━━━━━━━━\u001b[0m\u001b[37m\u001b[0m \u001b[1m8s\u001b[0m 164ms/step - categorical_accuracy: 0.9862 - loss: 0.0513 - val_categorical_accuracy: 0.9471 - val_loss: 0.2623\n",
            "Epoch 6/30\n",
            "\u001b[1m48/48\u001b[0m \u001b[32m━━━━━━━━━━━━━━━━━━━━\u001b[0m\u001b[37m\u001b[0m \u001b[1m5s\u001b[0m 114ms/step - categorical_accuracy: 0.9940 - loss: 0.0282 - val_categorical_accuracy: 0.9479 - val_loss: 0.2571\n",
            "Epoch 7/30\n",
            "\u001b[1m48/48\u001b[0m \u001b[32m━━━━━━━━━━━━━━━━━━━━\u001b[0m\u001b[37m\u001b[0m \u001b[1m11s\u001b[0m 136ms/step - categorical_accuracy: 0.9980 - loss: 0.0126 - val_categorical_accuracy: 0.9501 - val_loss: 0.2554\n",
            "Epoch 8/30\n",
            "\u001b[1m48/48\u001b[0m \u001b[32m━━━━━━━━━━━━━━━━━━━━\u001b[0m\u001b[37m\u001b[0m \u001b[1m6s\u001b[0m 116ms/step - categorical_accuracy: 0.9994 - loss: 0.0064 - val_categorical_accuracy: 0.9515 - val_loss: 0.2550\n",
            "Epoch 9/30\n",
            "\u001b[1m48/48\u001b[0m \u001b[32m━━━━━━━━━━━━━━━━━━━━\u001b[0m\u001b[37m\u001b[0m \u001b[1m7s\u001b[0m 152ms/step - categorical_accuracy: 0.9998 - loss: 0.0041 - val_categorical_accuracy: 0.9514 - val_loss: 0.2526\n",
            "Epoch 10/30\n",
            "\u001b[1m48/48\u001b[0m \u001b[32m━━━━━━━━━━━━━━━━━━━━\u001b[0m\u001b[37m\u001b[0m \u001b[1m6s\u001b[0m 116ms/step - categorical_accuracy: 1.0000 - loss: 0.0026 - val_categorical_accuracy: 0.9529 - val_loss: 0.2544\n",
            "Epoch 11/30\n",
            "\u001b[1m48/48\u001b[0m \u001b[32m━━━━━━━━━━━━━━━━━━━━\u001b[0m\u001b[37m\u001b[0m \u001b[1m10s\u001b[0m 115ms/step - categorical_accuracy: 1.0000 - loss: 0.0021 - val_categorical_accuracy: 0.9531 - val_loss: 0.2539\n",
            "Epoch 12/30\n",
            "\u001b[1m48/48\u001b[0m \u001b[32m━━━━━━━━━━━━━━━━━━━━\u001b[0m\u001b[37m\u001b[0m \u001b[1m6s\u001b[0m 129ms/step - categorical_accuracy: 1.0000 - loss: 0.0016 - val_categorical_accuracy: 0.9539 - val_loss: 0.2542\n",
            "Epoch 13/30\n",
            "\u001b[1m48/48\u001b[0m \u001b[32m━━━━━━━━━━━━━━━━━━━━\u001b[0m\u001b[37m\u001b[0m \u001b[1m6s\u001b[0m 124ms/step - categorical_accuracy: 1.0000 - loss: 0.0014 - val_categorical_accuracy: 0.9538 - val_loss: 0.2552\n",
            "Epoch 14/30\n",
            "\u001b[1m48/48\u001b[0m \u001b[32m━━━━━━━━━━━━━━━━━━━━\u001b[0m\u001b[37m\u001b[0m \u001b[1m6s\u001b[0m 134ms/step - categorical_accuracy: 1.0000 - loss: 0.0011 - val_categorical_accuracy: 0.9542 - val_loss: 0.2555\n",
            "Epoch 15/30\n",
            "\u001b[1m48/48\u001b[0m \u001b[32m━━━━━━━━━━━━━━━━━━━━\u001b[0m\u001b[37m\u001b[0m \u001b[1m9s\u001b[0m 110ms/step - categorical_accuracy: 1.0000 - loss: 0.0010 - val_categorical_accuracy: 0.9548 - val_loss: 0.2563\n",
            "Epoch 16/30\n",
            "\u001b[1m48/48\u001b[0m \u001b[32m━━━━━━━━━━━━━━━━━━━━\u001b[0m\u001b[37m\u001b[0m \u001b[1m10s\u001b[0m 115ms/step - categorical_accuracy: 1.0000 - loss: 8.9037e-04 - val_categorical_accuracy: 0.9555 - val_loss: 0.2565\n",
            "Epoch 17/30\n",
            "\u001b[1m48/48\u001b[0m \u001b[32m━━━━━━━━━━━━━━━━━━━━\u001b[0m\u001b[37m\u001b[0m \u001b[1m7s\u001b[0m 143ms/step - categorical_accuracy: 1.0000 - loss: 7.7300e-04 - val_categorical_accuracy: 0.9551 - val_loss: 0.2574\n",
            "Epoch 18/30\n",
            "\u001b[1m48/48\u001b[0m \u001b[32m━━━━━━━━━━━━━━━━━━━━\u001b[0m\u001b[37m\u001b[0m \u001b[1m9s\u001b[0m 113ms/step - categorical_accuracy: 1.0000 - loss: 7.0343e-04 - val_categorical_accuracy: 0.9557 - val_loss: 0.2576\n",
            "Epoch 19/30\n",
            "\u001b[1m48/48\u001b[0m \u001b[32m━━━━━━━━━━━━━━━━━━━━\u001b[0m\u001b[37m\u001b[0m \u001b[1m10s\u001b[0m 115ms/step - categorical_accuracy: 1.0000 - loss: 6.3535e-04 - val_categorical_accuracy: 0.9561 - val_loss: 0.2582\n",
            "Epoch 20/30\n",
            "\u001b[1m48/48\u001b[0m \u001b[32m━━━━━━━━━━━━━━━━━━━━\u001b[0m\u001b[37m\u001b[0m \u001b[1m7s\u001b[0m 154ms/step - categorical_accuracy: 1.0000 - loss: 6.1278e-04 - val_categorical_accuracy: 0.9556 - val_loss: 0.2587\n",
            "Epoch 21/30\n",
            "\u001b[1m48/48\u001b[0m \u001b[32m━━━━━━━━━━━━━━━━━━━━\u001b[0m\u001b[37m\u001b[0m \u001b[1m9s\u001b[0m 120ms/step - categorical_accuracy: 1.0000 - loss: 5.3919e-04 - val_categorical_accuracy: 0.9564 - val_loss: 0.2587\n",
            "Epoch 22/30\n",
            "\u001b[1m48/48\u001b[0m \u001b[32m━━━━━━━━━━━━━━━━━━━━\u001b[0m\u001b[37m\u001b[0m \u001b[1m10s\u001b[0m 116ms/step - categorical_accuracy: 1.0000 - loss: 4.7797e-04 - val_categorical_accuracy: 0.9564 - val_loss: 0.2593\n",
            "Epoch 23/30\n",
            "\u001b[1m48/48\u001b[0m \u001b[32m━━━━━━━━━━━━━━━━━━━━\u001b[0m\u001b[37m\u001b[0m \u001b[1m10s\u001b[0m 118ms/step - categorical_accuracy: 1.0000 - loss: 4.4322e-04 - val_categorical_accuracy: 0.9569 - val_loss: 0.2596\n",
            "Epoch 24/30\n",
            "\u001b[1m48/48\u001b[0m \u001b[32m━━━━━━━━━━━━━━━━━━━━\u001b[0m\u001b[37m\u001b[0m \u001b[1m7s\u001b[0m 146ms/step - categorical_accuracy: 1.0000 - loss: 4.1772e-04 - val_categorical_accuracy: 0.9572 - val_loss: 0.2599\n",
            "Epoch 25/30\n",
            "\u001b[1m48/48\u001b[0m \u001b[32m━━━━━━━━━━━━━━━━━━━━\u001b[0m\u001b[37m\u001b[0m \u001b[1m9s\u001b[0m 111ms/step - categorical_accuracy: 1.0000 - loss: 3.8850e-04 - val_categorical_accuracy: 0.9573 - val_loss: 0.2601\n",
            "Epoch 26/30\n",
            "\u001b[1m48/48\u001b[0m \u001b[32m━━━━━━━━━━━━━━━━━━━━\u001b[0m\u001b[37m\u001b[0m \u001b[1m7s\u001b[0m 155ms/step - categorical_accuracy: 1.0000 - loss: 3.5303e-04 - val_categorical_accuracy: 0.9575 - val_loss: 0.2605\n",
            "Epoch 27/30\n",
            "\u001b[1m48/48\u001b[0m \u001b[32m━━━━━━━━━━━━━━━━━━━━\u001b[0m\u001b[37m\u001b[0m \u001b[1m8s\u001b[0m 110ms/step - categorical_accuracy: 1.0000 - loss: 3.3978e-04 - val_categorical_accuracy: 0.9576 - val_loss: 0.2613\n",
            "Epoch 28/30\n",
            "\u001b[1m48/48\u001b[0m \u001b[32m━━━━━━━━━━━━━━━━━━━━\u001b[0m\u001b[37m\u001b[0m \u001b[1m11s\u001b[0m 119ms/step - categorical_accuracy: 1.0000 - loss: 3.0517e-04 - val_categorical_accuracy: 0.9576 - val_loss: 0.2612\n",
            "Epoch 29/30\n",
            "\u001b[1m48/48\u001b[0m \u001b[32m━━━━━━━━━━━━━━━━━━━━\u001b[0m\u001b[37m\u001b[0m \u001b[1m10s\u001b[0m 109ms/step - categorical_accuracy: 1.0000 - loss: 2.8641e-04 - val_categorical_accuracy: 0.9579 - val_loss: 0.2617\n",
            "Epoch 30/30\n",
            "\u001b[1m48/48\u001b[0m \u001b[32m━━━━━━━━━━━━━━━━━━━━\u001b[0m\u001b[37m\u001b[0m \u001b[1m7s\u001b[0m 148ms/step - categorical_accuracy: 1.0000 - loss: 2.6480e-04 - val_categorical_accuracy: 0.9578 - val_loss: 0.2618\n",
            "dict_keys(['categorical_accuracy', 'loss', 'val_categorical_accuracy', 'val_loss'])\n"
          ]
        }
      ]
    },
    {
      "cell_type": "code",
      "source": [
        "# Training loss 확인하기\n",
        "loss = history.history['loss']\n",
        "print(loss)\n",
        "\n",
        "# Q. Validation loss를 확인해 보세요.\n",
        "val_loss = history.history['val_loss']\n",
        "print(val_loss)\n",
        "\n",
        "# Test 데이터를 통해서 정확도 확인하기\n",
        "print(\"\\n Test Accuracy: %.4f\" % (model.evaluate(X_test, Y_test)[1]))\n",
        "\n",
        "# 그래프로 표현\n",
        "x_len = np.arange(len(val_loss))\n",
        "plt.plot(x_len, val_loss, marker='.', c=\"red\", label='validation loss')\n",
        "plt.plot(x_len, loss, marker='.', c=\"blue\", label='training loss')\n",
        "\n",
        "# 그래프에 그리드를 주고 레이블을 표시\n",
        "plt.legend(loc='upper right')\n",
        "plt.grid()\n",
        "plt.xlabel('epoch')\n",
        "plt.ylabel('loss')\n",
        "plt.show()"
      ],
      "metadata": {
        "colab": {
          "base_uri": "https://localhost:8080/",
          "height": 625
        },
        "id": "0k8n5n2sQsNl",
        "outputId": "0e29279d-8241-486c-b0d5-8a76300c191b"
      },
      "execution_count": 29,
      "outputs": [
        {
          "output_type": "stream",
          "name": "stdout",
          "text": [
            "[9.296088218688965, 0.3978225886821747, 0.1913551390171051, 0.10104849934577942, 0.05223824456334114, 0.0269621629267931, 0.013105511665344238, 0.007065697573125362, 0.004235875327140093, 0.0026983788702636957, 0.0020031153690069914, 0.0015977326547726989, 0.0013483802322298288, 0.0011609240900725126, 0.0010164284612983465, 0.0008941387059167027, 0.0007979354122653604, 0.0007188022136688232, 0.0006479700678028166, 0.0005916635855101049, 0.0005388696445152164, 0.0004934651660732925, 0.0004533969913609326, 0.0004195499059278518, 0.00038932188181206584, 0.00036061584251001477, 0.0003357541572768241, 0.00031321216374635696, 0.0002931753406301141, 0.0002741458883974701]\n",
            "[0.6148488521575928, 0.38321980834007263, 0.3115728199481964, 0.2842089533805847, 0.26231446862220764, 0.2570992708206177, 0.25543537735939026, 0.25498825311660767, 0.2526194453239441, 0.2543916404247284, 0.25385531783103943, 0.25415658950805664, 0.2552309036254883, 0.2555428743362427, 0.2562824487686157, 0.25651514530181885, 0.2573567032814026, 0.2575516402721405, 0.25819599628448486, 0.2587454915046692, 0.2586809992790222, 0.2592640817165375, 0.2596258521080017, 0.2599045932292938, 0.2601059079170227, 0.2604716420173645, 0.26131150126457214, 0.2612030506134033, 0.26170575618743896, 0.2617650032043457]\n",
            "\u001b[1m  1/313\u001b[0m \u001b[37m━━━━━━━━━━━━━━━━━━━━\u001b[0m \u001b[1m1:04\u001b[0m 208ms/step - categorical_accuracy: 0.9688 - loss: 0.1808"
          ]
        },
        {
          "output_type": "stream",
          "name": "stderr",
          "text": [
            "/usr/local/lib/python3.11/dist-packages/keras/src/models/functional.py:237: UserWarning: The structure of `inputs` doesn't match the expected structure.\n",
            "Expected: ['keras_tensor_19']\n",
            "Received: inputs=Tensor(shape=(None, 784))\n",
            "  warnings.warn(msg)\n"
          ]
        },
        {
          "output_type": "stream",
          "name": "stdout",
          "text": [
            "\u001b[1m313/313\u001b[0m \u001b[32m━━━━━━━━━━━━━━━━━━━━\u001b[0m\u001b[37m\u001b[0m \u001b[1m2s\u001b[0m 5ms/step - categorical_accuracy: 0.9492 - loss: 0.3071\n",
            "\n",
            " Test Accuracy: 0.9602\n"
          ]
        },
        {
          "output_type": "display_data",
          "data": {
            "text/plain": [
              "<Figure size 640x480 with 1 Axes>"
            ],
            "image/png": "[encoded data removed]"
          },
          "metadata": {}
        }
      ]
    },
    {
      "cell_type": "markdown",
      "source": [
        "---\n",
        "2. 학습률만 2배로 감소시켰을 때 => 정확도는 0.9539로 감소했다.\n",
        "\n",
        "(아래 결과)\n",
        "\n",
        "학습률의 0.001에서 0.0005로 줄어든 것이 꼼꼼한 학습을 돕는 효과보다 학습 속도를 과도하게 느리게 만드는 효과를 더 크게 불러일으켰다고 예상할 수 있다."
      ],
      "metadata": {
        "id": "Pm6P8P9BTQ6j"
      }
    },
    {
      "cell_type": "code",
      "source": [
        "# 모델 다르게 만들기\n",
        "# Playground\n",
        "# Dense Layer 원상복귀 (hidden layer 2)\n",
        "# 학습률 2배로 감소 (0.001 -> 0.0005)\n",
        "# epoch 원상복귀 (30)\n",
        "# batch size 원상복귀 (1000)\n",
        "\n",
        "# 모델 설계하기\n",
        "input_layer = tf.keras.layers.Input(shape=(784,)) # input layer, input의 사이즈에 맞게 shape을 지정하는 것이 중요\n",
        "x = tf.keras.layers.Dense(512, activation='relu')(input_layer) # hidden layer 1, 512개의 perceptron으로 구성된 fully connted layer, activation 함수는 relu\n",
        "x = tf.keras.layers.Dense(512, activation='relu')(x) # hidden layer 2\n",
        "\n",
        "# 분류해야 하는 class 0~9 (10개) -> 따라서 최종 layer의 perceptron은 10개\n",
        "out_layer= tf.keras.layers.Dense(10, activation='softmax')(x)\n",
        "\n",
        "model = tf.keras.Model(inputs=[input_layer], outputs=[out_layer])\n",
        "model.summary()\n",
        "\n",
        "loss=tf.keras.losses.categorical_crossentropy\n",
        "optimizer = tf.keras.optimizers.Adam(learning_rate = 0.0005)\n",
        "metric=tf.keras.metrics.categorical_accuracy\n",
        "model.compile(loss = loss,\n",
        "              optimizer = optimizer,\n",
        "              metrics = [metric])\n",
        "\n",
        "# validation_data 옵션으로 테스트 데이터만 넣어주어서 검증 데이터 분류가 가능\n",
        "history = model.fit(X_train, Y_train, validation_split=0.2, epochs=30, batch_size=1000, verbose=1)\n",
        "print(history.history.keys())"
      ],
      "metadata": {
        "colab": {
          "base_uri": "https://localhost:8080/",
          "height": 1000
        },
        "id": "xbrNjvUTTQY7",
        "outputId": "68134170-77bf-4cfa-f3d4-9ee061614bca"
      },
      "execution_count": 30,
      "outputs": [
        {
          "output_type": "display_data",
          "data": {
            "text/plain": [
              "\u001b[1mModel: \"functional_5\"\u001b[0m\n"
            ],
            "text/html": [
              "<pre style=\"white-space:pre;overflow-x:auto;line-height:normal;font-family:Menlo,'DejaVu Sans Mono',consolas,'Courier New',monospace\"><span style=\"font-weight: bold\">Model: \"functional_5\"</span>\n",
              "</pre>\n"
            ]
          },
          "metadata": {}
        },
        {
          "output_type": "display_data",
          "data": {
            "text/plain": [
              "┏━━━━━━━━━━━━━━━━━━━━━━━━━━━━━━━━━━━━━━┳━━━━━━━━━━━━━━━━━━━━━━━━━━━━━┳━━━━━━━━━━━━━━━━━┓\n",
              "┃\u001b[1m \u001b[0m\u001b[1mLayer (type)                        \u001b[0m\u001b[1m \u001b[0m┃\u001b[1m \u001b[0m\u001b[1mOutput Shape               \u001b[0m\u001b[1m \u001b[0m┃\u001b[1m \u001b[0m\u001b[1m        Param #\u001b[0m\u001b[1m \u001b[0m┃\n",
              "┡━━━━━━━━━━━━━━━━━━━━━━━━━━━━━━━━━━━━━━╇━━━━━━━━━━━━━━━━━━━━━━━━━━━━━╇━━━━━━━━━━━━━━━━━┩\n",
              "│ input_layer_5 (\u001b[38;5;33mInputLayer\u001b[0m)           │ (\u001b[38;5;45mNone\u001b[0m, \u001b[38;5;34m784\u001b[0m)                 │               \u001b[38;5;34m0\u001b[0m │\n",
              "├──────────────────────────────────────┼─────────────────────────────┼─────────────────┤\n",
              "│ dense_19 (\u001b[38;5;33mDense\u001b[0m)                     │ (\u001b[38;5;45mNone\u001b[0m, \u001b[38;5;34m512\u001b[0m)                 │         \u001b[38;5;34m401,920\u001b[0m │\n",
              "├──────────────────────────────────────┼─────────────────────────────┼─────────────────┤\n",
              "│ dense_20 (\u001b[38;5;33mDense\u001b[0m)                     │ (\u001b[38;5;45mNone\u001b[0m, \u001b[38;5;34m512\u001b[0m)                 │         \u001b[38;5;34m262,656\u001b[0m │\n",
              "├──────────────────────────────────────┼─────────────────────────────┼─────────────────┤\n",
              "│ dense_21 (\u001b[38;5;33mDense\u001b[0m)                     │ (\u001b[38;5;45mNone\u001b[0m, \u001b[38;5;34m10\u001b[0m)                  │           \u001b[38;5;34m5,130\u001b[0m │\n",
              "└──────────────────────────────────────┴─────────────────────────────┴─────────────────┘\n"
            ],
            "text/html": [
              "<pre style=\"white-space:pre;overflow-x:auto;line-height:normal;font-family:Menlo,'DejaVu Sans Mono',consolas,'Courier New',monospace\">┏━━━━━━━━━━━━━━━━━━━━━━━━━━━━━━━━━━━━━━┳━━━━━━━━━━━━━━━━━━━━━━━━━━━━━┳━━━━━━━━━━━━━━━━━┓\n",
              "┃<span style=\"font-weight: bold\"> Layer (type)                         </span>┃<span style=\"font-weight: bold\"> Output Shape                </span>┃<span style=\"font-weight: bold\">         Param # </span>┃\n",
              "┡━━━━━━━━━━━━━━━━━━━━━━━━━━━━━━━━━━━━━━╇━━━━━━━━━━━━━━━━━━━━━━━━━━━━━╇━━━━━━━━━━━━━━━━━┩\n",
              "│ input_layer_5 (<span style=\"color: #0087ff; text-decoration-color: #0087ff\">InputLayer</span>)           │ (<span style=\"color: #00d7ff; text-decoration-color: #00d7ff\">None</span>, <span style=\"color: #00af00; text-decoration-color: #00af00\">784</span>)                 │               <span style=\"color: #00af00; text-decoration-color: #00af00\">0</span> │\n",
              "├──────────────────────────────────────┼─────────────────────────────┼─────────────────┤\n",
              "│ dense_19 (<span style=\"color: #0087ff; text-decoration-color: #0087ff\">Dense</span>)                     │ (<span style=\"color: #00d7ff; text-decoration-color: #00d7ff\">None</span>, <span style=\"color: #00af00; text-decoration-color: #00af00\">512</span>)                 │         <span style=\"color: #00af00; text-decoration-color: #00af00\">401,920</span> │\n",
              "├──────────────────────────────────────┼─────────────────────────────┼─────────────────┤\n",
              "│ dense_20 (<span style=\"color: #0087ff; text-decoration-color: #0087ff\">Dense</span>)                     │ (<span style=\"color: #00d7ff; text-decoration-color: #00d7ff\">None</span>, <span style=\"color: #00af00; text-decoration-color: #00af00\">512</span>)                 │         <span style=\"color: #00af00; text-decoration-color: #00af00\">262,656</span> │\n",
              "├──────────────────────────────────────┼─────────────────────────────┼─────────────────┤\n",
              "│ dense_21 (<span style=\"color: #0087ff; text-decoration-color: #0087ff\">Dense</span>)                     │ (<span style=\"color: #00d7ff; text-decoration-color: #00d7ff\">None</span>, <span style=\"color: #00af00; text-decoration-color: #00af00\">10</span>)                  │           <span style=\"color: #00af00; text-decoration-color: #00af00\">5,130</span> │\n",
              "└──────────────────────────────────────┴─────────────────────────────┴─────────────────┘\n",
              "</pre>\n"
            ]
          },
          "metadata": {}
        },
        {
          "output_type": "display_data",
          "data": {
            "text/plain": [
              "\u001b[1m Total params: \u001b[0m\u001b[38;5;34m669,706\u001b[0m (2.55 MB)\n"
            ],
            "text/html": [
              "<pre style=\"white-space:pre;overflow-x:auto;line-height:normal;font-family:Menlo,'DejaVu Sans Mono',consolas,'Courier New',monospace\"><span style=\"font-weight: bold\"> Total params: </span><span style=\"color: #00af00; text-decoration-color: #00af00\">669,706</span> (2.55 MB)\n",
              "</pre>\n"
            ]
          },
          "metadata": {}
        },
        {
          "output_type": "display_data",
          "data": {
            "text/plain": [
              "\u001b[1m Trainable params: \u001b[0m\u001b[38;5;34m669,706\u001b[0m (2.55 MB)\n"
            ],
            "text/html": [
              "<pre style=\"white-space:pre;overflow-x:auto;line-height:normal;font-family:Menlo,'DejaVu Sans Mono',consolas,'Courier New',monospace\"><span style=\"font-weight: bold\"> Trainable params: </span><span style=\"color: #00af00; text-decoration-color: #00af00\">669,706</span> (2.55 MB)\n",
              "</pre>\n"
            ]
          },
          "metadata": {}
        },
        {
          "output_type": "display_data",
          "data": {
            "text/plain": [
              "\u001b[1m Non-trainable params: \u001b[0m\u001b[38;5;34m0\u001b[0m (0.00 B)\n"
            ],
            "text/html": [
              "<pre style=\"white-space:pre;overflow-x:auto;line-height:normal;font-family:Menlo,'DejaVu Sans Mono',consolas,'Courier New',monospace\"><span style=\"font-weight: bold\"> Non-trainable params: </span><span style=\"color: #00af00; text-decoration-color: #00af00\">0</span> (0.00 B)\n",
              "</pre>\n"
            ]
          },
          "metadata": {}
        },
        {
          "output_type": "stream",
          "name": "stdout",
          "text": [
            "Epoch 1/30\n"
          ]
        },
        {
          "output_type": "stream",
          "name": "stderr",
          "text": [
            "/usr/local/lib/python3.11/dist-packages/keras/src/models/functional.py:237: UserWarning: The structure of `inputs` doesn't match the expected structure.\n",
            "Expected: ['keras_tensor_24']\n",
            "Received: inputs=Tensor(shape=(1000, 784))\n",
            "  warnings.warn(msg)\n"
          ]
        },
        {
          "output_type": "stream",
          "name": "stdout",
          "text": [
            "\u001b[1m48/48\u001b[0m \u001b[32m━━━━━━━━━━━━━━━━━━━━\u001b[0m\u001b[37m\u001b[0m \u001b[1m7s\u001b[0m 106ms/step - categorical_accuracy: 0.5919 - loss: 34.8185 - val_categorical_accuracy: 0.9120 - val_loss: 2.0698\n",
            "Epoch 2/30\n",
            "\u001b[1m48/48\u001b[0m \u001b[32m━━━━━━━━━━━━━━━━━━━━\u001b[0m\u001b[37m\u001b[0m \u001b[1m9s\u001b[0m 87ms/step - categorical_accuracy: 0.9163 - loss: 1.7733 - val_categorical_accuracy: 0.9285 - val_loss: 1.2502\n",
            "Epoch 3/30\n",
            "\u001b[1m48/48\u001b[0m \u001b[32m━━━━━━━━━━━━━━━━━━━━\u001b[0m\u001b[37m\u001b[0m \u001b[1m6s\u001b[0m 122ms/step - categorical_accuracy: 0.9416 - loss: 0.8463 - val_categorical_accuracy: 0.9386 - val_loss: 0.9586\n",
            "Epoch 4/30\n",
            "\u001b[1m48/48\u001b[0m \u001b[32m━━━━━━━━━━━━━━━━━━━━\u001b[0m\u001b[37m\u001b[0m \u001b[1m8s\u001b[0m 86ms/step - categorical_accuracy: 0.9600 - loss: 0.4454 - val_categorical_accuracy: 0.9385 - val_loss: 0.9053\n",
            "Epoch 5/30\n",
            "\u001b[1m48/48\u001b[0m \u001b[32m━━━━━━━━━━━━━━━━━━━━\u001b[0m\u001b[37m\u001b[0m \u001b[1m7s\u001b[0m 125ms/step - categorical_accuracy: 0.9716 - loss: 0.2551 - val_categorical_accuracy: 0.9435 - val_loss: 0.8326\n",
            "Epoch 6/30\n",
            "\u001b[1m48/48\u001b[0m \u001b[32m━━━━━━━━━━━━━━━━━━━━\u001b[0m\u001b[37m\u001b[0m \u001b[1m4s\u001b[0m 86ms/step - categorical_accuracy: 0.9791 - loss: 0.1559 - val_categorical_accuracy: 0.9445 - val_loss: 0.7894\n",
            "Epoch 7/30\n",
            "\u001b[1m48/48\u001b[0m \u001b[32m━━━━━━━━━━━━━━━━━━━━\u001b[0m\u001b[37m\u001b[0m \u001b[1m5s\u001b[0m 82ms/step - categorical_accuracy: 0.9853 - loss: 0.0955 - val_categorical_accuracy: 0.9475 - val_loss: 0.7480\n",
            "Epoch 8/30\n",
            "\u001b[1m48/48\u001b[0m \u001b[32m━━━━━━━━━━━━━━━━━━━━\u001b[0m\u001b[37m\u001b[0m \u001b[1m5s\u001b[0m 108ms/step - categorical_accuracy: 0.9909 - loss: 0.0545 - val_categorical_accuracy: 0.9491 - val_loss: 0.7282\n",
            "Epoch 9/30\n",
            "\u001b[1m48/48\u001b[0m \u001b[32m━━━━━━━━━━━━━━━━━━━━\u001b[0m\u001b[37m\u001b[0m \u001b[1m4s\u001b[0m 84ms/step - categorical_accuracy: 0.9944 - loss: 0.0256 - val_categorical_accuracy: 0.9492 - val_loss: 0.7269\n",
            "Epoch 10/30\n",
            "\u001b[1m48/48\u001b[0m \u001b[32m━━━━━━━━━━━━━━━━━━━━\u001b[0m\u001b[37m\u001b[0m \u001b[1m5s\u001b[0m 85ms/step - categorical_accuracy: 0.9967 - loss: 0.0149 - val_categorical_accuracy: 0.9493 - val_loss: 0.7291\n",
            "Epoch 11/30\n",
            "\u001b[1m48/48\u001b[0m \u001b[32m━━━━━━━━━━━━━━━━━━━━\u001b[0m\u001b[37m\u001b[0m \u001b[1m5s\u001b[0m 91ms/step - categorical_accuracy: 0.9990 - loss: 0.0053 - val_categorical_accuracy: 0.9498 - val_loss: 0.7118\n",
            "Epoch 12/30\n",
            "\u001b[1m48/48\u001b[0m \u001b[32m━━━━━━━━━━━━━━━━━━━━\u001b[0m\u001b[37m\u001b[0m \u001b[1m5s\u001b[0m 88ms/step - categorical_accuracy: 0.9996 - loss: 0.0018 - val_categorical_accuracy: 0.9503 - val_loss: 0.7108\n",
            "Epoch 13/30\n",
            "\u001b[1m48/48\u001b[0m \u001b[32m━━━━━━━━━━━━━━━━━━━━\u001b[0m\u001b[37m\u001b[0m \u001b[1m5s\u001b[0m 105ms/step - categorical_accuracy: 0.9999 - loss: 7.5021e-04 - val_categorical_accuracy: 0.9503 - val_loss: 0.7043\n",
            "Epoch 14/30\n",
            "\u001b[1m48/48\u001b[0m \u001b[32m━━━━━━━━━━━━━━━━━━━━\u001b[0m\u001b[37m\u001b[0m \u001b[1m4s\u001b[0m 90ms/step - categorical_accuracy: 0.9998 - loss: 5.9730e-04 - val_categorical_accuracy: 0.9507 - val_loss: 0.7033\n",
            "Epoch 15/30\n",
            "\u001b[1m48/48\u001b[0m \u001b[32m━━━━━━━━━━━━━━━━━━━━\u001b[0m\u001b[37m\u001b[0m \u001b[1m5s\u001b[0m 83ms/step - categorical_accuracy: 1.0000 - loss: 1.8504e-04 - val_categorical_accuracy: 0.9513 - val_loss: 0.7020\n",
            "Epoch 16/30\n",
            "\u001b[1m48/48\u001b[0m \u001b[32m━━━━━━━━━━━━━━━━━━━━\u001b[0m\u001b[37m\u001b[0m \u001b[1m7s\u001b[0m 121ms/step - categorical_accuracy: 1.0000 - loss: 1.4416e-04 - val_categorical_accuracy: 0.9509 - val_loss: 0.7017\n",
            "Epoch 17/30\n",
            "\u001b[1m48/48\u001b[0m \u001b[32m━━━━━━━━━━━━━━━━━━━━\u001b[0m\u001b[37m\u001b[0m \u001b[1m8s\u001b[0m 84ms/step - categorical_accuracy: 1.0000 - loss: 1.2247e-04 - val_categorical_accuracy: 0.9512 - val_loss: 0.7016\n",
            "Epoch 18/30\n",
            "\u001b[1m48/48\u001b[0m \u001b[32m━━━━━━━━━━━━━━━━━━━━\u001b[0m\u001b[37m\u001b[0m \u001b[1m6s\u001b[0m 124ms/step - categorical_accuracy: 1.0000 - loss: 1.2039e-04 - val_categorical_accuracy: 0.9513 - val_loss: 0.7017\n",
            "Epoch 19/30\n",
            "\u001b[1m48/48\u001b[0m \u001b[32m━━━━━━━━━━━━━━━━━━━━\u001b[0m\u001b[37m\u001b[0m \u001b[1m4s\u001b[0m 81ms/step - categorical_accuracy: 1.0000 - loss: 1.0650e-04 - val_categorical_accuracy: 0.9511 - val_loss: 0.7014\n",
            "Epoch 20/30\n",
            "\u001b[1m48/48\u001b[0m \u001b[32m━━━━━━━━━━━━━━━━━━━━\u001b[0m\u001b[37m\u001b[0m \u001b[1m4s\u001b[0m 85ms/step - categorical_accuracy: 1.0000 - loss: 9.8342e-05 - val_categorical_accuracy: 0.9513 - val_loss: 0.7013\n",
            "Epoch 21/30\n",
            "\u001b[1m48/48\u001b[0m \u001b[32m━━━━━━━━━━━━━━━━━━━━\u001b[0m\u001b[37m\u001b[0m \u001b[1m6s\u001b[0m 105ms/step - categorical_accuracy: 1.0000 - loss: 9.3734e-05 - val_categorical_accuracy: 0.9512 - val_loss: 0.7010\n",
            "Epoch 22/30\n",
            "\u001b[1m48/48\u001b[0m \u001b[32m━━━━━━━━━━━━━━━━━━━━\u001b[0m\u001b[37m\u001b[0m \u001b[1m4s\u001b[0m 79ms/step - categorical_accuracy: 1.0000 - loss: 8.7460e-05 - val_categorical_accuracy: 0.9513 - val_loss: 0.7008\n",
            "Epoch 23/30\n",
            "\u001b[1m48/48\u001b[0m \u001b[32m━━━━━━━━━━━━━━━━━━━━\u001b[0m\u001b[37m\u001b[0m \u001b[1m4s\u001b[0m 83ms/step - categorical_accuracy: 1.0000 - loss: 8.5368e-05 - val_categorical_accuracy: 0.9513 - val_loss: 0.7008\n",
            "Epoch 24/30\n",
            "\u001b[1m48/48\u001b[0m \u001b[32m━━━━━━━━━━━━━━━━━━━━\u001b[0m\u001b[37m\u001b[0m \u001b[1m5s\u001b[0m 107ms/step - categorical_accuracy: 1.0000 - loss: 7.7121e-05 - val_categorical_accuracy: 0.9513 - val_loss: 0.7005\n",
            "Epoch 25/30\n",
            "\u001b[1m48/48\u001b[0m \u001b[32m━━━━━━━━━━━━━━━━━━━━\u001b[0m\u001b[37m\u001b[0m \u001b[1m9s\u001b[0m 89ms/step - categorical_accuracy: 1.0000 - loss: 7.1010e-05 - val_categorical_accuracy: 0.9513 - val_loss: 0.7004\n",
            "Epoch 26/30\n",
            "\u001b[1m48/48\u001b[0m \u001b[32m━━━━━━━━━━━━━━━━━━━━\u001b[0m\u001b[37m\u001b[0m \u001b[1m5s\u001b[0m 109ms/step - categorical_accuracy: 1.0000 - loss: 7.0003e-05 - val_categorical_accuracy: 0.9513 - val_loss: 0.7001\n",
            "Epoch 27/30\n",
            "\u001b[1m48/48\u001b[0m \u001b[32m━━━━━━━━━━━━━━━━━━━━\u001b[0m\u001b[37m\u001b[0m \u001b[1m4s\u001b[0m 83ms/step - categorical_accuracy: 1.0000 - loss: 6.8397e-05 - val_categorical_accuracy: 0.9514 - val_loss: 0.7001\n",
            "Epoch 28/30\n",
            "\u001b[1m48/48\u001b[0m \u001b[32m━━━━━━━━━━━━━━━━━━━━\u001b[0m\u001b[37m\u001b[0m \u001b[1m4s\u001b[0m 85ms/step - categorical_accuracy: 1.0000 - loss: 6.8069e-05 - val_categorical_accuracy: 0.9517 - val_loss: 0.6999\n",
            "Epoch 29/30\n",
            "\u001b[1m48/48\u001b[0m \u001b[32m━━━━━━━━━━━━━━━━━━━━\u001b[0m\u001b[37m\u001b[0m \u001b[1m6s\u001b[0m 116ms/step - categorical_accuracy: 1.0000 - loss: 6.0232e-05 - val_categorical_accuracy: 0.9515 - val_loss: 0.7000\n",
            "Epoch 30/30\n",
            "\u001b[1m48/48\u001b[0m \u001b[32m━━━━━━━━━━━━━━━━━━━━\u001b[0m\u001b[37m\u001b[0m \u001b[1m4s\u001b[0m 88ms/step - categorical_accuracy: 1.0000 - loss: 6.2470e-05 - val_categorical_accuracy: 0.9518 - val_loss: 0.6997\n",
            "dict_keys(['categorical_accuracy', 'loss', 'val_categorical_accuracy', 'val_loss'])\n"
          ]
        }
      ]
    },
    {
      "cell_type": "code",
      "source": [
        "# Training loss 확인하기\n",
        "loss = history.history['loss']\n",
        "print(loss)\n",
        "\n",
        "# Q. Validation loss를 확인해 보세요.\n",
        "val_loss = history.history['val_loss']\n",
        "print(val_loss)\n",
        "\n",
        "# Test 데이터를 통해서 정확도 확인하기\n",
        "print(\"\\n Test Accuracy: %.4f\" % (model.evaluate(X_test, Y_test)[1]))\n",
        "\n",
        "# 그래프로 표현\n",
        "x_len = np.arange(len(val_loss))\n",
        "plt.plot(x_len, val_loss, marker='.', c=\"red\", label='validation loss')\n",
        "plt.plot(x_len, loss, marker='.', c=\"blue\", label='training loss')\n",
        "\n",
        "# 그래프에 그리드를 주고 레이블을 표시\n",
        "plt.legend(loc='upper right')\n",
        "plt.grid()\n",
        "plt.xlabel('epoch')\n",
        "plt.ylabel('loss')\n",
        "plt.show()"
      ],
      "metadata": {
        "colab": {
          "base_uri": "https://localhost:8080/",
          "height": 625
        },
        "id": "mUpg9NFoTeeN",
        "outputId": "39de4568-0193-48e4-a2f7-8b3db4617590"
      },
      "execution_count": 31,
      "outputs": [
        {
          "output_type": "stream",
          "name": "stdout",
          "text": [
            "[14.421123504638672, 1.4835307598114014, 0.7718660235404968, 0.4341748356819153, 0.2595982253551483, 0.154344379901886, 0.09448930621147156, 0.04816901311278343, 0.028289148584008217, 0.014595046639442444, 0.005203764420002699, 0.0016750363865867257, 0.000680845754686743, 0.000409350119298324, 0.00017957534873858094, 0.00014277599984779954, 0.0001271260407520458, 0.0001154264245997183, 0.00010705416207201779, 9.962757758330554e-05, 9.327598672825843e-05, 8.76362610142678e-05, 8.271913247881457e-05, 7.847842061892152e-05, 7.479097985196859e-05, 7.11869724909775e-05, 6.794360524509102e-05, 6.495274283224717e-05, 6.227916310308501e-05, 5.984551171422936e-05]\n",
            "[2.0698208808898926, 1.2502411603927612, 0.9586160778999329, 0.9053320288658142, 0.8326351642608643, 0.7893513441085815, 0.7480177283287048, 0.7282128930091858, 0.7268564701080322, 0.7290905117988586, 0.7118313908576965, 0.7108377814292908, 0.7042871117591858, 0.7032925486564636, 0.7020439505577087, 0.7017195820808411, 0.7016387581825256, 0.7017369866371155, 0.7014259696006775, 0.7013084888458252, 0.7009637951850891, 0.7007718682289124, 0.7008212804794312, 0.7005200386047363, 0.7003853917121887, 0.7001075744628906, 0.7001175880432129, 0.6999271512031555, 0.6999861598014832, 0.6996893882751465]\n"
          ]
        },
        {
          "output_type": "stream",
          "name": "stderr",
          "text": [
            "/usr/local/lib/python3.11/dist-packages/keras/src/models/functional.py:237: UserWarning: The structure of `inputs` doesn't match the expected structure.\n",
            "Expected: ['keras_tensor_24']\n",
            "Received: inputs=Tensor(shape=(None, 784))\n",
            "  warnings.warn(msg)\n"
          ]
        },
        {
          "output_type": "stream",
          "name": "stdout",
          "text": [
            "\u001b[1m313/313\u001b[0m \u001b[32m━━━━━━━━━━━━━━━━━━━━\u001b[0m\u001b[37m\u001b[0m \u001b[1m2s\u001b[0m 7ms/step - categorical_accuracy: 0.9451 - loss: 0.7036\n",
            "\n",
            " Test Accuracy: 0.9539\n"
          ]
        },
        {
          "output_type": "display_data",
          "data": {
            "text/plain": [
              "<Figure size 640x480 with 1 Axes>"
            ],
            "image/png": "[encoded data removed]"
          },
          "metadata": {}
        }
      ]
    },
    {
      "cell_type": "markdown",
      "source": [
        "---\n",
        "3. epoch만 2배로 증가했을 때 => 정확도는 0.9565로 감소했다.\n",
        "\n",
        "epoch를 2배로 늘림으로써 학습 횟수 증가로 인한 긍정적 효과보다 과적합으로 인한 부정적 효과가 더 컸음을 예상할 수 있다."
      ],
      "metadata": {
        "id": "zn-3D5yJUlQo"
      }
    },
    {
      "cell_type": "code",
      "source": [
        "# 모델 다르게 만들기\n",
        "# Playground\n",
        "# Dense Layer 원상복귀 (hidden layer 2)\n",
        "# 학습률 원상복귀 (0.001)\n",
        "# epoch 2배로 증가 (30 -> 60)\n",
        "# batch size 원상복귀 (1000)\n",
        "\n",
        "# 모델 설계하기\n",
        "input_layer = tf.keras.layers.Input(shape=(784,)) # input layer, input의 사이즈에 맞게 shape을 지정하는 것이 중요\n",
        "x = tf.keras.layers.Dense(512, activation='relu')(input_layer) # hidden layer 1, 512개의 perceptron으로 구성된 fully connted layer, activation 함수는 relu\n",
        "x = tf.keras.layers.Dense(512, activation='relu')(x) # hidden layer 2\n",
        "\n",
        "# 분류해야 하는 class 0~9 (10개) -> 따라서 최종 layer의 perceptron은 10개\n",
        "out_layer= tf.keras.layers.Dense(10, activation='softmax')(x)\n",
        "\n",
        "model = tf.keras.Model(inputs=[input_layer], outputs=[out_layer])\n",
        "model.summary()\n",
        "\n",
        "loss=tf.keras.losses.categorical_crossentropy\n",
        "optimizer = tf.keras.optimizers.Adam(learning_rate = 0.001)\n",
        "metric=tf.keras.metrics.categorical_accuracy\n",
        "model.compile(loss = loss,\n",
        "              optimizer = optimizer,\n",
        "              metrics = [metric])\n",
        "\n",
        "# validation_data 옵션으로 테스트 데이터만 넣어주어서 검증 데이터 분류가 가능\n",
        "history = model.fit(X_train, Y_train, validation_split=0.2, epochs=60, batch_size=1000, verbose=1)\n",
        "print(history.history.keys())"
      ],
      "metadata": {
        "colab": {
          "base_uri": "https://localhost:8080/",
          "height": 1000
        },
        "id": "93sOesDcUeLr",
        "outputId": "307e6f71-4b36-40a0-b9e5-f289339c54e8"
      },
      "execution_count": 32,
      "outputs": [
        {
          "output_type": "display_data",
          "data": {
            "text/plain": [
              "\u001b[1mModel: \"functional_6\"\u001b[0m\n"
            ],
            "text/html": [
              "<pre style=\"white-space:pre;overflow-x:auto;line-height:normal;font-family:Menlo,'DejaVu Sans Mono',consolas,'Courier New',monospace\"><span style=\"font-weight: bold\">Model: \"functional_6\"</span>\n",
              "</pre>\n"
            ]
          },
          "metadata": {}
        },
        {
          "output_type": "display_data",
          "data": {
            "text/plain": [
              "┏━━━━━━━━━━━━━━━━━━━━━━━━━━━━━━━━━━━━━━┳━━━━━━━━━━━━━━━━━━━━━━━━━━━━━┳━━━━━━━━━━━━━━━━━┓\n",
              "┃\u001b[1m \u001b[0m\u001b[1mLayer (type)                        \u001b[0m\u001b[1m \u001b[0m┃\u001b[1m \u001b[0m\u001b[1mOutput Shape               \u001b[0m\u001b[1m \u001b[0m┃\u001b[1m \u001b[0m\u001b[1m        Param #\u001b[0m\u001b[1m \u001b[0m┃\n",
              "┡━━━━━━━━━━━━━━━━━━━━━━━━━━━━━━━━━━━━━━╇━━━━━━━━━━━━━━━━━━━━━━━━━━━━━╇━━━━━━━━━━━━━━━━━┩\n",
              "│ input_layer_6 (\u001b[38;5;33mInputLayer\u001b[0m)           │ (\u001b[38;5;45mNone\u001b[0m, \u001b[38;5;34m784\u001b[0m)                 │               \u001b[38;5;34m0\u001b[0m │\n",
              "├──────────────────────────────────────┼─────────────────────────────┼─────────────────┤\n",
              "│ dense_22 (\u001b[38;5;33mDense\u001b[0m)                     │ (\u001b[38;5;45mNone\u001b[0m, \u001b[38;5;34m512\u001b[0m)                 │         \u001b[38;5;34m401,920\u001b[0m │\n",
              "├──────────────────────────────────────┼─────────────────────────────┼─────────────────┤\n",
              "│ dense_23 (\u001b[38;5;33mDense\u001b[0m)                     │ (\u001b[38;5;45mNone\u001b[0m, \u001b[38;5;34m512\u001b[0m)                 │         \u001b[38;5;34m262,656\u001b[0m │\n",
              "├──────────────────────────────────────┼─────────────────────────────┼─────────────────┤\n",
              "│ dense_24 (\u001b[38;5;33mDense\u001b[0m)                     │ (\u001b[38;5;45mNone\u001b[0m, \u001b[38;5;34m10\u001b[0m)                  │           \u001b[38;5;34m5,130\u001b[0m │\n",
              "└──────────────────────────────────────┴─────────────────────────────┴─────────────────┘\n"
            ],
            "text/html": [
              "<pre style=\"white-space:pre;overflow-x:auto;line-height:normal;font-family:Menlo,'DejaVu Sans Mono',consolas,'Courier New',monospace\">┏━━━━━━━━━━━━━━━━━━━━━━━━━━━━━━━━━━━━━━┳━━━━━━━━━━━━━━━━━━━━━━━━━━━━━┳━━━━━━━━━━━━━━━━━┓\n",
              "┃<span style=\"font-weight: bold\"> Layer (type)                         </span>┃<span style=\"font-weight: bold\"> Output Shape                </span>┃<span style=\"font-weight: bold\">         Param # </span>┃\n",
              "┡━━━━━━━━━━━━━━━━━━━━━━━━━━━━━━━━━━━━━━╇━━━━━━━━━━━━━━━━━━━━━━━━━━━━━╇━━━━━━━━━━━━━━━━━┩\n",
              "│ input_layer_6 (<span style=\"color: #0087ff; text-decoration-color: #0087ff\">InputLayer</span>)           │ (<span style=\"color: #00d7ff; text-decoration-color: #00d7ff\">None</span>, <span style=\"color: #00af00; text-decoration-color: #00af00\">784</span>)                 │               <span style=\"color: #00af00; text-decoration-color: #00af00\">0</span> │\n",
              "├──────────────────────────────────────┼─────────────────────────────┼─────────────────┤\n",
              "│ dense_22 (<span style=\"color: #0087ff; text-decoration-color: #0087ff\">Dense</span>)                     │ (<span style=\"color: #00d7ff; text-decoration-color: #00d7ff\">None</span>, <span style=\"color: #00af00; text-decoration-color: #00af00\">512</span>)                 │         <span style=\"color: #00af00; text-decoration-color: #00af00\">401,920</span> │\n",
              "├──────────────────────────────────────┼─────────────────────────────┼─────────────────┤\n",
              "│ dense_23 (<span style=\"color: #0087ff; text-decoration-color: #0087ff\">Dense</span>)                     │ (<span style=\"color: #00d7ff; text-decoration-color: #00d7ff\">None</span>, <span style=\"color: #00af00; text-decoration-color: #00af00\">512</span>)                 │         <span style=\"color: #00af00; text-decoration-color: #00af00\">262,656</span> │\n",
              "├──────────────────────────────────────┼─────────────────────────────┼─────────────────┤\n",
              "│ dense_24 (<span style=\"color: #0087ff; text-decoration-color: #0087ff\">Dense</span>)                     │ (<span style=\"color: #00d7ff; text-decoration-color: #00d7ff\">None</span>, <span style=\"color: #00af00; text-decoration-color: #00af00\">10</span>)                  │           <span style=\"color: #00af00; text-decoration-color: #00af00\">5,130</span> │\n",
              "└──────────────────────────────────────┴─────────────────────────────┴─────────────────┘\n",
              "</pre>\n"
            ]
          },
          "metadata": {}
        },
        {
          "output_type": "display_data",
          "data": {
            "text/plain": [
              "\u001b[1m Total params: \u001b[0m\u001b[38;5;34m669,706\u001b[0m (2.55 MB)\n"
            ],
            "text/html": [
              "<pre style=\"white-space:pre;overflow-x:auto;line-height:normal;font-family:Menlo,'DejaVu Sans Mono',consolas,'Courier New',monospace\"><span style=\"font-weight: bold\"> Total params: </span><span style=\"color: #00af00; text-decoration-color: #00af00\">669,706</span> (2.55 MB)\n",
              "</pre>\n"
            ]
          },
          "metadata": {}
        },
        {
          "output_type": "display_data",
          "data": {
            "text/plain": [
              "\u001b[1m Trainable params: \u001b[0m\u001b[38;5;34m669,706\u001b[0m (2.55 MB)\n"
            ],
            "text/html": [
              "<pre style=\"white-space:pre;overflow-x:auto;line-height:normal;font-family:Menlo,'DejaVu Sans Mono',consolas,'Courier New',monospace\"><span style=\"font-weight: bold\"> Trainable params: </span><span style=\"color: #00af00; text-decoration-color: #00af00\">669,706</span> (2.55 MB)\n",
              "</pre>\n"
            ]
          },
          "metadata": {}
        },
        {
          "output_type": "display_data",
          "data": {
            "text/plain": [
              "\u001b[1m Non-trainable params: \u001b[0m\u001b[38;5;34m0\u001b[0m (0.00 B)\n"
            ],
            "text/html": [
              "<pre style=\"white-space:pre;overflow-x:auto;line-height:normal;font-family:Menlo,'DejaVu Sans Mono',consolas,'Courier New',monospace\"><span style=\"font-weight: bold\"> Non-trainable params: </span><span style=\"color: #00af00; text-decoration-color: #00af00\">0</span> (0.00 B)\n",
              "</pre>\n"
            ]
          },
          "metadata": {}
        },
        {
          "output_type": "stream",
          "name": "stdout",
          "text": [
            "Epoch 1/60\n"
          ]
        },
        {
          "output_type": "stream",
          "name": "stderr",
          "text": [
            "/usr/local/lib/python3.11/dist-packages/keras/src/models/functional.py:237: UserWarning: The structure of `inputs` doesn't match the expected structure.\n",
            "Expected: ['keras_tensor_28']\n",
            "Received: inputs=Tensor(shape=(1000, 784))\n",
            "  warnings.warn(msg)\n"
          ]
        },
        {
          "output_type": "stream",
          "name": "stdout",
          "text": [
            "\u001b[1m48/48\u001b[0m \u001b[32m━━━━━━━━━━━━━━━━━━━━\u001b[0m\u001b[37m\u001b[0m \u001b[1m8s\u001b[0m 131ms/step - categorical_accuracy: 0.6663 - loss: 29.3597 - val_categorical_accuracy: 0.9227 - val_loss: 1.2235\n",
            "Epoch 2/60\n",
            "\u001b[1m48/48\u001b[0m \u001b[32m━━━━━━━━━━━━━━━━━━━━\u001b[0m\u001b[37m\u001b[0m \u001b[1m4s\u001b[0m 85ms/step - categorical_accuracy: 0.9359 - loss: 0.8643 - val_categorical_accuracy: 0.9386 - val_loss: 0.7150\n",
            "Epoch 3/60\n",
            "\u001b[1m48/48\u001b[0m \u001b[32m━━━━━━━━━━━━━━━━━━━━\u001b[0m\u001b[37m\u001b[0m \u001b[1m4s\u001b[0m 85ms/step - categorical_accuracy: 0.9569 - loss: 0.3692 - val_categorical_accuracy: 0.9404 - val_loss: 0.5859\n",
            "Epoch 4/60\n",
            "\u001b[1m48/48\u001b[0m \u001b[32m━━━━━━━━━━━━━━━━━━━━\u001b[0m\u001b[37m\u001b[0m \u001b[1m5s\u001b[0m 112ms/step - categorical_accuracy: 0.9733 - loss: 0.1754 - val_categorical_accuracy: 0.9464 - val_loss: 0.5562\n",
            "Epoch 5/60\n",
            "\u001b[1m48/48\u001b[0m \u001b[32m━━━━━━━━━━━━━━━━━━━━\u001b[0m\u001b[37m\u001b[0m \u001b[1m9s\u001b[0m 86ms/step - categorical_accuracy: 0.9853 - loss: 0.0774 - val_categorical_accuracy: 0.9464 - val_loss: 0.5133\n",
            "Epoch 6/60\n",
            "\u001b[1m48/48\u001b[0m \u001b[32m━━━━━━━━━━━━━━━━━━━━\u001b[0m\u001b[37m\u001b[0m \u001b[1m6s\u001b[0m 116ms/step - categorical_accuracy: 0.9908 - loss: 0.0411 - val_categorical_accuracy: 0.9486 - val_loss: 0.5049\n",
            "Epoch 7/60\n",
            "\u001b[1m48/48\u001b[0m \u001b[32m━━━━━━━━━━━━━━━━━━━━\u001b[0m\u001b[37m\u001b[0m \u001b[1m9s\u001b[0m 85ms/step - categorical_accuracy: 0.9947 - loss: 0.0215 - val_categorical_accuracy: 0.9512 - val_loss: 0.4868\n",
            "Epoch 8/60\n",
            "\u001b[1m48/48\u001b[0m \u001b[32m━━━━━━━━━━━━━━━━━━━━\u001b[0m\u001b[37m\u001b[0m \u001b[1m5s\u001b[0m 92ms/step - categorical_accuracy: 0.9974 - loss: 0.0095 - val_categorical_accuracy: 0.9506 - val_loss: 0.4708\n",
            "Epoch 9/60\n",
            "\u001b[1m48/48\u001b[0m \u001b[32m━━━━━━━━━━━━━━━━━━━━\u001b[0m\u001b[37m\u001b[0m \u001b[1m4s\u001b[0m 76ms/step - categorical_accuracy: 0.9989 - loss: 0.0035 - val_categorical_accuracy: 0.9540 - val_loss: 0.4699\n",
            "Epoch 10/60\n",
            "\u001b[1m48/48\u001b[0m \u001b[32m━━━━━━━━━━━━━━━━━━━━\u001b[0m\u001b[37m\u001b[0m \u001b[1m5s\u001b[0m 94ms/step - categorical_accuracy: 0.9996 - loss: 0.0020 - val_categorical_accuracy: 0.9543 - val_loss: 0.4668\n",
            "Epoch 11/60\n",
            "\u001b[1m48/48\u001b[0m \u001b[32m━━━━━━━━━━━━━━━━━━━━\u001b[0m\u001b[37m\u001b[0m \u001b[1m5s\u001b[0m 102ms/step - categorical_accuracy: 0.9999 - loss: 9.7761e-04 - val_categorical_accuracy: 0.9539 - val_loss: 0.4621\n",
            "Epoch 12/60\n",
            "\u001b[1m48/48\u001b[0m \u001b[32m━━━━━━━━━━━━━━━━━━━━\u001b[0m\u001b[37m\u001b[0m \u001b[1m4s\u001b[0m 86ms/step - categorical_accuracy: 1.0000 - loss: 3.0310e-04 - val_categorical_accuracy: 0.9542 - val_loss: 0.4624\n",
            "Epoch 13/60\n",
            "\u001b[1m48/48\u001b[0m \u001b[32m━━━━━━━━━━━━━━━━━━━━\u001b[0m\u001b[37m\u001b[0m \u001b[1m4s\u001b[0m 88ms/step - categorical_accuracy: 1.0000 - loss: 1.9448e-04 - val_categorical_accuracy: 0.9543 - val_loss: 0.4612\n",
            "Epoch 14/60\n",
            "\u001b[1m48/48\u001b[0m \u001b[32m━━━━━━━━━━━━━━━━━━━━\u001b[0m\u001b[37m\u001b[0m \u001b[1m5s\u001b[0m 105ms/step - categorical_accuracy: 1.0000 - loss: 1.7465e-04 - val_categorical_accuracy: 0.9547 - val_loss: 0.4604\n",
            "Epoch 15/60\n",
            "\u001b[1m48/48\u001b[0m \u001b[32m━━━━━━━━━━━━━━━━━━━━\u001b[0m\u001b[37m\u001b[0m \u001b[1m4s\u001b[0m 84ms/step - categorical_accuracy: 1.0000 - loss: 1.5146e-04 - val_categorical_accuracy: 0.9547 - val_loss: 0.4603\n",
            "Epoch 16/60\n",
            "\u001b[1m48/48\u001b[0m \u001b[32m━━━━━━━━━━━━━━━━━━━━\u001b[0m\u001b[37m\u001b[0m \u001b[1m4s\u001b[0m 76ms/step - categorical_accuracy: 1.0000 - loss: 1.4392e-04 - val_categorical_accuracy: 0.9546 - val_loss: 0.4603\n",
            "Epoch 17/60\n",
            "\u001b[1m48/48\u001b[0m \u001b[32m━━━━━━━━━━━━━━━━━━━━\u001b[0m\u001b[37m\u001b[0m \u001b[1m6s\u001b[0m 115ms/step - categorical_accuracy: 1.0000 - loss: 1.2559e-04 - val_categorical_accuracy: 0.9549 - val_loss: 0.4599\n",
            "Epoch 18/60\n",
            "\u001b[1m48/48\u001b[0m \u001b[32m━━━━━━━━━━━━━━━━━━━━\u001b[0m\u001b[37m\u001b[0m \u001b[1m4s\u001b[0m 78ms/step - categorical_accuracy: 1.0000 - loss: 1.1268e-04 - val_categorical_accuracy: 0.9546 - val_loss: 0.4602\n",
            "Epoch 19/60\n",
            "\u001b[1m48/48\u001b[0m \u001b[32m━━━━━━━━━━━━━━━━━━━━\u001b[0m\u001b[37m\u001b[0m \u001b[1m5s\u001b[0m 79ms/step - categorical_accuracy: 1.0000 - loss: 1.0602e-04 - val_categorical_accuracy: 0.9548 - val_loss: 0.4599\n",
            "Epoch 20/60\n",
            "\u001b[1m48/48\u001b[0m \u001b[32m━━━━━━━━━━━━━━━━━━━━\u001b[0m\u001b[37m\u001b[0m \u001b[1m6s\u001b[0m 104ms/step - categorical_accuracy: 1.0000 - loss: 1.0639e-04 - val_categorical_accuracy: 0.9545 - val_loss: 0.4602\n",
            "Epoch 21/60\n",
            "\u001b[1m48/48\u001b[0m \u001b[32m━━━━━━━━━━━━━━━━━━━━\u001b[0m\u001b[37m\u001b[0m \u001b[1m4s\u001b[0m 87ms/step - categorical_accuracy: 1.0000 - loss: 9.5113e-05 - val_categorical_accuracy: 0.9548 - val_loss: 0.4599\n",
            "Epoch 22/60\n",
            "\u001b[1m48/48\u001b[0m \u001b[32m━━━━━━━━━━━━━━━━━━━━\u001b[0m\u001b[37m\u001b[0m \u001b[1m6s\u001b[0m 101ms/step - categorical_accuracy: 1.0000 - loss: 8.9872e-05 - val_categorical_accuracy: 0.9548 - val_loss: 0.4602\n",
            "Epoch 23/60\n",
            "\u001b[1m48/48\u001b[0m \u001b[32m━━━━━━━━━━━━━━━━━━━━\u001b[0m\u001b[37m\u001b[0m \u001b[1m5s\u001b[0m 98ms/step - categorical_accuracy: 1.0000 - loss: 8.1644e-05 - val_categorical_accuracy: 0.9549 - val_loss: 0.4599\n",
            "Epoch 24/60\n",
            "\u001b[1m48/48\u001b[0m \u001b[32m━━━━━━━━━━━━━━━━━━━━\u001b[0m\u001b[37m\u001b[0m \u001b[1m4s\u001b[0m 80ms/step - categorical_accuracy: 1.0000 - loss: 8.5564e-05 - val_categorical_accuracy: 0.9548 - val_loss: 0.4597\n",
            "Epoch 25/60\n",
            "\u001b[1m48/48\u001b[0m \u001b[32m━━━━━━━━━━━━━━━━━━━━\u001b[0m\u001b[37m\u001b[0m \u001b[1m5s\u001b[0m 94ms/step - categorical_accuracy: 1.0000 - loss: 8.0872e-05 - val_categorical_accuracy: 0.9549 - val_loss: 0.4600\n",
            "Epoch 26/60\n",
            "\u001b[1m48/48\u001b[0m \u001b[32m━━━━━━━━━━━━━━━━━━━━\u001b[0m\u001b[37m\u001b[0m \u001b[1m5s\u001b[0m 81ms/step - categorical_accuracy: 1.0000 - loss: 7.2386e-05 - val_categorical_accuracy: 0.9548 - val_loss: 0.4599\n",
            "Epoch 27/60\n",
            "\u001b[1m48/48\u001b[0m \u001b[32m━━━━━━━━━━━━━━━━━━━━\u001b[0m\u001b[37m\u001b[0m \u001b[1m5s\u001b[0m 83ms/step - categorical_accuracy: 1.0000 - loss: 6.9792e-05 - val_categorical_accuracy: 0.9548 - val_loss: 0.4599\n",
            "Epoch 28/60\n",
            "\u001b[1m48/48\u001b[0m \u001b[32m━━━━━━━━━━━━━━━━━━━━\u001b[0m\u001b[37m\u001b[0m \u001b[1m5s\u001b[0m 114ms/step - categorical_accuracy: 1.0000 - loss: 6.6579e-05 - val_categorical_accuracy: 0.9551 - val_loss: 0.4599\n",
            "Epoch 29/60\n",
            "\u001b[1m48/48\u001b[0m \u001b[32m━━━━━━━━━━━━━━━━━━━━\u001b[0m\u001b[37m\u001b[0m \u001b[1m4s\u001b[0m 78ms/step - categorical_accuracy: 1.0000 - loss: 6.2684e-05 - val_categorical_accuracy: 0.9550 - val_loss: 0.4600\n",
            "Epoch 30/60\n",
            "\u001b[1m48/48\u001b[0m \u001b[32m━━━━━━━━━━━━━━━━━━━━\u001b[0m\u001b[37m\u001b[0m \u001b[1m4s\u001b[0m 80ms/step - categorical_accuracy: 1.0000 - loss: 6.3410e-05 - val_categorical_accuracy: 0.9548 - val_loss: 0.4600\n",
            "Epoch 31/60\n",
            "\u001b[1m48/48\u001b[0m \u001b[32m━━━━━━━━━━━━━━━━━━━━\u001b[0m\u001b[37m\u001b[0m \u001b[1m5s\u001b[0m 100ms/step - categorical_accuracy: 1.0000 - loss: 5.9358e-05 - val_categorical_accuracy: 0.9551 - val_loss: 0.4597\n",
            "Epoch 32/60\n",
            "\u001b[1m48/48\u001b[0m \u001b[32m━━━━━━━━━━━━━━━━━━━━\u001b[0m\u001b[37m\u001b[0m \u001b[1m5s\u001b[0m 87ms/step - categorical_accuracy: 1.0000 - loss: 5.7967e-05 - val_categorical_accuracy: 0.9553 - val_loss: 0.4597\n",
            "Epoch 33/60\n",
            "\u001b[1m48/48\u001b[0m \u001b[32m━━━━━━━━━━━━━━━━━━━━\u001b[0m\u001b[37m\u001b[0m \u001b[1m4s\u001b[0m 84ms/step - categorical_accuracy: 1.0000 - loss: 5.4401e-05 - val_categorical_accuracy: 0.9551 - val_loss: 0.4598\n",
            "Epoch 34/60\n",
            "\u001b[1m48/48\u001b[0m \u001b[32m━━━━━━━━━━━━━━━━━━━━\u001b[0m\u001b[37m\u001b[0m \u001b[1m5s\u001b[0m 103ms/step - categorical_accuracy: 1.0000 - loss: 5.2007e-05 - val_categorical_accuracy: 0.9553 - val_loss: 0.4600\n",
            "Epoch 35/60\n",
            "\u001b[1m48/48\u001b[0m \u001b[32m━━━━━━━━━━━━━━━━━━━━\u001b[0m\u001b[37m\u001b[0m \u001b[1m5s\u001b[0m 95ms/step - categorical_accuracy: 1.0000 - loss: 4.9560e-05 - val_categorical_accuracy: 0.9554 - val_loss: 0.4598\n",
            "Epoch 36/60\n",
            "\u001b[1m48/48\u001b[0m \u001b[32m━━━━━━━━━━━━━━━━━━━━\u001b[0m\u001b[37m\u001b[0m \u001b[1m4s\u001b[0m 81ms/step - categorical_accuracy: 1.0000 - loss: 4.8515e-05 - val_categorical_accuracy: 0.9553 - val_loss: 0.4599\n",
            "Epoch 37/60\n",
            "\u001b[1m48/48\u001b[0m \u001b[32m━━━━━━━━━━━━━━━━━━━━\u001b[0m\u001b[37m\u001b[0m \u001b[1m7s\u001b[0m 111ms/step - categorical_accuracy: 1.0000 - loss: 4.5725e-05 - val_categorical_accuracy: 0.9553 - val_loss: 0.4599\n",
            "Epoch 38/60\n",
            "\u001b[1m48/48\u001b[0m \u001b[32m━━━━━━━━━━━━━━━━━━━━\u001b[0m\u001b[37m\u001b[0m \u001b[1m4s\u001b[0m 79ms/step - categorical_accuracy: 1.0000 - loss: 4.3484e-05 - val_categorical_accuracy: 0.9554 - val_loss: 0.4597\n",
            "Epoch 39/60\n",
            "\u001b[1m48/48\u001b[0m \u001b[32m━━━━━━━━━━━━━━━━━━━━\u001b[0m\u001b[37m\u001b[0m \u001b[1m4s\u001b[0m 82ms/step - categorical_accuracy: 1.0000 - loss: 4.4860e-05 - val_categorical_accuracy: 0.9555 - val_loss: 0.4598\n",
            "Epoch 40/60\n",
            "\u001b[1m48/48\u001b[0m \u001b[32m━━━━━━━━━━━━━━━━━━━━\u001b[0m\u001b[37m\u001b[0m \u001b[1m5s\u001b[0m 100ms/step - categorical_accuracy: 1.0000 - loss: 4.3196e-05 - val_categorical_accuracy: 0.9556 - val_loss: 0.4598\n",
            "Epoch 41/60\n",
            "\u001b[1m48/48\u001b[0m \u001b[32m━━━━━━━━━━━━━━━━━━━━\u001b[0m\u001b[37m\u001b[0m \u001b[1m5s\u001b[0m 89ms/step - categorical_accuracy: 1.0000 - loss: 4.1085e-05 - val_categorical_accuracy: 0.9556 - val_loss: 0.4598\n",
            "Epoch 42/60\n",
            "\u001b[1m48/48\u001b[0m \u001b[32m━━━━━━━━━━━━━━━━━━━━\u001b[0m\u001b[37m\u001b[0m \u001b[1m5s\u001b[0m 79ms/step - categorical_accuracy: 1.0000 - loss: 3.9367e-05 - val_categorical_accuracy: 0.9557 - val_loss: 0.4597\n",
            "Epoch 43/60\n",
            "\u001b[1m48/48\u001b[0m \u001b[32m━━━━━━━━━━━━━━━━━━━━\u001b[0m\u001b[37m\u001b[0m \u001b[1m5s\u001b[0m 105ms/step - categorical_accuracy: 1.0000 - loss: 3.7617e-05 - val_categorical_accuracy: 0.9558 - val_loss: 0.4598\n",
            "Epoch 44/60\n",
            "\u001b[1m48/48\u001b[0m \u001b[32m━━━━━━━━━━━━━━━━━━━━\u001b[0m\u001b[37m\u001b[0m \u001b[1m5s\u001b[0m 97ms/step - categorical_accuracy: 1.0000 - loss: 3.7416e-05 - val_categorical_accuracy: 0.9557 - val_loss: 0.4597\n",
            "Epoch 45/60\n",
            "\u001b[1m48/48\u001b[0m \u001b[32m━━━━━━━━━━━━━━━━━━━━\u001b[0m\u001b[37m\u001b[0m \u001b[1m4s\u001b[0m 79ms/step - categorical_accuracy: 1.0000 - loss: 3.4911e-05 - val_categorical_accuracy: 0.9557 - val_loss: 0.4599\n",
            "Epoch 46/60\n",
            "\u001b[1m48/48\u001b[0m \u001b[32m━━━━━━━━━━━━━━━━━━━━\u001b[0m\u001b[37m\u001b[0m \u001b[1m5s\u001b[0m 97ms/step - categorical_accuracy: 1.0000 - loss: 3.3502e-05 - val_categorical_accuracy: 0.9558 - val_loss: 0.4597\n",
            "Epoch 47/60\n",
            "\u001b[1m48/48\u001b[0m \u001b[32m━━━━━━━━━━━━━━━━━━━━\u001b[0m\u001b[37m\u001b[0m \u001b[1m5s\u001b[0m 97ms/step - categorical_accuracy: 1.0000 - loss: 3.3569e-05 - val_categorical_accuracy: 0.9558 - val_loss: 0.4597\n",
            "Epoch 48/60\n",
            "\u001b[1m48/48\u001b[0m \u001b[32m━━━━━━━━━━━━━━━━━━━━\u001b[0m\u001b[37m\u001b[0m \u001b[1m4s\u001b[0m 82ms/step - categorical_accuracy: 1.0000 - loss: 3.3283e-05 - val_categorical_accuracy: 0.9559 - val_loss: 0.4598\n",
            "Epoch 49/60\n",
            "\u001b[1m48/48\u001b[0m \u001b[32m━━━━━━━━━━━━━━━━━━━━\u001b[0m\u001b[37m\u001b[0m \u001b[1m6s\u001b[0m 101ms/step - categorical_accuracy: 1.0000 - loss: 3.0422e-05 - val_categorical_accuracy: 0.9558 - val_loss: 0.4597\n",
            "Epoch 50/60\n",
            "\u001b[1m48/48\u001b[0m \u001b[32m━━━━━━━━━━━━━━━━━━━━\u001b[0m\u001b[37m\u001b[0m \u001b[1m5s\u001b[0m 88ms/step - categorical_accuracy: 1.0000 - loss: 3.0392e-05 - val_categorical_accuracy: 0.9560 - val_loss: 0.4597\n",
            "Epoch 51/60\n",
            "\u001b[1m48/48\u001b[0m \u001b[32m━━━━━━━━━━━━━━━━━━━━\u001b[0m\u001b[37m\u001b[0m \u001b[1m4s\u001b[0m 78ms/step - categorical_accuracy: 1.0000 - loss: 2.9099e-05 - val_categorical_accuracy: 0.9560 - val_loss: 0.4598\n",
            "Epoch 52/60\n",
            "\u001b[1m48/48\u001b[0m \u001b[32m━━━━━━━━━━━━━━━━━━━━\u001b[0m\u001b[37m\u001b[0m \u001b[1m4s\u001b[0m 93ms/step - categorical_accuracy: 1.0000 - loss: 2.8647e-05 - val_categorical_accuracy: 0.9562 - val_loss: 0.4598\n",
            "Epoch 53/60\n",
            "\u001b[1m48/48\u001b[0m \u001b[32m━━━━━━━━━━━━━━━━━━━━\u001b[0m\u001b[37m\u001b[0m \u001b[1m5s\u001b[0m 90ms/step - categorical_accuracy: 1.0000 - loss: 2.7570e-05 - val_categorical_accuracy: 0.9564 - val_loss: 0.4596\n",
            "Epoch 54/60\n",
            "\u001b[1m48/48\u001b[0m \u001b[32m━━━━━━━━━━━━━━━━━━━━\u001b[0m\u001b[37m\u001b[0m \u001b[1m5s\u001b[0m 81ms/step - categorical_accuracy: 1.0000 - loss: 2.7454e-05 - val_categorical_accuracy: 0.9564 - val_loss: 0.4597\n",
            "Epoch 55/60\n",
            "\u001b[1m48/48\u001b[0m \u001b[32m━━━━━━━━━━━━━━━━━━━━\u001b[0m\u001b[37m\u001b[0m \u001b[1m7s\u001b[0m 121ms/step - categorical_accuracy: 1.0000 - loss: 2.6280e-05 - val_categorical_accuracy: 0.9564 - val_loss: 0.4595\n",
            "Epoch 56/60\n",
            "\u001b[1m48/48\u001b[0m \u001b[32m━━━━━━━━━━━━━━━━━━━━\u001b[0m\u001b[37m\u001b[0m \u001b[1m8s\u001b[0m 79ms/step - categorical_accuracy: 1.0000 - loss: 2.5060e-05 - val_categorical_accuracy: 0.9565 - val_loss: 0.4597\n",
            "Epoch 57/60\n",
            "\u001b[1m48/48\u001b[0m \u001b[32m━━━━━━━━━━━━━━━━━━━━\u001b[0m\u001b[37m\u001b[0m \u001b[1m6s\u001b[0m 104ms/step - categorical_accuracy: 1.0000 - loss: 2.4709e-05 - val_categorical_accuracy: 0.9565 - val_loss: 0.4596\n",
            "Epoch 58/60\n",
            "\u001b[1m48/48\u001b[0m \u001b[32m━━━━━━━━━━━━━━━━━━━━\u001b[0m\u001b[37m\u001b[0m \u001b[1m4s\u001b[0m 88ms/step - categorical_accuracy: 1.0000 - loss: 2.4497e-05 - val_categorical_accuracy: 0.9565 - val_loss: 0.4596\n",
            "Epoch 59/60\n",
            "\u001b[1m48/48\u001b[0m \u001b[32m━━━━━━━━━━━━━━━━━━━━\u001b[0m\u001b[37m\u001b[0m \u001b[1m6s\u001b[0m 101ms/step - categorical_accuracy: 1.0000 - loss: 2.4274e-05 - val_categorical_accuracy: 0.9565 - val_loss: 0.4596\n",
            "Epoch 60/60\n",
            "\u001b[1m48/48\u001b[0m \u001b[32m━━━━━━━━━━━━━━━━━━━━\u001b[0m\u001b[37m\u001b[0m \u001b[1m4s\u001b[0m 81ms/step - categorical_accuracy: 1.0000 - loss: 2.3160e-05 - val_categorical_accuracy: 0.9566 - val_loss: 0.4594\n",
            "dict_keys(['categorical_accuracy', 'loss', 'val_categorical_accuracy', 'val_loss'])\n"
          ]
        }
      ]
    },
    {
      "cell_type": "code",
      "source": [
        "# Training loss 확인하기\n",
        "loss = history.history['loss']\n",
        "print(loss)\n",
        "\n",
        "# Q. Validation loss를 확인해 보세요.\n",
        "val_loss = history.history['val_loss']\n",
        "print(val_loss)\n",
        "\n",
        "# Test 데이터를 통해서 정확도 확인하기\n",
        "print(\"\\n Test Accuracy: %.4f\" % (model.evaluate(X_test, Y_test)[1]))\n",
        "\n",
        "# 그래프로 표현\n",
        "x_len = np.arange(len(val_loss))\n",
        "plt.plot(x_len, val_loss, marker='.', c=\"red\", label='validation loss')\n",
        "plt.plot(x_len, loss, marker='.', c=\"blue\", label='training loss')\n",
        "\n",
        "# 그래프에 그리드를 주고 레이블을 표시\n",
        "plt.legend(loc='upper right')\n",
        "plt.grid()\n",
        "plt.xlabel('epoch')\n",
        "plt.ylabel('loss')\n",
        "plt.show()"
      ],
      "metadata": {
        "colab": {
          "base_uri": "https://localhost:8080/",
          "height": 631
        },
        "id": "nPygYgttUs4G",
        "outputId": "a164fd33-f941-4365-d36f-4a43c00b7694"
      },
      "execution_count": 33,
      "outputs": [
        {
          "output_type": "stream",
          "name": "stdout",
          "text": [
            "[11.432393074035645, 0.7649939060211182, 0.3469012379646301, 0.17217138409614563, 0.0810752809047699, 0.040486980229616165, 0.020616579800844193, 0.00929815974086523, 0.004104123450815678, 0.0019243077840656042, 0.000765790231525898, 0.00030456329113803804, 0.0002015766076510772, 0.00017050383030436933, 0.00015195398009382188, 0.00013826055510435253, 0.00012717187928501517, 0.00011754456500057131, 0.00010999295045621693, 0.000102905927633401, 9.694592881714925e-05, 9.139695612248033e-05, 8.642004104331136e-05, 8.220985910156742e-05, 7.794381963321939e-05, 7.441027264576405e-05, 7.080275099724531e-05, 6.752697663614526e-05, 6.491134263342246e-05, 6.196786853251979e-05, 5.9501533542061225e-05, 5.710890036425553e-05, 5.4853258916409686e-05, 5.272558337310329e-05, 5.088548277853988e-05, 4.886785609414801e-05, 4.705509127234109e-05, 4.5469550968846306e-05, 4.377148434286937e-05, 4.2272436985513195e-05, 4.0784427255857736e-05, 3.94623311876785e-05, 3.821223435807042e-05, 3.689149161800742e-05, 3.568495230865665e-05, 3.457699858699925e-05, 3.3463067666161805e-05, 3.243263199692592e-05, 3.1437673897016793e-05, 3.0503164452966303e-05, 2.9528002414735965e-05, 2.866139584511984e-05, 2.7792350010713562e-05, 2.701582525332924e-05, 2.6209660063614137e-05, 2.546287578297779e-05, 2.4736940758884884e-05, 2.405324630672112e-05, 2.3385946406051517e-05, 2.269874676130712e-05]\n",
            "[1.2234705686569214, 0.7149894833564758, 0.5859156847000122, 0.5561737418174744, 0.5132851004600525, 0.504874050617218, 0.4867696166038513, 0.47078490257263184, 0.4698563516139984, 0.4667515158653259, 0.46205079555511475, 0.4624171555042267, 0.46118539571762085, 0.4603959619998932, 0.4603499472141266, 0.4602726101875305, 0.4598953425884247, 0.46017178893089294, 0.45992720127105713, 0.4602363407611847, 0.45994487404823303, 0.4601757824420929, 0.45985570549964905, 0.45974496006965637, 0.4599530100822449, 0.4599223732948303, 0.4598674178123474, 0.4599389135837555, 0.4599617123603821, 0.46000880002975464, 0.4597141444683075, 0.45967400074005127, 0.45978593826293945, 0.4599776268005371, 0.45977726578712463, 0.45993608236312866, 0.4598672389984131, 0.4596870243549347, 0.4598020911216736, 0.4597824811935425, 0.4597892761230469, 0.4597328007221222, 0.45978596806526184, 0.4597243666648865, 0.4598675072193146, 0.45970848202705383, 0.4597225785255432, 0.45979830622673035, 0.45971933007240295, 0.4596943259239197, 0.4598495364189148, 0.45980197191238403, 0.4595615267753601, 0.45969417691230774, 0.459512323141098, 0.45969730615615845, 0.4595860242843628, 0.45964571833610535, 0.4595823585987091, 0.45944279432296753]\n"
          ]
        },
        {
          "output_type": "stream",
          "name": "stderr",
          "text": [
            "/usr/local/lib/python3.11/dist-packages/keras/src/models/functional.py:237: UserWarning: The structure of `inputs` doesn't match the expected structure.\n",
            "Expected: ['keras_tensor_28']\n",
            "Received: inputs=Tensor(shape=(None, 784))\n",
            "  warnings.warn(msg)\n"
          ]
        },
        {
          "output_type": "stream",
          "name": "stdout",
          "text": [
            "\u001b[1m313/313\u001b[0m \u001b[32m━━━━━━━━━━━━━━━━━━━━\u001b[0m\u001b[37m\u001b[0m \u001b[1m2s\u001b[0m 4ms/step - categorical_accuracy: 0.9484 - loss: 0.5330\n",
            "\n",
            " Test Accuracy: 0.9565\n"
          ]
        },
        {
          "output_type": "display_data",
          "data": {
            "text/plain": [
              "<Figure size 640x480 with 1 Axes>"
            ],
            "image/png": "[encoded data removed]"
          },
          "metadata": {}
        }
      ]
    },
    {
      "cell_type": "markdown",
      "source": [
        "---\n",
        "4. batch size만 2배로 증가했을 때 => 정확도는 0.9499로 감소했다.\n",
        "\n",
        "(아래 결과)\n",
        "\n",
        "batch size를 늘림으로써 안정적이고 부드러운 학습을 도와주는 효과보다 메모리 사용량을 과도하게 늘려 훈련을 어렵게 하는 효과 또는 학습의 세밀함을 낮추는 효과가 더 컸음을 예상할 수 있다."
      ],
      "metadata": {
        "id": "TCCHQo1vU6iJ"
      }
    },
    {
      "cell_type": "code",
      "source": [
        "# 모델 다르게 만들기\n",
        "# Playground\n",
        "# Dense Layer 원상복귀 (hidden layer 2)\n",
        "# 학습률 원상복귀 (0.001)\n",
        "# epoch 원상복귀 (30)\n",
        "# batch size 원상복귀 (2000)\n",
        "\n",
        "# 모델 설계하기\n",
        "input_layer = tf.keras.layers.Input(shape=(784,)) # input layer, input의 사이즈에 맞게 shape을 지정하는 것이 중요\n",
        "x = tf.keras.layers.Dense(512, activation='relu')(input_layer) # hidden layer 1, 512개의 perceptron으로 구성된 fully connted layer, activation 함수는 relu\n",
        "x = tf.keras.layers.Dense(512, activation='relu')(x) # hidden layer 2\n",
        "\n",
        "# 분류해야 하는 class 0~9 (10개) -> 따라서 최종 layer의 perceptron은 10개\n",
        "out_layer= tf.keras.layers.Dense(10, activation='softmax')(x)\n",
        "\n",
        "model = tf.keras.Model(inputs=[input_layer], outputs=[out_layer])\n",
        "model.summary()\n",
        "\n",
        "loss=tf.keras.losses.categorical_crossentropy\n",
        "optimizer = tf.keras.optimizers.Adam(learning_rate = 0.001)\n",
        "metric=tf.keras.metrics.categorical_accuracy\n",
        "model.compile(loss = loss,\n",
        "              optimizer = optimizer,\n",
        "              metrics = [metric])\n",
        "\n",
        "# validation_data 옵션으로 테스트 데이터만 넣어주어서 검증 데이터 분류가 가능\n",
        "history = model.fit(X_train, Y_train, validation_split=0.2, epochs=30, batch_size=2000, verbose=1)\n",
        "print(history.history.keys())"
      ],
      "metadata": {
        "colab": {
          "base_uri": "https://localhost:8080/",
          "height": 1000
        },
        "id": "9DE_edhtU-go",
        "outputId": "bd902fb5-8f4c-4624-db67-d36c38bdb68f"
      },
      "execution_count": 34,
      "outputs": [
        {
          "output_type": "display_data",
          "data": {
            "text/plain": [
              "\u001b[1mModel: \"functional_7\"\u001b[0m\n"
            ],
            "text/html": [
              "<pre style=\"white-space:pre;overflow-x:auto;line-height:normal;font-family:Menlo,'DejaVu Sans Mono',consolas,'Courier New',monospace\"><span style=\"font-weight: bold\">Model: \"functional_7\"</span>\n",
              "</pre>\n"
            ]
          },
          "metadata": {}
        },
        {
          "output_type": "display_data",
          "data": {
            "text/plain": [
              "┏━━━━━━━━━━━━━━━━━━━━━━━━━━━━━━━━━━━━━━┳━━━━━━━━━━━━━━━━━━━━━━━━━━━━━┳━━━━━━━━━━━━━━━━━┓\n",
              "┃\u001b[1m \u001b[0m\u001b[1mLayer (type)                        \u001b[0m\u001b[1m \u001b[0m┃\u001b[1m \u001b[0m\u001b[1mOutput Shape               \u001b[0m\u001b[1m \u001b[0m┃\u001b[1m \u001b[0m\u001b[1m        Param #\u001b[0m\u001b[1m \u001b[0m┃\n",
              "┡━━━━━━━━━━━━━━━━━━━━━━━━━━━━━━━━━━━━━━╇━━━━━━━━━━━━━━━━━━━━━━━━━━━━━╇━━━━━━━━━━━━━━━━━┩\n",
              "│ input_layer_7 (\u001b[38;5;33mInputLayer\u001b[0m)           │ (\u001b[38;5;45mNone\u001b[0m, \u001b[38;5;34m784\u001b[0m)                 │               \u001b[38;5;34m0\u001b[0m │\n",
              "├──────────────────────────────────────┼─────────────────────────────┼─────────────────┤\n",
              "│ dense_25 (\u001b[38;5;33mDense\u001b[0m)                     │ (\u001b[38;5;45mNone\u001b[0m, \u001b[38;5;34m512\u001b[0m)                 │         \u001b[38;5;34m401,920\u001b[0m │\n",
              "├──────────────────────────────────────┼─────────────────────────────┼─────────────────┤\n",
              "│ dense_26 (\u001b[38;5;33mDense\u001b[0m)                     │ (\u001b[38;5;45mNone\u001b[0m, \u001b[38;5;34m512\u001b[0m)                 │         \u001b[38;5;34m262,656\u001b[0m │\n",
              "├──────────────────────────────────────┼─────────────────────────────┼─────────────────┤\n",
              "│ dense_27 (\u001b[38;5;33mDense\u001b[0m)                     │ (\u001b[38;5;45mNone\u001b[0m, \u001b[38;5;34m10\u001b[0m)                  │           \u001b[38;5;34m5,130\u001b[0m │\n",
              "└──────────────────────────────────────┴─────────────────────────────┴─────────────────┘\n"
            ],
            "text/html": [
              "<pre style=\"white-space:pre;overflow-x:auto;line-height:normal;font-family:Menlo,'DejaVu Sans Mono',consolas,'Courier New',monospace\">┏━━━━━━━━━━━━━━━━━━━━━━━━━━━━━━━━━━━━━━┳━━━━━━━━━━━━━━━━━━━━━━━━━━━━━┳━━━━━━━━━━━━━━━━━┓\n",
              "┃<span style=\"font-weight: bold\"> Layer (type)                         </span>┃<span style=\"font-weight: bold\"> Output Shape                </span>┃<span style=\"font-weight: bold\">         Param # </span>┃\n",
              "┡━━━━━━━━━━━━━━━━━━━━━━━━━━━━━━━━━━━━━━╇━━━━━━━━━━━━━━━━━━━━━━━━━━━━━╇━━━━━━━━━━━━━━━━━┩\n",
              "│ input_layer_7 (<span style=\"color: #0087ff; text-decoration-color: #0087ff\">InputLayer</span>)           │ (<span style=\"color: #00d7ff; text-decoration-color: #00d7ff\">None</span>, <span style=\"color: #00af00; text-decoration-color: #00af00\">784</span>)                 │               <span style=\"color: #00af00; text-decoration-color: #00af00\">0</span> │\n",
              "├──────────────────────────────────────┼─────────────────────────────┼─────────────────┤\n",
              "│ dense_25 (<span style=\"color: #0087ff; text-decoration-color: #0087ff\">Dense</span>)                     │ (<span style=\"color: #00d7ff; text-decoration-color: #00d7ff\">None</span>, <span style=\"color: #00af00; text-decoration-color: #00af00\">512</span>)                 │         <span style=\"color: #00af00; text-decoration-color: #00af00\">401,920</span> │\n",
              "├──────────────────────────────────────┼─────────────────────────────┼─────────────────┤\n",
              "│ dense_26 (<span style=\"color: #0087ff; text-decoration-color: #0087ff\">Dense</span>)                     │ (<span style=\"color: #00d7ff; text-decoration-color: #00d7ff\">None</span>, <span style=\"color: #00af00; text-decoration-color: #00af00\">512</span>)                 │         <span style=\"color: #00af00; text-decoration-color: #00af00\">262,656</span> │\n",
              "├──────────────────────────────────────┼─────────────────────────────┼─────────────────┤\n",
              "│ dense_27 (<span style=\"color: #0087ff; text-decoration-color: #0087ff\">Dense</span>)                     │ (<span style=\"color: #00d7ff; text-decoration-color: #00d7ff\">None</span>, <span style=\"color: #00af00; text-decoration-color: #00af00\">10</span>)                  │           <span style=\"color: #00af00; text-decoration-color: #00af00\">5,130</span> │\n",
              "└──────────────────────────────────────┴─────────────────────────────┴─────────────────┘\n",
              "</pre>\n"
            ]
          },
          "metadata": {}
        },
        {
          "output_type": "display_data",
          "data": {
            "text/plain": [
              "\u001b[1m Total params: \u001b[0m\u001b[38;5;34m669,706\u001b[0m (2.55 MB)\n"
            ],
            "text/html": [
              "<pre style=\"white-space:pre;overflow-x:auto;line-height:normal;font-family:Menlo,'DejaVu Sans Mono',consolas,'Courier New',monospace\"><span style=\"font-weight: bold\"> Total params: </span><span style=\"color: #00af00; text-decoration-color: #00af00\">669,706</span> (2.55 MB)\n",
              "</pre>\n"
            ]
          },
          "metadata": {}
        },
        {
          "output_type": "display_data",
          "data": {
            "text/plain": [
              "\u001b[1m Trainable params: \u001b[0m\u001b[38;5;34m669,706\u001b[0m (2.55 MB)\n"
            ],
            "text/html": [
              "<pre style=\"white-space:pre;overflow-x:auto;line-height:normal;font-family:Menlo,'DejaVu Sans Mono',consolas,'Courier New',monospace\"><span style=\"font-weight: bold\"> Trainable params: </span><span style=\"color: #00af00; text-decoration-color: #00af00\">669,706</span> (2.55 MB)\n",
              "</pre>\n"
            ]
          },
          "metadata": {}
        },
        {
          "output_type": "display_data",
          "data": {
            "text/plain": [
              "\u001b[1m Non-trainable params: \u001b[0m\u001b[38;5;34m0\u001b[0m (0.00 B)\n"
            ],
            "text/html": [
              "<pre style=\"white-space:pre;overflow-x:auto;line-height:normal;font-family:Menlo,'DejaVu Sans Mono',consolas,'Courier New',monospace\"><span style=\"font-weight: bold\"> Non-trainable params: </span><span style=\"color: #00af00; text-decoration-color: #00af00\">0</span> (0.00 B)\n",
              "</pre>\n"
            ]
          },
          "metadata": {}
        },
        {
          "output_type": "stream",
          "name": "stdout",
          "text": [
            "Epoch 1/30\n"
          ]
        },
        {
          "output_type": "stream",
          "name": "stderr",
          "text": [
            "/usr/local/lib/python3.11/dist-packages/keras/src/models/functional.py:237: UserWarning: The structure of `inputs` doesn't match the expected structure.\n",
            "Expected: ['keras_tensor_32']\n",
            "Received: inputs=Tensor(shape=(2000, 784))\n",
            "  warnings.warn(msg)\n"
          ]
        },
        {
          "output_type": "stream",
          "name": "stdout",
          "text": [
            "\u001b[1m24/24\u001b[0m \u001b[32m━━━━━━━━━━━━━━━━━━━━\u001b[0m\u001b[37m\u001b[0m \u001b[1m6s\u001b[0m 159ms/step - categorical_accuracy: 0.4940 - loss: 49.1347 - val_categorical_accuracy: 0.8854 - val_loss: 3.1180\n",
            "Epoch 2/30\n",
            "\u001b[1m24/24\u001b[0m \u001b[32m━━━━━━━━━━━━━━━━━━━━\u001b[0m\u001b[37m\u001b[0m \u001b[1m5s\u001b[0m 144ms/step - categorical_accuracy: 0.8926 - loss: 2.4771 - val_categorical_accuracy: 0.9222 - val_loss: 1.2795\n",
            "Epoch 3/30\n",
            "\u001b[1m24/24\u001b[0m \u001b[32m━━━━━━━━━━━━━━━━━━━━\u001b[0m\u001b[37m\u001b[0m \u001b[1m5s\u001b[0m 192ms/step - categorical_accuracy: 0.9292 - loss: 0.9886 - val_categorical_accuracy: 0.9262 - val_loss: 0.9265\n",
            "Epoch 4/30\n",
            "\u001b[1m24/24\u001b[0m \u001b[32m━━━━━━━━━━━━━━━━━━━━\u001b[0m\u001b[37m\u001b[0m \u001b[1m4s\u001b[0m 145ms/step - categorical_accuracy: 0.9436 - loss: 0.6043 - val_categorical_accuracy: 0.9331 - val_loss: 0.7634\n",
            "Epoch 5/30\n",
            "\u001b[1m24/24\u001b[0m \u001b[32m━━━━━━━━━━━━━━━━━━━━\u001b[0m\u001b[37m\u001b[0m \u001b[1m3s\u001b[0m 144ms/step - categorical_accuracy: 0.9598 - loss: 0.3495 - val_categorical_accuracy: 0.9362 - val_loss: 0.6843\n",
            "Epoch 6/30\n",
            "\u001b[1m24/24\u001b[0m \u001b[32m━━━━━━━━━━━━━━━━━━━━\u001b[0m\u001b[37m\u001b[0m \u001b[1m4s\u001b[0m 166ms/step - categorical_accuracy: 0.9687 - loss: 0.2430 - val_categorical_accuracy: 0.9375 - val_loss: 0.6352\n",
            "Epoch 7/30\n",
            "\u001b[1m24/24\u001b[0m \u001b[32m━━━━━━━━━━━━━━━━━━━━\u001b[0m\u001b[37m\u001b[0m \u001b[1m5s\u001b[0m 155ms/step - categorical_accuracy: 0.9776 - loss: 0.1570 - val_categorical_accuracy: 0.9407 - val_loss: 0.6027\n",
            "Epoch 8/30\n",
            "\u001b[1m24/24\u001b[0m \u001b[32m━━━━━━━━━━━━━━━━━━━━\u001b[0m\u001b[37m\u001b[0m \u001b[1m3s\u001b[0m 143ms/step - categorical_accuracy: 0.9840 - loss: 0.1044 - val_categorical_accuracy: 0.9421 - val_loss: 0.5828\n",
            "Epoch 9/30\n",
            "\u001b[1m24/24\u001b[0m \u001b[32m━━━━━━━━━━━━━━━━━━━━\u001b[0m\u001b[37m\u001b[0m \u001b[1m4s\u001b[0m 160ms/step - categorical_accuracy: 0.9879 - loss: 0.0699 - val_categorical_accuracy: 0.9423 - val_loss: 0.5629\n",
            "Epoch 10/30\n",
            "\u001b[1m24/24\u001b[0m \u001b[32m━━━━━━━━━━━━━━━━━━━━\u001b[0m\u001b[37m\u001b[0m \u001b[1m5s\u001b[0m 221ms/step - categorical_accuracy: 0.9914 - loss: 0.0453 - val_categorical_accuracy: 0.9429 - val_loss: 0.5518\n",
            "Epoch 11/30\n",
            "\u001b[1m24/24\u001b[0m \u001b[32m━━━━━━━━━━━━━━━━━━━━\u001b[0m\u001b[37m\u001b[0m \u001b[1m8s\u001b[0m 142ms/step - categorical_accuracy: 0.9944 - loss: 0.0306 - val_categorical_accuracy: 0.9445 - val_loss: 0.5486\n",
            "Epoch 12/30\n",
            "\u001b[1m24/24\u001b[0m \u001b[32m━━━━━━━━━━━━━━━━━━━━\u001b[0m\u001b[37m\u001b[0m \u001b[1m5s\u001b[0m 221ms/step - categorical_accuracy: 0.9968 - loss: 0.0188 - val_categorical_accuracy: 0.9448 - val_loss: 0.5386\n",
            "Epoch 13/30\n",
            "\u001b[1m24/24\u001b[0m \u001b[32m━━━━━━━━━━━━━━━━━━━━\u001b[0m\u001b[37m\u001b[0m \u001b[1m3s\u001b[0m 140ms/step - categorical_accuracy: 0.9979 - loss: 0.0101 - val_categorical_accuracy: 0.9453 - val_loss: 0.5383\n",
            "Epoch 14/30\n",
            "\u001b[1m24/24\u001b[0m \u001b[32m━━━━━━━━━━━━━━━━━━━━\u001b[0m\u001b[37m\u001b[0m \u001b[1m4s\u001b[0m 161ms/step - categorical_accuracy: 0.9991 - loss: 0.0056 - val_categorical_accuracy: 0.9452 - val_loss: 0.5370\n",
            "Epoch 15/30\n",
            "\u001b[1m24/24\u001b[0m \u001b[32m━━━━━━━━━━━━━━━━━━━━\u001b[0m\u001b[37m\u001b[0m \u001b[1m6s\u001b[0m 221ms/step - categorical_accuracy: 0.9996 - loss: 0.0031 - val_categorical_accuracy: 0.9467 - val_loss: 0.5330\n",
            "Epoch 16/30\n",
            "\u001b[1m24/24\u001b[0m \u001b[32m━━━━━━━━━━━━━━━━━━━━\u001b[0m\u001b[37m\u001b[0m \u001b[1m3s\u001b[0m 142ms/step - categorical_accuracy: 0.9999 - loss: 0.0018 - val_categorical_accuracy: 0.9470 - val_loss: 0.5323\n",
            "Epoch 17/30\n",
            "\u001b[1m24/24\u001b[0m \u001b[32m━━━━━━━━━━━━━━━━━━━━\u001b[0m\u001b[37m\u001b[0m \u001b[1m5s\u001b[0m 143ms/step - categorical_accuracy: 1.0000 - loss: 0.0013 - val_categorical_accuracy: 0.9474 - val_loss: 0.5294\n",
            "Epoch 18/30\n",
            "\u001b[1m24/24\u001b[0m \u001b[32m━━━━━━━━━━━━━━━━━━━━\u001b[0m\u001b[37m\u001b[0m \u001b[1m5s\u001b[0m 218ms/step - categorical_accuracy: 0.9999 - loss: 0.0011 - val_categorical_accuracy: 0.9478 - val_loss: 0.5291\n",
            "Epoch 19/30\n",
            "\u001b[1m24/24\u001b[0m \u001b[32m━━━━━━━━━━━━━━━━━━━━\u001b[0m\u001b[37m\u001b[0m \u001b[1m9s\u001b[0m 147ms/step - categorical_accuracy: 1.0000 - loss: 9.0536e-04 - val_categorical_accuracy: 0.9477 - val_loss: 0.5282\n",
            "Epoch 20/30\n",
            "\u001b[1m24/24\u001b[0m \u001b[32m━━━━━━━━━━━━━━━━━━━━\u001b[0m\u001b[37m\u001b[0m \u001b[1m5s\u001b[0m 198ms/step - categorical_accuracy: 1.0000 - loss: 8.2223e-04 - val_categorical_accuracy: 0.9481 - val_loss: 0.5281\n",
            "Epoch 21/30\n",
            "\u001b[1m24/24\u001b[0m \u001b[32m━━━━━━━━━━━━━━━━━━━━\u001b[0m\u001b[37m\u001b[0m \u001b[1m4s\u001b[0m 144ms/step - categorical_accuracy: 1.0000 - loss: 6.8593e-04 - val_categorical_accuracy: 0.9487 - val_loss: 0.5278\n",
            "Epoch 22/30\n",
            "\u001b[1m24/24\u001b[0m \u001b[32m━━━━━━━━━━━━━━━━━━━━\u001b[0m\u001b[37m\u001b[0m \u001b[1m3s\u001b[0m 142ms/step - categorical_accuracy: 1.0000 - loss: 6.4220e-04 - val_categorical_accuracy: 0.9483 - val_loss: 0.5272\n",
            "Epoch 23/30\n",
            "\u001b[1m24/24\u001b[0m \u001b[32m━━━━━━━━━━━━━━━━━━━━\u001b[0m\u001b[37m\u001b[0m \u001b[1m4s\u001b[0m 172ms/step - categorical_accuracy: 1.0000 - loss: 6.0485e-04 - val_categorical_accuracy: 0.9487 - val_loss: 0.5267\n",
            "Epoch 24/30\n",
            "\u001b[1m24/24\u001b[0m \u001b[32m━━━━━━━━━━━━━━━━━━━━\u001b[0m\u001b[37m\u001b[0m \u001b[1m5s\u001b[0m 151ms/step - categorical_accuracy: 1.0000 - loss: 5.5072e-04 - val_categorical_accuracy: 0.9491 - val_loss: 0.5267\n",
            "Epoch 25/30\n",
            "\u001b[1m24/24\u001b[0m \u001b[32m━━━━━━━━━━━━━━━━━━━━\u001b[0m\u001b[37m\u001b[0m \u001b[1m5s\u001b[0m 144ms/step - categorical_accuracy: 1.0000 - loss: 5.1912e-04 - val_categorical_accuracy: 0.9490 - val_loss: 0.5264\n",
            "Epoch 26/30\n",
            "\u001b[1m24/24\u001b[0m \u001b[32m━━━━━━━━━━━━━━━━━━━━\u001b[0m\u001b[37m\u001b[0m \u001b[1m5s\u001b[0m 195ms/step - categorical_accuracy: 1.0000 - loss: 4.8654e-04 - val_categorical_accuracy: 0.9491 - val_loss: 0.5259\n",
            "Epoch 27/30\n",
            "\u001b[1m24/24\u001b[0m \u001b[32m━━━━━━━━━━━━━━━━━━━━\u001b[0m\u001b[37m\u001b[0m \u001b[1m4s\u001b[0m 162ms/step - categorical_accuracy: 1.0000 - loss: 4.6253e-04 - val_categorical_accuracy: 0.9494 - val_loss: 0.5257\n",
            "Epoch 28/30\n",
            "\u001b[1m24/24\u001b[0m \u001b[32m━━━━━━━━━━━━━━━━━━━━\u001b[0m\u001b[37m\u001b[0m \u001b[1m5s\u001b[0m 140ms/step - categorical_accuracy: 1.0000 - loss: 3.9999e-04 - val_categorical_accuracy: 0.9498 - val_loss: 0.5251\n",
            "Epoch 29/30\n",
            "\u001b[1m24/24\u001b[0m \u001b[32m━━━━━━━━━━━━━━━━━━━━\u001b[0m\u001b[37m\u001b[0m \u001b[1m7s\u001b[0m 217ms/step - categorical_accuracy: 1.0000 - loss: 3.8017e-04 - val_categorical_accuracy: 0.9498 - val_loss: 0.5249\n",
            "Epoch 30/30\n",
            "\u001b[1m24/24\u001b[0m \u001b[32m━━━━━━━━━━━━━━━━━━━━\u001b[0m\u001b[37m\u001b[0m \u001b[1m4s\u001b[0m 152ms/step - categorical_accuracy: 1.0000 - loss: 3.8527e-04 - val_categorical_accuracy: 0.9498 - val_loss: 0.5247\n",
            "dict_keys(['categorical_accuracy', 'loss', 'val_categorical_accuracy', 'val_loss'])\n"
          ]
        }
      ]
    },
    {
      "cell_type": "code",
      "source": [
        "# Training loss 확인하기\n",
        "loss = history.history['loss']\n",
        "print(loss)\n",
        "\n",
        "# Q. Validation loss를 확인해 보세요.\n",
        "val_loss = history.history['val_loss']\n",
        "print(val_loss)\n",
        "\n",
        "# Test 데이터를 통해서 정확도 확인하기\n",
        "print(\"\\n Test Accuracy: %.4f\" % (model.evaluate(X_test, Y_test)[1]))\n",
        "\n",
        "# 그래프로 표현\n",
        "x_len = np.arange(len(val_loss))\n",
        "plt.plot(x_len, val_loss, marker='.', c=\"red\", label='validation loss')\n",
        "plt.plot(x_len, loss, marker='.', c=\"blue\", label='training loss')\n",
        "\n",
        "# 그래프에 그리드를 주고 레이블을 표시\n",
        "plt.legend(loc='upper right')\n",
        "plt.grid()\n",
        "plt.xlabel('epoch')\n",
        "plt.ylabel('loss')\n",
        "plt.show()"
      ],
      "metadata": {
        "colab": {
          "base_uri": "https://localhost:8080/",
          "height": 625
        },
        "id": "gQJ12DHMU-7j",
        "outputId": "58dd20bc-bb2d-4a1c-a401-adca3d939af2"
      },
      "execution_count": 35,
      "outputs": [
        {
          "output_type": "stream",
          "name": "stdout",
          "text": [
            "[23.696773529052734, 2.0097570419311523, 0.9221237897872925, 0.5449385046958923, 0.349692165851593, 0.23264656960964203, 0.1536543369293213, 0.10522040724754333, 0.06988810002803802, 0.04422825202345848, 0.027770033106207848, 0.017140494659543037, 0.010544739663600922, 0.005651015788316727, 0.003204809734597802, 0.001916821813210845, 0.001349933329038322, 0.0010568187572062016, 0.0008862814283929765, 0.0007818186422809958, 0.000702562159858644, 0.0006415418465621769, 0.0005932081257924438, 0.0005480671534314752, 0.0005083242431282997, 0.00047576348879374564, 0.00044793871347792447, 0.00042065922752954066, 0.0003968878882005811, 0.00037596686161123216]\n",
            "[3.118027448654175, 1.279508113861084, 0.9264593124389648, 0.7633813619613647, 0.6843400597572327, 0.635206401348114, 0.602677583694458, 0.5828102231025696, 0.562938928604126, 0.551771879196167, 0.5485514998435974, 0.5385513305664062, 0.538343608379364, 0.5369695425033569, 0.533025860786438, 0.5322789549827576, 0.5294138789176941, 0.5291385650634766, 0.528192400932312, 0.5281240940093994, 0.5277963280677795, 0.5272158980369568, 0.526745617389679, 0.5267186164855957, 0.5263643264770508, 0.5259261131286621, 0.525661051273346, 0.5250616669654846, 0.524948000907898, 0.5246963500976562]\n",
            "\u001b[1m  1/313\u001b[0m \u001b[37m━━━━━━━━━━━━━━━━━━━━\u001b[0m \u001b[1m1:05\u001b[0m 211ms/step - categorical_accuracy: 0.9688 - loss: 0.3724"
          ]
        },
        {
          "output_type": "stream",
          "name": "stderr",
          "text": [
            "/usr/local/lib/python3.11/dist-packages/keras/src/models/functional.py:237: UserWarning: The structure of `inputs` doesn't match the expected structure.\n",
            "Expected: ['keras_tensor_32']\n",
            "Received: inputs=Tensor(shape=(None, 784))\n",
            "  warnings.warn(msg)\n"
          ]
        },
        {
          "output_type": "stream",
          "name": "stdout",
          "text": [
            "\u001b[1m313/313\u001b[0m \u001b[32m━━━━━━━━━━━━━━━━━━━━\u001b[0m\u001b[37m\u001b[0m \u001b[1m1s\u001b[0m 4ms/step - categorical_accuracy: 0.9424 - loss: 0.5525\n",
            "\n",
            " Test Accuracy: 0.9499\n"
          ]
        },
        {
          "output_type": "display_data",
          "data": {
            "text/plain": [
              "<Figure size 640x480 with 1 Axes>"
            ],
            "image/png": "[encoded data removed]"
          },
          "metadata": {}
        }
      ]
    },
    {
      "cell_type": "markdown",
      "source": [
        "# 파라미터 사이의 상호의존성\n",
        "\n",
        "각 파라미터들은 독립적이지 않고, 상호의존적인 관계로서 영향을 끼친다고 한다.\n",
        "\n",
        "ex1) 학습률 ~ 배치 크기: 반비례\n",
        "\n",
        "ex2) 배치 크기 ~ 에포크: 반비례\n",
        "\n",
        "ex3) 학습률 ~ 에포크: 반비례\n",
        "\n",
        "ex4) 학습률 ~ Hidden Layer layer: 반비례\n",
        "\n",
        "인 경우 더 효과적인 경우가 많음.\n",
        "\n",
        "이에 따라\n",
        "Hidden Layer layer를 2개에서 3개로 늘렸을 경우만 더 높은 정확도를 얻었으므로,\n",
        "\n",
        "(i) Hidden Layer layer는 3개로 고정하고,\n",
        "\n",
        "(ii) 학습률은 0.001에서 0.00075 정도로 조금만 낮추고,\n",
        "\n",
        "(iii) 배치 크기는 1000에서 1500 정도로 조금만 늘리겠다.\n",
        "\n",
        "(iv) 에포크는 30 으로 유지할텐데, 이는 에포크 증가로 인한 과적합을 방지하기 위해서이다.\n",
        "\n",
        "(에포크 증가와 조건 i, ii가 긍정적 시너지를 일으킬 수도 있지만, 그보다는 배치 크기 증가와의 조건 i, ii가 더 적은 리스크로 큰 긍정적 효과(과적합 방지, 일반화 성능 향상 etc.)를 일으킬 것이라 예상한다.)\n",
        "\n"
      ],
      "metadata": {
        "id": "hL98pMyaZBbq"
      }
    },
    {
      "cell_type": "code",
      "source": [
        "# 모델 다르게 만들기\n",
        "# Playground\n",
        "# Dense Layer 1줄 늘림 (hidden layer 2 -> 3)\n",
        "# 학습률 조금 낮춤 (0.001 -> 0.00075)\n",
        "# epoch 그대로 유지 (30)\n",
        "# batch size 조금 늘림 (1000 -> 1500)\n",
        "# 종합적으로 과도하게 학습 속도가 느려지거나, 과적합이 오지 않도록\n",
        "# 2배씩만 조정\n",
        "# Training loss와 test loss가 더 낮아질 것으로 예상\n",
        "# 모델의 예측 성능이 더 좋아질 것으로 예상\n",
        "\n",
        "# 모델 설계하기\n",
        "input_layer = tf.keras.layers.Input(shape=(784,)) # input layer, input의 사이즈에 맞게 shape을 지정하는 것이 중요\n",
        "x = tf.keras.layers.Dense(512, activation='relu')(input_layer) # hidden layer 1, 512개의 perceptron으로 구성된 fully connted layer, activation 함수는 relu\n",
        "x = tf.keras.layers.Dense(512, activation='relu')(x) # hidden layer 2\n",
        "x = tf.keras.layers.Dense(512, activation='relu')(x) # hidden layer 3\n",
        "\n",
        "# 분류해야 하는 class 0~9 (10개) -> 따라서 최종 layer의 perceptron은 10개\n",
        "out_layer= tf.keras.layers.Dense(10, activation='softmax')(x)\n",
        "\n",
        "model = tf.keras.Model(inputs=[input_layer], outputs=[out_layer])\n",
        "model.summary()\n",
        "\n",
        "loss=tf.keras.losses.categorical_crossentropy\n",
        "optimizer = tf.keras.optimizers.Adam(learning_rate = 0.00075)\n",
        "metric=tf.keras.metrics.categorical_accuracy\n",
        "model.compile(loss = loss,\n",
        "              optimizer = optimizer,\n",
        "              metrics = [metric])\n",
        "\n",
        "# validation_data 옵션으로 테스트 데이터만 넣어주어서 검증 데이터 분류가 가능\n",
        "history = model.fit(X_train, Y_train, validation_split=0.2, epochs=30, batch_size=1500, verbose=1)\n",
        "print(history.history.keys())"
      ],
      "metadata": {
        "colab": {
          "base_uri": "https://localhost:8080/",
          "height": 1000
        },
        "id": "CgZ5-nJgZAU3",
        "outputId": "29e0c8e8-29d7-43c5-9df5-cb9f6db95c57"
      },
      "execution_count": 36,
      "outputs": [
        {
          "output_type": "display_data",
          "data": {
            "text/plain": [
              "\u001b[1mModel: \"functional_8\"\u001b[0m\n"
            ],
            "text/html": [
              "<pre style=\"white-space:pre;overflow-x:auto;line-height:normal;font-family:Menlo,'DejaVu Sans Mono',consolas,'Courier New',monospace\"><span style=\"font-weight: bold\">Model: \"functional_8\"</span>\n",
              "</pre>\n"
            ]
          },
          "metadata": {}
        },
        {
          "output_type": "display_data",
          "data": {
            "text/plain": [
              "┏━━━━━━━━━━━━━━━━━━━━━━━━━━━━━━━━━━━━━━┳━━━━━━━━━━━━━━━━━━━━━━━━━━━━━┳━━━━━━━━━━━━━━━━━┓\n",
              "┃\u001b[1m \u001b[0m\u001b[1mLayer (type)                        \u001b[0m\u001b[1m \u001b[0m┃\u001b[1m \u001b[0m\u001b[1mOutput Shape               \u001b[0m\u001b[1m \u001b[0m┃\u001b[1m \u001b[0m\u001b[1m        Param #\u001b[0m\u001b[1m \u001b[0m┃\n",
              "┡━━━━━━━━━━━━━━━━━━━━━━━━━━━━━━━━━━━━━━╇━━━━━━━━━━━━━━━━━━━━━━━━━━━━━╇━━━━━━━━━━━━━━━━━┩\n",
              "│ input_layer_8 (\u001b[38;5;33mInputLayer\u001b[0m)           │ (\u001b[38;5;45mNone\u001b[0m, \u001b[38;5;34m784\u001b[0m)                 │               \u001b[38;5;34m0\u001b[0m │\n",
              "├──────────────────────────────────────┼─────────────────────────────┼─────────────────┤\n",
              "│ dense_28 (\u001b[38;5;33mDense\u001b[0m)                     │ (\u001b[38;5;45mNone\u001b[0m, \u001b[38;5;34m512\u001b[0m)                 │         \u001b[38;5;34m401,920\u001b[0m │\n",
              "├──────────────────────────────────────┼─────────────────────────────┼─────────────────┤\n",
              "│ dense_29 (\u001b[38;5;33mDense\u001b[0m)                     │ (\u001b[38;5;45mNone\u001b[0m, \u001b[38;5;34m512\u001b[0m)                 │         \u001b[38;5;34m262,656\u001b[0m │\n",
              "├──────────────────────────────────────┼─────────────────────────────┼─────────────────┤\n",
              "│ dense_30 (\u001b[38;5;33mDense\u001b[0m)                     │ (\u001b[38;5;45mNone\u001b[0m, \u001b[38;5;34m512\u001b[0m)                 │         \u001b[38;5;34m262,656\u001b[0m │\n",
              "├──────────────────────────────────────┼─────────────────────────────┼─────────────────┤\n",
              "│ dense_31 (\u001b[38;5;33mDense\u001b[0m)                     │ (\u001b[38;5;45mNone\u001b[0m, \u001b[38;5;34m10\u001b[0m)                  │           \u001b[38;5;34m5,130\u001b[0m │\n",
              "└──────────────────────────────────────┴─────────────────────────────┴─────────────────┘\n"
            ],
            "text/html": [
              "<pre style=\"white-space:pre;overflow-x:auto;line-height:normal;font-family:Menlo,'DejaVu Sans Mono',consolas,'Courier New',monospace\">┏━━━━━━━━━━━━━━━━━━━━━━━━━━━━━━━━━━━━━━┳━━━━━━━━━━━━━━━━━━━━━━━━━━━━━┳━━━━━━━━━━━━━━━━━┓\n",
              "┃<span style=\"font-weight: bold\"> Layer (type)                         </span>┃<span style=\"font-weight: bold\"> Output Shape                </span>┃<span style=\"font-weight: bold\">         Param # </span>┃\n",
              "┡━━━━━━━━━━━━━━━━━━━━━━━━━━━━━━━━━━━━━━╇━━━━━━━━━━━━━━━━━━━━━━━━━━━━━╇━━━━━━━━━━━━━━━━━┩\n",
              "│ input_layer_8 (<span style=\"color: #0087ff; text-decoration-color: #0087ff\">InputLayer</span>)           │ (<span style=\"color: #00d7ff; text-decoration-color: #00d7ff\">None</span>, <span style=\"color: #00af00; text-decoration-color: #00af00\">784</span>)                 │               <span style=\"color: #00af00; text-decoration-color: #00af00\">0</span> │\n",
              "├──────────────────────────────────────┼─────────────────────────────┼─────────────────┤\n",
              "│ dense_28 (<span style=\"color: #0087ff; text-decoration-color: #0087ff\">Dense</span>)                     │ (<span style=\"color: #00d7ff; text-decoration-color: #00d7ff\">None</span>, <span style=\"color: #00af00; text-decoration-color: #00af00\">512</span>)                 │         <span style=\"color: #00af00; text-decoration-color: #00af00\">401,920</span> │\n",
              "├──────────────────────────────────────┼─────────────────────────────┼─────────────────┤\n",
              "│ dense_29 (<span style=\"color: #0087ff; text-decoration-color: #0087ff\">Dense</span>)                     │ (<span style=\"color: #00d7ff; text-decoration-color: #00d7ff\">None</span>, <span style=\"color: #00af00; text-decoration-color: #00af00\">512</span>)                 │         <span style=\"color: #00af00; text-decoration-color: #00af00\">262,656</span> │\n",
              "├──────────────────────────────────────┼─────────────────────────────┼─────────────────┤\n",
              "│ dense_30 (<span style=\"color: #0087ff; text-decoration-color: #0087ff\">Dense</span>)                     │ (<span style=\"color: #00d7ff; text-decoration-color: #00d7ff\">None</span>, <span style=\"color: #00af00; text-decoration-color: #00af00\">512</span>)                 │         <span style=\"color: #00af00; text-decoration-color: #00af00\">262,656</span> │\n",
              "├──────────────────────────────────────┼─────────────────────────────┼─────────────────┤\n",
              "│ dense_31 (<span style=\"color: #0087ff; text-decoration-color: #0087ff\">Dense</span>)                     │ (<span style=\"color: #00d7ff; text-decoration-color: #00d7ff\">None</span>, <span style=\"color: #00af00; text-decoration-color: #00af00\">10</span>)                  │           <span style=\"color: #00af00; text-decoration-color: #00af00\">5,130</span> │\n",
              "└──────────────────────────────────────┴─────────────────────────────┴─────────────────┘\n",
              "</pre>\n"
            ]
          },
          "metadata": {}
        },
        {
          "output_type": "display_data",
          "data": {
            "text/plain": [
              "\u001b[1m Total params: \u001b[0m\u001b[38;5;34m932,362\u001b[0m (3.56 MB)\n"
            ],
            "text/html": [
              "<pre style=\"white-space:pre;overflow-x:auto;line-height:normal;font-family:Menlo,'DejaVu Sans Mono',consolas,'Courier New',monospace\"><span style=\"font-weight: bold\"> Total params: </span><span style=\"color: #00af00; text-decoration-color: #00af00\">932,362</span> (3.56 MB)\n",
              "</pre>\n"
            ]
          },
          "metadata": {}
        },
        {
          "output_type": "display_data",
          "data": {
            "text/plain": [
              "\u001b[1m Trainable params: \u001b[0m\u001b[38;5;34m932,362\u001b[0m (3.56 MB)\n"
            ],
            "text/html": [
              "<pre style=\"white-space:pre;overflow-x:auto;line-height:normal;font-family:Menlo,'DejaVu Sans Mono',consolas,'Courier New',monospace\"><span style=\"font-weight: bold\"> Trainable params: </span><span style=\"color: #00af00; text-decoration-color: #00af00\">932,362</span> (3.56 MB)\n",
              "</pre>\n"
            ]
          },
          "metadata": {}
        },
        {
          "output_type": "display_data",
          "data": {
            "text/plain": [
              "\u001b[1m Non-trainable params: \u001b[0m\u001b[38;5;34m0\u001b[0m (0.00 B)\n"
            ],
            "text/html": [
              "<pre style=\"white-space:pre;overflow-x:auto;line-height:normal;font-family:Menlo,'DejaVu Sans Mono',consolas,'Courier New',monospace\"><span style=\"font-weight: bold\"> Non-trainable params: </span><span style=\"color: #00af00; text-decoration-color: #00af00\">0</span> (0.00 B)\n",
              "</pre>\n"
            ]
          },
          "metadata": {}
        },
        {
          "output_type": "stream",
          "name": "stdout",
          "text": [
            "Epoch 1/30\n"
          ]
        },
        {
          "output_type": "stream",
          "name": "stderr",
          "text": [
            "/usr/local/lib/python3.11/dist-packages/keras/src/models/functional.py:237: UserWarning: The structure of `inputs` doesn't match the expected structure.\n",
            "Expected: ['keras_tensor_36']\n",
            "Received: inputs=Tensor(shape=(1500, 784))\n",
            "  warnings.warn(msg)\n"
          ]
        },
        {
          "output_type": "stream",
          "name": "stdout",
          "text": [
            "\u001b[1m32/32\u001b[0m \u001b[32m━━━━━━━━━━━━━━━━━━━━\u001b[0m\u001b[37m\u001b[0m \u001b[1m7s\u001b[0m 163ms/step - categorical_accuracy: 0.5332 - loss: 32.0089 - val_categorical_accuracy: 0.8818 - val_loss: 1.0487\n",
            "Epoch 2/30\n",
            "\u001b[1m32/32\u001b[0m \u001b[32m━━━━━━━━━━━━━━━━━━━━\u001b[0m\u001b[37m\u001b[0m \u001b[1m7s\u001b[0m 224ms/step - categorical_accuracy: 0.8922 - loss: 0.8636 - val_categorical_accuracy: 0.9212 - val_loss: 0.5235\n",
            "Epoch 3/30\n",
            "\u001b[1m32/32\u001b[0m \u001b[32m━━━━━━━━━━━━━━━━━━━━\u001b[0m\u001b[37m\u001b[0m \u001b[1m8s\u001b[0m 157ms/step - categorical_accuracy: 0.9317 - loss: 0.3813 - val_categorical_accuracy: 0.9281 - val_loss: 0.4142\n",
            "Epoch 4/30\n",
            "\u001b[1m32/32\u001b[0m \u001b[32m━━━━━━━━━━━━━━━━━━━━\u001b[0m\u001b[37m\u001b[0m \u001b[1m7s\u001b[0m 225ms/step - categorical_accuracy: 0.9551 - loss: 0.2172 - val_categorical_accuracy: 0.9323 - val_loss: 0.3695\n",
            "Epoch 5/30\n",
            "\u001b[1m32/32\u001b[0m \u001b[32m━━━━━━━━━━━━━━━━━━━━\u001b[0m\u001b[37m\u001b[0m \u001b[1m8s\u001b[0m 163ms/step - categorical_accuracy: 0.9708 - loss: 0.1278 - val_categorical_accuracy: 0.9359 - val_loss: 0.3554\n",
            "Epoch 6/30\n",
            "\u001b[1m32/32\u001b[0m \u001b[32m━━━━━━━━━━━━━━━━━━━━\u001b[0m\u001b[37m\u001b[0m \u001b[1m10s\u001b[0m 165ms/step - categorical_accuracy: 0.9834 - loss: 0.0704 - val_categorical_accuracy: 0.9388 - val_loss: 0.3364\n",
            "Epoch 7/30\n",
            "\u001b[1m32/32\u001b[0m \u001b[32m━━━━━━━━━━━━━━━━━━━━\u001b[0m\u001b[37m\u001b[0m \u001b[1m7s\u001b[0m 219ms/step - categorical_accuracy: 0.9902 - loss: 0.0435 - val_categorical_accuracy: 0.9398 - val_loss: 0.3323\n",
            "Epoch 8/30\n",
            "\u001b[1m32/32\u001b[0m \u001b[32m━━━━━━━━━━━━━━━━━━━━\u001b[0m\u001b[37m\u001b[0m \u001b[1m8s\u001b[0m 155ms/step - categorical_accuracy: 0.9953 - loss: 0.0247 - val_categorical_accuracy: 0.9423 - val_loss: 0.3231\n",
            "Epoch 9/30\n",
            "\u001b[1m32/32\u001b[0m \u001b[32m━━━━━━━━━━━━━━━━━━━━\u001b[0m\u001b[37m\u001b[0m \u001b[1m7s\u001b[0m 218ms/step - categorical_accuracy: 0.9979 - loss: 0.0140 - val_categorical_accuracy: 0.9431 - val_loss: 0.3193\n",
            "Epoch 10/30\n",
            "\u001b[1m32/32\u001b[0m \u001b[32m━━━━━━━━━━━━━━━━━━━━\u001b[0m\u001b[37m\u001b[0m \u001b[1m9s\u001b[0m 191ms/step - categorical_accuracy: 0.9991 - loss: 0.0083 - val_categorical_accuracy: 0.9438 - val_loss: 0.3176\n",
            "Epoch 11/30\n",
            "\u001b[1m32/32\u001b[0m \u001b[32m━━━━━━━━━━━━━━━━━━━━\u001b[0m\u001b[37m\u001b[0m \u001b[1m9s\u001b[0m 166ms/step - categorical_accuracy: 0.9996 - loss: 0.0063 - val_categorical_accuracy: 0.9449 - val_loss: 0.3151\n",
            "Epoch 12/30\n",
            "\u001b[1m32/32\u001b[0m \u001b[32m━━━━━━━━━━━━━━━━━━━━\u001b[0m\u001b[37m\u001b[0m \u001b[1m7s\u001b[0m 221ms/step - categorical_accuracy: 0.9999 - loss: 0.0040 - val_categorical_accuracy: 0.9452 - val_loss: 0.3143\n",
            "Epoch 13/30\n",
            "\u001b[1m32/32\u001b[0m \u001b[32m━━━━━━━━━━━━━━━━━━━━\u001b[0m\u001b[37m\u001b[0m \u001b[1m8s\u001b[0m 165ms/step - categorical_accuracy: 1.0000 - loss: 0.0030 - val_categorical_accuracy: 0.9459 - val_loss: 0.3130\n",
            "Epoch 14/30\n",
            "\u001b[1m32/32\u001b[0m \u001b[32m━━━━━━━━━━━━━━━━━━━━\u001b[0m\u001b[37m\u001b[0m \u001b[1m7s\u001b[0m 216ms/step - categorical_accuracy: 1.0000 - loss: 0.0025 - val_categorical_accuracy: 0.9461 - val_loss: 0.3132\n",
            "Epoch 15/30\n",
            "\u001b[1m32/32\u001b[0m \u001b[32m━━━━━━━━━━━━━━━━━━━━\u001b[0m\u001b[37m\u001b[0m \u001b[1m10s\u001b[0m 202ms/step - categorical_accuracy: 1.0000 - loss: 0.0021 - val_categorical_accuracy: 0.9466 - val_loss: 0.3128\n",
            "Epoch 16/30\n",
            "\u001b[1m32/32\u001b[0m \u001b[32m━━━━━━━━━━━━━━━━━━━━\u001b[0m\u001b[37m\u001b[0m \u001b[1m9s\u001b[0m 160ms/step - categorical_accuracy: 1.0000 - loss: 0.0018 - val_categorical_accuracy: 0.9468 - val_loss: 0.3121\n",
            "Epoch 17/30\n",
            "\u001b[1m32/32\u001b[0m \u001b[32m━━━━━━━━━━━━━━━━━━━━\u001b[0m\u001b[37m\u001b[0m \u001b[1m10s\u001b[0m 164ms/step - categorical_accuracy: 1.0000 - loss: 0.0016 - val_categorical_accuracy: 0.9471 - val_loss: 0.3120\n",
            "Epoch 18/30\n",
            "\u001b[1m32/32\u001b[0m \u001b[32m━━━━━━━━━━━━━━━━━━━━\u001b[0m\u001b[37m\u001b[0m \u001b[1m10s\u001b[0m 157ms/step - categorical_accuracy: 1.0000 - loss: 0.0014 - val_categorical_accuracy: 0.9473 - val_loss: 0.3114\n",
            "Epoch 19/30\n",
            "\u001b[1m32/32\u001b[0m \u001b[32m━━━━━━━━━━━━━━━━━━━━\u001b[0m\u001b[37m\u001b[0m \u001b[1m6s\u001b[0m 188ms/step - categorical_accuracy: 1.0000 - loss: 0.0013 - val_categorical_accuracy: 0.9477 - val_loss: 0.3113\n",
            "Epoch 20/30\n",
            "\u001b[1m32/32\u001b[0m \u001b[32m━━━━━━━━━━━━━━━━━━━━\u001b[0m\u001b[37m\u001b[0m \u001b[1m9s\u001b[0m 159ms/step - categorical_accuracy: 1.0000 - loss: 0.0012 - val_categorical_accuracy: 0.9481 - val_loss: 0.3113\n",
            "Epoch 21/30\n",
            "\u001b[1m32/32\u001b[0m \u001b[32m━━━━━━━━━━━━━━━━━━━━\u001b[0m\u001b[37m\u001b[0m \u001b[1m7s\u001b[0m 215ms/step - categorical_accuracy: 1.0000 - loss: 0.0011 - val_categorical_accuracy: 0.9482 - val_loss: 0.3113\n",
            "Epoch 22/30\n",
            "\u001b[1m32/32\u001b[0m \u001b[32m━━━━━━━━━━━━━━━━━━━━\u001b[0m\u001b[37m\u001b[0m \u001b[1m5s\u001b[0m 163ms/step - categorical_accuracy: 1.0000 - loss: 9.5809e-04 - val_categorical_accuracy: 0.9485 - val_loss: 0.3107\n",
            "Epoch 23/30\n",
            "\u001b[1m32/32\u001b[0m \u001b[32m━━━━━━━━━━━━━━━━━━━━\u001b[0m\u001b[37m\u001b[0m \u001b[1m11s\u001b[0m 187ms/step - categorical_accuracy: 1.0000 - loss: 8.6628e-04 - val_categorical_accuracy: 0.9485 - val_loss: 0.3108\n",
            "Epoch 24/30\n",
            "\u001b[1m32/32\u001b[0m \u001b[32m━━━━━━━━━━━━━━━━━━━━\u001b[0m\u001b[37m\u001b[0m \u001b[1m5s\u001b[0m 165ms/step - categorical_accuracy: 1.0000 - loss: 8.1937e-04 - val_categorical_accuracy: 0.9485 - val_loss: 0.3108\n",
            "Epoch 25/30\n",
            "\u001b[1m32/32\u001b[0m \u001b[32m━━━━━━━━━━━━━━━━━━━━\u001b[0m\u001b[37m\u001b[0m \u001b[1m10s\u001b[0m 159ms/step - categorical_accuracy: 1.0000 - loss: 7.4864e-04 - val_categorical_accuracy: 0.9492 - val_loss: 0.3107\n",
            "Epoch 26/30\n",
            "\u001b[1m32/32\u001b[0m \u001b[32m━━━━━━━━━━━━━━━━━━━━\u001b[0m\u001b[37m\u001b[0m \u001b[1m6s\u001b[0m 203ms/step - categorical_accuracy: 1.0000 - loss: 7.2214e-04 - val_categorical_accuracy: 0.9492 - val_loss: 0.3106\n",
            "Epoch 27/30\n",
            "\u001b[1m32/32\u001b[0m \u001b[32m━━━━━━━━━━━━━━━━━━━━\u001b[0m\u001b[37m\u001b[0m \u001b[1m9s\u001b[0m 160ms/step - categorical_accuracy: 1.0000 - loss: 6.6290e-04 - val_categorical_accuracy: 0.9494 - val_loss: 0.3104\n",
            "Epoch 28/30\n",
            "\u001b[1m32/32\u001b[0m \u001b[32m━━━━━━━━━━━━━━━━━━━━\u001b[0m\u001b[37m\u001b[0m \u001b[1m10s\u001b[0m 156ms/step - categorical_accuracy: 1.0000 - loss: 6.1865e-04 - val_categorical_accuracy: 0.9492 - val_loss: 0.3107\n",
            "Epoch 29/30\n",
            "\u001b[1m32/32\u001b[0m \u001b[32m━━━━━━━━━━━━━━━━━━━━\u001b[0m\u001b[37m\u001b[0m \u001b[1m7s\u001b[0m 234ms/step - categorical_accuracy: 1.0000 - loss: 5.8471e-04 - val_categorical_accuracy: 0.9498 - val_loss: 0.3105\n",
            "Epoch 30/30\n",
            "\u001b[1m32/32\u001b[0m \u001b[32m━━━━━━━━━━━━━━━━━━━━\u001b[0m\u001b[37m\u001b[0m \u001b[1m8s\u001b[0m 156ms/step - categorical_accuracy: 1.0000 - loss: 5.6265e-04 - val_categorical_accuracy: 0.9498 - val_loss: 0.3103\n",
            "dict_keys(['categorical_accuracy', 'loss', 'val_categorical_accuracy', 'val_loss'])\n"
          ]
        }
      ]
    },
    {
      "cell_type": "code",
      "source": [
        "# Training loss 확인하기\n",
        "loss = history.history['loss']\n",
        "print(loss)\n",
        "\n",
        "# Q. Validation loss를 확인해 보세요.\n",
        "val_loss = history.history['val_loss']\n",
        "print(val_loss)\n",
        "\n",
        "# Test 데이터를 통해서 정확도 확인하기\n",
        "print(\"\\n Test Accuracy: %.4f\" % (model.evaluate(X_test, Y_test)[1]))\n",
        "\n",
        "# 그래프로 표현\n",
        "x_len = np.arange(len(val_loss))\n",
        "plt.plot(x_len, val_loss, marker='.', c=\"red\", label='validation loss')\n",
        "plt.plot(x_len, loss, marker='.', c=\"blue\", label='training loss')\n",
        "\n",
        "# 그래프에 그리드를 주고 레이블을 표시\n",
        "plt.legend(loc='upper right')\n",
        "plt.grid()\n",
        "plt.xlabel('epoch')\n",
        "plt.ylabel('loss')\n",
        "plt.show()"
      ],
      "metadata": {
        "colab": {
          "base_uri": "https://localhost:8080/",
          "height": 625
        },
        "id": "tdpKxTuBcAxt",
        "outputId": "4785b708-97b1-4b22-d7e2-fd3f78794d4f"
      },
      "execution_count": 37,
      "outputs": [
        {
          "output_type": "stream",
          "name": "stdout",
          "text": [
            "[14.611481666564941, 0.7163723707199097, 0.35479676723480225, 0.2062300592660904, 0.1211082935333252, 0.07090310007333755, 0.04195025935769081, 0.024235038086771965, 0.01411508210003376, 0.008547065779566765, 0.005845231469720602, 0.0039734491147100925, 0.003050909610465169, 0.0024825111031532288, 0.002130594104528427, 0.0018300575902685523, 0.0016120077343657613, 0.0014350395649671555, 0.0012897179694846272, 0.0011636846465989947, 0.001063935924321413, 0.0009710502345114946, 0.0008931721677072346, 0.0008255367283709347, 0.0007642034906893969, 0.0007127843564376235, 0.0006623112712986767, 0.0006191059947013855, 0.0005815282929688692, 0.0005441055982373655]\n",
            "[1.0486788749694824, 0.5235337615013123, 0.41415151953697205, 0.3694895803928375, 0.35540902614593506, 0.3363721966743469, 0.33232805132865906, 0.3230603337287903, 0.3193129897117615, 0.3176013231277466, 0.3151360750198364, 0.31427454948425293, 0.31298699975013733, 0.31323033571243286, 0.31279829144477844, 0.31214940547943115, 0.3119804859161377, 0.31144461035728455, 0.31132766604423523, 0.3113183081150055, 0.3112543821334839, 0.3107036054134369, 0.31081342697143555, 0.31076285243034363, 0.31065046787261963, 0.3105910122394562, 0.3103521466255188, 0.3107469379901886, 0.31049051880836487, 0.3103015720844269]\n",
            "\u001b[1m  1/313\u001b[0m \u001b[37m━━━━━━━━━━━━━━━━━━━━\u001b[0m \u001b[1m1:03\u001b[0m 203ms/step - categorical_accuracy: 0.9688 - loss: 0.0584"
          ]
        },
        {
          "output_type": "stream",
          "name": "stderr",
          "text": [
            "/usr/local/lib/python3.11/dist-packages/keras/src/models/functional.py:237: UserWarning: The structure of `inputs` doesn't match the expected structure.\n",
            "Expected: ['keras_tensor_36']\n",
            "Received: inputs=Tensor(shape=(None, 784))\n",
            "  warnings.warn(msg)\n"
          ]
        },
        {
          "output_type": "stream",
          "name": "stdout",
          "text": [
            "\u001b[1m313/313\u001b[0m \u001b[32m━━━━━━━━━━━━━━━━━━━━\u001b[0m\u001b[37m\u001b[0m \u001b[1m2s\u001b[0m 4ms/step - categorical_accuracy: 0.9469 - loss: 0.3453\n",
            "\n",
            " Test Accuracy: 0.9537\n"
          ]
        },
        {
          "output_type": "display_data",
          "data": {
            "text/plain": [
              "<Figure size 640x480 with 1 Axes>"
            ],
            "image/png": "[encoded data removed]"
          },
          "metadata": {}
        }
      ]
    },
    {
      "cell_type": "markdown",
      "source": [
        "# 기존 모델 VS 새로운 모델\n",
        "\n",
        "기존 모델의 settings =\n",
        "1. Hidden Layer layer 2개\n",
        "2. 학습률 0.001\n",
        "3. epoch 30\n",
        "4. batch size 1000\n",
        "5. 기존 모델의 정확도 = 0.9572\n",
        "\n",
        "새로운 모델의 settings =\n",
        "1. Hidden Layer layer 3개\n",
        "2. 학습률 0.00075\n",
        "3. epoch 30\n",
        "4. batch size 1500\n",
        "5. 새로운 모델의 정확도 = 0.9537\n",
        "\n",
        "=> 오히려 정확도가 감소하는, 예상과 다른 결과\n",
        "---\n",
        "---"
      ],
      "metadata": {
        "id": "sNsdS1cHdBVE"
      }
    },
    {
      "cell_type": "markdown",
      "source": [
        "# 새로운 모델 ver.2\n",
        "\n",
        "파라미터의 수정 정도가 과했을 것을 예상하여,\n",
        "\n",
        "아래와 같이 조금씩 파라미터를 수정하고 다시 정확도를 측정했다.\n",
        "\n",
        "새로운 모델 ver.2 의 settings =\n",
        "\n",
        "Hidden Layer layer 3개\n",
        "\n",
        "학습률 0.000875\n",
        "\n",
        "epoch 30\n",
        "\n",
        "batch size 1250"
      ],
      "metadata": {
        "id": "_o8Sy6vId_xy"
      }
    },
    {
      "cell_type": "code",
      "source": [
        "# 모델 다르게 만들기\n",
        "# Playground\n",
        "# Dense Layer 1줄 늘림 (hidden layer 2 -> 3)\n",
        "# 학습률 더 조금만 낮춤 (0.001 -> 0.000875)\n",
        "# epoch 그대로 유지 (30)\n",
        "# batch size 더 조금만 늘림 (1000 -> 1250)\n",
        "# 종합적으로 과도하게 학습 속도가 느려지거나, 과적합이 오지 않도록\n",
        "# 2배씩만 조정\n",
        "# Training loss와 test loss가 더 낮아질 것으로 예상\n",
        "# 모델의 예측 성능이 더 좋아질 것으로 예상\n",
        "\n",
        "# 모델 설계하기\n",
        "input_layer = tf.keras.layers.Input(shape=(784,)) # input layer, input의 사이즈에 맞게 shape을 지정하는 것이 중요\n",
        "x = tf.keras.layers.Dense(512, activation='relu')(input_layer) # hidden layer 1, 512개의 perceptron으로 구성된 fully connted layer, activation 함수는 relu\n",
        "x = tf.keras.layers.Dense(512, activation='relu')(x) # hidden layer 2\n",
        "x = tf.keras.layers.Dense(512, activation='relu')(x) # hidden layer 3\n",
        "\n",
        "# 분류해야 하는 class 0~9 (10개) -> 따라서 최종 layer의 perceptron은 10개\n",
        "out_layer= tf.keras.layers.Dense(10, activation='softmax')(x)\n",
        "\n",
        "model = tf.keras.Model(inputs=[input_layer], outputs=[out_layer])\n",
        "model.summary()\n",
        "\n",
        "loss=tf.keras.losses.categorical_crossentropy\n",
        "optimizer = tf.keras.optimizers.Adam(learning_rate = 0.000875)\n",
        "metric=tf.keras.metrics.categorical_accuracy\n",
        "model.compile(loss = loss,\n",
        "              optimizer = optimizer,\n",
        "              metrics = [metric])\n",
        "\n",
        "# validation_data 옵션으로 테스트 데이터만 넣어주어서 검증 데이터 분류가 가능\n",
        "history = model.fit(X_train, Y_train, validation_split=0.2, epochs=30, batch_size=1250, verbose=1)\n",
        "print(history.history.keys())"
      ],
      "metadata": {
        "colab": {
          "base_uri": "https://localhost:8080/",
          "height": 1000
        },
        "id": "n1OA9aZfecIs",
        "outputId": "32786b68-d681-4b07-ad19-a17691a2668d"
      },
      "execution_count": 42,
      "outputs": [
        {
          "output_type": "display_data",
          "data": {
            "text/plain": [
              "\u001b[1mModel: \"functional_11\"\u001b[0m\n"
            ],
            "text/html": [
              "<pre style=\"white-space:pre;overflow-x:auto;line-height:normal;font-family:Menlo,'DejaVu Sans Mono',consolas,'Courier New',monospace\"><span style=\"font-weight: bold\">Model: \"functional_11\"</span>\n",
              "</pre>\n"
            ]
          },
          "metadata": {}
        },
        {
          "output_type": "display_data",
          "data": {
            "text/plain": [
              "┏━━━━━━━━━━━━━━━━━━━━━━━━━━━━━━━━━━━━━━┳━━━━━━━━━━━━━━━━━━━━━━━━━━━━━┳━━━━━━━━━━━━━━━━━┓\n",
              "┃\u001b[1m \u001b[0m\u001b[1mLayer (type)                        \u001b[0m\u001b[1m \u001b[0m┃\u001b[1m \u001b[0m\u001b[1mOutput Shape               \u001b[0m\u001b[1m \u001b[0m┃\u001b[1m \u001b[0m\u001b[1m        Param #\u001b[0m\u001b[1m \u001b[0m┃\n",
              "┡━━━━━━━━━━━━━━━━━━━━━━━━━━━━━━━━━━━━━━╇━━━━━━━━━━━━━━━━━━━━━━━━━━━━━╇━━━━━━━━━━━━━━━━━┩\n",
              "│ input_layer_11 (\u001b[38;5;33mInputLayer\u001b[0m)          │ (\u001b[38;5;45mNone\u001b[0m, \u001b[38;5;34m784\u001b[0m)                 │               \u001b[38;5;34m0\u001b[0m │\n",
              "├──────────────────────────────────────┼─────────────────────────────┼─────────────────┤\n",
              "│ dense_40 (\u001b[38;5;33mDense\u001b[0m)                     │ (\u001b[38;5;45mNone\u001b[0m, \u001b[38;5;34m512\u001b[0m)                 │         \u001b[38;5;34m401,920\u001b[0m │\n",
              "├──────────────────────────────────────┼─────────────────────────────┼─────────────────┤\n",
              "│ dense_41 (\u001b[38;5;33mDense\u001b[0m)                     │ (\u001b[38;5;45mNone\u001b[0m, \u001b[38;5;34m512\u001b[0m)                 │         \u001b[38;5;34m262,656\u001b[0m │\n",
              "├──────────────────────────────────────┼─────────────────────────────┼─────────────────┤\n",
              "│ dense_42 (\u001b[38;5;33mDense\u001b[0m)                     │ (\u001b[38;5;45mNone\u001b[0m, \u001b[38;5;34m512\u001b[0m)                 │         \u001b[38;5;34m262,656\u001b[0m │\n",
              "├──────────────────────────────────────┼─────────────────────────────┼─────────────────┤\n",
              "│ dense_43 (\u001b[38;5;33mDense\u001b[0m)                     │ (\u001b[38;5;45mNone\u001b[0m, \u001b[38;5;34m10\u001b[0m)                  │           \u001b[38;5;34m5,130\u001b[0m │\n",
              "└──────────────────────────────────────┴─────────────────────────────┴─────────────────┘\n"
            ],
            "text/html": [
              "<pre style=\"white-space:pre;overflow-x:auto;line-height:normal;font-family:Menlo,'DejaVu Sans Mono',consolas,'Courier New',monospace\">┏━━━━━━━━━━━━━━━━━━━━━━━━━━━━━━━━━━━━━━┳━━━━━━━━━━━━━━━━━━━━━━━━━━━━━┳━━━━━━━━━━━━━━━━━┓\n",
              "┃<span style=\"font-weight: bold\"> Layer (type)                         </span>┃<span style=\"font-weight: bold\"> Output Shape                </span>┃<span style=\"font-weight: bold\">         Param # </span>┃\n",
              "┡━━━━━━━━━━━━━━━━━━━━━━━━━━━━━━━━━━━━━━╇━━━━━━━━━━━━━━━━━━━━━━━━━━━━━╇━━━━━━━━━━━━━━━━━┩\n",
              "│ input_layer_11 (<span style=\"color: #0087ff; text-decoration-color: #0087ff\">InputLayer</span>)          │ (<span style=\"color: #00d7ff; text-decoration-color: #00d7ff\">None</span>, <span style=\"color: #00af00; text-decoration-color: #00af00\">784</span>)                 │               <span style=\"color: #00af00; text-decoration-color: #00af00\">0</span> │\n",
              "├──────────────────────────────────────┼─────────────────────────────┼─────────────────┤\n",
              "│ dense_40 (<span style=\"color: #0087ff; text-decoration-color: #0087ff\">Dense</span>)                     │ (<span style=\"color: #00d7ff; text-decoration-color: #00d7ff\">None</span>, <span style=\"color: #00af00; text-decoration-color: #00af00\">512</span>)                 │         <span style=\"color: #00af00; text-decoration-color: #00af00\">401,920</span> │\n",
              "├──────────────────────────────────────┼─────────────────────────────┼─────────────────┤\n",
              "│ dense_41 (<span style=\"color: #0087ff; text-decoration-color: #0087ff\">Dense</span>)                     │ (<span style=\"color: #00d7ff; text-decoration-color: #00d7ff\">None</span>, <span style=\"color: #00af00; text-decoration-color: #00af00\">512</span>)                 │         <span style=\"color: #00af00; text-decoration-color: #00af00\">262,656</span> │\n",
              "├──────────────────────────────────────┼─────────────────────────────┼─────────────────┤\n",
              "│ dense_42 (<span style=\"color: #0087ff; text-decoration-color: #0087ff\">Dense</span>)                     │ (<span style=\"color: #00d7ff; text-decoration-color: #00d7ff\">None</span>, <span style=\"color: #00af00; text-decoration-color: #00af00\">512</span>)                 │         <span style=\"color: #00af00; text-decoration-color: #00af00\">262,656</span> │\n",
              "├──────────────────────────────────────┼─────────────────────────────┼─────────────────┤\n",
              "│ dense_43 (<span style=\"color: #0087ff; text-decoration-color: #0087ff\">Dense</span>)                     │ (<span style=\"color: #00d7ff; text-decoration-color: #00d7ff\">None</span>, <span style=\"color: #00af00; text-decoration-color: #00af00\">10</span>)                  │           <span style=\"color: #00af00; text-decoration-color: #00af00\">5,130</span> │\n",
              "└──────────────────────────────────────┴─────────────────────────────┴─────────────────┘\n",
              "</pre>\n"
            ]
          },
          "metadata": {}
        },
        {
          "output_type": "display_data",
          "data": {
            "text/plain": [
              "\u001b[1m Total params: \u001b[0m\u001b[38;5;34m932,362\u001b[0m (3.56 MB)\n"
            ],
            "text/html": [
              "<pre style=\"white-space:pre;overflow-x:auto;line-height:normal;font-family:Menlo,'DejaVu Sans Mono',consolas,'Courier New',monospace\"><span style=\"font-weight: bold\"> Total params: </span><span style=\"color: #00af00; text-decoration-color: #00af00\">932,362</span> (3.56 MB)\n",
              "</pre>\n"
            ]
          },
          "metadata": {}
        },
        {
          "output_type": "display_data",
          "data": {
            "text/plain": [
              "\u001b[1m Trainable params: \u001b[0m\u001b[38;5;34m932,362\u001b[0m (3.56 MB)\n"
            ],
            "text/html": [
              "<pre style=\"white-space:pre;overflow-x:auto;line-height:normal;font-family:Menlo,'DejaVu Sans Mono',consolas,'Courier New',monospace\"><span style=\"font-weight: bold\"> Trainable params: </span><span style=\"color: #00af00; text-decoration-color: #00af00\">932,362</span> (3.56 MB)\n",
              "</pre>\n"
            ]
          },
          "metadata": {}
        },
        {
          "output_type": "display_data",
          "data": {
            "text/plain": [
              "\u001b[1m Non-trainable params: \u001b[0m\u001b[38;5;34m0\u001b[0m (0.00 B)\n"
            ],
            "text/html": [
              "<pre style=\"white-space:pre;overflow-x:auto;line-height:normal;font-family:Menlo,'DejaVu Sans Mono',consolas,'Courier New',monospace\"><span style=\"font-weight: bold\"> Non-trainable params: </span><span style=\"color: #00af00; text-decoration-color: #00af00\">0</span> (0.00 B)\n",
              "</pre>\n"
            ]
          },
          "metadata": {}
        },
        {
          "output_type": "stream",
          "name": "stdout",
          "text": [
            "Epoch 1/30\n"
          ]
        },
        {
          "output_type": "stream",
          "name": "stderr",
          "text": [
            "/usr/local/lib/python3.11/dist-packages/keras/src/models/functional.py:237: UserWarning: The structure of `inputs` doesn't match the expected structure.\n",
            "Expected: ['keras_tensor_51']\n",
            "Received: inputs=Tensor(shape=(None, 784))\n",
            "  warnings.warn(msg)\n"
          ]
        },
        {
          "output_type": "stream",
          "name": "stdout",
          "text": [
            "\u001b[1m39/39\u001b[0m \u001b[32m━━━━━━━━━━━━━━━━━━━━\u001b[0m\u001b[37m\u001b[0m \u001b[1m7s\u001b[0m 141ms/step - categorical_accuracy: 0.5569 - loss: 28.7779 - val_categorical_accuracy: 0.9029 - val_loss: 0.7351\n",
            "Epoch 2/30\n",
            "\u001b[1m39/39\u001b[0m \u001b[32m━━━━━━━━━━━━━━━━━━━━\u001b[0m\u001b[37m\u001b[0m \u001b[1m10s\u001b[0m 146ms/step - categorical_accuracy: 0.9107 - loss: 0.5647 - val_categorical_accuracy: 0.9252 - val_loss: 0.3923\n",
            "Epoch 3/30\n",
            "\u001b[1m39/39\u001b[0m \u001b[32m━━━━━━━━━━━━━━━━━━━━\u001b[0m\u001b[37m\u001b[0m \u001b[1m11s\u001b[0m 155ms/step - categorical_accuracy: 0.9469 - loss: 0.2435 - val_categorical_accuracy: 0.9329 - val_loss: 0.3261\n",
            "Epoch 4/30\n",
            "\u001b[1m39/39\u001b[0m \u001b[32m━━━━━━━━━━━━━━━━━━━━\u001b[0m\u001b[37m\u001b[0m \u001b[1m6s\u001b[0m 144ms/step - categorical_accuracy: 0.9629 - loss: 0.1484 - val_categorical_accuracy: 0.9415 - val_loss: 0.2871\n",
            "Epoch 5/30\n",
            "\u001b[1m39/39\u001b[0m \u001b[32m━━━━━━━━━━━━━━━━━━━━\u001b[0m\u001b[37m\u001b[0m \u001b[1m7s\u001b[0m 184ms/step - categorical_accuracy: 0.9790 - loss: 0.0816 - val_categorical_accuracy: 0.9437 - val_loss: 0.2751\n",
            "Epoch 6/30\n",
            "\u001b[1m39/39\u001b[0m \u001b[32m━━━━━━━━━━━━━━━━━━━━\u001b[0m\u001b[37m\u001b[0m \u001b[1m9s\u001b[0m 159ms/step - categorical_accuracy: 0.9885 - loss: 0.0441 - val_categorical_accuracy: 0.9462 - val_loss: 0.2660\n",
            "Epoch 7/30\n",
            "\u001b[1m39/39\u001b[0m \u001b[32m━━━━━━━━━━━━━━━━━━━━\u001b[0m\u001b[37m\u001b[0m \u001b[1m9s\u001b[0m 135ms/step - categorical_accuracy: 0.9934 - loss: 0.0280 - val_categorical_accuracy: 0.9489 - val_loss: 0.2585\n",
            "Epoch 8/30\n",
            "\u001b[1m39/39\u001b[0m \u001b[32m━━━━━━━━━━━━━━━━━━━━\u001b[0m\u001b[37m\u001b[0m \u001b[1m10s\u001b[0m 140ms/step - categorical_accuracy: 0.9972 - loss: 0.0162 - val_categorical_accuracy: 0.9495 - val_loss: 0.2561\n",
            "Epoch 9/30\n",
            "\u001b[1m39/39\u001b[0m \u001b[32m━━━━━━━━━━━━━━━━━━━━\u001b[0m\u001b[37m\u001b[0m \u001b[1m8s\u001b[0m 193ms/step - categorical_accuracy: 0.9987 - loss: 0.0096 - val_categorical_accuracy: 0.9500 - val_loss: 0.2567\n",
            "Epoch 10/30\n",
            "\u001b[1m39/39\u001b[0m \u001b[32m━━━━━━━━━━━━━━━━━━━━\u001b[0m\u001b[37m\u001b[0m \u001b[1m8s\u001b[0m 142ms/step - categorical_accuracy: 0.9997 - loss: 0.0054 - val_categorical_accuracy: 0.9507 - val_loss: 0.2577\n",
            "Epoch 11/30\n",
            "\u001b[1m39/39\u001b[0m \u001b[32m━━━━━━━━━━━━━━━━━━━━\u001b[0m\u001b[37m\u001b[0m \u001b[1m10s\u001b[0m 135ms/step - categorical_accuracy: 0.9999 - loss: 0.0039 - val_categorical_accuracy: 0.9513 - val_loss: 0.2540\n",
            "Epoch 12/30\n",
            "\u001b[1m39/39\u001b[0m \u001b[32m━━━━━━━━━━━━━━━━━━━━\u001b[0m\u001b[37m\u001b[0m \u001b[1m7s\u001b[0m 173ms/step - categorical_accuracy: 1.0000 - loss: 0.0028 - val_categorical_accuracy: 0.9516 - val_loss: 0.2550\n",
            "Epoch 13/30\n",
            "\u001b[1m39/39\u001b[0m \u001b[32m━━━━━━━━━━━━━━━━━━━━\u001b[0m\u001b[37m\u001b[0m \u001b[1m9s\u001b[0m 143ms/step - categorical_accuracy: 1.0000 - loss: 0.0022 - val_categorical_accuracy: 0.9523 - val_loss: 0.2554\n",
            "Epoch 14/30\n",
            "\u001b[1m39/39\u001b[0m \u001b[32m━━━━━━━━━━━━━━━━━━━━\u001b[0m\u001b[37m\u001b[0m \u001b[1m7s\u001b[0m 184ms/step - categorical_accuracy: 1.0000 - loss: 0.0018 - val_categorical_accuracy: 0.9527 - val_loss: 0.2554\n",
            "Epoch 15/30\n",
            "\u001b[1m39/39\u001b[0m \u001b[32m━━━━━━━━━━━━━━━━━━━━\u001b[0m\u001b[37m\u001b[0m \u001b[1m8s\u001b[0m 134ms/step - categorical_accuracy: 1.0000 - loss: 0.0017 - val_categorical_accuracy: 0.9531 - val_loss: 0.2554\n",
            "Epoch 16/30\n",
            "\u001b[1m39/39\u001b[0m \u001b[32m━━━━━━━━━━━━━━━━━━━━\u001b[0m\u001b[37m\u001b[0m \u001b[1m11s\u001b[0m 145ms/step - categorical_accuracy: 1.0000 - loss: 0.0014 - val_categorical_accuracy: 0.9536 - val_loss: 0.2558\n",
            "Epoch 17/30\n",
            "\u001b[1m39/39\u001b[0m \u001b[32m━━━━━━━━━━━━━━━━━━━━\u001b[0m\u001b[37m\u001b[0m \u001b[1m7s\u001b[0m 186ms/step - categorical_accuracy: 1.0000 - loss: 0.0013 - val_categorical_accuracy: 0.9536 - val_loss: 0.2558\n",
            "Epoch 18/30\n",
            "\u001b[1m39/39\u001b[0m \u001b[32m━━━━━━━━━━━━━━━━━━━━\u001b[0m\u001b[37m\u001b[0m \u001b[1m9s\u001b[0m 143ms/step - categorical_accuracy: 1.0000 - loss: 0.0011 - val_categorical_accuracy: 0.9543 - val_loss: 0.2563\n",
            "Epoch 19/30\n",
            "\u001b[1m39/39\u001b[0m \u001b[32m━━━━━━━━━━━━━━━━━━━━\u001b[0m\u001b[37m\u001b[0m \u001b[1m10s\u001b[0m 141ms/step - categorical_accuracy: 1.0000 - loss: 0.0010 - val_categorical_accuracy: 0.9548 - val_loss: 0.2569\n",
            "Epoch 20/30\n",
            "\u001b[1m39/39\u001b[0m \u001b[32m━━━━━━━━━━━━━━━━━━━━\u001b[0m\u001b[37m\u001b[0m \u001b[1m10s\u001b[0m 139ms/step - categorical_accuracy: 1.0000 - loss: 9.1523e-04 - val_categorical_accuracy: 0.9548 - val_loss: 0.2570\n",
            "Epoch 21/30\n",
            "\u001b[1m39/39\u001b[0m \u001b[32m━━━━━━━━━━━━━━━━━━━━\u001b[0m\u001b[37m\u001b[0m \u001b[1m7s\u001b[0m 186ms/step - categorical_accuracy: 1.0000 - loss: 8.4878e-04 - val_categorical_accuracy: 0.9556 - val_loss: 0.2571\n",
            "Epoch 22/30\n",
            "\u001b[1m39/39\u001b[0m \u001b[32m━━━━━━━━━━━━━━━━━━━━\u001b[0m\u001b[37m\u001b[0m \u001b[1m5s\u001b[0m 139ms/step - categorical_accuracy: 1.0000 - loss: 7.7147e-04 - val_categorical_accuracy: 0.9558 - val_loss: 0.2576\n",
            "Epoch 23/30\n",
            "\u001b[1m39/39\u001b[0m \u001b[32m━━━━━━━━━━━━━━━━━━━━\u001b[0m\u001b[37m\u001b[0m \u001b[1m11s\u001b[0m 167ms/step - categorical_accuracy: 1.0000 - loss: 7.0219e-04 - val_categorical_accuracy: 0.9557 - val_loss: 0.2579\n",
            "Epoch 24/30\n",
            "\u001b[1m39/39\u001b[0m \u001b[32m━━━━━━━━━━━━━━━━━━━━\u001b[0m\u001b[37m\u001b[0m \u001b[1m5s\u001b[0m 136ms/step - categorical_accuracy: 1.0000 - loss: 6.4499e-04 - val_categorical_accuracy: 0.9566 - val_loss: 0.2582\n",
            "Epoch 25/30\n",
            "\u001b[1m39/39\u001b[0m \u001b[32m━━━━━━━━━━━━━━━━━━━━\u001b[0m\u001b[37m\u001b[0m \u001b[1m7s\u001b[0m 185ms/step - categorical_accuracy: 1.0000 - loss: 6.0230e-04 - val_categorical_accuracy: 0.9567 - val_loss: 0.2583\n",
            "Epoch 26/30\n",
            "\u001b[1m39/39\u001b[0m \u001b[32m━━━━━━━━━━━━━━━━━━━━\u001b[0m\u001b[37m\u001b[0m \u001b[1m6s\u001b[0m 147ms/step - categorical_accuracy: 1.0000 - loss: 5.5876e-04 - val_categorical_accuracy: 0.9567 - val_loss: 0.2588\n",
            "Epoch 27/30\n",
            "\u001b[1m39/39\u001b[0m \u001b[32m━━━━━━━━━━━━━━━━━━━━\u001b[0m\u001b[37m\u001b[0m \u001b[1m10s\u001b[0m 137ms/step - categorical_accuracy: 1.0000 - loss: 5.4105e-04 - val_categorical_accuracy: 0.9567 - val_loss: 0.2587\n",
            "Epoch 28/30\n",
            "\u001b[1m39/39\u001b[0m \u001b[32m━━━━━━━━━━━━━━━━━━━━\u001b[0m\u001b[37m\u001b[0m \u001b[1m7s\u001b[0m 168ms/step - categorical_accuracy: 1.0000 - loss: 4.8711e-04 - val_categorical_accuracy: 0.9569 - val_loss: 0.2592\n",
            "Epoch 29/30\n",
            "\u001b[1m39/39\u001b[0m \u001b[32m━━━━━━━━━━━━━━━━━━━━\u001b[0m\u001b[37m\u001b[0m \u001b[1m6s\u001b[0m 144ms/step - categorical_accuracy: 1.0000 - loss: 4.6732e-04 - val_categorical_accuracy: 0.9572 - val_loss: 0.2598\n",
            "Epoch 30/30\n",
            "\u001b[1m39/39\u001b[0m \u001b[32m━━━━━━━━━━━━━━━━━━━━\u001b[0m\u001b[37m\u001b[0m \u001b[1m12s\u001b[0m 182ms/step - categorical_accuracy: 1.0000 - loss: 4.3429e-04 - val_categorical_accuracy: 0.9574 - val_loss: 0.2598\n",
            "dict_keys(['categorical_accuracy', 'loss', 'val_categorical_accuracy', 'val_loss'])\n"
          ]
        }
      ]
    },
    {
      "cell_type": "code",
      "source": [
        "# Training loss 확인하기\n",
        "loss = history.history['loss']\n",
        "print(loss)\n",
        "\n",
        "# Q. Validation loss를 확인해 보세요.\n",
        "val_loss = history.history['val_loss']\n",
        "print(val_loss)\n",
        "\n",
        "# Test 데이터를 통해서 정확도 확인하기\n",
        "print(\"\\n Test Accuracy: %.4f\" % (model.evaluate(X_test, Y_test)[1]))\n",
        "\n",
        "# 그래프로 표현\n",
        "x_len = np.arange(len(val_loss))\n",
        "plt.plot(x_len, val_loss, marker='.', c=\"red\", label='validation loss')\n",
        "plt.plot(x_len, loss, marker='.', c=\"blue\", label='training loss')\n",
        "\n",
        "# 그래프에 그리드를 주고 레이블을 표시\n",
        "plt.legend(loc='upper right')\n",
        "plt.grid()\n",
        "plt.xlabel('epoch')\n",
        "plt.ylabel('loss')\n",
        "plt.show()"
      ],
      "metadata": {
        "colab": {
          "base_uri": "https://localhost:8080/",
          "height": 556
        },
        "id": "WCLlhwa4e2hA",
        "outputId": "faafa49f-81e0-4028-d997-90310769b3ad"
      },
      "execution_count": 43,
      "outputs": [
        {
          "output_type": "stream",
          "name": "stdout",
          "text": [
            "[11.956513404846191, 0.4859006404876709, 0.24441799521446228, 0.14212481677532196, 0.08089819550514221, 0.04709398001432419, 0.028314631432294846, 0.016259880736470222, 0.009039020165801048, 0.005409803241491318, 0.003893620800226927, 0.0028262531850486994, 0.0022527887485921383, 0.0019026640802621841, 0.0016362759051844478, 0.0014365457464009523, 0.0012708230642601848, 0.001139516825787723, 0.001024183933623135, 0.0009282994433306158, 0.0008468429441563785, 0.0007735007093288004, 0.0007119136862456799, 0.0006577568128705025, 0.000607876165304333, 0.0005664628115482628, 0.0005264309584163129, 0.0004905248642899096, 0.00045899837277829647, 0.0004304652684368193]\n",
            "[0.7350587844848633, 0.3923304080963135, 0.3261241316795349, 0.28708183765411377, 0.27510935068130493, 0.26603183150291443, 0.2584782838821411, 0.2560703456401825, 0.2567090392112732, 0.2577417492866516, 0.2539677619934082, 0.2549942433834076, 0.25539329648017883, 0.25543084740638733, 0.2554292678833008, 0.2558335065841675, 0.25579655170440674, 0.2563105523586273, 0.25687190890312195, 0.25700441002845764, 0.25706613063812256, 0.25756117701530457, 0.2578946650028229, 0.2582007348537445, 0.25833678245544434, 0.2588212192058563, 0.2586953639984131, 0.2592153251171112, 0.2598298192024231, 0.25978001952171326]\n",
            "\u001b[1m313/313\u001b[0m \u001b[32m━━━━━━━━━━━━━━━━━━━━\u001b[0m\u001b[37m\u001b[0m \u001b[1m2s\u001b[0m 8ms/step - categorical_accuracy: 0.9537 - loss: 0.2511\n",
            "\n",
            " Test Accuracy: 0.9587\n"
          ]
        },
        {
          "output_type": "display_data",
          "data": {
            "text/plain": [
              "<Figure size 640x480 with 1 Axes>"
            ],
            "image/png": "[encoded data removed]"
          },
          "metadata": {}
        }
      ]
    },
    {
      "cell_type": "markdown",
      "source": [
        "# 기존 모델 VS 새로운 모델 VS ver2.\n",
        "\n",
        "기존 모델의 settings =\n",
        "1. Hidden Layer layer 2개\n",
        "2. 학습률 0.001\n",
        "3. epoch 30\n",
        "4. batch size 1000\n",
        "5. 기존 모델의 정확도 = 0.9572\n",
        "\n",
        "새로운 모델의 settings =\n",
        "1. Hidden Layer layer 3개\n",
        "2. 학습률 0.00075\n",
        "3. epoch 30\n",
        "4. batch size 1500\n",
        "5. 새로운 모델의 정확도 = 0.9537\n",
        "\n",
        "새로운 모델 ver.2 의 settings =\n",
        "\n",
        "1. Hidden Layer layer 3개\n",
        "2. 학습률 0.000875\n",
        "3. epoch 30\n",
        "4. batch size 1250\n",
        "5. 새로운 모델 ver2.의 정확도 = 0.9587\n",
        "\n",
        "=> 첫 기존 모델보다 정확도 증가!! (0.9572 -> 0.9587)\n",
        "---\n"
      ],
      "metadata": {
        "id": "HkvBj3V-gt3P"
      }
    },
    {
      "cell_type": "markdown",
      "source": [
        "---\n",
        "# 추가 개선\n",
        "\n",
        "1. 정규화 기법 (dropout, L2, 배치 정규화 etc.)\n",
        "2. 학습률 점진적 조정 (learning rate scheduler 사용하여 학습률 점진적 감소)\n",
        "3. batch size 증가량 감소 (1250에서 1100 정도로 조정)\n",
        "4. epoch 조금 늘리기 (40 정도로 조정)\n",
        "\n",
        "이 중 4번째와 3번째 방법 순으로 사용해보려고 한다.\n",
        "\n",
        "---"
      ],
      "metadata": {
        "id": "7Bjg3XYGh39o"
      }
    },
    {
      "cell_type": "markdown",
      "source": [
        "# 4번 solution. epoch 조금 늘리기 (40 정도로 조정)\n",
        "# 모델 ver3."
      ],
      "metadata": {
        "id": "k51dLczkizqi"
      }
    },
    {
      "cell_type": "code",
      "source": [
        "# 모델 다르게 만들기\n",
        "# Playground\n",
        "# Dense Layer 1줄 늘림 (hidden layer 2 -> 3)\n",
        "# 학습률 더 조금만 낮춤 (0.001 -> 0.000875)\n",
        "# epoch 조금 증가 (40)\n",
        "# batch size 더 조금만 늘림 (1000 -> 1250)\n",
        "# 종합적으로 과도하게 학습 속도가 느려지거나, 과적합이 오지 않도록\n",
        "# 2배씩만 조정\n",
        "# Training loss와 test loss가 더 낮아질 것으로 예상\n",
        "# 모델의 예측 성능이 더 좋아질 것으로 예상\n",
        "\n",
        "# 모델 설계하기\n",
        "input_layer = tf.keras.layers.Input(shape=(784,)) # input layer, input의 사이즈에 맞게 shape을 지정하는 것이 중요\n",
        "x = tf.keras.layers.Dense(512, activation='relu')(input_layer) # hidden layer 1, 512개의 perceptron으로 구성된 fully connted layer, activation 함수는 relu\n",
        "x = tf.keras.layers.Dense(512, activation='relu')(x) # hidden layer 2\n",
        "x = tf.keras.layers.Dense(512, activation='relu')(x) # hidden layer 3\n",
        "\n",
        "# 분류해야 하는 class 0~9 (10개) -> 따라서 최종 layer의 perceptron은 10개\n",
        "out_layer= tf.keras.layers.Dense(10, activation='softmax')(x)\n",
        "\n",
        "model = tf.keras.Model(inputs=[input_layer], outputs=[out_layer])\n",
        "model.summary()\n",
        "\n",
        "loss=tf.keras.losses.categorical_crossentropy\n",
        "optimizer = tf.keras.optimizers.Adam(learning_rate = 0.000875)\n",
        "metric=tf.keras.metrics.categorical_accuracy\n",
        "model.compile(loss = loss,\n",
        "              optimizer = optimizer,\n",
        "              metrics = [metric])\n",
        "\n",
        "# validation_data 옵션으로 테스트 데이터만 넣어주어서 검증 데이터 분류가 가능\n",
        "history = model.fit(X_train, Y_train, validation_split=0.2, epochs=40, batch_size=1250, verbose=1)\n",
        "print(history.history.keys())"
      ],
      "metadata": {
        "colab": {
          "base_uri": "https://localhost:8080/",
          "height": 1000
        },
        "id": "prFcCjcRhnaO",
        "outputId": "250ba898-f03c-44d2-ea1c-04610c05dc89"
      },
      "execution_count": 44,
      "outputs": [
        {
          "output_type": "display_data",
          "data": {
            "text/plain": [
              "\u001b[1mModel: \"functional_12\"\u001b[0m\n"
            ],
            "text/html": [
              "<pre style=\"white-space:pre;overflow-x:auto;line-height:normal;font-family:Menlo,'DejaVu Sans Mono',consolas,'Courier New',monospace\"><span style=\"font-weight: bold\">Model: \"functional_12\"</span>\n",
              "</pre>\n"
            ]
          },
          "metadata": {}
        },
        {
          "output_type": "display_data",
          "data": {
            "text/plain": [
              "┏━━━━━━━━━━━━━━━━━━━━━━━━━━━━━━━━━━━━━━┳━━━━━━━━━━━━━━━━━━━━━━━━━━━━━┳━━━━━━━━━━━━━━━━━┓\n",
              "┃\u001b[1m \u001b[0m\u001b[1mLayer (type)                        \u001b[0m\u001b[1m \u001b[0m┃\u001b[1m \u001b[0m\u001b[1mOutput Shape               \u001b[0m\u001b[1m \u001b[0m┃\u001b[1m \u001b[0m\u001b[1m        Param #\u001b[0m\u001b[1m \u001b[0m┃\n",
              "┡━━━━━━━━━━━━━━━━━━━━━━━━━━━━━━━━━━━━━━╇━━━━━━━━━━━━━━━━━━━━━━━━━━━━━╇━━━━━━━━━━━━━━━━━┩\n",
              "│ input_layer_12 (\u001b[38;5;33mInputLayer\u001b[0m)          │ (\u001b[38;5;45mNone\u001b[0m, \u001b[38;5;34m784\u001b[0m)                 │               \u001b[38;5;34m0\u001b[0m │\n",
              "├──────────────────────────────────────┼─────────────────────────────┼─────────────────┤\n",
              "│ dense_44 (\u001b[38;5;33mDense\u001b[0m)                     │ (\u001b[38;5;45mNone\u001b[0m, \u001b[38;5;34m512\u001b[0m)                 │         \u001b[38;5;34m401,920\u001b[0m │\n",
              "├──────────────────────────────────────┼─────────────────────────────┼─────────────────┤\n",
              "│ dense_45 (\u001b[38;5;33mDense\u001b[0m)                     │ (\u001b[38;5;45mNone\u001b[0m, \u001b[38;5;34m512\u001b[0m)                 │         \u001b[38;5;34m262,656\u001b[0m │\n",
              "├──────────────────────────────────────┼─────────────────────────────┼─────────────────┤\n",
              "│ dense_46 (\u001b[38;5;33mDense\u001b[0m)                     │ (\u001b[38;5;45mNone\u001b[0m, \u001b[38;5;34m512\u001b[0m)                 │         \u001b[38;5;34m262,656\u001b[0m │\n",
              "├──────────────────────────────────────┼─────────────────────────────┼─────────────────┤\n",
              "│ dense_47 (\u001b[38;5;33mDense\u001b[0m)                     │ (\u001b[38;5;45mNone\u001b[0m, \u001b[38;5;34m10\u001b[0m)                  │           \u001b[38;5;34m5,130\u001b[0m │\n",
              "└──────────────────────────────────────┴─────────────────────────────┴─────────────────┘\n"
            ],
            "text/html": [
              "<pre style=\"white-space:pre;overflow-x:auto;line-height:normal;font-family:Menlo,'DejaVu Sans Mono',consolas,'Courier New',monospace\">┏━━━━━━━━━━━━━━━━━━━━━━━━━━━━━━━━━━━━━━┳━━━━━━━━━━━━━━━━━━━━━━━━━━━━━┳━━━━━━━━━━━━━━━━━┓\n",
              "┃<span style=\"font-weight: bold\"> Layer (type)                         </span>┃<span style=\"font-weight: bold\"> Output Shape                </span>┃<span style=\"font-weight: bold\">         Param # </span>┃\n",
              "┡━━━━━━━━━━━━━━━━━━━━━━━━━━━━━━━━━━━━━━╇━━━━━━━━━━━━━━━━━━━━━━━━━━━━━╇━━━━━━━━━━━━━━━━━┩\n",
              "│ input_layer_12 (<span style=\"color: #0087ff; text-decoration-color: #0087ff\">InputLayer</span>)          │ (<span style=\"color: #00d7ff; text-decoration-color: #00d7ff\">None</span>, <span style=\"color: #00af00; text-decoration-color: #00af00\">784</span>)                 │               <span style=\"color: #00af00; text-decoration-color: #00af00\">0</span> │\n",
              "├──────────────────────────────────────┼─────────────────────────────┼─────────────────┤\n",
              "│ dense_44 (<span style=\"color: #0087ff; text-decoration-color: #0087ff\">Dense</span>)                     │ (<span style=\"color: #00d7ff; text-decoration-color: #00d7ff\">None</span>, <span style=\"color: #00af00; text-decoration-color: #00af00\">512</span>)                 │         <span style=\"color: #00af00; text-decoration-color: #00af00\">401,920</span> │\n",
              "├──────────────────────────────────────┼─────────────────────────────┼─────────────────┤\n",
              "│ dense_45 (<span style=\"color: #0087ff; text-decoration-color: #0087ff\">Dense</span>)                     │ (<span style=\"color: #00d7ff; text-decoration-color: #00d7ff\">None</span>, <span style=\"color: #00af00; text-decoration-color: #00af00\">512</span>)                 │         <span style=\"color: #00af00; text-decoration-color: #00af00\">262,656</span> │\n",
              "├──────────────────────────────────────┼─────────────────────────────┼─────────────────┤\n",
              "│ dense_46 (<span style=\"color: #0087ff; text-decoration-color: #0087ff\">Dense</span>)                     │ (<span style=\"color: #00d7ff; text-decoration-color: #00d7ff\">None</span>, <span style=\"color: #00af00; text-decoration-color: #00af00\">512</span>)                 │         <span style=\"color: #00af00; text-decoration-color: #00af00\">262,656</span> │\n",
              "├──────────────────────────────────────┼─────────────────────────────┼─────────────────┤\n",
              "│ dense_47 (<span style=\"color: #0087ff; text-decoration-color: #0087ff\">Dense</span>)                     │ (<span style=\"color: #00d7ff; text-decoration-color: #00d7ff\">None</span>, <span style=\"color: #00af00; text-decoration-color: #00af00\">10</span>)                  │           <span style=\"color: #00af00; text-decoration-color: #00af00\">5,130</span> │\n",
              "└──────────────────────────────────────┴─────────────────────────────┴─────────────────┘\n",
              "</pre>\n"
            ]
          },
          "metadata": {}
        },
        {
          "output_type": "display_data",
          "data": {
            "text/plain": [
              "\u001b[1m Total params: \u001b[0m\u001b[38;5;34m932,362\u001b[0m (3.56 MB)\n"
            ],
            "text/html": [
              "<pre style=\"white-space:pre;overflow-x:auto;line-height:normal;font-family:Menlo,'DejaVu Sans Mono',consolas,'Courier New',monospace\"><span style=\"font-weight: bold\"> Total params: </span><span style=\"color: #00af00; text-decoration-color: #00af00\">932,362</span> (3.56 MB)\n",
              "</pre>\n"
            ]
          },
          "metadata": {}
        },
        {
          "output_type": "display_data",
          "data": {
            "text/plain": [
              "\u001b[1m Trainable params: \u001b[0m\u001b[38;5;34m932,362\u001b[0m (3.56 MB)\n"
            ],
            "text/html": [
              "<pre style=\"white-space:pre;overflow-x:auto;line-height:normal;font-family:Menlo,'DejaVu Sans Mono',consolas,'Courier New',monospace\"><span style=\"font-weight: bold\"> Trainable params: </span><span style=\"color: #00af00; text-decoration-color: #00af00\">932,362</span> (3.56 MB)\n",
              "</pre>\n"
            ]
          },
          "metadata": {}
        },
        {
          "output_type": "display_data",
          "data": {
            "text/plain": [
              "\u001b[1m Non-trainable params: \u001b[0m\u001b[38;5;34m0\u001b[0m (0.00 B)\n"
            ],
            "text/html": [
              "<pre style=\"white-space:pre;overflow-x:auto;line-height:normal;font-family:Menlo,'DejaVu Sans Mono',consolas,'Courier New',monospace\"><span style=\"font-weight: bold\"> Non-trainable params: </span><span style=\"color: #00af00; text-decoration-color: #00af00\">0</span> (0.00 B)\n",
              "</pre>\n"
            ]
          },
          "metadata": {}
        },
        {
          "output_type": "stream",
          "name": "stdout",
          "text": [
            "Epoch 1/40\n"
          ]
        },
        {
          "output_type": "stream",
          "name": "stderr",
          "text": [
            "/usr/local/lib/python3.11/dist-packages/keras/src/models/functional.py:237: UserWarning: The structure of `inputs` doesn't match the expected structure.\n",
            "Expected: ['keras_tensor_56']\n",
            "Received: inputs=Tensor(shape=(None, 784))\n",
            "  warnings.warn(msg)\n"
          ]
        },
        {
          "output_type": "stream",
          "name": "stdout",
          "text": [
            "\u001b[1m39/39\u001b[0m \u001b[32m━━━━━━━━━━━━━━━━━━━━\u001b[0m\u001b[37m\u001b[0m \u001b[1m9s\u001b[0m 178ms/step - categorical_accuracy: 0.5723 - loss: 27.3289 - val_categorical_accuracy: 0.9006 - val_loss: 0.8203\n",
            "Epoch 2/40\n",
            "\u001b[1m39/39\u001b[0m \u001b[32m━━━━━━━━━━━━━━━━━━━━\u001b[0m\u001b[37m\u001b[0m \u001b[1m9s\u001b[0m 139ms/step - categorical_accuracy: 0.9158 - loss: 0.5739 - val_categorical_accuracy: 0.9238 - val_loss: 0.4213\n",
            "Epoch 3/40\n",
            "\u001b[1m39/39\u001b[0m \u001b[32m━━━━━━━━━━━━━━━━━━━━\u001b[0m\u001b[37m\u001b[0m \u001b[1m10s\u001b[0m 142ms/step - categorical_accuracy: 0.9442 - loss: 0.2541 - val_categorical_accuracy: 0.9336 - val_loss: 0.3507\n",
            "Epoch 4/40\n",
            "\u001b[1m39/39\u001b[0m \u001b[32m━━━━━━━━━━━━━━━━━━━━\u001b[0m\u001b[37m\u001b[0m \u001b[1m7s\u001b[0m 186ms/step - categorical_accuracy: 0.9641 - loss: 0.1440 - val_categorical_accuracy: 0.9365 - val_loss: 0.3226\n",
            "Epoch 5/40\n",
            "\u001b[1m39/39\u001b[0m \u001b[32m━━━━━━━━━━━━━━━━━━━━\u001b[0m\u001b[37m\u001b[0m \u001b[1m6s\u001b[0m 142ms/step - categorical_accuracy: 0.9772 - loss: 0.0851 - val_categorical_accuracy: 0.9427 - val_loss: 0.2928\n",
            "Epoch 6/40\n",
            "\u001b[1m39/39\u001b[0m \u001b[32m━━━━━━━━━━━━━━━━━━━━\u001b[0m\u001b[37m\u001b[0m \u001b[1m12s\u001b[0m 175ms/step - categorical_accuracy: 0.9852 - loss: 0.0538 - val_categorical_accuracy: 0.9448 - val_loss: 0.2827\n",
            "Epoch 7/40\n",
            "\u001b[1m39/39\u001b[0m \u001b[32m━━━━━━━━━━━━━━━━━━━━\u001b[0m\u001b[37m\u001b[0m \u001b[1m10s\u001b[0m 184ms/step - categorical_accuracy: 0.9916 - loss: 0.0311 - val_categorical_accuracy: 0.9488 - val_loss: 0.2693\n",
            "Epoch 8/40\n",
            "\u001b[1m39/39\u001b[0m \u001b[32m━━━━━━━━━━━━━━━━━━━━\u001b[0m\u001b[37m\u001b[0m \u001b[1m6s\u001b[0m 143ms/step - categorical_accuracy: 0.9968 - loss: 0.0170 - val_categorical_accuracy: 0.9508 - val_loss: 0.2619\n",
            "Epoch 9/40\n",
            "\u001b[1m39/39\u001b[0m \u001b[32m━━━━━━━━━━━━━━━━━━━━\u001b[0m\u001b[37m\u001b[0m \u001b[1m11s\u001b[0m 168ms/step - categorical_accuracy: 0.9981 - loss: 0.0105 - val_categorical_accuracy: 0.9513 - val_loss: 0.2601\n",
            "Epoch 10/40\n",
            "\u001b[1m39/39\u001b[0m \u001b[32m━━━━━━━━━━━━━━━━━━━━\u001b[0m\u001b[37m\u001b[0m \u001b[1m11s\u001b[0m 194ms/step - categorical_accuracy: 0.9993 - loss: 0.0064 - val_categorical_accuracy: 0.9527 - val_loss: 0.2584\n",
            "Epoch 11/40\n",
            "\u001b[1m39/39\u001b[0m \u001b[32m━━━━━━━━━━━━━━━━━━━━\u001b[0m\u001b[37m\u001b[0m \u001b[1m8s\u001b[0m 142ms/step - categorical_accuracy: 0.9999 - loss: 0.0038 - val_categorical_accuracy: 0.9532 - val_loss: 0.2584\n",
            "Epoch 12/40\n",
            "\u001b[1m39/39\u001b[0m \u001b[32m━━━━━━━━━━━━━━━━━━━━\u001b[0m\u001b[37m\u001b[0m \u001b[1m10s\u001b[0m 138ms/step - categorical_accuracy: 1.0000 - loss: 0.0030 - val_categorical_accuracy: 0.9548 - val_loss: 0.2582\n",
            "Epoch 13/40\n",
            "\u001b[1m39/39\u001b[0m \u001b[32m━━━━━━━━━━━━━━━━━━━━\u001b[0m\u001b[37m\u001b[0m \u001b[1m10s\u001b[0m 142ms/step - categorical_accuracy: 1.0000 - loss: 0.0023 - val_categorical_accuracy: 0.9549 - val_loss: 0.2573\n",
            "Epoch 14/40\n",
            "\u001b[1m39/39\u001b[0m \u001b[32m━━━━━━━━━━━━━━━━━━━━\u001b[0m\u001b[37m\u001b[0m \u001b[1m12s\u001b[0m 188ms/step - categorical_accuracy: 1.0000 - loss: 0.0018 - val_categorical_accuracy: 0.9556 - val_loss: 0.2577\n",
            "Epoch 15/40\n",
            "\u001b[1m39/39\u001b[0m \u001b[32m━━━━━━━━━━━━━━━━━━━━\u001b[0m\u001b[37m\u001b[0m \u001b[1m9s\u001b[0m 164ms/step - categorical_accuracy: 1.0000 - loss: 0.0016 - val_categorical_accuracy: 0.9557 - val_loss: 0.2576\n",
            "Epoch 16/40\n",
            "\u001b[1m39/39\u001b[0m \u001b[32m━━━━━━━━━━━━━━━━━━━━\u001b[0m\u001b[37m\u001b[0m \u001b[1m9s\u001b[0m 135ms/step - categorical_accuracy: 1.0000 - loss: 0.0014 - val_categorical_accuracy: 0.9563 - val_loss: 0.2576\n",
            "Epoch 17/40\n",
            "\u001b[1m39/39\u001b[0m \u001b[32m━━━━━━━━━━━━━━━━━━━━\u001b[0m\u001b[37m\u001b[0m \u001b[1m10s\u001b[0m 134ms/step - categorical_accuracy: 1.0000 - loss: 0.0013 - val_categorical_accuracy: 0.9565 - val_loss: 0.2585\n",
            "Epoch 18/40\n",
            "\u001b[1m39/39\u001b[0m \u001b[32m━━━━━━━━━━━━━━━━━━━━\u001b[0m\u001b[37m\u001b[0m \u001b[1m10s\u001b[0m 138ms/step - categorical_accuracy: 1.0000 - loss: 0.0011 - val_categorical_accuracy: 0.9568 - val_loss: 0.2585\n",
            "Epoch 19/40\n",
            "\u001b[1m39/39\u001b[0m \u001b[32m━━━━━━━━━━━━━━━━━━━━\u001b[0m\u001b[37m\u001b[0m \u001b[1m12s\u001b[0m 176ms/step - categorical_accuracy: 1.0000 - loss: 0.0010 - val_categorical_accuracy: 0.9572 - val_loss: 0.2587\n",
            "Epoch 20/40\n",
            "\u001b[1m39/39\u001b[0m \u001b[32m━━━━━━━━━━━━━━━━━━━━\u001b[0m\u001b[37m\u001b[0m \u001b[1m6s\u001b[0m 142ms/step - categorical_accuracy: 1.0000 - loss: 8.9320e-04 - val_categorical_accuracy: 0.9573 - val_loss: 0.2590\n",
            "Epoch 21/40\n",
            "\u001b[1m39/39\u001b[0m \u001b[32m━━━━━━━━━━━━━━━━━━━━\u001b[0m\u001b[37m\u001b[0m \u001b[1m7s\u001b[0m 189ms/step - categorical_accuracy: 1.0000 - loss: 8.2443e-04 - val_categorical_accuracy: 0.9575 - val_loss: 0.2592\n",
            "Epoch 22/40\n",
            "\u001b[1m39/39\u001b[0m \u001b[32m━━━━━━━━━━━━━━━━━━━━\u001b[0m\u001b[37m\u001b[0m \u001b[1m9s\u001b[0m 145ms/step - categorical_accuracy: 1.0000 - loss: 7.7472e-04 - val_categorical_accuracy: 0.9580 - val_loss: 0.2595\n",
            "Epoch 23/40\n",
            "\u001b[1m39/39\u001b[0m \u001b[32m━━━━━━━━━━━━━━━━━━━━\u001b[0m\u001b[37m\u001b[0m \u001b[1m10s\u001b[0m 139ms/step - categorical_accuracy: 1.0000 - loss: 6.8955e-04 - val_categorical_accuracy: 0.9580 - val_loss: 0.2600\n",
            "Epoch 24/40\n",
            "\u001b[1m39/39\u001b[0m \u001b[32m━━━━━━━━━━━━━━━━━━━━\u001b[0m\u001b[37m\u001b[0m \u001b[1m7s\u001b[0m 191ms/step - categorical_accuracy: 1.0000 - loss: 6.4500e-04 - val_categorical_accuracy: 0.9582 - val_loss: 0.2599\n",
            "Epoch 25/40\n",
            "\u001b[1m39/39\u001b[0m \u001b[32m━━━━━━━━━━━━━━━━━━━━\u001b[0m\u001b[37m\u001b[0m \u001b[1m8s\u001b[0m 140ms/step - categorical_accuracy: 1.0000 - loss: 5.9630e-04 - val_categorical_accuracy: 0.9585 - val_loss: 0.2608\n",
            "Epoch 26/40\n",
            "\u001b[1m39/39\u001b[0m \u001b[32m━━━━━━━━━━━━━━━━━━━━\u001b[0m\u001b[37m\u001b[0m \u001b[1m10s\u001b[0m 139ms/step - categorical_accuracy: 1.0000 - loss: 5.7588e-04 - val_categorical_accuracy: 0.9588 - val_loss: 0.2605\n",
            "Epoch 27/40\n",
            "\u001b[1m39/39\u001b[0m \u001b[32m━━━━━━━━━━━━━━━━━━━━\u001b[0m\u001b[37m\u001b[0m \u001b[1m10s\u001b[0m 142ms/step - categorical_accuracy: 1.0000 - loss: 5.2518e-04 - val_categorical_accuracy: 0.9591 - val_loss: 0.2606\n",
            "Epoch 28/40\n",
            "\u001b[1m39/39\u001b[0m \u001b[32m━━━━━━━━━━━━━━━━━━━━\u001b[0m\u001b[37m\u001b[0m \u001b[1m7s\u001b[0m 181ms/step - categorical_accuracy: 1.0000 - loss: 4.9390e-04 - val_categorical_accuracy: 0.9592 - val_loss: 0.2611\n",
            "Epoch 29/40\n",
            "\u001b[1m39/39\u001b[0m \u001b[32m━━━━━━━━━━━━━━━━━━━━\u001b[0m\u001b[37m\u001b[0m \u001b[1m7s\u001b[0m 187ms/step - categorical_accuracy: 1.0000 - loss: 4.5864e-04 - val_categorical_accuracy: 0.9594 - val_loss: 0.2613\n",
            "Epoch 30/40\n",
            "\u001b[1m39/39\u001b[0m \u001b[32m━━━━━━━━━━━━━━━━━━━━\u001b[0m\u001b[37m\u001b[0m \u001b[1m10s\u001b[0m 179ms/step - categorical_accuracy: 1.0000 - loss: 4.3940e-04 - val_categorical_accuracy: 0.9593 - val_loss: 0.2620\n",
            "Epoch 31/40\n",
            "\u001b[1m39/39\u001b[0m \u001b[32m━━━━━━━━━━━━━━━━━━━━\u001b[0m\u001b[37m\u001b[0m \u001b[1m11s\u001b[0m 190ms/step - categorical_accuracy: 1.0000 - loss: 4.1365e-04 - val_categorical_accuracy: 0.9594 - val_loss: 0.2623\n",
            "Epoch 32/40\n",
            "\u001b[1m39/39\u001b[0m \u001b[32m━━━━━━━━━━━━━━━━━━━━\u001b[0m\u001b[37m\u001b[0m \u001b[1m6s\u001b[0m 142ms/step - categorical_accuracy: 1.0000 - loss: 3.8043e-04 - val_categorical_accuracy: 0.9596 - val_loss: 0.2625\n",
            "Epoch 33/40\n",
            "\u001b[1m39/39\u001b[0m \u001b[32m━━━━━━━━━━━━━━━━━━━━\u001b[0m\u001b[37m\u001b[0m \u001b[1m12s\u001b[0m 176ms/step - categorical_accuracy: 1.0000 - loss: 3.5481e-04 - val_categorical_accuracy: 0.9597 - val_loss: 0.2625\n",
            "Epoch 34/40\n",
            "\u001b[1m39/39\u001b[0m \u001b[32m━━━━━━━━━━━━━━━━━━━━\u001b[0m\u001b[37m\u001b[0m \u001b[1m5s\u001b[0m 133ms/step - categorical_accuracy: 1.0000 - loss: 3.3973e-04 - val_categorical_accuracy: 0.9597 - val_loss: 0.2630\n",
            "Epoch 35/40\n",
            "\u001b[1m39/39\u001b[0m \u001b[32m━━━━━━━━━━━━━━━━━━━━\u001b[0m\u001b[37m\u001b[0m \u001b[1m10s\u001b[0m 137ms/step - categorical_accuracy: 1.0000 - loss: 3.2214e-04 - val_categorical_accuracy: 0.9597 - val_loss: 0.2631\n",
            "Epoch 36/40\n",
            "\u001b[1m39/39\u001b[0m \u001b[32m━━━━━━━━━━━━━━━━━━━━\u001b[0m\u001b[37m\u001b[0m \u001b[1m7s\u001b[0m 186ms/step - categorical_accuracy: 1.0000 - loss: 2.9892e-04 - val_categorical_accuracy: 0.9595 - val_loss: 0.2634\n",
            "Epoch 37/40\n",
            "\u001b[1m39/39\u001b[0m \u001b[32m━━━━━━━━━━━━━━━━━━━━\u001b[0m\u001b[37m\u001b[0m \u001b[1m8s\u001b[0m 140ms/step - categorical_accuracy: 1.0000 - loss: 2.9667e-04 - val_categorical_accuracy: 0.9597 - val_loss: 0.2639\n",
            "Epoch 38/40\n",
            "\u001b[1m39/39\u001b[0m \u001b[32m━━━━━━━━━━━━━━━━━━━━\u001b[0m\u001b[37m\u001b[0m \u001b[1m10s\u001b[0m 139ms/step - categorical_accuracy: 1.0000 - loss: 2.7570e-04 - val_categorical_accuracy: 0.9599 - val_loss: 0.2639\n",
            "Epoch 39/40\n",
            "\u001b[1m39/39\u001b[0m \u001b[32m━━━━━━━━━━━━━━━━━━━━\u001b[0m\u001b[37m\u001b[0m \u001b[1m7s\u001b[0m 178ms/step - categorical_accuracy: 1.0000 - loss: 2.6094e-04 - val_categorical_accuracy: 0.9599 - val_loss: 0.2644\n",
            "Epoch 40/40\n",
            "\u001b[1m39/39\u001b[0m \u001b[32m━━━━━━━━━━━━━━━━━━━━\u001b[0m\u001b[37m\u001b[0m \u001b[1m9s\u001b[0m 143ms/step - categorical_accuracy: 1.0000 - loss: 2.5585e-04 - val_categorical_accuracy: 0.9598 - val_loss: 0.2645\n",
            "dict_keys(['categorical_accuracy', 'loss', 'val_categorical_accuracy', 'val_loss'])\n"
          ]
        }
      ]
    },
    {
      "cell_type": "code",
      "source": [
        "# Training loss 확인하기\n",
        "loss = history.history['loss']\n",
        "print(loss)\n",
        "\n",
        "# Q. Validation loss를 확인해 보세요.\n",
        "val_loss = history.history['val_loss']\n",
        "print(val_loss)\n",
        "\n",
        "# Test 데이터를 통해서 정확도 확인하기\n",
        "print(\"\\n Test Accuracy: %.4f\" % (model.evaluate(X_test, Y_test)[1]))\n",
        "\n",
        "# 그래프로 표현\n",
        "x_len = np.arange(len(val_loss))\n",
        "plt.plot(x_len, val_loss, marker='.', c=\"red\", label='validation loss')\n",
        "plt.plot(x_len, loss, marker='.', c=\"blue\", label='training loss')\n",
        "\n",
        "# 그래프에 그리드를 주고 레이블을 표시\n",
        "plt.legend(loc='upper right')\n",
        "plt.grid()\n",
        "plt.xlabel('epoch')\n",
        "plt.ylabel('loss')\n",
        "plt.show()"
      ],
      "metadata": {
        "colab": {
          "base_uri": "https://localhost:8080/",
          "height": 556
        },
        "id": "bORlM9_ujOD7",
        "outputId": "42da1b41-1137-49bc-a7e5-55b1a77102d6"
      },
      "execution_count": 46,
      "outputs": [
        {
          "output_type": "stream",
          "name": "stdout",
          "text": [
            "[10.873283386230469, 0.5006416440010071, 0.2476692646741867, 0.13890378177165985, 0.0852753072977066, 0.05245496705174446, 0.030210264027118683, 0.016811035573482513, 0.010508893057703972, 0.006439950317144394, 0.003896450623869896, 0.002927342662587762, 0.002270573051646352, 0.0018855793168768287, 0.0016377572901546955, 0.0014417018974199891, 0.0012730805901810527, 0.0011327493702992797, 0.0010203137062489986, 0.0009343922138214111, 0.000849071133416146, 0.0007776609854772687, 0.0007161289104260504, 0.0006641179206781089, 0.0006157946772873402, 0.0005741781205870211, 0.000534210994374007, 0.0004982768441550434, 0.00046674333862029016, 0.00043727547745220363, 0.0004118673678021878, 0.0003882547898683697, 0.0003656598273664713, 0.000346241460647434, 0.00032849947456270456, 0.00031087055685929954, 0.00029525067657232285, 0.00028041627956554294, 0.0002668393135536462, 0.0002538366534281522]\n",
            "[0.820296049118042, 0.42134740948677063, 0.35069289803504944, 0.3225935995578766, 0.2928049862384796, 0.28266382217407227, 0.26926180720329285, 0.261923223733902, 0.26010555028915405, 0.258362352848053, 0.25836607813835144, 0.2582297623157501, 0.25728046894073486, 0.257657915353775, 0.25762784481048584, 0.25755277276039124, 0.2585400640964508, 0.2585345506668091, 0.25868040323257446, 0.25895801186561584, 0.2591811418533325, 0.25945064425468445, 0.2599564492702484, 0.2599118947982788, 0.26077139377593994, 0.2605443596839905, 0.2605641782283783, 0.261103093624115, 0.2613040506839752, 0.2620202898979187, 0.26230698823928833, 0.26252058148384094, 0.2625134289264679, 0.2629775106906891, 0.2630711495876312, 0.2634156048297882, 0.26390281319618225, 0.26390573382377625, 0.26437708735466003, 0.26453307271003723]\n",
            "\u001b[1m313/313\u001b[0m \u001b[32m━━━━━━━━━━━━━━━━━━━━\u001b[0m\u001b[37m\u001b[0m \u001b[1m2s\u001b[0m 7ms/step - categorical_accuracy: 0.9517 - loss: 0.2998\n",
            "\n",
            " Test Accuracy: 0.9593\n"
          ]
        },
        {
          "output_type": "display_data",
          "data": {
            "text/plain": [
              "<Figure size 640x480 with 1 Axes>"
            ],
            "image/png": "[encoded data removed]"
          },
          "metadata": {}
        }
      ]
    },
    {
      "cell_type": "markdown",
      "source": [
        "# 기존 모델 VS 새로운 모델 VS ver2. VS ver3.\n",
        "\n",
        "기존 모델의 settings =\n",
        "1. Hidden Layer layer 2개\n",
        "2. 학습률 0.001\n",
        "3. epoch 30\n",
        "4. batch size 1000\n",
        "5. 기존 모델의 정확도 = 0.9572\n",
        "\n",
        "새로운 모델의 settings =\n",
        "1. Hidden Layer layer 3개\n",
        "2. 학습률 0.00075\n",
        "3. epoch 30\n",
        "4. batch size 1500\n",
        "5. 새로운 모델의 정확도 = 0.9537\n",
        "\n",
        "새로운 모델 ver.2 의 settings =\n",
        "\n",
        "1. Hidden Layer layer 3개\n",
        "2. 학습률 0.000875\n",
        "3. epoch 30\n",
        "4. batch size 1250\n",
        "5. 새로운 모델 ver2.의 정확도 = 0.9587\n",
        "\n",
        "새로운 모델 ver3. 의 settings =\n",
        "\n",
        "1. Hidden Layer layer 3개\n",
        "2. 학습률 0.000875\n",
        "3. epoch 40\n",
        "4. batch size 1250\n",
        "5. 새로운 모델 ver3.의 정확도 = 0.9593\n",
        "\n",
        "=> epoch 소량 증가(30->40)는 긍정적인 효과를 보임!!\n",
        "---\n",
        "=> 정확도 증가!! (0.9531 -> 0.9587 -> 0.9593)\n",
        "---"
      ],
      "metadata": {
        "id": "6s2_Ff4Ojunv"
      }
    },
    {
      "cell_type": "markdown",
      "source": [
        "---\n",
        "# 3번 solution. batch size 증가량 감소 (1250에서 1100 정도로 조정) 모델 ver4.\n",
        "\n",
        "'epoch 증가'와 'batch 감소'는 각각의 조정 정도가 적절하다는 전제 하에\n",
        "\n",
        "긍정적인 시너지 효과를 내므로,\n",
        "\n",
        "ver2.가 아닌 ver3.에 그대로 batch size 증가를 적용하기로 했다."
      ],
      "metadata": {
        "id": "l3asKSqYjvlu"
      }
    },
    {
      "cell_type": "code",
      "source": [
        "# 모델 다르게 만들기\n",
        "# Playground\n",
        "# Dense Layer 1줄 늘림 (hidden layer 2 -> 3)\n",
        "# 학습률 더 조금만 낮춤 (0.001 -> 0.000875)\n",
        "# epoch 조금 증가 (40)\n",
        "# batch size 다시 조금 감소 (1000 -> 1100)\n",
        "# 종합적으로 과도하게 학습 속도가 느려지거나, 과적합이 오지 않도록\n",
        "# 2배씩만 조정\n",
        "# Training loss와 test loss가 더 낮아질 것으로 예상\n",
        "# 모델의 예측 성능이 더 좋아질 것으로 예상\n",
        "\n",
        "# 모델 설계하기\n",
        "input_layer = tf.keras.layers.Input(shape=(784,)) # input layer, input의 사이즈에 맞게 shape을 지정하는 것이 중요\n",
        "x = tf.keras.layers.Dense(512, activation='relu')(input_layer) # hidden layer 1, 512개의 perceptron으로 구성된 fully connted layer, activation 함수는 relu\n",
        "x = tf.keras.layers.Dense(512, activation='relu')(x) # hidden layer 2\n",
        "x = tf.keras.layers.Dense(512, activation='relu')(x) # hidden layer 3\n",
        "\n",
        "# 분류해야 하는 class 0~9 (10개) -> 따라서 최종 layer의 perceptron은 10개\n",
        "out_layer= tf.keras.layers.Dense(10, activation='softmax')(x)\n",
        "\n",
        "model = tf.keras.Model(inputs=[input_layer], outputs=[out_layer])\n",
        "model.summary()\n",
        "\n",
        "loss=tf.keras.losses.categorical_crossentropy\n",
        "optimizer = tf.keras.optimizers.Adam(learning_rate = 0.000875)\n",
        "metric=tf.keras.metrics.categorical_accuracy\n",
        "model.compile(loss = loss,\n",
        "              optimizer = optimizer,\n",
        "              metrics = [metric])\n",
        "\n",
        "# validation_data 옵션으로 테스트 데이터만 넣어주어서 검증 데이터 분류가 가능\n",
        "history = model.fit(X_train, Y_train, validation_split=0.2, epochs=40, batch_size=1100, verbose=1)\n",
        "print(history.history.keys())"
      ],
      "metadata": {
        "colab": {
          "base_uri": "https://localhost:8080/",
          "height": 1000
        },
        "id": "7Sa_n-W8kxl7",
        "outputId": "6f0c43ac-e281-49c0-cd49-83d7e51208af"
      },
      "execution_count": 47,
      "outputs": [
        {
          "output_type": "display_data",
          "data": {
            "text/plain": [
              "\u001b[1mModel: \"functional_13\"\u001b[0m\n"
            ],
            "text/html": [
              "<pre style=\"white-space:pre;overflow-x:auto;line-height:normal;font-family:Menlo,'DejaVu Sans Mono',consolas,'Courier New',monospace\"><span style=\"font-weight: bold\">Model: \"functional_13\"</span>\n",
              "</pre>\n"
            ]
          },
          "metadata": {}
        },
        {
          "output_type": "display_data",
          "data": {
            "text/plain": [
              "┏━━━━━━━━━━━━━━━━━━━━━━━━━━━━━━━━━━━━━━┳━━━━━━━━━━━━━━━━━━━━━━━━━━━━━┳━━━━━━━━━━━━━━━━━┓\n",
              "┃\u001b[1m \u001b[0m\u001b[1mLayer (type)                        \u001b[0m\u001b[1m \u001b[0m┃\u001b[1m \u001b[0m\u001b[1mOutput Shape               \u001b[0m\u001b[1m \u001b[0m┃\u001b[1m \u001b[0m\u001b[1m        Param #\u001b[0m\u001b[1m \u001b[0m┃\n",
              "┡━━━━━━━━━━━━━━━━━━━━━━━━━━━━━━━━━━━━━━╇━━━━━━━━━━━━━━━━━━━━━━━━━━━━━╇━━━━━━━━━━━━━━━━━┩\n",
              "│ input_layer_13 (\u001b[38;5;33mInputLayer\u001b[0m)          │ (\u001b[38;5;45mNone\u001b[0m, \u001b[38;5;34m784\u001b[0m)                 │               \u001b[38;5;34m0\u001b[0m │\n",
              "├──────────────────────────────────────┼─────────────────────────────┼─────────────────┤\n",
              "│ dense_48 (\u001b[38;5;33mDense\u001b[0m)                     │ (\u001b[38;5;45mNone\u001b[0m, \u001b[38;5;34m512\u001b[0m)                 │         \u001b[38;5;34m401,920\u001b[0m │\n",
              "├──────────────────────────────────────┼─────────────────────────────┼─────────────────┤\n",
              "│ dense_49 (\u001b[38;5;33mDense\u001b[0m)                     │ (\u001b[38;5;45mNone\u001b[0m, \u001b[38;5;34m512\u001b[0m)                 │         \u001b[38;5;34m262,656\u001b[0m │\n",
              "├──────────────────────────────────────┼─────────────────────────────┼─────────────────┤\n",
              "│ dense_50 (\u001b[38;5;33mDense\u001b[0m)                     │ (\u001b[38;5;45mNone\u001b[0m, \u001b[38;5;34m512\u001b[0m)                 │         \u001b[38;5;34m262,656\u001b[0m │\n",
              "├──────────────────────────────────────┼─────────────────────────────┼─────────────────┤\n",
              "│ dense_51 (\u001b[38;5;33mDense\u001b[0m)                     │ (\u001b[38;5;45mNone\u001b[0m, \u001b[38;5;34m10\u001b[0m)                  │           \u001b[38;5;34m5,130\u001b[0m │\n",
              "└──────────────────────────────────────┴─────────────────────────────┴─────────────────┘\n"
            ],
            "text/html": [
              "<pre style=\"white-space:pre;overflow-x:auto;line-height:normal;font-family:Menlo,'DejaVu Sans Mono',consolas,'Courier New',monospace\">┏━━━━━━━━━━━━━━━━━━━━━━━━━━━━━━━━━━━━━━┳━━━━━━━━━━━━━━━━━━━━━━━━━━━━━┳━━━━━━━━━━━━━━━━━┓\n",
              "┃<span style=\"font-weight: bold\"> Layer (type)                         </span>┃<span style=\"font-weight: bold\"> Output Shape                </span>┃<span style=\"font-weight: bold\">         Param # </span>┃\n",
              "┡━━━━━━━━━━━━━━━━━━━━━━━━━━━━━━━━━━━━━━╇━━━━━━━━━━━━━━━━━━━━━━━━━━━━━╇━━━━━━━━━━━━━━━━━┩\n",
              "│ input_layer_13 (<span style=\"color: #0087ff; text-decoration-color: #0087ff\">InputLayer</span>)          │ (<span style=\"color: #00d7ff; text-decoration-color: #00d7ff\">None</span>, <span style=\"color: #00af00; text-decoration-color: #00af00\">784</span>)                 │               <span style=\"color: #00af00; text-decoration-color: #00af00\">0</span> │\n",
              "├──────────────────────────────────────┼─────────────────────────────┼─────────────────┤\n",
              "│ dense_48 (<span style=\"color: #0087ff; text-decoration-color: #0087ff\">Dense</span>)                     │ (<span style=\"color: #00d7ff; text-decoration-color: #00d7ff\">None</span>, <span style=\"color: #00af00; text-decoration-color: #00af00\">512</span>)                 │         <span style=\"color: #00af00; text-decoration-color: #00af00\">401,920</span> │\n",
              "├──────────────────────────────────────┼─────────────────────────────┼─────────────────┤\n",
              "│ dense_49 (<span style=\"color: #0087ff; text-decoration-color: #0087ff\">Dense</span>)                     │ (<span style=\"color: #00d7ff; text-decoration-color: #00d7ff\">None</span>, <span style=\"color: #00af00; text-decoration-color: #00af00\">512</span>)                 │         <span style=\"color: #00af00; text-decoration-color: #00af00\">262,656</span> │\n",
              "├──────────────────────────────────────┼─────────────────────────────┼─────────────────┤\n",
              "│ dense_50 (<span style=\"color: #0087ff; text-decoration-color: #0087ff\">Dense</span>)                     │ (<span style=\"color: #00d7ff; text-decoration-color: #00d7ff\">None</span>, <span style=\"color: #00af00; text-decoration-color: #00af00\">512</span>)                 │         <span style=\"color: #00af00; text-decoration-color: #00af00\">262,656</span> │\n",
              "├──────────────────────────────────────┼─────────────────────────────┼─────────────────┤\n",
              "│ dense_51 (<span style=\"color: #0087ff; text-decoration-color: #0087ff\">Dense</span>)                     │ (<span style=\"color: #00d7ff; text-decoration-color: #00d7ff\">None</span>, <span style=\"color: #00af00; text-decoration-color: #00af00\">10</span>)                  │           <span style=\"color: #00af00; text-decoration-color: #00af00\">5,130</span> │\n",
              "└──────────────────────────────────────┴─────────────────────────────┴─────────────────┘\n",
              "</pre>\n"
            ]
          },
          "metadata": {}
        },
        {
          "output_type": "display_data",
          "data": {
            "text/plain": [
              "\u001b[1m Total params: \u001b[0m\u001b[38;5;34m932,362\u001b[0m (3.56 MB)\n"
            ],
            "text/html": [
              "<pre style=\"white-space:pre;overflow-x:auto;line-height:normal;font-family:Menlo,'DejaVu Sans Mono',consolas,'Courier New',monospace\"><span style=\"font-weight: bold\"> Total params: </span><span style=\"color: #00af00; text-decoration-color: #00af00\">932,362</span> (3.56 MB)\n",
              "</pre>\n"
            ]
          },
          "metadata": {}
        },
        {
          "output_type": "display_data",
          "data": {
            "text/plain": [
              "\u001b[1m Trainable params: \u001b[0m\u001b[38;5;34m932,362\u001b[0m (3.56 MB)\n"
            ],
            "text/html": [
              "<pre style=\"white-space:pre;overflow-x:auto;line-height:normal;font-family:Menlo,'DejaVu Sans Mono',consolas,'Courier New',monospace\"><span style=\"font-weight: bold\"> Trainable params: </span><span style=\"color: #00af00; text-decoration-color: #00af00\">932,362</span> (3.56 MB)\n",
              "</pre>\n"
            ]
          },
          "metadata": {}
        },
        {
          "output_type": "display_data",
          "data": {
            "text/plain": [
              "\u001b[1m Non-trainable params: \u001b[0m\u001b[38;5;34m0\u001b[0m (0.00 B)\n"
            ],
            "text/html": [
              "<pre style=\"white-space:pre;overflow-x:auto;line-height:normal;font-family:Menlo,'DejaVu Sans Mono',consolas,'Courier New',monospace\"><span style=\"font-weight: bold\"> Non-trainable params: </span><span style=\"color: #00af00; text-decoration-color: #00af00\">0</span> (0.00 B)\n",
              "</pre>\n"
            ]
          },
          "metadata": {}
        },
        {
          "output_type": "stream",
          "name": "stdout",
          "text": [
            "Epoch 1/40\n"
          ]
        },
        {
          "output_type": "stream",
          "name": "stderr",
          "text": [
            "/usr/local/lib/python3.11/dist-packages/keras/src/models/functional.py:237: UserWarning: The structure of `inputs` doesn't match the expected structure.\n",
            "Expected: ['keras_tensor_61']\n",
            "Received: inputs=Tensor(shape=(None, 784))\n",
            "  warnings.warn(msg)\n"
          ]
        },
        {
          "output_type": "stream",
          "name": "stdout",
          "text": [
            "\u001b[1m44/44\u001b[0m \u001b[32m━━━━━━━━━━━━━━━━━━━━\u001b[0m\u001b[37m\u001b[0m \u001b[1m8s\u001b[0m 132ms/step - categorical_accuracy: 0.5894 - loss: 23.8787 - val_categorical_accuracy: 0.9084 - val_loss: 0.7408\n",
            "Epoch 2/40\n",
            "\u001b[1m44/44\u001b[0m \u001b[32m━━━━━━━━━━━━━━━━━━━━\u001b[0m\u001b[37m\u001b[0m \u001b[1m7s\u001b[0m 169ms/step - categorical_accuracy: 0.9210 - loss: 0.5331 - val_categorical_accuracy: 0.9260 - val_loss: 0.4378\n",
            "Epoch 3/40\n",
            "\u001b[1m44/44\u001b[0m \u001b[32m━━━━━━━━━━━━━━━━━━━━\u001b[0m\u001b[37m\u001b[0m \u001b[1m8s\u001b[0m 126ms/step - categorical_accuracy: 0.9499 - loss: 0.2450 - val_categorical_accuracy: 0.9356 - val_loss: 0.3646\n",
            "Epoch 4/40\n",
            "\u001b[1m44/44\u001b[0m \u001b[32m━━━━━━━━━━━━━━━━━━━━\u001b[0m\u001b[37m\u001b[0m \u001b[1m10s\u001b[0m 128ms/step - categorical_accuracy: 0.9689 - loss: 0.1269 - val_categorical_accuracy: 0.9396 - val_loss: 0.3375\n",
            "Epoch 5/40\n",
            "\u001b[1m44/44\u001b[0m \u001b[32m━━━━━━━━━━━━━━━━━━━━\u001b[0m\u001b[37m\u001b[0m \u001b[1m7s\u001b[0m 167ms/step - categorical_accuracy: 0.9826 - loss: 0.0703 - val_categorical_accuracy: 0.9456 - val_loss: 0.3069\n",
            "Epoch 6/40\n",
            "\u001b[1m44/44\u001b[0m \u001b[32m━━━━━━━━━━━━━━━━━━━━\u001b[0m\u001b[37m\u001b[0m \u001b[1m6s\u001b[0m 126ms/step - categorical_accuracy: 0.9911 - loss: 0.0387 - val_categorical_accuracy: 0.9463 - val_loss: 0.2963\n",
            "Epoch 7/40\n",
            "\u001b[1m44/44\u001b[0m \u001b[32m━━━━━━━━━━━━━━━━━━━━\u001b[0m\u001b[37m\u001b[0m \u001b[1m12s\u001b[0m 164ms/step - categorical_accuracy: 0.9958 - loss: 0.0195 - val_categorical_accuracy: 0.9492 - val_loss: 0.2939\n",
            "Epoch 8/40\n",
            "\u001b[1m44/44\u001b[0m \u001b[32m━━━━━━━━━━━━━━━━━━━━\u001b[0m\u001b[37m\u001b[0m \u001b[1m10s\u001b[0m 167ms/step - categorical_accuracy: 0.9982 - loss: 0.0117 - val_categorical_accuracy: 0.9503 - val_loss: 0.2855\n",
            "Epoch 9/40\n",
            "\u001b[1m44/44\u001b[0m \u001b[32m━━━━━━━━━━━━━━━━━━━━\u001b[0m\u001b[37m\u001b[0m \u001b[1m9s\u001b[0m 146ms/step - categorical_accuracy: 0.9994 - loss: 0.0059 - val_categorical_accuracy: 0.9518 - val_loss: 0.2836\n",
            "Epoch 10/40\n",
            "\u001b[1m44/44\u001b[0m \u001b[32m━━━━━━━━━━━━━━━━━━━━\u001b[0m\u001b[37m\u001b[0m \u001b[1m9s\u001b[0m 124ms/step - categorical_accuracy: 0.9999 - loss: 0.0032 - val_categorical_accuracy: 0.9530 - val_loss: 0.2832\n",
            "Epoch 11/40\n",
            "\u001b[1m44/44\u001b[0m \u001b[32m━━━━━━━━━━━━━━━━━━━━\u001b[0m\u001b[37m\u001b[0m \u001b[1m10s\u001b[0m 126ms/step - categorical_accuracy: 1.0000 - loss: 0.0024 - val_categorical_accuracy: 0.9538 - val_loss: 0.2816\n",
            "Epoch 12/40\n",
            "\u001b[1m44/44\u001b[0m \u001b[32m━━━━━━━━━━━━━━━━━━━━\u001b[0m\u001b[37m\u001b[0m \u001b[1m10s\u001b[0m 122ms/step - categorical_accuracy: 1.0000 - loss: 0.0018 - val_categorical_accuracy: 0.9542 - val_loss: 0.2822\n",
            "Epoch 13/40\n",
            "\u001b[1m44/44\u001b[0m \u001b[32m━━━━━━━━━━━━━━━━━━━━\u001b[0m\u001b[37m\u001b[0m \u001b[1m11s\u001b[0m 149ms/step - categorical_accuracy: 1.0000 - loss: 0.0015 - val_categorical_accuracy: 0.9543 - val_loss: 0.2820\n",
            "Epoch 14/40\n",
            "\u001b[1m44/44\u001b[0m \u001b[32m━━━━━━━━━━━━━━━━━━━━\u001b[0m\u001b[37m\u001b[0m \u001b[1m11s\u001b[0m 172ms/step - categorical_accuracy: 1.0000 - loss: 0.0013 - val_categorical_accuracy: 0.9553 - val_loss: 0.2823\n",
            "Epoch 15/40\n",
            "\u001b[1m44/44\u001b[0m \u001b[32m━━━━━━━━━━━━━━━━━━━━\u001b[0m\u001b[37m\u001b[0m \u001b[1m8s\u001b[0m 128ms/step - categorical_accuracy: 1.0000 - loss: 0.0011 - val_categorical_accuracy: 0.9557 - val_loss: 0.2824\n",
            "Epoch 16/40\n",
            "\u001b[1m44/44\u001b[0m \u001b[32m━━━━━━━━━━━━━━━━━━━━\u001b[0m\u001b[37m\u001b[0m \u001b[1m7s\u001b[0m 166ms/step - categorical_accuracy: 1.0000 - loss: 0.0010 - val_categorical_accuracy: 0.9558 - val_loss: 0.2819\n",
            "Epoch 17/40\n",
            "\u001b[1m44/44\u001b[0m \u001b[32m━━━━━━━━━━━━━━━━━━━━\u001b[0m\u001b[37m\u001b[0m \u001b[1m9s\u001b[0m 140ms/step - categorical_accuracy: 1.0000 - loss: 8.6694e-04 - val_categorical_accuracy: 0.9557 - val_loss: 0.2826\n",
            "Epoch 18/40\n",
            "\u001b[1m44/44\u001b[0m \u001b[32m━━━━━━━━━━━━━━━━━━━━\u001b[0m\u001b[37m\u001b[0m \u001b[1m7s\u001b[0m 150ms/step - categorical_accuracy: 1.0000 - loss: 8.2480e-04 - val_categorical_accuracy: 0.9564 - val_loss: 0.2823\n",
            "Epoch 19/40\n",
            "\u001b[1m44/44\u001b[0m \u001b[32m━━━━━━━━━━━━━━━━━━━━\u001b[0m\u001b[37m\u001b[0m \u001b[1m5s\u001b[0m 123ms/step - categorical_accuracy: 1.0000 - loss: 7.4920e-04 - val_categorical_accuracy: 0.9564 - val_loss: 0.2827\n",
            "Epoch 20/40\n",
            "\u001b[1m44/44\u001b[0m \u001b[32m━━━━━━━━━━━━━━━━━━━━\u001b[0m\u001b[37m\u001b[0m \u001b[1m10s\u001b[0m 127ms/step - categorical_accuracy: 1.0000 - loss: 6.9450e-04 - val_categorical_accuracy: 0.9567 - val_loss: 0.2824\n",
            "Epoch 21/40\n",
            "\u001b[1m44/44\u001b[0m \u001b[32m━━━━━━━━━━━━━━━━━━━━\u001b[0m\u001b[37m\u001b[0m \u001b[1m10s\u001b[0m 127ms/step - categorical_accuracy: 1.0000 - loss: 6.3297e-04 - val_categorical_accuracy: 0.9567 - val_loss: 0.2828\n",
            "Epoch 22/40\n",
            "\u001b[1m44/44\u001b[0m \u001b[32m━━━━━━━━━━━━━━━━━━━━\u001b[0m\u001b[37m\u001b[0m \u001b[1m11s\u001b[0m 137ms/step - categorical_accuracy: 1.0000 - loss: 5.9219e-04 - val_categorical_accuracy: 0.9566 - val_loss: 0.2832\n",
            "Epoch 23/40\n",
            "\u001b[1m44/44\u001b[0m \u001b[32m━━━━━━━━━━━━━━━━━━━━\u001b[0m\u001b[37m\u001b[0m \u001b[1m5s\u001b[0m 123ms/step - categorical_accuracy: 1.0000 - loss: 5.2519e-04 - val_categorical_accuracy: 0.9569 - val_loss: 0.2828\n",
            "Epoch 24/40\n",
            "\u001b[1m44/44\u001b[0m \u001b[32m━━━━━━━━━━━━━━━━━━━━\u001b[0m\u001b[37m\u001b[0m \u001b[1m11s\u001b[0m 129ms/step - categorical_accuracy: 1.0000 - loss: 4.8071e-04 - val_categorical_accuracy: 0.9568 - val_loss: 0.2829\n",
            "Epoch 25/40\n",
            "\u001b[1m44/44\u001b[0m \u001b[32m━━━━━━━━━━━━━━━━━━━━\u001b[0m\u001b[37m\u001b[0m \u001b[1m7s\u001b[0m 163ms/step - categorical_accuracy: 1.0000 - loss: 4.6031e-04 - val_categorical_accuracy: 0.9571 - val_loss: 0.2829\n",
            "Epoch 26/40\n",
            "\u001b[1m44/44\u001b[0m \u001b[32m━━━━━━━━━━━━━━━━━━━━\u001b[0m\u001b[37m\u001b[0m \u001b[1m8s\u001b[0m 122ms/step - categorical_accuracy: 1.0000 - loss: 4.3299e-04 - val_categorical_accuracy: 0.9574 - val_loss: 0.2834\n",
            "Epoch 27/40\n",
            "\u001b[1m44/44\u001b[0m \u001b[32m━━━━━━━━━━━━━━━━━━━━\u001b[0m\u001b[37m\u001b[0m \u001b[1m10s\u001b[0m 124ms/step - categorical_accuracy: 1.0000 - loss: 4.1195e-04 - val_categorical_accuracy: 0.9575 - val_loss: 0.2832\n",
            "Epoch 28/40\n",
            "\u001b[1m44/44\u001b[0m \u001b[32m━━━━━━━━━━━━━━━━━━━━\u001b[0m\u001b[37m\u001b[0m \u001b[1m10s\u001b[0m 128ms/step - categorical_accuracy: 1.0000 - loss: 3.7639e-04 - val_categorical_accuracy: 0.9581 - val_loss: 0.2830\n",
            "Epoch 29/40\n",
            "\u001b[1m44/44\u001b[0m \u001b[32m━━━━━━━━━━━━━━━━━━━━\u001b[0m\u001b[37m\u001b[0m \u001b[1m11s\u001b[0m 142ms/step - categorical_accuracy: 1.0000 - loss: 3.6538e-04 - val_categorical_accuracy: 0.9578 - val_loss: 0.2838\n",
            "Epoch 30/40\n",
            "\u001b[1m44/44\u001b[0m \u001b[32m━━━━━━━━━━━━━━━━━━━━\u001b[0m\u001b[37m\u001b[0m \u001b[1m11s\u001b[0m 169ms/step - categorical_accuracy: 1.0000 - loss: 3.3622e-04 - val_categorical_accuracy: 0.9578 - val_loss: 0.2836\n",
            "Epoch 31/40\n",
            "\u001b[1m44/44\u001b[0m \u001b[32m━━━━━━━━━━━━━━━━━━━━\u001b[0m\u001b[37m\u001b[0m \u001b[1m6s\u001b[0m 128ms/step - categorical_accuracy: 1.0000 - loss: 3.1552e-04 - val_categorical_accuracy: 0.9578 - val_loss: 0.2839\n",
            "Epoch 32/40\n",
            "\u001b[1m44/44\u001b[0m \u001b[32m━━━━━━━━━━━━━━━━━━━━\u001b[0m\u001b[37m\u001b[0m \u001b[1m10s\u001b[0m 128ms/step - categorical_accuracy: 1.0000 - loss: 2.9669e-04 - val_categorical_accuracy: 0.9582 - val_loss: 0.2839\n",
            "Epoch 33/40\n",
            "\u001b[1m44/44\u001b[0m \u001b[32m━━━━━━━━━━━━━━━━━━━━\u001b[0m\u001b[37m\u001b[0m \u001b[1m12s\u001b[0m 171ms/step - categorical_accuracy: 1.0000 - loss: 2.8704e-04 - val_categorical_accuracy: 0.9586 - val_loss: 0.2839\n",
            "Epoch 34/40\n",
            "\u001b[1m44/44\u001b[0m \u001b[32m━━━━━━━━━━━━━━━━━━━━\u001b[0m\u001b[37m\u001b[0m \u001b[1m9s\u001b[0m 141ms/step - categorical_accuracy: 1.0000 - loss: 2.6754e-04 - val_categorical_accuracy: 0.9585 - val_loss: 0.2840\n",
            "Epoch 35/40\n",
            "\u001b[1m44/44\u001b[0m \u001b[32m━━━━━━━━━━━━━━━━━━━━\u001b[0m\u001b[37m\u001b[0m \u001b[1m10s\u001b[0m 127ms/step - categorical_accuracy: 1.0000 - loss: 2.5746e-04 - val_categorical_accuracy: 0.9586 - val_loss: 0.2842\n",
            "Epoch 36/40\n",
            "\u001b[1m44/44\u001b[0m \u001b[32m━━━━━━━━━━━━━━━━━━━━\u001b[0m\u001b[37m\u001b[0m \u001b[1m7s\u001b[0m 161ms/step - categorical_accuracy: 1.0000 - loss: 2.3638e-04 - val_categorical_accuracy: 0.9589 - val_loss: 0.2842\n",
            "Epoch 37/40\n",
            "\u001b[1m44/44\u001b[0m \u001b[32m━━━━━━━━━━━━━━━━━━━━\u001b[0m\u001b[37m\u001b[0m \u001b[1m9s\u001b[0m 141ms/step - categorical_accuracy: 1.0000 - loss: 2.3132e-04 - val_categorical_accuracy: 0.9589 - val_loss: 0.2844\n",
            "Epoch 38/40\n",
            "\u001b[1m44/44\u001b[0m \u001b[32m━━━━━━━━━━━━━━━━━━━━\u001b[0m\u001b[37m\u001b[0m \u001b[1m6s\u001b[0m 140ms/step - categorical_accuracy: 1.0000 - loss: 2.2279e-04 - val_categorical_accuracy: 0.9587 - val_loss: 0.2841\n",
            "Epoch 39/40\n",
            "\u001b[1m44/44\u001b[0m \u001b[32m━━━━━━━━━━━━━━━━━━━━\u001b[0m\u001b[37m\u001b[0m \u001b[1m8s\u001b[0m 184ms/step - categorical_accuracy: 1.0000 - loss: 2.0417e-04 - val_categorical_accuracy: 0.9589 - val_loss: 0.2845\n",
            "Epoch 40/40\n",
            "\u001b[1m44/44\u001b[0m \u001b[32m━━━━━━━━━━━━━━━━━━━━\u001b[0m\u001b[37m\u001b[0m \u001b[1m6s\u001b[0m 145ms/step - categorical_accuracy: 1.0000 - loss: 1.9248e-04 - val_categorical_accuracy: 0.9592 - val_loss: 0.2845\n",
            "dict_keys(['categorical_accuracy', 'loss', 'val_categorical_accuracy', 'val_loss'])\n"
          ]
        }
      ]
    },
    {
      "cell_type": "code",
      "source": [
        "# Training loss 확인하기\n",
        "loss = history.history['loss']\n",
        "print(loss)\n",
        "\n",
        "# Q. Validation loss를 확인해 보세요.\n",
        "val_loss = history.history['val_loss']\n",
        "print(val_loss)\n",
        "\n",
        "# Test 데이터를 통해서 정확도 확인하기\n",
        "print(\"\\n Test Accuracy: %.4f\" % (model.evaluate(X_test, Y_test)[1]))\n",
        "\n",
        "# 그래프로 표현\n",
        "x_len = np.arange(len(val_loss))\n",
        "plt.plot(x_len, val_loss, marker='.', c=\"red\", label='validation loss')\n",
        "plt.plot(x_len, loss, marker='.', c=\"blue\", label='training loss')\n",
        "\n",
        "# 그래프에 그리드를 주고 레이블을 표시\n",
        "plt.legend(loc='upper right')\n",
        "plt.grid()\n",
        "plt.xlabel('epoch')\n",
        "plt.ylabel('loss')\n",
        "plt.show()"
      ],
      "metadata": {
        "colab": {
          "base_uri": "https://localhost:8080/",
          "height": 556
        },
        "id": "tFi-TvUnsXU9",
        "outputId": "90a72529-eae1-4d8f-a99c-1e5f37732a5c"
      },
      "execution_count": 48,
      "outputs": [
        {
          "output_type": "stream",
          "name": "stdout",
          "text": [
            "[9.347332000732422, 0.47466760873794556, 0.23301425576210022, 0.12740619480609894, 0.0703064426779747, 0.03819049894809723, 0.019577957689762115, 0.010102607309818268, 0.005779899191111326, 0.003415268613025546, 0.002394413109868765, 0.0018708787392824888, 0.0015486791962757707, 0.0013301053550094366, 0.0011685965582728386, 0.0010348637588322163, 0.000924799358472228, 0.000832602905575186, 0.0007590258028358221, 0.0006899067666381598, 0.0006350703770294785, 0.0005855902563780546, 0.0005421866662800312, 0.0005027253064326942, 0.0004662762803491205, 0.0004348864022176713, 0.0004081919905729592, 0.00038122085970826447, 0.0003576961753424257, 0.00033623023773543537, 0.00031660732929594815, 0.00029911240562796593, 0.00028258239035494626, 0.0002676871372386813, 0.00025328906485810876, 0.00024053172091953456, 0.00022822113533038646, 0.0002171133819501847, 0.00020650762598961592, 0.0001969003933481872]\n",
            "[0.740822434425354, 0.437764972448349, 0.3646496534347534, 0.3375048041343689, 0.30686455965042114, 0.29632827639579773, 0.29394054412841797, 0.28551018238067627, 0.2835650146007538, 0.2831738293170929, 0.28157737851142883, 0.2822161316871643, 0.281999796628952, 0.2822537422180176, 0.28243881464004517, 0.2819369435310364, 0.28262484073638916, 0.2823040783405304, 0.2827170789241791, 0.28243914246559143, 0.28275591135025024, 0.2831612229347229, 0.28279104828834534, 0.2829385995864868, 0.28293439745903015, 0.2833947241306305, 0.2831710875034332, 0.2830163240432739, 0.2838090658187866, 0.2835942804813385, 0.2838876247406006, 0.2839026153087616, 0.28388237953186035, 0.28400614857673645, 0.28417491912841797, 0.284205824136734, 0.28440502285957336, 0.28414386510849, 0.2845116853713989, 0.28453147411346436]\n",
            "\u001b[1m313/313\u001b[0m \u001b[32m━━━━━━━━━━━━━━━━━━━━\u001b[0m\u001b[37m\u001b[0m \u001b[1m2s\u001b[0m 8ms/step - categorical_accuracy: 0.9473 - loss: 0.3318\n",
            "\n",
            " Test Accuracy: 0.9563\n"
          ]
        },
        {
          "output_type": "display_data",
          "data": {
            "text/plain": [
              "<Figure size 640x480 with 1 Axes>"
            ],
            "image/png": "[encoded data removed]"
          },
          "metadata": {}
        }
      ]
    },
    {
      "cell_type": "markdown",
      "source": [
        "# 기존 모델 VS 새로운 모델 VS ver2. VS ver3. VS ver4.\n",
        "\n",
        "기존 모델의 settings =\n",
        "1. Hidden Layer layer 2개\n",
        "2. 학습률 0.001\n",
        "3. epoch 30\n",
        "4. batch size 1000\n",
        "5. 기존 모델의 정확도 = 0.9572\n",
        "\n",
        "새로운 모델의 settings =\n",
        "1. Hidden Layer layer 3개\n",
        "2. 학습률 0.00075\n",
        "3. epoch 30\n",
        "4. batch size 1500\n",
        "5. 새로운 모델의 정확도 = 0.9537\n",
        "\n",
        "새로운 모델 ver.2 의 settings =\n",
        "\n",
        "1. Hidden Layer layer 3개\n",
        "2. 학습률 0.000875\n",
        "3. epoch 30\n",
        "4. batch size 1250\n",
        "5. 새로운 모델 ver2.의 정확도 = 0.9587\n",
        "\n",
        "새로운 모델 ver3. 의 settings =\n",
        "\n",
        "1. Hidden Layer layer 3개\n",
        "2. 학습률 0.000875\n",
        "3. epoch 40\n",
        "4. batch size 1250\n",
        "5. 새로운 모델 ver3.의 정확도 = 0.9593\n",
        "\n",
        "새로운 모델 ver4. 의 settings =\n",
        "\n",
        "1. Hidden Layer layer 3개\n",
        "2. 학습률 0.000875\n",
        "3. epoch 40\n",
        "4. batch size 1100\n",
        "5. 새로운 모델 ver4.의 정확도 = 0.9563\n",
        "\n",
        "# => batch size 감소는 정확도를 오히려 낮추는 결과를 일으켰다.\n",
        "\n",
        "data의 크기에 비해 학습 속도를 과도하게 느리게 하여 학습의 효율을 떨어뜨렸을 것이다."
      ],
      "metadata": {
        "id": "0KhlloeFmVFu"
      }
    },
    {
      "cell_type": "markdown",
      "source": [
        "---\n",
        "\n",
        "# 최종 개선 모델 = ver3.\n",
        "\n",
        "모델 ver3. 로 설정 (가장 높은 정확도 0.9593)\n",
        "\n",
        "ver3. settings =\n",
        "\n",
        "Hidden Layer layer 3개\n",
        "학습률 0.000875\n",
        "epoch 40\n",
        "batch size 1250\n",
        "새로운 모델 ver3.의 정확도 = 0.9593\n",
        "\n",
        "---\n",
        "\n",
        "기존 모델 settings =\n",
        "\n",
        "Hidden Layer layer 2개\n",
        "학습률 0.001\n",
        "epoch 30\n",
        "batch size 1000\n",
        "기존 모델의 정확도 = 0.9572\n",
        "\n",
        "---"
      ],
      "metadata": {
        "id": "tSMnJIg7sCKP"
      }
    }
  ]
}