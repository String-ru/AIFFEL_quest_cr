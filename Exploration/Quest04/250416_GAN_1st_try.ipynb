{
 "cells": [
  {
   "cell_type": "markdown",
   "id": "be2c7c9d",
   "metadata": {},
   "source": [
    "# STEP 1. 작업환경 구성하기"
   ]
  },
  {
   "cell_type": "code",
   "execution_count": 1,
   "id": "c48e332e",
   "metadata": {},
   "outputs": [],
   "source": [
    "!mkdir -p ~/aiffel/dcgan_newimage/cifar10/generated_samples\n",
    "!mkdir -p ~/aiffel/dcgan_newimage/cifar10/training_checkpoints\n",
    "!mkdir -p ~/aiffel/dcgan_newimage/cifar10/training_history"
   ]
  },
  {
   "cell_type": "markdown",
   "id": "45e2d2f1",
   "metadata": {},
   "source": [
    "# STEP 2. 데이터셋 구성하기"
   ]
  },
  {
   "cell_type": "code",
   "execution_count": 2,
   "id": "3fe736d1",
   "metadata": {},
   "outputs": [
    {
     "name": "stdout",
     "output_type": "stream",
     "text": [
      "(50000, 32, 32, 3)\n"
     ]
    }
   ],
   "source": [
    "import tensorflow as tf\n",
    "import numpy as np\n",
    "import matplotlib.pyplot as plt\n",
    "import pandas as pd\n",
    "\n",
    "# CIFAR-10 데이터셋 불러오기\n",
    "cifar10 = tf.keras.datasets.cifar10\n",
    "(train_x, _), (test_x, _) = cifar10.load_data()\n",
    "print(train_x.shape)  "
   ]
  },
  {
   "cell_type": "code",
   "execution_count": 3,
   "id": "2225a7b7",
   "metadata": {},
   "outputs": [
    {
     "data": {
      "image/png": "[encoded data removed]",
      "text/plain": [
       "<Figure size 432x288 with 1 Axes>"
      ]
     },
     "metadata": {
      "needs_background": "light"
     },
     "output_type": "display_data"
    }
   ],
   "source": [
    "# 학습에 사용할 train_x의 이미지를 -1, 1로 정규화\n",
    "train_x = (train_x - 127.5) / 127.5\n",
    "\n",
    "# 로드한 학습 데이터 시각화로 확인\n",
    "plt.imshow((train_x[0] * 127.5 + 127.5).astype(np.uint8))\n",
    "plt.axis('off')\n",
    "plt.savefig('first_image.png')  # Jupyter에서 시각화 확인용 저장"
   ]
  },
  {
   "cell_type": "code",
   "execution_count": 4,
   "id": "5123c4be",
   "metadata": {},
   "outputs": [],
   "source": [
    "# tf.data.Dataset으로 미니배치 데이터셋 구성\n",
    "BATCH_SIZE = 256\n",
    "BUFFER_SIZE = 50000\n",
    "train_dataset = tf.data.Dataset.from_tensor_slices(train_x).shuffle(BUFFER_SIZE).batch(BATCH_SIZE)"
   ]
  },
  {
   "cell_type": "markdown",
   "id": "7f861215",
   "metadata": {},
   "source": [
    "# STEP 3. 생성자 모델 구현하기"
   ]
  },
  {
   "cell_type": "code",
   "execution_count": 5,
   "id": "a40aa368",
   "metadata": {},
   "outputs": [],
   "source": [
    "from tensorflow.keras import layers\n",
    "\n",
    "def make_generator_model():\n",
    "    model = tf.keras.Sequential()\n",
    "    model.add(layers.Dense(8*8*256, use_bias=False, input_shape=(100,)))\n",
    "    model.add(layers.BatchNormalization())\n",
    "    model.add(layers.LeakyReLU())\n",
    "    model.add(layers.Reshape((8, 8, 256)))\n",
    "    model.add(layers.Conv2DTranspose(128, (5, 5), strides=(1, 1), padding='same', use_bias=False))\n",
    "    model.add(layers.BatchNormalization())\n",
    "    model.add(layers.LeakyReLU())\n",
    "    model.add(layers.Conv2DTranspose(64, (5, 5), strides=(2, 2), padding='same', use_bias=False))\n",
    "    model.add(layers.BatchNormalization())\n",
    "    model.add(layers.LeakyReLU())\n",
    "    model.add(layers.Conv2DTranspose(3, (5, 5), strides=(2, 2), padding='same', use_bias=False, activation='tanh'))\n",
    "    return model\n",
    "\n",
    "generator = make_generator_model()"
   ]
  },
  {
   "cell_type": "code",
   "execution_count": 6,
   "id": "e4ca764f",
   "metadata": {},
   "outputs": [
    {
     "name": "stdout",
     "output_type": "stream",
     "text": [
      "(1, 32, 32, 3)\n"
     ]
    }
   ],
   "source": [
    "# 랜덤 노이즈로 이미지 생성\n",
    "noise = tf.random.normal([1, 100])\n",
    "generated_image = generator(noise, training=False)\n",
    "print(generated_image.shape)"
   ]
  },
  {
   "cell_type": "markdown",
   "id": "6c36998e",
   "metadata": {},
   "source": [
    "# STEP 4. 판별자 모델 구현하기"
   ]
  },
  {
   "cell_type": "code",
   "execution_count": 7,
   "id": "57e76550",
   "metadata": {},
   "outputs": [],
   "source": [
    "def make_discriminator_model():\n",
    "    model = tf.keras.Sequential()\n",
    "    model.add(layers.Conv2D(64, (5, 5), strides=(2, 2), padding='same', input_shape=[32, 32, 3]))\n",
    "    model.add(layers.LeakyReLU())\n",
    "    model.add(layers.Dropout(0.3))\n",
    "    model.add(layers.Conv2D(128, (5, 5), strides=(2, 2), padding='same'))\n",
    "    model.add(layers.LeakyReLU())\n",
    "    model.add(layers.Dropout(0.3))\n",
    "    model.add(layers.Flatten())\n",
    "    model.add(layers.Dense(1))\n",
    "    return model\n",
    "\n",
    "discriminator = make_discriminator_model()"
   ]
  },
  {
   "cell_type": "code",
   "execution_count": 8,
   "id": "84cb4f05",
   "metadata": {},
   "outputs": [
    {
     "name": "stdout",
     "output_type": "stream",
     "text": [
      "tf.Tensor([[0.00200354]], shape=(1, 1), dtype=float32)\n"
     ]
    }
   ],
   "source": [
    "# 생성된 랜덤 이미지 판별 결과 확인\n",
    "decision = discriminator(generated_image)\n",
    "print(decision)"
   ]
  },
  {
   "cell_type": "markdown",
   "id": "0a224e70",
   "metadata": {},
   "source": [
    "# STEP 5. 손실함수와 최적화 함수 구현하기"
   ]
  },
  {
   "cell_type": "code",
   "execution_count": 9,
   "id": "71c11101",
   "metadata": {},
   "outputs": [],
   "source": [
    "cross_entropy = tf.keras.losses.BinaryCrossentropy(from_logits=True)\n",
    "\n",
    "def discriminator_loss(real_output, fake_output):\n",
    "    real_loss = cross_entropy(tf.ones_like(real_output), real_output)\n",
    "    fake_loss = cross_entropy(tf.zeros_like(fake_output), fake_output)\n",
    "    return real_loss + fake_loss\n",
    "\n",
    "def generator_loss(fake_output):\n",
    "    return cross_entropy(tf.ones_like(fake_output), fake_output)\n",
    "\n",
    "def discriminator_accuracy(real_output, fake_output):\n",
    "    real_accuracy = tf.reduce_mean(tf.cast(tf.math.greater_equal(real_output, 0.5), tf.float32))\n",
    "    fake_accuracy = tf.reduce_mean(tf.cast(tf.math.less(fake_output, 0.5), tf.float32))\n",
    "    return (real_accuracy + fake_accuracy) / 2.0\n",
    "\n",
    "generator_optimizer = tf.keras.optimizers.Adam(1e-4)\n",
    "discriminator_optimizer = tf.keras.optimizers.Adam(1e-4)"
   ]
  },
  {
   "cell_type": "markdown",
   "id": "02e9ee63",
   "metadata": {},
   "source": [
    "# STEP 6. 훈련과정 상세 기능 구현하기"
   ]
  },
  {
   "cell_type": "code",
   "execution_count": 10,
   "id": "ddacf363",
   "metadata": {},
   "outputs": [],
   "source": [
    "import os\n",
    "\n",
    "@tf.function\n",
    "def train_step(images):\n",
    "    noise = tf.random.normal([BATCH_SIZE, 100])\n",
    "    with tf.GradientTape() as gen_tape, tf.GradientTape() as disc_tape:\n",
    "        generated_images = generator(noise, training=True)\n",
    "        real_output = discriminator(images, training=True)\n",
    "        fake_output = discriminator(generated_images, training=True)\n",
    "        gen_loss = generator_loss(fake_output)\n",
    "        disc_loss = discriminator_loss(real_output, fake_output)\n",
    "    gradients_of_generator = gen_tape.gradient(gen_loss, generator.trainable_variables)\n",
    "    gradients_of_discriminator = disc_tape.gradient(disc_loss, discriminator.trainable_variables)\n",
    "    generator_optimizer.apply_gradients(zip(gradients_of_generator, generator.trainable_variables))\n",
    "    discriminator_optimizer.apply_gradients(zip(gradients_of_discriminator, discriminator.trainable_variables))\n",
    "    return gen_loss, disc_loss, discriminator_accuracy(real_output, fake_output)\n",
    "\n",
    "def generate_and_save_images(model, epoch, test_input, save_dir):\n",
    "    predictions = model(test_input, training=False)\n",
    "    fig = plt.figure(figsize=(4, 4))\n",
    "    for i in range(predictions.shape[0]):\n",
    "        plt.subplot(4, 4, i+1)\n",
    "        img = (predictions[i] * 127.5 + 127.5).numpy().astype(np.uint8)\n",
    "        plt.imshow(img)\n",
    "        plt.axis('off')\n",
    "    plt.savefig(os.path.join(save_dir, f'image_at_epoch_{epoch:04d}.png'))\n",
    "    plt.close(fig)\n",
    "\n",
    "def draw_train_history(history, epoch, save_dir):\n",
    "    plt.figure()\n",
    "    plt.plot(history['gen_loss'], label='Generator Loss')\n",
    "    plt.plot(history['disc_loss'], label='Discriminator Loss')\n",
    "    plt.xlabel('Epoch')\n",
    "    plt.ylabel('Loss')\n",
    "    plt.legend()\n",
    "    plt.savefig(os.path.join(save_dir, f'loss_at_epoch_{epoch:04d}.png'))\n",
    "    plt.close()\n",
    "    plt.figure()\n",
    "    plt.plot(history['disc_accuracy'], label='Discriminator Accuracy')\n",
    "    plt.xlabel('Epoch')\n",
    "    plt.ylabel('Accuracy')\n",
    "    plt.legend()\n",
    "    plt.savefig(os.path.join(save_dir, f'accuracy_at_epoch_{epoch:04d}.png'))\n",
    "    plt.close()\n",
    "\n",
    "checkpoint_dir = os.path.expanduser('~/aiffel/dcgan_newimage/cifar10/training_checkpoints')\n",
    "checkpoint_prefix = os.path.join(checkpoint_dir, \"ckpt\")\n",
    "checkpoint = tf.train.Checkpoint(generator_optimizer=generator_optimizer,\n",
    "                                 discriminator_optimizer=discriminator_optimizer,\n",
    "                                 generator=generator,\n",
    "                                 discriminator=discriminator)"
   ]
  },
  {
   "cell_type": "markdown",
   "id": "e8a413aa",
   "metadata": {},
   "source": [
    "# STEP 7. 학습 과정 진행하기"
   ]
  },
  {
   "cell_type": "code",
   "execution_count": 11,
   "id": "c3db30ac",
   "metadata": {},
   "outputs": [
    {
     "name": "stdout",
     "output_type": "stream",
     "text": [
      "Epoch 1, Gen Loss: 0.9690486192703247, Disc Loss: 1.106738805770874, Disc Accuracy: 0.711359977722168\n",
      "Epoch 2, Gen Loss: 1.7266546487808228, Disc Loss: 0.776763916015625, Disc Accuracy: 0.8132792711257935\n",
      "Epoch 3, Gen Loss: 1.7833011150360107, Disc Loss: 0.6056503653526306, Disc Accuracy: 0.8819116950035095\n",
      "Epoch 4, Gen Loss: 1.9430433511734009, Disc Loss: 0.6563794612884521, Disc Accuracy: 0.8644770383834839\n",
      "Epoch 5, Gen Loss: 1.9298081398010254, Disc Loss: 0.7163292765617371, Disc Accuracy: 0.851375162601471\n",
      "Epoch 6, Gen Loss: 1.6751601696014404, Disc Loss: 0.7579068541526794, Disc Accuracy: 0.8408940434455872\n",
      "Epoch 7, Gen Loss: 1.5835198163986206, Disc Loss: 0.852989137172699, Disc Accuracy: 0.8152742385864258\n",
      "Epoch 8, Gen Loss: 1.4792627096176147, Disc Loss: 0.838854193687439, Disc Accuracy: 0.8097895383834839\n",
      "Epoch 9, Gen Loss: 1.5966918468475342, Disc Loss: 0.8042907118797302, Disc Accuracy: 0.8185586929321289\n",
      "Epoch 10, Gen Loss: 1.5653830766677856, Disc Loss: 0.8663508892059326, Disc Accuracy: 0.8033860921859741\n",
      "Epoch 11, Gen Loss: 1.703365445137024, Disc Loss: 0.8108904957771301, Disc Accuracy: 0.8250478506088257\n",
      "Epoch 12, Gen Loss: 1.6890772581100464, Disc Loss: 0.8523778915405273, Disc Accuracy: 0.8115811944007874\n",
      "Epoch 13, Gen Loss: 1.6457581520080566, Disc Loss: 0.7765412330627441, Disc Accuracy: 0.8371611833572388\n",
      "Epoch 14, Gen Loss: 1.6540727615356445, Disc Loss: 0.7526718378067017, Disc Accuracy: 0.8371432423591614\n",
      "Epoch 15, Gen Loss: 1.6070332527160645, Disc Loss: 0.7632327675819397, Disc Accuracy: 0.8410455584526062\n",
      "Epoch 16, Gen Loss: 1.4549657106399536, Disc Loss: 0.973461925983429, Disc Accuracy: 0.7716338634490967\n",
      "Epoch 17, Gen Loss: 1.3694666624069214, Disc Loss: 1.0120444297790527, Disc Accuracy: 0.75830078125\n",
      "Epoch 18, Gen Loss: 1.3684508800506592, Disc Loss: 1.0164785385131836, Disc Accuracy: 0.7607641220092773\n",
      "Epoch 19, Gen Loss: 1.3181432485580444, Disc Loss: 1.0193963050842285, Disc Accuracy: 0.7594208121299744\n",
      "Epoch 20, Gen Loss: 1.2913001775741577, Disc Loss: 1.0750858783721924, Disc Accuracy: 0.7296296954154968\n",
      "Epoch 21, Gen Loss: 1.2536691427230835, Disc Loss: 1.0929815769195557, Disc Accuracy: 0.7173289656639099\n",
      "Epoch 22, Gen Loss: 1.2911914587020874, Disc Loss: 1.058950424194336, Disc Accuracy: 0.7418028116226196\n",
      "Epoch 23, Gen Loss: 1.299924612045288, Disc Loss: 1.0895791053771973, Disc Accuracy: 0.7413205504417419\n",
      "Epoch 24, Gen Loss: 1.3301239013671875, Disc Loss: 1.0673421621322632, Disc Accuracy: 0.7479910850524902\n",
      "Epoch 25, Gen Loss: 1.3043063879013062, Disc Loss: 0.9774327278137207, Disc Accuracy: 0.7763751149177551\n",
      "Epoch 26, Gen Loss: 1.3410207033157349, Disc Loss: 1.0657176971435547, Disc Accuracy: 0.7303271889686584\n",
      "Epoch 27, Gen Loss: 1.1714859008789062, Disc Loss: 1.0562372207641602, Disc Accuracy: 0.7536750435829163\n",
      "Epoch 28, Gen Loss: 1.2865726947784424, Disc Loss: 1.1034618616104126, Disc Accuracy: 0.7199617624282837\n",
      "Epoch 29, Gen Loss: 1.337039589881897, Disc Loss: 1.0558960437774658, Disc Accuracy: 0.7403917908668518\n",
      "Epoch 30, Gen Loss: 1.3292407989501953, Disc Loss: 1.0457401275634766, Disc Accuracy: 0.746410608291626\n",
      "Epoch 31, Gen Loss: 1.3186736106872559, Disc Loss: 1.0403980016708374, Disc Accuracy: 0.7479910850524902\n",
      "Epoch 32, Gen Loss: 1.3631657361984253, Disc Loss: 0.9402743577957153, Disc Accuracy: 0.7817602157592773\n",
      "Epoch 33, Gen Loss: 1.3830417394638062, Disc Loss: 1.0034180879592896, Disc Accuracy: 0.753523588180542\n",
      "Epoch 34, Gen Loss: 1.4497873783111572, Disc Loss: 0.9402074217796326, Disc Accuracy: 0.7769531011581421\n",
      "Epoch 35, Gen Loss: 1.4070804119110107, Disc Loss: 0.9834929704666138, Disc Accuracy: 0.7639548778533936\n",
      "Epoch 36, Gen Loss: 1.4063297510147095, Disc Loss: 0.9907486438751221, Disc Accuracy: 0.7607800364494324\n",
      "Epoch 37, Gen Loss: 1.4905623197555542, Disc Loss: 0.9419846534729004, Disc Accuracy: 0.7837252616882324\n",
      "Epoch 38, Gen Loss: 1.3739635944366455, Disc Loss: 1.0088024139404297, Disc Accuracy: 0.7691825032234192\n",
      "Epoch 39, Gen Loss: 1.5357983112335205, Disc Loss: 0.9832313060760498, Disc Accuracy: 0.765031099319458\n",
      "Epoch 40, Gen Loss: 1.4745380878448486, Disc Loss: 1.026389479637146, Disc Accuracy: 0.7645986080169678\n",
      "Epoch 41, Gen Loss: 1.4667105674743652, Disc Loss: 0.9521446824073792, Disc Accuracy: 0.780781626701355\n",
      "Epoch 42, Gen Loss: 1.508009672164917, Disc Loss: 0.9417376518249512, Disc Accuracy: 0.7806301712989807\n",
      "Epoch 43, Gen Loss: 1.4904265403747559, Disc Loss: 1.0020042657852173, Disc Accuracy: 0.7592215538024902\n",
      "Epoch 44, Gen Loss: 1.4247299432754517, Disc Loss: 1.0051486492156982, Disc Accuracy: 0.7574976086616516\n",
      "Epoch 45, Gen Loss: 1.4463831186294556, Disc Loss: 0.9450002908706665, Disc Accuracy: 0.7834063768386841\n",
      "Epoch 46, Gen Loss: 1.437577486038208, Disc Loss: 1.0122768878936768, Disc Accuracy: 0.7511399984359741\n",
      "Epoch 47, Gen Loss: 1.4611088037490845, Disc Loss: 0.9435954093933105, Disc Accuracy: 0.7766501903533936\n",
      "Epoch 48, Gen Loss: 1.5853550434112549, Disc Loss: 0.9295178651809692, Disc Accuracy: 0.7830795645713806\n",
      "Epoch 49, Gen Loss: 1.6102601289749146, Disc Loss: 0.9808415770530701, Disc Accuracy: 0.7666832804679871\n",
      "Epoch 50, Gen Loss: 1.4424388408660889, Disc Loss: 1.0735268592834473, Disc Accuracy: 0.7357023358345032\n"
     ]
    }
   ],
   "source": [
    "EPOCHS = 50\n",
    "save_every = 5\n",
    "noise_dim = 100\n",
    "num_examples_to_generate = 16\n",
    "\n",
    "seed = tf.random.normal([num_examples_to_generate, noise_dim])\n",
    "history = {'gen_loss': [], 'disc_loss': [], 'disc_accuracy': []}\n",
    "generated_samples_dir = os.path.expanduser('~/aiffel/dcgan_newimage/cifar10/generated_samples')\n",
    "training_history_dir = os.path.expanduser('~/aiffel/dcgan_newimage/cifar10/training_history')\n",
    "\n",
    "def train(dataset, epochs, save_every):\n",
    "    for epoch in range(epochs):\n",
    "        gen_loss_list = []\n",
    "        disc_loss_list = []\n",
    "        disc_accuracy_list = []\n",
    "        for image_batch in dataset:\n",
    "            g_loss, d_loss, d_acc = train_step(image_batch)\n",
    "            gen_loss_list.append(g_loss)\n",
    "            disc_loss_list.append(d_loss)\n",
    "            disc_accuracy_list.append(d_acc)\n",
    "        history['gen_loss'].append(np.mean(gen_loss_list))\n",
    "        history['disc_loss'].append(np.mean(disc_loss_list))\n",
    "        history['disc_accuracy'].append(np.mean(disc_accuracy_list))\n",
    "        generate_and_save_images(generator, epoch + 1, seed, generated_samples_dir)\n",
    "        draw_train_history(history, epoch + 1, training_history_dir)\n",
    "        if (epoch + 1) % save_every == 0:\n",
    "            checkpoint.save(file_prefix=checkpoint_prefix)\n",
    "        print(f'Epoch {epoch+1}, Gen Loss: {history[\"gen_loss\"][-1]}, Disc Loss: {history[\"disc_loss\"][-1]}, Disc Accuracy: {history[\"disc_accuracy\"][-1]}')\n",
    "\n",
    "train(train_dataset, EPOCHS, save_every)"
   ]
  },
  {
   "cell_type": "code",
   "execution_count": 12,
   "id": "e4f8b8c3",
   "metadata": {},
   "outputs": [],
   "source": [
    "# 학습 과정 시각화 (GIF 생성)\n",
    "import imageio\n",
    "\n",
    "def make_gif(images_dir, gif_name):\n",
    "    images = []\n",
    "    for epoch in range(1, EPOCHS + 1):\n",
    "        filename = os.path.join(images_dir, f'image_at_epoch_{epoch:04d}.png')\n",
    "        images.append(imageio.imread(filename))\n",
    "    imageio.mimsave(gif_name, images, fps=5)\n",
    "\n",
    "make_gif(generated_samples_dir, 'cifar10_dcgan.gif')"
   ]
  },
  {
   "cell_type": "code",
   "execution_count": 13,
   "id": "bb38a364",
   "metadata": {},
   "outputs": [
    {
     "data": {
      "image/png": "[encoded data removed]",
      "text/plain": [
       "<Figure size 432x288 with 1 Axes>"
      ]
     },
     "metadata": {
      "needs_background": "light"
     },
     "output_type": "display_data"
    }
   ],
   "source": [
    "# 학습된 모델 로드 및 이미지 생성\n",
    "latest = tf.train.latest_checkpoint(checkpoint_dir)\n",
    "checkpoint.restore(latest)\n",
    "generator = checkpoint.generator\n",
    "noise = tf.random.normal([1, 100])\n",
    "generated_image = generator(noise, training=False)\n",
    "np_generated = generated_image.numpy()\n",
    "np_generated = (np_generated * 127.5 + 127.5).astype(np.uint8)\n",
    "plt.imshow(np_generated[0])\n",
    "plt.axis('off')\n",
    "plt.savefig('generated_image.png')"
   ]
  },
  {
   "cell_type": "markdown",
   "id": "ff8ea3c3",
   "metadata": {},
   "source": [
    "## 학습이 불안정한 결과\n",
    "\n",
    "### 생성자 손실 (Gen Loss)\n",
    "Epoch 1: 0.969 → Epoch 50: 1.442\n",
    "중간에 Epoch 4에서 1.943까지 증가한 후 점차 감소하다가 다시 약간 증가하는 추세\n",
    "전체적으로 손실이 안정화되지 않고 변동이 큼\n",
    "\n",
    "### 판별자 손실 (Disc Loss)\n",
    "Epoch 1: 1.106 → Epoch 50: 1.073\n",
    "Epoch 3에서 0.605까지 내려갔다가 다시 증가하며 1.0 근처에서 변동이 있음\n",
    "판별자도 손실이 일정하게 수렴하지 않고 오르내림\n",
    "\n",
    "### 판별자 정확도 (Disc Accuracy)\n",
    "Epoch 1: 0.711 → Epoch 50: 0.735\n",
    "Epoch 3에서 0.882로 최고점을 찍은 후 점차 감소하며 0.7~0.8 사이를 맴돌고 있음"
   ]
  },
  {
   "cell_type": "markdown",
   "id": "141c757f",
   "metadata": {},
   "source": [
    "## Step8. (optional) GAN 훈련 과정 개선하기\n",
    "\n",
    "### 1. 학습률 조정\n",
    "현재 생성자와 판별자의 학습률이 서로 균형을 맞추지 못했을 가능성이 있음\n",
    "ex) 생성자의 학습률을 조금 낮추거나(예: 0.0001), 판별자의 학습률을 살짝 높여서(예: 0.0004) 둘의 균형을 조정 가능\n",
    "\n",
    "### 2. 모델 구조 변경\n",
    "생성자나 판별자의 네트워크를 조금 더 깊게 만들거나(레이어 추가), 필터 수를 늘려서 모델의 표현력을 키워볼 수 있음\n",
    "ex) 생성자에 컨볼루션 레이어를 하나 더 추가하거나 판별자의 필터를 64개에서 128개로 늘리는 식으로 실험 가능\n",
    "\n",
    "### 3. 정규화 기법 사용\n",
    "배치 정규화(Batch Normalization)나 드롭아웃(Dropout)을 추가해서 모델이 과적합되거나 불안정해지는 걸 줄일 수 있음\n",
    "ex) 판별자에 드롭아웃(예: 0.3)을 넣으면 과도하게 강해지는 걸 막을 수 있음\n",
    "\n",
    "### 4. 학습 데이터 증강\n",
    "ex) 이미지 회전, 뒤집기, 자르기 같은 증강 기법을 써서 모델의 일반화 성능을 높일 수 있음\n",
    "\n",
    "### 5. 더 많은 에포크 학습\n",
    "현재: 50 에포크까지 학습\n",
    "ex) 100 에포크 정도 더 학습하면서 손실이 안정화되는지 관찰"
   ]
  },
  {
   "cell_type": "markdown",
   "id": "5ad42a1d",
   "metadata": {},
   "source": [
    "# Step8은 다음 파일에서 진행"
   ]
  }
 ],
 "metadata": {
  "kernelspec": {
   "display_name": "Python 3 (ipykernel)",
   "language": "python",
   "name": "python3"
  },
  "language_info": {
   "codemirror_mode": {
    "name": "ipython",
    "version": 3
   },
   "file_extension": ".py",
   "mimetype": "text/x-python",
   "name": "python",
   "nbconvert_exporter": "python",
   "pygments_lexer": "ipython3",
   "version": "3.9.7"
  }
 },
 "nbformat": 4,
 "nbformat_minor": 5
}
